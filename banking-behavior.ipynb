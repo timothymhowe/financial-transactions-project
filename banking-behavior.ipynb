{
 "cells": [
  {
   "cell_type": "code",
   "execution_count": 2,
   "outputs": [],
   "source": [
    "import pandas\n",
    "import pandas as pd\n",
    "import numpy as np\n",
    "import sqlite3"
   ],
   "metadata": {
    "collapsed": false,
    "pycharm": {
     "name": "#%%\n"
    }
   }
  },
  {
   "cell_type": "code",
   "execution_count": 3,
   "outputs": [],
   "source": [
    "# twm_accounts = pd.read_csv('data/clean/twm_accounts.csv')\n",
    "# twm_customer = pd.read_csv('data/clean/twm_customer.csv')\n",
    "# twm_transactions = pd.read_csv('data/clean/twm_transactions.csv')\n",
    "# twm_checking_acct = pd.read_csv('data/clean/twm_checking_acct.csv')\n",
    "# twm_checking_tran = pd.read_csv('data/clean/twm_checking_tran.csv')\n",
    "# twm_credit_acct = pd.read_csv('data/clean/twm_credit_acct.csv')\n",
    "# twm_credit_tran = pd.read_csv('data/clean/twm_credit_tran.csv')\n",
    "# twm_savings_acct = pd.read_csv('data/clean/twm_savings_acct.csv')\n",
    "# twm_savings_tran = pd.read_csv('data/clean/twm_savings_tran.csv')"
   ],
   "metadata": {
    "collapsed": false,
    "pycharm": {
     "name": "#%%\n"
    }
   }
  },
  {
   "cell_type": "code",
   "execution_count": 59,
   "outputs": [],
   "source": [
    "def dummy_var_create(df, column_name):\n",
    "    for name in set(df[column_name]):\n",
    "        if str(name).strip() != \"\" and name != None:\n",
    "            df[f\"{column_name}_dummy_{name}\"] = (df[column_name] == name).astype(int)\n",
    "\n",
    "# twm_transactions2 = pd.DataFrame(twm_transactions)\n"
   ],
   "metadata": {
    "collapsed": false,
    "pycharm": {
     "name": "#%%\n"
    }
   }
  },
  {
   "cell_type": "code",
   "execution_count": 60,
   "outputs": [],
   "source": [
    "# dummy_var_create(twm_accounts, \"acct_type\")\n",
    "# dummy_var_create(twm_accounts, \"account_active\")\n",
    "# dummy_var_create(twm_transactions, \"channel\")\n",
    "# dummy_var_create(twm_transactions, \"tran_code\")\n",
    "#\n",
    "#\n"
   ],
   "metadata": {
    "collapsed": false,
    "pycharm": {
     "name": "#%%\n"
    }
   }
  },
  {
   "cell_type": "code",
   "execution_count": 212,
   "outputs": [],
   "source": [
    "sql_query = \"\"\"\n",
    "SELECT cust_id, acct_nbr, tran_id, acct_type, nbr_of_accts, nbr_of_trans, tran_date_max, tran_date_min, acct_active,acct_start_date,acct_end_date,\n",
    "        tran_date, AVG(tran_amt) AS avg_tran_amt,\n",
    "       starting_balance as acct_initial_balance,ending_balance as acct_final_balance\n",
    "           FROM\n",
    "twm_transactions\n",
    "INNER JOIN\n",
    "(\n",
    "SELECT twm_accounts.cust_id,\n",
    "       twm_accounts.acct_nbr as __acct_nbr,\n",
    "       nbr_of_accts,\n",
    "       nbr_of_trans,\n",
    "       tran_date_max,\n",
    "       tran_date_min,\n",
    "       acct_type,\n",
    "       CASE\n",
    "           WHEN account_active = \"N\" THEN 0\n",
    "           ELSE 1\n",
    "           END                           AS acct_active,\n",
    "       starting_balance,\n",
    "       ending_balance,\n",
    "       ending_balance - starting_balance AS delta_balance,\n",
    "       acct_start_date,\n",
    "       CASE\n",
    "           WHEN acct_end_date IS TRUE THEN acct_end_date\n",
    "           ELSE '1996-01-01'\n",
    "           END                           AS acct_end_date\n",
    "\n",
    "FROM twm_accounts\n",
    "         INNER JOIN (SELECT cust_id                     as me_cust_id,\n",
    "                            COUNT(twm_accounts.cust_id) AS nbr_of_accts\n",
    "                     FROM twm_accounts\n",
    "                     GROUP BY me_cust_id)\n",
    "                    ON twm_accounts.cust_id = me_cust_id\n",
    "\n",
    "         INNER JOIN (SELECT acct_nbr        as _acct_nbr,\n",
    "                            COUNT(acct_nbr) AS nbr_of_trans,\n",
    "                            MAX(tran_date) AS tran_date_max,\n",
    "                            MIN(tran_date) AS tran_date_min\n",
    "                     FROM twm_transactions\n",
    "                     GROUP BY _acct_nbr)\n",
    "                    ON twm_accounts.acct_nbr = _acct_nbr )\n",
    "\n",
    "\n",
    "ON twm_transactions.acct_nbr = __acct_nbr\n",
    "GROUP BY cust_id, acct_type\n",
    "ORDER BY cust_id, __acct_nbr;\n",
    "\"\"\""
   ],
   "metadata": {
    "collapsed": false,
    "pycharm": {
     "name": "#%%\n"
    }
   }
  },
  {
   "cell_type": "code",
   "execution_count": 212,
   "outputs": [],
   "source": [],
   "metadata": {
    "collapsed": false,
    "pycharm": {
     "name": "#%%\n"
    }
   }
  },
  {
   "cell_type": "code",
   "execution_count": 213,
   "outputs": [],
   "source": [
    "with sqlite3.connect(\"data/twm.db\") as conn:\n",
    "    twm_data = pd.read_sql(sql_query, con=conn)\n",
    "    twm_data.acct_nbr = twm_data.acct_nbr.astype(int)"
   ],
   "metadata": {
    "collapsed": false,
    "pycharm": {
     "name": "#%%\n"
    }
   }
  },
  {
   "cell_type": "code",
   "execution_count": 214,
   "outputs": [],
   "source": [
    "twm_data2 = pd.DataFrame(twm_data)\n",
    "# twm_data2['acct_start_date'] = pd.to_datetime(twm_data2['acct_start_date'])\n",
    "# twm_data2['acct_end_date'] = pd.to_datetime(twm_data2['acct_end_date'])\n",
    "# twm_data2['tran_date'] = pd.to_datetime(twm_data['tran_date'])\n",
    "\n",
    "# twm_data2['acct_start_date'].to_timestamp()"
   ],
   "metadata": {
    "collapsed": false,
    "pycharm": {
     "name": "#%%\n"
    }
   }
  },
  {
   "cell_type": "code",
   "execution_count": 215,
   "outputs": [],
   "source": [
    "dummy_var_create(twm_data2, \"acct_type\")\n",
    "# dummy_var_create(twm_data2, \"channel\")\n",
    "# dummy_var_create(twm_data2, \"tran_code\")"
   ],
   "metadata": {
    "collapsed": false,
    "pycharm": {
     "name": "#%%\n"
    }
   }
  },
  {
   "cell_type": "code",
   "execution_count": 216,
   "outputs": [
    {
     "data": {
      "text/plain": "Index(['cust_id', 'acct_nbr', 'tran_id', 'acct_type', 'nbr_of_accts',\n       'nbr_of_trans', 'tran_date_max', 'tran_date_min', 'acct_active',\n       'acct_start_date', 'acct_end_date', 'tran_date', 'avg_tran_amt',\n       'acct_initial_balance', 'acct_final_balance', 'acct_type_dummy_CC',\n       'acct_type_dummy_SV', 'acct_type_dummy_CK'],\n      dtype='object')"
     },
     "execution_count": 216,
     "metadata": {},
     "output_type": "execute_result"
    }
   ],
   "source": [
    "twm_data2.columns"
   ],
   "metadata": {
    "collapsed": false,
    "pycharm": {
     "name": "#%%\n"
    }
   }
  },
  {
   "cell_type": "code",
   "execution_count": 236,
   "outputs": [
    {
     "data": {
      "text/plain": "Index(['cust_id', 'acct_nbr', 'tran_id', 'acct_type', 'nbr_of_accts',\n       'nbr_of_trans', 'tran_date_max', 'tran_date_min', 'acct_active',\n       'acct_start_date', 'acct_end_date', 'tran_date', 'avg_tran_amt',\n       'acct_initial_balance', 'acct_final_balance', 'acct_type_dummy_CC',\n       'acct_type_dummy_SV', 'acct_type_dummy_CK', 'has_CC', 'has_CK',\n       'has_SV', 'acct_start_date_CC', 'acct_end_date_CC',\n       'acct_start_date_CK', 'acct_end_date_CK', 'acct_start_date_SV',\n       'acct_end_date_SV', 'acct_term_CC', 'acct_term_CK', 'acct_term_SV',\n       'tran_date_max_CC', 'tran_date_min_CC', 'tran_date_range_CC',\n       'tran_date_max_CK', 'tran_date_min_CK', 'tran_date_range_CK',\n       'tran_date_max_SV', 'tran_date_min_SV', 'tran_date_range_SV',\n       'avg_tran_amt_CC', 'avg_tran_amt_CK', 'avg_tran_amt_SV',\n       'nbr_of_tran_CC', 'nbr_of_tran_CK', 'nbr_of_tran_SV',\n       'acct_initial_balance_CC', 'acct_final_balance_CC',\n       'acct_balance_change_CC', 'acct_initial_balance_CK',\n       'acct_final_balance_CK', 'acct_balance_change_CK',\n       'acct_initial_balance_SV', 'acct_final_balance_SV',\n       'acct_balance_change_SV', 'days_per_tran_CC', 'days_per_tran_CK',\n       'days_per_tran_SV'],\n      dtype='object')"
     },
     "execution_count": 236,
     "metadata": {},
     "output_type": "execute_result"
    }
   ],
   "source": [
    "import datetime\n",
    "\n",
    "# columns for if each customer has a certain account type\n",
    "twm_data2['has_CC'] = twm_data2['acct_type_dummy_CC']\n",
    "twm_data2['has_CK'] = twm_data2['acct_type_dummy_CK']\n",
    "twm_data2['has_SV'] = twm_data2['acct_type_dummy_SV']\n",
    "\n",
    "# columns for start and end date of account by type\n",
    "twm_data2['acct_start_date_CC'] = twm_data2['acct_start_date'] * twm_data2['acct_type_dummy_CC']\n",
    "twm_data2['acct_start_date_CC'] = twm_data2['acct_start_date_CC'].map(\n",
    "    lambda x: (pd.to_datetime(x) - datetime.datetime(1970, 1, 1)).days)\n",
    "twm_data2['acct_end_date_CC'] = twm_data2['acct_end_date'] * twm_data2['acct_type_dummy_CC']\n",
    "twm_data2['acct_end_date_CC'] = twm_data2['acct_end_date_CC'].map(\n",
    "    lambda x: (pd.to_datetime(x) - datetime.datetime(1970, 1, 1)).days)\n",
    "\n",
    "twm_data2['acct_start_date_CK'] = twm_data2['acct_start_date'] * twm_data2['acct_type_dummy_CK']\n",
    "twm_data2['acct_start_date_CK'] = twm_data2['acct_start_date_CK'].map(\n",
    "    lambda x: (pd.to_datetime(x) - datetime.datetime(1970, 1, 1)).days)\n",
    "\n",
    "twm_data2['acct_end_date_CK'] = twm_data2['acct_end_date'] * twm_data2['acct_type_dummy_CK']\n",
    "twm_data2['acct_end_date_CK'] = twm_data2['acct_end_date_CK'].map(\n",
    "    lambda x: (pd.to_datetime(x) - datetime.datetime(1970, 1, 1)).days)\n",
    "\n",
    "twm_data2['acct_start_date_SV'] = twm_data2['acct_start_date'] * twm_data2['acct_type_dummy_SV']\n",
    "twm_data2['acct_start_date_SV'] = twm_data2['acct_start_date_SV'].map(\n",
    "    lambda x: (pd.to_datetime(x) - datetime.datetime(1970, 1, 1)).days)\n",
    "\n",
    "twm_data2['acct_end_date_SV'] = twm_data2['acct_end_date'] * twm_data2['acct_type_dummy_SV']\n",
    "twm_data2['acct_end_date_SV'] = twm_data2['acct_end_date_SV'].map(\n",
    "    lambda x: (pd.to_datetime(x) - datetime.datetime(1970, 1, 1)).days)\n",
    "\n",
    "# calculating length of account life in days for each type of account\n",
    "twm_data2['acct_term_CC'] = (\n",
    "        (pd.to_datetime(twm_data2['acct_end_date']) - pd.to_datetime(twm_data2['acct_start_date'])) * twm_data2[\n",
    "    'acct_type_dummy_CC'])\n",
    "twm_data2['acct_term_CC'] = twm_data2['acct_term_CC'].map(lambda tm: tm.days)\n",
    "\n",
    "twm_data2['acct_term_CK'] = (\n",
    "        (pd.to_datetime(twm_data2['acct_end_date']) - pd.to_datetime(twm_data2['acct_start_date'])) * twm_data2[\n",
    "    'acct_type_dummy_CK'])\n",
    "twm_data2['acct_term_CK'] = twm_data2['acct_term_CK'].map(lambda tm: tm.days)\n",
    "\n",
    "twm_data2['acct_term_SV'] = (\n",
    "        (pd.to_datetime(twm_data2['acct_end_date']) - pd.to_datetime(twm_data2['acct_start_date'])) * twm_data2[\n",
    "    'acct_type_dummy_SV'])\n",
    "twm_data2['acct_term_SV'] = twm_data2['acct_term_SV'].map(lambda tm: tm.days)\n",
    "\n",
    "# creating tran date max/min columns for each different account type\n",
    "twm_data2['tran_date_max_CC'] = twm_data2['tran_date_max'] * twm_data2['acct_type_dummy_CC']\n",
    "twm_data2['tran_date_max_CC'] = twm_data2['tran_date_max_CC'].map(\n",
    "    lambda x: (pd.to_datetime(x) - datetime.datetime(1970, 1, 1)).days)\n",
    "twm_data2['tran_date_min_CC'] = twm_data2['tran_date_min'] * twm_data2['acct_type_dummy_CC']\n",
    "twm_data2['tran_date_min_CC'] = twm_data2['tran_date_min_CC'].map(\n",
    "    lambda x: (pd.to_datetime(x) - datetime.datetime(1970, 1, 1)).days)\n",
    "twm_data2['tran_date_range_CC'] = twm_data2['tran_date_max_CC'] - twm_data2['tran_date_min_CC']\n",
    "\n",
    "twm_data2['tran_date_max_CK'] = twm_data2['tran_date_max'] * twm_data2['acct_type_dummy_CK']\n",
    "twm_data2['tran_date_max_CK'] = twm_data2['tran_date_max_CK'].map(\n",
    "    lambda x: (pd.to_datetime(x) - datetime.datetime(1970, 1, 1)).days)\n",
    "twm_data2['tran_date_min_CK'] = twm_data2['tran_date_min'] * twm_data2['acct_type_dummy_CK']\n",
    "twm_data2['tran_date_min_CK'] = twm_data2['tran_date_min_CK'].map(\n",
    "    lambda x: (pd.to_datetime(x) - datetime.datetime(1970, 1, 1)).days)\n",
    "twm_data2['tran_date_range_CK'] = twm_data2['tran_date_max_CK'] - twm_data2['tran_date_min_CK']\n",
    "\n",
    "twm_data2['tran_date_max_SV'] = twm_data2['tran_date_max'] * twm_data2['acct_type_dummy_SV']\n",
    "twm_data2['tran_date_max_SV'] = twm_data2['tran_date_max_SV'].map(\n",
    "    lambda x: (pd.to_datetime(x) - datetime.datetime(1970, 1, 1)).days)\n",
    "twm_data2['tran_date_min_SV'] = twm_data2['tran_date_min'] * twm_data2['acct_type_dummy_SV']\n",
    "twm_data2['tran_date_min_SV'] = twm_data2['tran_date_min_SV'].map(\n",
    "    lambda x: (pd.to_datetime(x) - datetime.datetime(1970, 1, 1)).days)\n",
    "twm_data2['tran_date_range_SV'] = twm_data2['tran_date_max_SV'] - twm_data2['tran_date_min_SV']\n",
    "\n",
    "# columns for avg tran amt by account type\n",
    "twm_data2['avg_tran_amt_CC'] = twm_data['avg_tran_amt'] * twm_data2['acct_type_dummy_CC']\n",
    "twm_data2['avg_tran_amt_CK'] = twm_data['avg_tran_amt'] * twm_data2['acct_type_dummy_CK']\n",
    "twm_data2['avg_tran_amt_SV'] = twm_data['avg_tran_amt'] * twm_data2['acct_type_dummy_SV']\n",
    "\n",
    "# columns for number of transactions by acct type\n",
    "twm_data2['nbr_of_tran_CC'] = twm_data['nbr_of_trans'] * twm_data2['acct_type_dummy_CC']\n",
    "twm_data2['nbr_of_tran_CK'] = twm_data['nbr_of_trans'] * twm_data2['acct_type_dummy_CK']\n",
    "twm_data2['nbr_of_tran_SV'] = twm_data['nbr_of_trans'] * twm_data2['acct_type_dummy_SV']\n",
    "\n",
    "# new columns for initial and final bank balance by account type\n",
    "twm_data2['acct_initial_balance_CC'] = twm_data['acct_initial_balance'] * twm_data2['acct_type_dummy_CC']\n",
    "twm_data2['acct_final_balance_CC'] = twm_data['acct_final_balance'] * twm_data2['acct_type_dummy_CC']\n",
    "twm_data2['acct_balance_change_CC'] = twm_data['acct_final_balance_CC'] - twm_data2['acct_initial_balance_CC']\n",
    "\n",
    "twm_data2['acct_initial_balance_CK'] = twm_data['acct_initial_balance'] * twm_data2['acct_type_dummy_CK']\n",
    "twm_data2['acct_final_balance_CK'] = twm_data['acct_final_balance'] * twm_data2['acct_type_dummy_CK']\n",
    "twm_data2['acct_balance_change_CK'] = twm_data['acct_final_balance_CK'] - twm_data2['acct_initial_balance_CK']\n",
    "\n",
    "twm_data2['acct_initial_balance_SV'] = twm_data['acct_initial_balance'] * twm_data2['acct_type_dummy_SV']\n",
    "twm_data2['acct_final_balance_SV'] = twm_data['acct_final_balance'] * twm_data2['acct_type_dummy_SV']\n",
    "twm_data2['acct_balance_change_SV'] = twm_data['acct_final_balance_SV'] - twm_data2['acct_initial_balance_SV']\n",
    "\n",
    "twm_data2['days_per_tran_CC'] = twm_data2['tran_date_range_CC'] // twm_data2['nbr_of_tran_CC']\n",
    "twm_data2['days_per_tran_CK'] = twm_data2['tran_date_range_CK'] // twm_data2['nbr_of_tran_CK']\n",
    "twm_data2['days_per_tran_SV'] = twm_data2['tran_date_range_SV'] // twm_data2['nbr_of_tran_SV']\n",
    "\n",
    "# twm_data2['days_per_transaction_SV'] = twm_data\n",
    "\n",
    "twm_data2.columns"
   ],
   "metadata": {
    "collapsed": false,
    "pycharm": {
     "name": "#%%\n"
    }
   }
  },
  {
   "cell_type": "code",
   "execution_count": 290,
   "outputs": [
    {
     "name": "stderr",
     "output_type": "stream",
     "text": [
      "/tmp/ipykernel_1472226/297100493.py:2: FutureWarning:\n",
      "\n",
      "Indexing with multiple keys (implicitly converted to a tuple of keys) will be deprecated, use a list instead.\n",
      "\n"
     ]
    }
   ],
   "source": [
    "twm_data3 = pd.DataFrame(twm_data2)\n",
    "twm_data3 = twm_data3.groupby('cust_id')['has_CC', 'has_CK', 'has_SV',\n",
    "                                         'acct_term_CC',\n",
    "                                         'acct_term_CK',\n",
    "                                         'acct_term_SV',\n",
    "                                         'avg_tran_amt_CC', 'avg_tran_amt_CK', 'avg_tran_amt_SV',\n",
    "                                         'days_per_tran_CC', 'days_per_tran_CK', 'days_per_tran_SV',\n",
    "                                         'acct_balance_change_CC', 'acct_balance_change_CK',\n",
    "                                         'acct_balance_change_SV'].apply(sum)\n",
    "\n",
    "# twm_data3 = twm_data3.groupby('cust_id')[\n",
    "#     'acct_term_CC',\n",
    "#     'acct_term_CK',\n",
    "#     'acct_term_SV',\n",
    "#     'avg_tran_amt_CC', 'avg_tran_amt_CK', 'avg_tran_amt_SV',\n",
    "#     'days_per_tran_CC', 'days_per_tran_CK', 'days_per_tran_SV',\n",
    "#     'acct_initial_balance_CC', 'acct_final_balance_CC',\n",
    "#     'acct_initial_balance_CK', 'acct_final_balance_CK',\n",
    "#     'acct_initial_balance_SV', 'acct_final_balance_SV'].apply(sum)\n",
    "\n",
    "# twm_data3 = twm_data3.groupby('cust_id')[\n",
    "#     'avg_tran_amt_CC', 'avg_tran_amt_CK', 'avg_tran_amt_SV',\n",
    "#     'nbr_of_tran_CC', 'nbr_of_tran_CK', 'nbr_of_tran_SV'].apply(sum)\n",
    "\n",
    "# dropme = ['acct_nbr', 'tran_id', 'acct_type', 'acct_start_date', 'avg_tran_amt','acct_end_date', 'tran_date', 'acct_final_balance']\n",
    "# twm_data3 = twm_data3.drop(columns=dropme)\n",
    "# for i in dropme:\n",
    "#     twm_data3 = twm_data3.drop(columns=i)\n",
    "\n",
    "# twm_data3['cust_id'] = twm_data3['cust_id'].astype(object)\n",
    "\n",
    "# = twm_data3.drop('cust_id')"
   ],
   "metadata": {
    "collapsed": false,
    "pycharm": {
     "name": "#%%\n"
    }
   }
  },
  {
   "cell_type": "code",
   "execution_count": 291,
   "outputs": [],
   "source": [
    "twm_data4 = pd.DataFrame(twm_data3)"
   ],
   "metadata": {
    "collapsed": false,
    "pycharm": {
     "name": "#%%\n"
    }
   }
  },
  {
   "cell_type": "code",
   "execution_count": 306,
   "outputs": [],
   "source": [
    "from sklearn.cluster import AgglomerativeClustering\n",
    "\n",
    "import scipy.cluster.hierarchy as sch\n",
    "\n",
    "# create an Agglomerative Clustering object\n",
    "ac = AgglomerativeClustering(affinity='euclidean',\n",
    "                             linkage='ward',\n",
    "                             n_clusters=3)\n",
    "\n",
    "hc = ac.fit_predict(twm_data4)"
   ],
   "metadata": {
    "collapsed": false,
    "pycharm": {
     "name": "#%%\n"
    }
   }
  },
  {
   "cell_type": "code",
   "execution_count": 307,
   "outputs": [
    {
     "data": {
      "text/plain": "<Figure size 432x288 with 1 Axes>",
      "image/png": "[encoded data removed]"
     },
     "metadata": {},
     "output_type": "display_data"
    }
   ],
   "source": [
    "# define plot_dendrogram function\n",
    "import matplotlib.pyplot as plt\n",
    "\n",
    "\n",
    "def plot_dendrogram(X, method='ward'):\n",
    "    dendrogram = sch.dendrogram(sch.linkage(X, method=method))\n",
    "    plt.title(\"Dendrogram\")\n",
    "    plt.ylabel(\"Euclidean distances\")\n",
    "    plt.xlabel('Points')\n",
    "    plt.show()\n",
    "\n",
    "\n",
    "plot_dendrogram(twm_data4)"
   ],
   "metadata": {
    "collapsed": false,
    "pycharm": {
     "name": "#%%\n"
    }
   }
  },
  {
   "cell_type": "code",
   "execution_count": 308,
   "outputs": [],
   "source": [
    "from sklearn.cluster import KMeans\n",
    "\n",
    "km = KMeans(3).fit(twm_data4)\n",
    "# km = KMeans(3, init='k-means++').fit(twm_data4)\n"
   ],
   "metadata": {
    "collapsed": false,
    "pycharm": {
     "name": "#%%\n"
    }
   }
  },
  {
   "cell_type": "code",
   "execution_count": 309,
   "outputs": [],
   "source": [
    "the_df = pd.DataFrame(twm_data3.index)\n",
    "the_df['km_clusters'] = km.labels_\n",
    "the_df['hc_clusters'] = hc\n",
    "\n",
    "cluster_df = pd.DataFrame(the_df)\n",
    "# cluster_df['km_clusters'] = (cluster_df['km_clusters'] + 2) % 5\n",
    "\n",
    "# cluster_df.loc[cluster_df.hc_clusters == 4, 'hc_clusters'] = 1\n",
    "# cluster_df.loc[cluster_df.km_clusters == 1, 'km_clusters'] = 4\n",
    "\n",
    "cluster_df['same_cluster'] = cluster_df['km_clusters'] == cluster_df['hc_clusters']\n",
    "cluster_df['same_cluster'] = cluster_df['same_cluster'].astype(int)\n",
    "\n",
    "cluster_df = pd.DataFrame(cluster_df)"
   ],
   "metadata": {
    "collapsed": false,
    "pycharm": {
     "name": "#%%\n"
    }
   }
  },
  {
   "cell_type": "code",
   "execution_count": 310,
   "outputs": [],
   "source": [
    "# dummy_km = pd.get_dummies(km.labels_)\n",
    "# dummy_hc = pd.get_dummies(hc)"
   ],
   "metadata": {
    "collapsed": false,
    "pycharm": {
     "name": "#%%\n"
    }
   }
  },
  {
   "cell_type": "code",
   "execution_count": 311,
   "outputs": [],
   "source": [
    "# the_df.rename(columns={0: 'cust_id', 'Unnamed 0': 'agglo_clusters', 'Unnamed 1': 'km_clusters'})\n",
    "\n"
   ],
   "metadata": {
    "collapsed": false,
    "pycharm": {
     "name": "#%%\n"
    }
   }
  },
  {
   "cell_type": "code",
   "execution_count": 312,
   "outputs": [],
   "source": [
    "import plotly.express as px\n",
    "import plotly.graph_objects as go"
   ],
   "metadata": {
    "collapsed": false,
    "pycharm": {
     "name": "#%%\n"
    }
   }
  },
  {
   "cell_type": "code",
   "execution_count": 313,
   "outputs": [],
   "source": [
    "\n",
    "twm_data5 = pd.DataFrame(twm_data3)\n",
    "# twm_data5 = pd.DataFrame()\n",
    "final_df = cluster_df.join(twm_data5, on='cust_id', how='left')\n",
    "\n",
    "final_df = final_df.set_index('cust_id')\n"
   ],
   "metadata": {
    "collapsed": false,
    "pycharm": {
     "name": "#%%\n"
    }
   }
  },
  {
   "cell_type": "code",
   "execution_count": 314,
   "outputs": [],
   "source": [
    "final_df.drop('same_cluster', axis=1)\n",
    "final_df['km_clusters'] = final_df['km_clusters'].astype(str)\n",
    "final_df['hc_clusters'] = final_df['hc_clusters'].astype(str)\n",
    "final_df.to_csv('data/out/cluster_df.csv', sep=',')\n"
   ],
   "metadata": {
    "collapsed": false,
    "pycharm": {
     "name": "#%%\n"
    }
   }
  },
  {
   "cell_type": "code",
   "execution_count": 316,
   "outputs": [
    {
     "data": {
      "application/vnd.plotly.v1+json": {
       "data": [
        {
         "hovertemplate": "hc_clusters=0<br>avg_tran_amt_SV=%{x}<br>days_per_tran_SV=%{y}<extra></extra>",
         "legendgroup": "0",
         "marker": {
          "color": "#636efa",
          "symbol": "circle"
         },
         "mode": "markers",
         "name": "0",
         "orientation": "v",
         "showlegend": true,
         "x": [
          18.55076923076924,
          0.0,
          -6.729600000000004,
          -17.57227272727273,
          0.31,
          -15.191621621621616,
          2.861666666666667,
          0.0,
          0.4175,
          0.0,
          21.36136363636363,
          -3.070882352941176,
          0.0,
          0.0,
          4.044545454545452,
          4.418139534883722,
          11.659249999999997,
          59.15222222222222,
          -1.436153846153842,
          0.0,
          0.0,
          -5.185769230769231,
          18.130769230769236,
          0.7433333333333295,
          24.78416666666665,
          0.2380645161290282,
          10.128571428571433,
          0.0,
          52.93785714285714,
          0.0,
          40.28807692307692,
          33.48153846153846,
          0.0,
          16.196222222222225,
          -5.783076923076924,
          0.0,
          0.0,
          -4.192499999999999,
          -3.6000000000000054,
          86.82025000000002,
          0.0,
          32.0819298245614,
          0.0,
          0.21750000000000003,
          -14.87142857142857,
          7.482580645161289,
          0.0,
          0.0,
          0.0,
          -14.54428571428572,
          -1.2742307692307713,
          0.0,
          0.0,
          -7.3493939393939405,
          19.240937499999998,
          0.0,
          -10.976923076923075,
          35.74634146341463,
          0.03749999999999807,
          1.5050000000000001,
          0.0,
          0.0,
          0.0,
          3.654642857142857,
          34.852,
          0.16999999999999996,
          2.7874999999999996,
          0.044285714285714255,
          25.52076923076923,
          0.0,
          -15.940526315789477,
          0.0,
          32.163428571428575,
          0.17909090909090905,
          -2.871290322580645,
          21.12117647058823,
          0.16166666666666665,
          0.0,
          0.0,
          -0.17000000000000015,
          0.0,
          0.0,
          -7.71761904761905,
          6.516052631578947,
          0.0,
          0.2966666666666666,
          -4.8129629629629616,
          35.361,
          0.0,
          0.0,
          -2.5237837837837858,
          -12.376818181818182,
          31.418999999999993,
          46.08878787878788,
          -1.8064102564102562,
          0.0,
          3.5185714285714265,
          0.0,
          0.0,
          10.523684210526325,
          0.0,
          56.0012,
          0.6028000000000013,
          18.154999999999994,
          0.0,
          0.39000000000000007,
          61.5476923076923,
          -22.87166666666667,
          -29.63425,
          -6.8418518518518505,
          0.58,
          0.0,
          3.6934782608695667,
          0.23,
          4.718333333333334,
          21.122500000000002,
          -4.411481481481481,
          0.0,
          11.323333333333332,
          0.14999999999999997,
          0.0,
          0.5457142857142856,
          2.7016666666666667,
          0.0,
          0.15,
          34.354761904761915,
          28.36,
          34.075102040816326,
          20.722727272727276,
          -0.6937499999999988,
          0.7558333333333332,
          0.0,
          -2.843809523809522,
          -3.384250000000003,
          -11.866249999999999,
          0.0,
          0.0,
          48.4044,
          31.6026923076923,
          0.0,
          0.0,
          0.0,
          53.66025,
          0.0,
          -5.411636363636363,
          83.47681818181819,
          5.584761904761906,
          18.377391304347828,
          -0.5363636363636298,
          8.349000000000004,
          18.502727272727274,
          0.0,
          0.0,
          2.7057499999999988,
          -28.641,
          0.3399999999999999,
          22.844583333333343,
          0.0,
          20.372333333333337,
          0.0,
          3.0509523809523764,
          0.0,
          11.937916666666665,
          0.0,
          59.37580645161291,
          -10.110000000000001,
          0.0,
          2.5549999999999997,
          17.14288888888889,
          15.299374999999996,
          -2.380000000000004,
          37.518333333333324,
          0.0,
          -17.501249999999995,
          0.0,
          -0.21516129032258033,
          -19.282083333333336,
          -24.1625,
          -3.3807500000000017,
          0.22000000000000006,
          0.0,
          0.0,
          15.273809523809529,
          9.62757575757576,
          24.160909090909094,
          6.257254901960785,
          -10.021666666666667,
          0.0,
          -21.251153846153848,
          152.95958333333337,
          0.0,
          44.373636363636365,
          31.175454545454553,
          -59.035000000000004,
          -2.6325000000000007,
          0.0,
          0.0,
          4.486666666666666,
          52.705769230769235,
          14.900769230769232,
          0.25,
          1.4249999999999998,
          0.0,
          0.0,
          0.0,
          -1.99875,
          0.395,
          0.0,
          32.7686111111111,
          0.0,
          9.289696969696964,
          27.091818181818187,
          -5.514749999999998,
          -11.975714285714284,
          1.891199999999999,
          0.0,
          0.0,
          -11.555500000000002,
          23.6073076923077,
          26.962592592592593,
          61.81750000000001,
          0.0,
          42.23619047619048,
          0.29,
          16.05137931034483,
          0.0,
          1.5187878787878795,
          0.0,
          0.0,
          0.15,
          -2.0144000000000006,
          0.0,
          -11.2908,
          98.52604166666664,
          0.3441666666666667,
          7.792083333333331,
          0.0,
          0.0,
          -2.248620689655171,
          0.0,
          0.0,
          28.671250000000008,
          32.707777777777785,
          8.96875,
          0.0,
          7.5794736842105275,
          49.115882352941185,
          0.25,
          0.0,
          0.0,
          0.0,
          0.21,
          29.878181818181826,
          0.5974999999999998,
          0.0,
          0.2191666666666667,
          0.48000000000000015,
          0.0,
          -50.10812500000001,
          0.16999999999999996,
          93.29692307692305,
          0.0,
          2.5283333333333315,
          0.0,
          1.8616666666666666,
          5.300303030303028,
          -16.224230769230765,
          0.0,
          15.305555555555555,
          0.0,
          0.0,
          0.0,
          -29.850645161290323,
          27.564374999999995,
          0.0,
          0.35999999999999993,
          0.0,
          2.600833333333333,
          0.0,
          0.0,
          18.053076923076922,
          17.639523809523812,
          21.0347619047619,
          16.008064516129032,
          43.662608695652175,
          0.0,
          30.170606060606065,
          0.19999999999999998,
          2.9000000000000004,
          5.004642857142859,
          -6.696071428571429,
          -43.47185185185185,
          0.0,
          -10.185882352941178,
          5.41,
          0.0,
          0.0,
          0.0,
          6.365454545454545,
          0.0,
          3.475,
          0.37000000000000005,
          0.14999999999999997,
          0.14999999999999997,
          2.7416666666666667,
          -1.7367741935483894,
          43.268095238095235,
          0.0,
          1.3399999999999999,
          46.59772727272725,
          30.384230769230776,
          11.330322580645161,
          0.5008333333333334,
          25.79076923076923,
          0.0,
          -28.48972222222223,
          2.774081632653063,
          0.0,
          51.98818181818183,
          0.0,
          0.19791666666666832,
          2.401621621621622,
          -9.845000000000004,
          0.18999999999999997,
          -28.63142857142857,
          0.0,
          -1.816153846153843,
          0.0,
          -9.021999999999997,
          -91.6253846153846,
          0.0,
          0.4166666666666667,
          0.0,
          0.0,
          12.632399999999995,
          18.85923076923077,
          21.509545454545457,
          0.0,
          6.330476190476196,
          -1.1173913043478252,
          12.792250000000008,
          0.0,
          44.906000000000006,
          0.0,
          0.0,
          23.595499999999998,
          46.95121212121213,
          0.0,
          0.0,
          0.35999999999999993,
          67.92115384615384,
          -0.7745000000000088,
          0.0,
          0.0,
          51.1675,
          -0.21814814814814779,
          0.0,
          32.43541666666667,
          14.697735849056603,
          0.24000000000000007,
          29.294680851063823,
          0.0,
          26.519411764705882,
          1.5615384615384629,
          0.0,
          0.0,
          0.22666666666666668,
          2.511428571428571,
          0.0,
          18.015769230769234,
          2.4846428571428554,
          0.0,
          -10.744166666666668,
          124.4748484848485,
          0.0,
          -43.14825000000001,
          34.56719999999999,
          -12.25230769230769,
          -3.596170212765961,
          11.966060606060612,
          13.649499999999998,
          0.0,
          27.912954545454546,
          43.98222222222221,
          0.0,
          -8.595263157894736,
          -19.116129032258073,
          0.0,
          -25.931935483870966,
          11.408750000000003,
          1.8791666666666664,
          3.813333333333335,
          7.138064516129028,
          0.0,
          0.0,
          0.0,
          0.0,
          15.945161290322579,
          -1.1787878787878812,
          52.65652173913044,
          0.0,
          0.0,
          0.0,
          14.810476190476193,
          0.23,
          0.0,
          23.247499999999988,
          0.6038461538461537,
          57.44238095238096,
          -5.223548387096779,
          0.0,
          30.3005,
          7.322000000000003,
          0.0,
          14.76346153846154,
          7.729318181818181,
          -4.360588235294118,
          34.24195121951219,
          6.066249999999999,
          0.0,
          -8.511818181818176,
          0.27,
          36.43319999999999,
          24.195,
          7.290000000000002,
          0.0,
          175.16299999999998,
          0.18499999999999997,
          1.4791666666666667,
          0.0,
          27.825555555555567,
          6.819166666666671,
          0.0,
          39.217419354838704,
          -1.4123684210526306,
          0.0,
          0.0,
          1.2038461538461516,
          0.16999999999999996,
          0.0,
          -8.066603773584912,
          13.225454545454548,
          0.0,
          21.344374999999996,
          0.0,
          0.0,
          19.975714285714286,
          0.0,
          0.18935483870967756,
          -19.48428571428571,
          0.0,
          0.0,
          0.0,
          0.21,
          0.0,
          0.0,
          -1.9077419354838692,
          17.13925925925926,
          0.0,
          0.0,
          -6.129032258064514,
          0.0,
          32.688148148148144,
          -13.60775,
          0.0,
          20.365384615384606,
          0.23692307692307685,
          0.0,
          -1.780645161290321,
          0.0,
          72.33,
          1.4533333333333334,
          16.436764705882357,
          10.536935483870968,
          -13.597307692307691,
          0.0,
          68.95772727272725,
          0.0,
          43.97212121212121,
          11.046969696969699,
          0.0,
          0.0,
          0.19666666666666666,
          0.0,
          2.8533333333333335,
          -10.423888888888882,
          6.563200000000006
         ],
         "xaxis": "x",
         "y": [
          13.0,
          0.0,
          14.0,
          15.0,
          27.0,
          9.0,
          27.0,
          0.0,
          27.0,
          0.0,
          15.0,
          9.0,
          0.0,
          0.0,
          10.0,
          4.0,
          9.0,
          5.0,
          12.0,
          0.0,
          0.0,
          12.0,
          12.0,
          9.0,
          14.0,
          11.0,
          15.0,
          0.0,
          11.0,
          0.0,
          12.0,
          13.0,
          0.0,
          8.0,
          12.0,
          0.0,
          0.0,
          9.0,
          15.0,
          8.0,
          0.0,
          6.0,
          0.0,
          27.0,
          17.0,
          11.0,
          0.0,
          0.0,
          0.0,
          15.0,
          13.0,
          0.0,
          0.0,
          10.0,
          11.0,
          0.0,
          12.0,
          8.0,
          8.0,
          27.0,
          0.0,
          0.0,
          0.0,
          11.0,
          8.0,
          27.0,
          27.0,
          23.0,
          12.0,
          0.0,
          17.0,
          0.0,
          9.0,
          27.0,
          11.0,
          12.0,
          27.0,
          0.0,
          0.0,
          8.0,
          0.0,
          0.0,
          15.0,
          9.0,
          0.0,
          27.0,
          6.0,
          8.0,
          0.0,
          0.0,
          9.0,
          15.0,
          8.0,
          10.0,
          8.0,
          0.0,
          17.0,
          0.0,
          0.0,
          8.0,
          0.0,
          14.0,
          13.0,
          11.0,
          0.0,
          27.0,
          12.0,
          11.0,
          8.0,
          12.0,
          27.0,
          0.0,
          14.0,
          27.0,
          27.0,
          8.0,
          12.0,
          0.0,
          27.0,
          27.0,
          0.0,
          25.0,
          27.0,
          0.0,
          25.0,
          16.0,
          13.0,
          7.0,
          10.0,
          15.0,
          27.0,
          0.0,
          15.0,
          8.0,
          13.0,
          0.0,
          0.0,
          1.0,
          12.0,
          0.0,
          0.0,
          0.0,
          8.0,
          0.0,
          6.0,
          15.0,
          15.0,
          14.0,
          15.0,
          8.0,
          15.0,
          0.0,
          0.0,
          8.0,
          8.0,
          27.0,
          14.0,
          0.0,
          11.0,
          0.0,
          15.0,
          0.0,
          13.0,
          0.0,
          10.0,
          18.0,
          0.0,
          27.0,
          6.0,
          7.0,
          14.0,
          9.0,
          0.0,
          13.0,
          0.0,
          10.0,
          14.0,
          8.0,
          9.0,
          27.0,
          0.0,
          0.0,
          16.0,
          11.0,
          15.0,
          7.0,
          13.0,
          0.0,
          13.0,
          0.0,
          0.0,
          15.0,
          15.0,
          13.0,
          11.0,
          0.0,
          0.0,
          27.0,
          13.0,
          12.0,
          27.0,
          27.0,
          0.0,
          0.0,
          0.0,
          13.0,
          27.0,
          0.0,
          10.0,
          0.0,
          10.0,
          16.0,
          8.0,
          15.0,
          13.0,
          0.0,
          0.0,
          8.0,
          12.0,
          1.0,
          8.0,
          0.0,
          15.0,
          19.0,
          11.0,
          0.0,
          10.0,
          0.0,
          0.0,
          25.0,
          13.0,
          0.0,
          13.0,
          7.0,
          27.0,
          13.0,
          0.0,
          0.0,
          12.0,
          0.0,
          0.0,
          8.0,
          9.0,
          15.0,
          0.0,
          8.0,
          7.0,
          27.0,
          0.0,
          0.0,
          0.0,
          27.0,
          16.0,
          27.0,
          0.0,
          27.0,
          27.0,
          0.0,
          7.0,
          27.0,
          2.0,
          0.0,
          14.0,
          0.0,
          27.0,
          10.0,
          12.0,
          0.0,
          11.0,
          0.0,
          0.0,
          0.0,
          11.0,
          10.0,
          0.0,
          27.0,
          0.0,
          27.0,
          0.0,
          0.0,
          13.0,
          15.0,
          17.0,
          10.0,
          15.0,
          0.0,
          10.0,
          27.0,
          27.0,
          11.0,
          9.0,
          12.0,
          0.0,
          19.0,
          20.0,
          0.0,
          0.0,
          0.0,
          16.0,
          0.0,
          27.0,
          27.0,
          27.0,
          27.0,
          27.0,
          10.0,
          16.0,
          0.0,
          24.0,
          16.0,
          13.0,
          11.0,
          27.0,
          6.0,
          0.0,
          9.0,
          7.0,
          0.0,
          15.0,
          0.0,
          7.0,
          9.0,
          16.0,
          27.0,
          14.0,
          0.0,
          13.0,
          0.0,
          8.0,
          12.0,
          0.0,
          27.0,
          0.0,
          0.0,
          14.0,
          6.0,
          15.0,
          0.0,
          17.0,
          14.0,
          8.0,
          0.0,
          13.0,
          0.0,
          0.0,
          8.0,
          6.0,
          0.0,
          0.0,
          27.0,
          12.0,
          8.0,
          0.0,
          0.0,
          13.0,
          12.0,
          0.0,
          14.0,
          6.0,
          27.0,
          7.0,
          0.0,
          12.0,
          9.0,
          0.0,
          0.0,
          27.0,
          25.0,
          0.0,
          6.0,
          12.0,
          0.0,
          6.0,
          10.0,
          0.0,
          8.0,
          13.0,
          12.0,
          7.0,
          10.0,
          8.0,
          0.0,
          7.0,
          9.0,
          0.0,
          14.0,
          11.0,
          0.0,
          11.0,
          10.0,
          27.0,
          13.0,
          11.0,
          0.0,
          0.0,
          0.0,
          0.0,
          10.0,
          5.0,
          15.0,
          0.0,
          0.0,
          0.0,
          15.0,
          27.0,
          0.0,
          10.0,
          25.0,
          15.0,
          11.0,
          0.0,
          9.0,
          11.0,
          0.0,
          13.0,
          8.0,
          7.0,
          8.0,
          13.0,
          0.0,
          10.0,
          22.0,
          14.0,
          8.0,
          14.0,
          0.0,
          8.0,
          27.0,
          27.0,
          0.0,
          9.0,
          15.0,
          0.0,
          10.0,
          8.0,
          0.0,
          0.0,
          13.0,
          27.0,
          0.0,
          6.0,
          10.0,
          0.0,
          10.0,
          0.0,
          0.0,
          15.0,
          0.0,
          11.0,
          1.0,
          0.0,
          0.0,
          0.0,
          27.0,
          0.0,
          0.0,
          11.0,
          8.0,
          0.0,
          0.0,
          11.0,
          0.0,
          13.0,
          8.0,
          0.0,
          12.0,
          25.0,
          0.0,
          11.0,
          0.0,
          13.0,
          27.0,
          10.0,
          5.0,
          12.0,
          0.0,
          15.0,
          0.0,
          10.0,
          10.0,
          0.0,
          0.0,
          27.0,
          0.0,
          27.0,
          5.0,
          13.0
         ],
         "yaxis": "y",
         "type": "scatter"
        },
        {
         "hovertemplate": "hc_clusters=2<br>avg_tran_amt_SV=%{x}<br>days_per_tran_SV=%{y}<extra></extra>",
         "legendgroup": "2",
         "marker": {
          "color": "#EF553B",
          "symbol": "circle"
         },
         "mode": "markers",
         "name": "2",
         "orientation": "v",
         "showlegend": true,
         "x": [
          58.47454545454546,
          -33.62315789473685,
          0.0,
          0.0,
          0.0,
          0.0,
          12.718076923076922,
          0.0,
          -20.29225806451613,
          28.2490909090909,
          3.4013333333333384,
          -7.843750000000002,
          24.382399999999997,
          29.31787878787879,
          1.3741666666666665,
          0.0,
          0.0,
          0.0,
          0.0,
          0.0,
          0.0,
          -22.854193548387094,
          0.0,
          36.69095238095238,
          134.86516129032256,
          0.0,
          0.6608333333333334,
          0.0,
          -1.7484210526315773,
          0.0,
          0.0,
          0.0,
          -7.511875,
          0.29999999999999993,
          -8.217777777777778,
          -6.537500000000001,
          0.0,
          0.003333333333332575,
          63.66682926829269,
          0.006666666666667116,
          37.31375000000001,
          19.576249999999995,
          0.3225,
          -54.90545454545451,
          5.69733333333333,
          0.0,
          0.0,
          201.45345454545452,
          0.0,
          0.0,
          0.0,
          -21.599230769230772,
          0.0,
          0.0,
          -9.43653846153846,
          0.0,
          6.712962962962961,
          -3.4569444444444444,
          -4.619818181818186,
          0.0,
          15.06320000000001,
          0.14999999999999997,
          0.0,
          0.0,
          5.105714285714287,
          0.0,
          7.270869565217393,
          1.8208333333333335,
          13.135,
          35.45354838709678,
          0.0,
          0.0,
          7.544736842105264,
          0.0,
          0.0,
          0.0,
          11.8552,
          -5.2312499999999975,
          1.9579999999999973,
          -30.26333333333334,
          20.258936170212767,
          0.0,
          0.3041666666666667,
          23.0325,
          0.0,
          37.09708333333332,
          0.0,
          69.78040000000001,
          23.795,
          17.01476190476191,
          0.0,
          0.0,
          0.0,
          36.4709523809524,
          -40.12148148148148,
          0.0,
          0.0,
          0.0,
          0.0,
          0.0,
          0.0,
          0.0,
          68.3640625,
          0.0,
          0.0,
          1.3003225806451606,
          0.0,
          0.0,
          0.0,
          0.0,
          0.0,
          11.728095238095241,
          40.08903225806451,
          -2.7268181818181825,
          0.0,
          0.0,
          0.0,
          0.0,
          5.59761904761905,
          0.0,
          -17.152352941176474,
          0.0,
          1.4122500000000016,
          19.16791666666667,
          30.737826086956524,
          0.0,
          106.50909090909092,
          14.575384615384618,
          0.0,
          3.7827272727272763,
          0.0,
          0.0,
          3.98,
          -2.9569230769230765,
          180.86425,
          0.4100000000000001,
          25.965434782608696,
          53.81192307692307,
          -4.579666666666663,
          -1.492000000000009,
          0.0,
          -20.581290322580646,
          46.8784,
          -14.663513513513513,
          11.890000000000002,
          5.522500000000001,
          0.0,
          0.0,
          20.24285714285715,
          2.2025,
          0.0,
          0.0,
          171.3714285714286,
          0.0,
          18.663076923076925,
          22.596249999999994,
          0.0,
          0.0,
          -22.481428571428577,
          0.0,
          11.706842105263155,
          12.82777777777778
         ],
         "xaxis": "x",
         "y": [
          10.0,
          10.0,
          0.0,
          0.0,
          0.0,
          0.0,
          13.0,
          0.0,
          10.0,
          15.0,
          11.0,
          8.0,
          14.0,
          10.0,
          27.0,
          0.0,
          0.0,
          0.0,
          0.0,
          0.0,
          0.0,
          10.0,
          0.0,
          15.0,
          11.0,
          0.0,
          27.0,
          0.0,
          8.0,
          0.0,
          0.0,
          0.0,
          9.0,
          27.0,
          14.0,
          13.0,
          0.0,
          16.0,
          1.0,
          9.0,
          10.0,
          8.0,
          27.0,
          15.0,
          11.0,
          0.0,
          0.0,
          6.0,
          0.0,
          0.0,
          0.0,
          12.0,
          0.0,
          0.0,
          12.0,
          0.0,
          6.0,
          10.0,
          6.0,
          0.0,
          13.0,
          27.0,
          0.0,
          0.0,
          15.0,
          0.0,
          14.0,
          27.0,
          27.0,
          11.0,
          0.0,
          0.0,
          8.0,
          0.0,
          0.0,
          0.0,
          13.0,
          9.0,
          8.0,
          13.0,
          7.0,
          0.0,
          27.0,
          27.0,
          0.0,
          11.0,
          0.0,
          14.0,
          9.0,
          15.0,
          0.0,
          0.0,
          0.0,
          16.0,
          6.0,
          0.0,
          0.0,
          0.0,
          0.0,
          0.0,
          0.0,
          0.0,
          10.0,
          0.0,
          0.0,
          11.0,
          0.0,
          0.0,
          0.0,
          0.0,
          0.0,
          15.0,
          10.0,
          15.0,
          0.0,
          0.0,
          0.0,
          0.0,
          15.0,
          0.0,
          6.0,
          0.0,
          8.0,
          12.0,
          14.0,
          0.0,
          7.0,
          12.0,
          0.0,
          10.0,
          0.0,
          0.0,
          10.0,
          8.0,
          9.0,
          27.0,
          7.0,
          3.0,
          11.0,
          9.0,
          0.0,
          11.0,
          13.0,
          9.0,
          8.0,
          13.0,
          0.0,
          0.0,
          15.0,
          27.0,
          0.0,
          0.0,
          0.0,
          0.0,
          12.0,
          8.0,
          0.0,
          0.0,
          15.0,
          0.0,
          8.0,
          9.0
         ],
         "yaxis": "y",
         "type": "scatter"
        },
        {
         "hovertemplate": "hc_clusters=1<br>avg_tran_amt_SV=%{x}<br>days_per_tran_SV=%{y}<extra></extra>",
         "legendgroup": "1",
         "marker": {
          "color": "#00cc96",
          "symbol": "circle"
         },
         "mode": "markers",
         "name": "1",
         "orientation": "v",
         "showlegend": true,
         "x": [
          0.0,
          0.31499999999999995,
          0.0,
          121.98605263157896,
          0.27428571428570825,
          0.0,
          -20.09354166666667,
          -2.136666666666661,
          0.0,
          44.9088,
          0.9374999999999997,
          -12.483333333333327,
          0.0,
          117.99000000000001,
          76.82238095238095
         ],
         "xaxis": "x",
         "y": [
          0.0,
          27.0,
          0.0,
          9.0,
          17.0,
          0.0,
          7.0,
          9.0,
          0.0,
          13.0,
          27.0,
          12.0,
          0.0,
          15.0,
          17.0
         ],
         "yaxis": "y",
         "type": "scatter"
        }
       ],
       "layout": {
        "template": {
         "data": {
          "bar": [
           {
            "error_x": {
             "color": "#f2f5fa"
            },
            "error_y": {
             "color": "#f2f5fa"
            },
            "marker": {
             "line": {
              "color": "rgb(17,17,17)",
              "width": 0.5
             },
             "pattern": {
              "fillmode": "overlay",
              "size": 10,
              "solidity": 0.2
             }
            },
            "type": "bar"
           }
          ],
          "barpolar": [
           {
            "marker": {
             "line": {
              "color": "rgb(17,17,17)",
              "width": 0.5
             },
             "pattern": {
              "fillmode": "overlay",
              "size": 10,
              "solidity": 0.2
             }
            },
            "type": "barpolar"
           }
          ],
          "carpet": [
           {
            "aaxis": {
             "endlinecolor": "#A2B1C6",
             "gridcolor": "#506784",
             "linecolor": "#506784",
             "minorgridcolor": "#506784",
             "startlinecolor": "#A2B1C6"
            },
            "baxis": {
             "endlinecolor": "#A2B1C6",
             "gridcolor": "#506784",
             "linecolor": "#506784",
             "minorgridcolor": "#506784",
             "startlinecolor": "#A2B1C6"
            },
            "type": "carpet"
           }
          ],
          "choropleth": [
           {
            "colorbar": {
             "outlinewidth": 0,
             "ticks": ""
            },
            "type": "choropleth"
           }
          ],
          "contour": [
           {
            "colorbar": {
             "outlinewidth": 0,
             "ticks": ""
            },
            "colorscale": [
             [
              0.0,
              "#0d0887"
             ],
             [
              0.1111111111111111,
              "#46039f"
             ],
             [
              0.2222222222222222,
              "#7201a8"
             ],
             [
              0.3333333333333333,
              "#9c179e"
             ],
             [
              0.4444444444444444,
              "#bd3786"
             ],
             [
              0.5555555555555556,
              "#d8576b"
             ],
             [
              0.6666666666666666,
              "#ed7953"
             ],
             [
              0.7777777777777778,
              "#fb9f3a"
             ],
             [
              0.8888888888888888,
              "#fdca26"
             ],
             [
              1.0,
              "#f0f921"
             ]
            ],
            "type": "contour"
           }
          ],
          "contourcarpet": [
           {
            "colorbar": {
             "outlinewidth": 0,
             "ticks": ""
            },
            "type": "contourcarpet"
           }
          ],
          "heatmap": [
           {
            "colorbar": {
             "outlinewidth": 0,
             "ticks": ""
            },
            "colorscale": [
             [
              0.0,
              "#0d0887"
             ],
             [
              0.1111111111111111,
              "#46039f"
             ],
             [
              0.2222222222222222,
              "#7201a8"
             ],
             [
              0.3333333333333333,
              "#9c179e"
             ],
             [
              0.4444444444444444,
              "#bd3786"
             ],
             [
              0.5555555555555556,
              "#d8576b"
             ],
             [
              0.6666666666666666,
              "#ed7953"
             ],
             [
              0.7777777777777778,
              "#fb9f3a"
             ],
             [
              0.8888888888888888,
              "#fdca26"
             ],
             [
              1.0,
              "#f0f921"
             ]
            ],
            "type": "heatmap"
           }
          ],
          "heatmapgl": [
           {
            "colorbar": {
             "outlinewidth": 0,
             "ticks": ""
            },
            "colorscale": [
             [
              0.0,
              "#0d0887"
             ],
             [
              0.1111111111111111,
              "#46039f"
             ],
             [
              0.2222222222222222,
              "#7201a8"
             ],
             [
              0.3333333333333333,
              "#9c179e"
             ],
             [
              0.4444444444444444,
              "#bd3786"
             ],
             [
              0.5555555555555556,
              "#d8576b"
             ],
             [
              0.6666666666666666,
              "#ed7953"
             ],
             [
              0.7777777777777778,
              "#fb9f3a"
             ],
             [
              0.8888888888888888,
              "#fdca26"
             ],
             [
              1.0,
              "#f0f921"
             ]
            ],
            "type": "heatmapgl"
           }
          ],
          "histogram": [
           {
            "marker": {
             "pattern": {
              "fillmode": "overlay",
              "size": 10,
              "solidity": 0.2
             }
            },
            "type": "histogram"
           }
          ],
          "histogram2d": [
           {
            "colorbar": {
             "outlinewidth": 0,
             "ticks": ""
            },
            "colorscale": [
             [
              0.0,
              "#0d0887"
             ],
             [
              0.1111111111111111,
              "#46039f"
             ],
             [
              0.2222222222222222,
              "#7201a8"
             ],
             [
              0.3333333333333333,
              "#9c179e"
             ],
             [
              0.4444444444444444,
              "#bd3786"
             ],
             [
              0.5555555555555556,
              "#d8576b"
             ],
             [
              0.6666666666666666,
              "#ed7953"
             ],
             [
              0.7777777777777778,
              "#fb9f3a"
             ],
             [
              0.8888888888888888,
              "#fdca26"
             ],
             [
              1.0,
              "#f0f921"
             ]
            ],
            "type": "histogram2d"
           }
          ],
          "histogram2dcontour": [
           {
            "colorbar": {
             "outlinewidth": 0,
             "ticks": ""
            },
            "colorscale": [
             [
              0.0,
              "#0d0887"
             ],
             [
              0.1111111111111111,
              "#46039f"
             ],
             [
              0.2222222222222222,
              "#7201a8"
             ],
             [
              0.3333333333333333,
              "#9c179e"
             ],
             [
              0.4444444444444444,
              "#bd3786"
             ],
             [
              0.5555555555555556,
              "#d8576b"
             ],
             [
              0.6666666666666666,
              "#ed7953"
             ],
             [
              0.7777777777777778,
              "#fb9f3a"
             ],
             [
              0.8888888888888888,
              "#fdca26"
             ],
             [
              1.0,
              "#f0f921"
             ]
            ],
            "type": "histogram2dcontour"
           }
          ],
          "mesh3d": [
           {
            "colorbar": {
             "outlinewidth": 0,
             "ticks": ""
            },
            "type": "mesh3d"
           }
          ],
          "parcoords": [
           {
            "line": {
             "colorbar": {
              "outlinewidth": 0,
              "ticks": ""
             }
            },
            "type": "parcoords"
           }
          ],
          "pie": [
           {
            "automargin": true,
            "type": "pie"
           }
          ],
          "scatter": [
           {
            "marker": {
             "line": {
              "color": "#283442"
             }
            },
            "type": "scatter"
           }
          ],
          "scatter3d": [
           {
            "line": {
             "colorbar": {
              "outlinewidth": 0,
              "ticks": ""
             }
            },
            "marker": {
             "colorbar": {
              "outlinewidth": 0,
              "ticks": ""
             }
            },
            "type": "scatter3d"
           }
          ],
          "scattercarpet": [
           {
            "marker": {
             "colorbar": {
              "outlinewidth": 0,
              "ticks": ""
             }
            },
            "type": "scattercarpet"
           }
          ],
          "scattergeo": [
           {
            "marker": {
             "colorbar": {
              "outlinewidth": 0,
              "ticks": ""
             }
            },
            "type": "scattergeo"
           }
          ],
          "scattergl": [
           {
            "marker": {
             "line": {
              "color": "#283442"
             }
            },
            "type": "scattergl"
           }
          ],
          "scattermapbox": [
           {
            "marker": {
             "colorbar": {
              "outlinewidth": 0,
              "ticks": ""
             }
            },
            "type": "scattermapbox"
           }
          ],
          "scatterpolar": [
           {
            "marker": {
             "colorbar": {
              "outlinewidth": 0,
              "ticks": ""
             }
            },
            "type": "scatterpolar"
           }
          ],
          "scatterpolargl": [
           {
            "marker": {
             "colorbar": {
              "outlinewidth": 0,
              "ticks": ""
             }
            },
            "type": "scatterpolargl"
           }
          ],
          "scatterternary": [
           {
            "marker": {
             "colorbar": {
              "outlinewidth": 0,
              "ticks": ""
             }
            },
            "type": "scatterternary"
           }
          ],
          "surface": [
           {
            "colorbar": {
             "outlinewidth": 0,
             "ticks": ""
            },
            "colorscale": [
             [
              0.0,
              "#0d0887"
             ],
             [
              0.1111111111111111,
              "#46039f"
             ],
             [
              0.2222222222222222,
              "#7201a8"
             ],
             [
              0.3333333333333333,
              "#9c179e"
             ],
             [
              0.4444444444444444,
              "#bd3786"
             ],
             [
              0.5555555555555556,
              "#d8576b"
             ],
             [
              0.6666666666666666,
              "#ed7953"
             ],
             [
              0.7777777777777778,
              "#fb9f3a"
             ],
             [
              0.8888888888888888,
              "#fdca26"
             ],
             [
              1.0,
              "#f0f921"
             ]
            ],
            "type": "surface"
           }
          ],
          "table": [
           {
            "cells": {
             "fill": {
              "color": "#506784"
             },
             "line": {
              "color": "rgb(17,17,17)"
             }
            },
            "header": {
             "fill": {
              "color": "#2a3f5f"
             },
             "line": {
              "color": "rgb(17,17,17)"
             }
            },
            "type": "table"
           }
          ]
         },
         "layout": {
          "annotationdefaults": {
           "arrowcolor": "#f2f5fa",
           "arrowhead": 0,
           "arrowwidth": 1
          },
          "autotypenumbers": "strict",
          "coloraxis": {
           "colorbar": {
            "outlinewidth": 0,
            "ticks": ""
           }
          },
          "colorscale": {
           "diverging": [
            [
             0,
             "#8e0152"
            ],
            [
             0.1,
             "#c51b7d"
            ],
            [
             0.2,
             "#de77ae"
            ],
            [
             0.3,
             "#f1b6da"
            ],
            [
             0.4,
             "#fde0ef"
            ],
            [
             0.5,
             "#f7f7f7"
            ],
            [
             0.6,
             "#e6f5d0"
            ],
            [
             0.7,
             "#b8e186"
            ],
            [
             0.8,
             "#7fbc41"
            ],
            [
             0.9,
             "#4d9221"
            ],
            [
             1,
             "#276419"
            ]
           ],
           "sequential": [
            [
             0.0,
             "#0d0887"
            ],
            [
             0.1111111111111111,
             "#46039f"
            ],
            [
             0.2222222222222222,
             "#7201a8"
            ],
            [
             0.3333333333333333,
             "#9c179e"
            ],
            [
             0.4444444444444444,
             "#bd3786"
            ],
            [
             0.5555555555555556,
             "#d8576b"
            ],
            [
             0.6666666666666666,
             "#ed7953"
            ],
            [
             0.7777777777777778,
             "#fb9f3a"
            ],
            [
             0.8888888888888888,
             "#fdca26"
            ],
            [
             1.0,
             "#f0f921"
            ]
           ],
           "sequentialminus": [
            [
             0.0,
             "#0d0887"
            ],
            [
             0.1111111111111111,
             "#46039f"
            ],
            [
             0.2222222222222222,
             "#7201a8"
            ],
            [
             0.3333333333333333,
             "#9c179e"
            ],
            [
             0.4444444444444444,
             "#bd3786"
            ],
            [
             0.5555555555555556,
             "#d8576b"
            ],
            [
             0.6666666666666666,
             "#ed7953"
            ],
            [
             0.7777777777777778,
             "#fb9f3a"
            ],
            [
             0.8888888888888888,
             "#fdca26"
            ],
            [
             1.0,
             "#f0f921"
            ]
           ]
          },
          "colorway": [
           "#636efa",
           "#EF553B",
           "#00cc96",
           "#ab63fa",
           "#FFA15A",
           "#19d3f3",
           "#FF6692",
           "#B6E880",
           "#FF97FF",
           "#FECB52"
          ],
          "font": {
           "color": "#f2f5fa"
          },
          "geo": {
           "bgcolor": "rgb(17,17,17)",
           "lakecolor": "rgb(17,17,17)",
           "landcolor": "rgb(17,17,17)",
           "showlakes": true,
           "showland": true,
           "subunitcolor": "#506784"
          },
          "hoverlabel": {
           "align": "left"
          },
          "hovermode": "closest",
          "mapbox": {
           "style": "dark"
          },
          "paper_bgcolor": "rgb(17,17,17)",
          "plot_bgcolor": "rgb(17,17,17)",
          "polar": {
           "angularaxis": {
            "gridcolor": "#506784",
            "linecolor": "#506784",
            "ticks": ""
           },
           "bgcolor": "rgb(17,17,17)",
           "radialaxis": {
            "gridcolor": "#506784",
            "linecolor": "#506784",
            "ticks": ""
           }
          },
          "scene": {
           "xaxis": {
            "backgroundcolor": "rgb(17,17,17)",
            "gridcolor": "#506784",
            "gridwidth": 2,
            "linecolor": "#506784",
            "showbackground": true,
            "ticks": "",
            "zerolinecolor": "#C8D4E3"
           },
           "yaxis": {
            "backgroundcolor": "rgb(17,17,17)",
            "gridcolor": "#506784",
            "gridwidth": 2,
            "linecolor": "#506784",
            "showbackground": true,
            "ticks": "",
            "zerolinecolor": "#C8D4E3"
           },
           "zaxis": {
            "backgroundcolor": "rgb(17,17,17)",
            "gridcolor": "#506784",
            "gridwidth": 2,
            "linecolor": "#506784",
            "showbackground": true,
            "ticks": "",
            "zerolinecolor": "#C8D4E3"
           }
          },
          "shapedefaults": {
           "line": {
            "color": "#f2f5fa"
           }
          },
          "sliderdefaults": {
           "bgcolor": "#C8D4E3",
           "bordercolor": "rgb(17,17,17)",
           "borderwidth": 1,
           "tickwidth": 0
          },
          "ternary": {
           "aaxis": {
            "gridcolor": "#506784",
            "linecolor": "#506784",
            "ticks": ""
           },
           "baxis": {
            "gridcolor": "#506784",
            "linecolor": "#506784",
            "ticks": ""
           },
           "bgcolor": "rgb(17,17,17)",
           "caxis": {
            "gridcolor": "#506784",
            "linecolor": "#506784",
            "ticks": ""
           }
          },
          "title": {
           "x": 0.05
          },
          "updatemenudefaults": {
           "bgcolor": "#506784",
           "borderwidth": 0
          },
          "xaxis": {
           "automargin": true,
           "gridcolor": "#283442",
           "linecolor": "#506784",
           "ticks": "",
           "title": {
            "standoff": 15
           },
           "zerolinecolor": "#283442",
           "zerolinewidth": 2
          },
          "yaxis": {
           "automargin": true,
           "gridcolor": "#283442",
           "linecolor": "#506784",
           "ticks": "",
           "title": {
            "standoff": 15
           },
           "zerolinecolor": "#283442",
           "zerolinewidth": 2
          }
         }
        },
        "xaxis": {
         "anchor": "y",
         "domain": [
          0.0,
          1.0
         ],
         "title": {
          "text": "avg_tran_amt_SV"
         }
        },
        "yaxis": {
         "anchor": "x",
         "domain": [
          0.0,
          1.0
         ],
         "title": {
          "text": "days_per_tran_SV"
         }
        },
        "legend": {
         "title": {
          "text": "hc_clusters"
         },
         "tracegroupgap": 0
        },
        "margin": {
         "t": 60
        }
       },
       "config": {
        "plotlyServerURL": "https://plot.ly"
       }
      },
      "text/html": "<div>                            <div id=\"01a7632e-51e4-40d5-a5f4-3419ebfd1e69\" class=\"plotly-graph-div\" style=\"height:525px; width:100%;\"></div>            <script type=\"text/javascript\">                require([\"plotly\"], function(Plotly) {                    window.PLOTLYENV=window.PLOTLYENV || {};                                    if (document.getElementById(\"01a7632e-51e4-40d5-a5f4-3419ebfd1e69\")) {                    Plotly.newPlot(                        \"01a7632e-51e4-40d5-a5f4-3419ebfd1e69\",                        [{\"hovertemplate\":\"hc_clusters=0<br>avg_tran_amt_SV=%{x}<br>days_per_tran_SV=%{y}<extra></extra>\",\"legendgroup\":\"0\",\"marker\":{\"color\":\"#636efa\",\"symbol\":\"circle\"},\"mode\":\"markers\",\"name\":\"0\",\"orientation\":\"v\",\"showlegend\":true,\"x\":[18.55076923076924,0.0,-6.729600000000004,-17.57227272727273,0.31,-15.191621621621616,2.861666666666667,0.0,0.4175,0.0,21.36136363636363,-3.070882352941176,0.0,0.0,4.044545454545452,4.418139534883722,11.659249999999997,59.15222222222222,-1.436153846153842,0.0,0.0,-5.185769230769231,18.130769230769236,0.7433333333333295,24.78416666666665,0.2380645161290282,10.128571428571433,0.0,52.93785714285714,0.0,40.28807692307692,33.48153846153846,0.0,16.196222222222225,-5.783076923076924,0.0,0.0,-4.192499999999999,-3.6000000000000054,86.82025000000002,0.0,32.0819298245614,0.0,0.21750000000000003,-14.87142857142857,7.482580645161289,0.0,0.0,0.0,-14.54428571428572,-1.2742307692307713,0.0,0.0,-7.3493939393939405,19.240937499999998,0.0,-10.976923076923075,35.74634146341463,0.03749999999999807,1.5050000000000001,0.0,0.0,0.0,3.654642857142857,34.852,0.16999999999999996,2.7874999999999996,0.044285714285714255,25.52076923076923,0.0,-15.940526315789477,0.0,32.163428571428575,0.17909090909090905,-2.871290322580645,21.12117647058823,0.16166666666666665,0.0,0.0,-0.17000000000000015,0.0,0.0,-7.71761904761905,6.516052631578947,0.0,0.2966666666666666,-4.8129629629629616,35.361,0.0,0.0,-2.5237837837837858,-12.376818181818182,31.418999999999993,46.08878787878788,-1.8064102564102562,0.0,3.5185714285714265,0.0,0.0,10.523684210526325,0.0,56.0012,0.6028000000000013,18.154999999999994,0.0,0.39000000000000007,61.5476923076923,-22.87166666666667,-29.63425,-6.8418518518518505,0.58,0.0,3.6934782608695667,0.23,4.718333333333334,21.122500000000002,-4.411481481481481,0.0,11.323333333333332,0.14999999999999997,0.0,0.5457142857142856,2.7016666666666667,0.0,0.15,34.354761904761915,28.36,34.075102040816326,20.722727272727276,-0.6937499999999988,0.7558333333333332,0.0,-2.843809523809522,-3.384250000000003,-11.866249999999999,0.0,0.0,48.4044,31.6026923076923,0.0,0.0,0.0,53.66025,0.0,-5.411636363636363,83.47681818181819,5.584761904761906,18.377391304347828,-0.5363636363636298,8.349000000000004,18.502727272727274,0.0,0.0,2.7057499999999988,-28.641,0.3399999999999999,22.844583333333343,0.0,20.372333333333337,0.0,3.0509523809523764,0.0,11.937916666666665,0.0,59.37580645161291,-10.110000000000001,0.0,2.5549999999999997,17.14288888888889,15.299374999999996,-2.380000000000004,37.518333333333324,0.0,-17.501249999999995,0.0,-0.21516129032258033,-19.282083333333336,-24.1625,-3.3807500000000017,0.22000000000000006,0.0,0.0,15.273809523809529,9.62757575757576,24.160909090909094,6.257254901960785,-10.021666666666667,0.0,-21.251153846153848,152.95958333333337,0.0,44.373636363636365,31.175454545454553,-59.035000000000004,-2.6325000000000007,0.0,0.0,4.486666666666666,52.705769230769235,14.900769230769232,0.25,1.4249999999999998,0.0,0.0,0.0,-1.99875,0.395,0.0,32.7686111111111,0.0,9.289696969696964,27.091818181818187,-5.514749999999998,-11.975714285714284,1.891199999999999,0.0,0.0,-11.555500000000002,23.6073076923077,26.962592592592593,61.81750000000001,0.0,42.23619047619048,0.29,16.05137931034483,0.0,1.5187878787878795,0.0,0.0,0.15,-2.0144000000000006,0.0,-11.2908,98.52604166666664,0.3441666666666667,7.792083333333331,0.0,0.0,-2.248620689655171,0.0,0.0,28.671250000000008,32.707777777777785,8.96875,0.0,7.5794736842105275,49.115882352941185,0.25,0.0,0.0,0.0,0.21,29.878181818181826,0.5974999999999998,0.0,0.2191666666666667,0.48000000000000015,0.0,-50.10812500000001,0.16999999999999996,93.29692307692305,0.0,2.5283333333333315,0.0,1.8616666666666666,5.300303030303028,-16.224230769230765,0.0,15.305555555555555,0.0,0.0,0.0,-29.850645161290323,27.564374999999995,0.0,0.35999999999999993,0.0,2.600833333333333,0.0,0.0,18.053076923076922,17.639523809523812,21.0347619047619,16.008064516129032,43.662608695652175,0.0,30.170606060606065,0.19999999999999998,2.9000000000000004,5.004642857142859,-6.696071428571429,-43.47185185185185,0.0,-10.185882352941178,5.41,0.0,0.0,0.0,6.365454545454545,0.0,3.475,0.37000000000000005,0.14999999999999997,0.14999999999999997,2.7416666666666667,-1.7367741935483894,43.268095238095235,0.0,1.3399999999999999,46.59772727272725,30.384230769230776,11.330322580645161,0.5008333333333334,25.79076923076923,0.0,-28.48972222222223,2.774081632653063,0.0,51.98818181818183,0.0,0.19791666666666832,2.401621621621622,-9.845000000000004,0.18999999999999997,-28.63142857142857,0.0,-1.816153846153843,0.0,-9.021999999999997,-91.6253846153846,0.0,0.4166666666666667,0.0,0.0,12.632399999999995,18.85923076923077,21.509545454545457,0.0,6.330476190476196,-1.1173913043478252,12.792250000000008,0.0,44.906000000000006,0.0,0.0,23.595499999999998,46.95121212121213,0.0,0.0,0.35999999999999993,67.92115384615384,-0.7745000000000088,0.0,0.0,51.1675,-0.21814814814814779,0.0,32.43541666666667,14.697735849056603,0.24000000000000007,29.294680851063823,0.0,26.519411764705882,1.5615384615384629,0.0,0.0,0.22666666666666668,2.511428571428571,0.0,18.015769230769234,2.4846428571428554,0.0,-10.744166666666668,124.4748484848485,0.0,-43.14825000000001,34.56719999999999,-12.25230769230769,-3.596170212765961,11.966060606060612,13.649499999999998,0.0,27.912954545454546,43.98222222222221,0.0,-8.595263157894736,-19.116129032258073,0.0,-25.931935483870966,11.408750000000003,1.8791666666666664,3.813333333333335,7.138064516129028,0.0,0.0,0.0,0.0,15.945161290322579,-1.1787878787878812,52.65652173913044,0.0,0.0,0.0,14.810476190476193,0.23,0.0,23.247499999999988,0.6038461538461537,57.44238095238096,-5.223548387096779,0.0,30.3005,7.322000000000003,0.0,14.76346153846154,7.729318181818181,-4.360588235294118,34.24195121951219,6.066249999999999,0.0,-8.511818181818176,0.27,36.43319999999999,24.195,7.290000000000002,0.0,175.16299999999998,0.18499999999999997,1.4791666666666667,0.0,27.825555555555567,6.819166666666671,0.0,39.217419354838704,-1.4123684210526306,0.0,0.0,1.2038461538461516,0.16999999999999996,0.0,-8.066603773584912,13.225454545454548,0.0,21.344374999999996,0.0,0.0,19.975714285714286,0.0,0.18935483870967756,-19.48428571428571,0.0,0.0,0.0,0.21,0.0,0.0,-1.9077419354838692,17.13925925925926,0.0,0.0,-6.129032258064514,0.0,32.688148148148144,-13.60775,0.0,20.365384615384606,0.23692307692307685,0.0,-1.780645161290321,0.0,72.33,1.4533333333333334,16.436764705882357,10.536935483870968,-13.597307692307691,0.0,68.95772727272725,0.0,43.97212121212121,11.046969696969699,0.0,0.0,0.19666666666666666,0.0,2.8533333333333335,-10.423888888888882,6.563200000000006],\"xaxis\":\"x\",\"y\":[13.0,0.0,14.0,15.0,27.0,9.0,27.0,0.0,27.0,0.0,15.0,9.0,0.0,0.0,10.0,4.0,9.0,5.0,12.0,0.0,0.0,12.0,12.0,9.0,14.0,11.0,15.0,0.0,11.0,0.0,12.0,13.0,0.0,8.0,12.0,0.0,0.0,9.0,15.0,8.0,0.0,6.0,0.0,27.0,17.0,11.0,0.0,0.0,0.0,15.0,13.0,0.0,0.0,10.0,11.0,0.0,12.0,8.0,8.0,27.0,0.0,0.0,0.0,11.0,8.0,27.0,27.0,23.0,12.0,0.0,17.0,0.0,9.0,27.0,11.0,12.0,27.0,0.0,0.0,8.0,0.0,0.0,15.0,9.0,0.0,27.0,6.0,8.0,0.0,0.0,9.0,15.0,8.0,10.0,8.0,0.0,17.0,0.0,0.0,8.0,0.0,14.0,13.0,11.0,0.0,27.0,12.0,11.0,8.0,12.0,27.0,0.0,14.0,27.0,27.0,8.0,12.0,0.0,27.0,27.0,0.0,25.0,27.0,0.0,25.0,16.0,13.0,7.0,10.0,15.0,27.0,0.0,15.0,8.0,13.0,0.0,0.0,1.0,12.0,0.0,0.0,0.0,8.0,0.0,6.0,15.0,15.0,14.0,15.0,8.0,15.0,0.0,0.0,8.0,8.0,27.0,14.0,0.0,11.0,0.0,15.0,0.0,13.0,0.0,10.0,18.0,0.0,27.0,6.0,7.0,14.0,9.0,0.0,13.0,0.0,10.0,14.0,8.0,9.0,27.0,0.0,0.0,16.0,11.0,15.0,7.0,13.0,0.0,13.0,0.0,0.0,15.0,15.0,13.0,11.0,0.0,0.0,27.0,13.0,12.0,27.0,27.0,0.0,0.0,0.0,13.0,27.0,0.0,10.0,0.0,10.0,16.0,8.0,15.0,13.0,0.0,0.0,8.0,12.0,1.0,8.0,0.0,15.0,19.0,11.0,0.0,10.0,0.0,0.0,25.0,13.0,0.0,13.0,7.0,27.0,13.0,0.0,0.0,12.0,0.0,0.0,8.0,9.0,15.0,0.0,8.0,7.0,27.0,0.0,0.0,0.0,27.0,16.0,27.0,0.0,27.0,27.0,0.0,7.0,27.0,2.0,0.0,14.0,0.0,27.0,10.0,12.0,0.0,11.0,0.0,0.0,0.0,11.0,10.0,0.0,27.0,0.0,27.0,0.0,0.0,13.0,15.0,17.0,10.0,15.0,0.0,10.0,27.0,27.0,11.0,9.0,12.0,0.0,19.0,20.0,0.0,0.0,0.0,16.0,0.0,27.0,27.0,27.0,27.0,27.0,10.0,16.0,0.0,24.0,16.0,13.0,11.0,27.0,6.0,0.0,9.0,7.0,0.0,15.0,0.0,7.0,9.0,16.0,27.0,14.0,0.0,13.0,0.0,8.0,12.0,0.0,27.0,0.0,0.0,14.0,6.0,15.0,0.0,17.0,14.0,8.0,0.0,13.0,0.0,0.0,8.0,6.0,0.0,0.0,27.0,12.0,8.0,0.0,0.0,13.0,12.0,0.0,14.0,6.0,27.0,7.0,0.0,12.0,9.0,0.0,0.0,27.0,25.0,0.0,6.0,12.0,0.0,6.0,10.0,0.0,8.0,13.0,12.0,7.0,10.0,8.0,0.0,7.0,9.0,0.0,14.0,11.0,0.0,11.0,10.0,27.0,13.0,11.0,0.0,0.0,0.0,0.0,10.0,5.0,15.0,0.0,0.0,0.0,15.0,27.0,0.0,10.0,25.0,15.0,11.0,0.0,9.0,11.0,0.0,13.0,8.0,7.0,8.0,13.0,0.0,10.0,22.0,14.0,8.0,14.0,0.0,8.0,27.0,27.0,0.0,9.0,15.0,0.0,10.0,8.0,0.0,0.0,13.0,27.0,0.0,6.0,10.0,0.0,10.0,0.0,0.0,15.0,0.0,11.0,1.0,0.0,0.0,0.0,27.0,0.0,0.0,11.0,8.0,0.0,0.0,11.0,0.0,13.0,8.0,0.0,12.0,25.0,0.0,11.0,0.0,13.0,27.0,10.0,5.0,12.0,0.0,15.0,0.0,10.0,10.0,0.0,0.0,27.0,0.0,27.0,5.0,13.0],\"yaxis\":\"y\",\"type\":\"scatter\"},{\"hovertemplate\":\"hc_clusters=2<br>avg_tran_amt_SV=%{x}<br>days_per_tran_SV=%{y}<extra></extra>\",\"legendgroup\":\"2\",\"marker\":{\"color\":\"#EF553B\",\"symbol\":\"circle\"},\"mode\":\"markers\",\"name\":\"2\",\"orientation\":\"v\",\"showlegend\":true,\"x\":[58.47454545454546,-33.62315789473685,0.0,0.0,0.0,0.0,12.718076923076922,0.0,-20.29225806451613,28.2490909090909,3.4013333333333384,-7.843750000000002,24.382399999999997,29.31787878787879,1.3741666666666665,0.0,0.0,0.0,0.0,0.0,0.0,-22.854193548387094,0.0,36.69095238095238,134.86516129032256,0.0,0.6608333333333334,0.0,-1.7484210526315773,0.0,0.0,0.0,-7.511875,0.29999999999999993,-8.217777777777778,-6.537500000000001,0.0,0.003333333333332575,63.66682926829269,0.006666666666667116,37.31375000000001,19.576249999999995,0.3225,-54.90545454545451,5.69733333333333,0.0,0.0,201.45345454545452,0.0,0.0,0.0,-21.599230769230772,0.0,0.0,-9.43653846153846,0.0,6.712962962962961,-3.4569444444444444,-4.619818181818186,0.0,15.06320000000001,0.14999999999999997,0.0,0.0,5.105714285714287,0.0,7.270869565217393,1.8208333333333335,13.135,35.45354838709678,0.0,0.0,7.544736842105264,0.0,0.0,0.0,11.8552,-5.2312499999999975,1.9579999999999973,-30.26333333333334,20.258936170212767,0.0,0.3041666666666667,23.0325,0.0,37.09708333333332,0.0,69.78040000000001,23.795,17.01476190476191,0.0,0.0,0.0,36.4709523809524,-40.12148148148148,0.0,0.0,0.0,0.0,0.0,0.0,0.0,68.3640625,0.0,0.0,1.3003225806451606,0.0,0.0,0.0,0.0,0.0,11.728095238095241,40.08903225806451,-2.7268181818181825,0.0,0.0,0.0,0.0,5.59761904761905,0.0,-17.152352941176474,0.0,1.4122500000000016,19.16791666666667,30.737826086956524,0.0,106.50909090909092,14.575384615384618,0.0,3.7827272727272763,0.0,0.0,3.98,-2.9569230769230765,180.86425,0.4100000000000001,25.965434782608696,53.81192307692307,-4.579666666666663,-1.492000000000009,0.0,-20.581290322580646,46.8784,-14.663513513513513,11.890000000000002,5.522500000000001,0.0,0.0,20.24285714285715,2.2025,0.0,0.0,171.3714285714286,0.0,18.663076923076925,22.596249999999994,0.0,0.0,-22.481428571428577,0.0,11.706842105263155,12.82777777777778],\"xaxis\":\"x\",\"y\":[10.0,10.0,0.0,0.0,0.0,0.0,13.0,0.0,10.0,15.0,11.0,8.0,14.0,10.0,27.0,0.0,0.0,0.0,0.0,0.0,0.0,10.0,0.0,15.0,11.0,0.0,27.0,0.0,8.0,0.0,0.0,0.0,9.0,27.0,14.0,13.0,0.0,16.0,1.0,9.0,10.0,8.0,27.0,15.0,11.0,0.0,0.0,6.0,0.0,0.0,0.0,12.0,0.0,0.0,12.0,0.0,6.0,10.0,6.0,0.0,13.0,27.0,0.0,0.0,15.0,0.0,14.0,27.0,27.0,11.0,0.0,0.0,8.0,0.0,0.0,0.0,13.0,9.0,8.0,13.0,7.0,0.0,27.0,27.0,0.0,11.0,0.0,14.0,9.0,15.0,0.0,0.0,0.0,16.0,6.0,0.0,0.0,0.0,0.0,0.0,0.0,0.0,10.0,0.0,0.0,11.0,0.0,0.0,0.0,0.0,0.0,15.0,10.0,15.0,0.0,0.0,0.0,0.0,15.0,0.0,6.0,0.0,8.0,12.0,14.0,0.0,7.0,12.0,0.0,10.0,0.0,0.0,10.0,8.0,9.0,27.0,7.0,3.0,11.0,9.0,0.0,11.0,13.0,9.0,8.0,13.0,0.0,0.0,15.0,27.0,0.0,0.0,0.0,0.0,12.0,8.0,0.0,0.0,15.0,0.0,8.0,9.0],\"yaxis\":\"y\",\"type\":\"scatter\"},{\"hovertemplate\":\"hc_clusters=1<br>avg_tran_amt_SV=%{x}<br>days_per_tran_SV=%{y}<extra></extra>\",\"legendgroup\":\"1\",\"marker\":{\"color\":\"#00cc96\",\"symbol\":\"circle\"},\"mode\":\"markers\",\"name\":\"1\",\"orientation\":\"v\",\"showlegend\":true,\"x\":[0.0,0.31499999999999995,0.0,121.98605263157896,0.27428571428570825,0.0,-20.09354166666667,-2.136666666666661,0.0,44.9088,0.9374999999999997,-12.483333333333327,0.0,117.99000000000001,76.82238095238095],\"xaxis\":\"x\",\"y\":[0.0,27.0,0.0,9.0,17.0,0.0,7.0,9.0,0.0,13.0,27.0,12.0,0.0,15.0,17.0],\"yaxis\":\"y\",\"type\":\"scatter\"}],                        {\"template\":{\"data\":{\"bar\":[{\"error_x\":{\"color\":\"#f2f5fa\"},\"error_y\":{\"color\":\"#f2f5fa\"},\"marker\":{\"line\":{\"color\":\"rgb(17,17,17)\",\"width\":0.5},\"pattern\":{\"fillmode\":\"overlay\",\"size\":10,\"solidity\":0.2}},\"type\":\"bar\"}],\"barpolar\":[{\"marker\":{\"line\":{\"color\":\"rgb(17,17,17)\",\"width\":0.5},\"pattern\":{\"fillmode\":\"overlay\",\"size\":10,\"solidity\":0.2}},\"type\":\"barpolar\"}],\"carpet\":[{\"aaxis\":{\"endlinecolor\":\"#A2B1C6\",\"gridcolor\":\"#506784\",\"linecolor\":\"#506784\",\"minorgridcolor\":\"#506784\",\"startlinecolor\":\"#A2B1C6\"},\"baxis\":{\"endlinecolor\":\"#A2B1C6\",\"gridcolor\":\"#506784\",\"linecolor\":\"#506784\",\"minorgridcolor\":\"#506784\",\"startlinecolor\":\"#A2B1C6\"},\"type\":\"carpet\"}],\"choropleth\":[{\"colorbar\":{\"outlinewidth\":0,\"ticks\":\"\"},\"type\":\"choropleth\"}],\"contour\":[{\"colorbar\":{\"outlinewidth\":0,\"ticks\":\"\"},\"colorscale\":[[0.0,\"#0d0887\"],[0.1111111111111111,\"#46039f\"],[0.2222222222222222,\"#7201a8\"],[0.3333333333333333,\"#9c179e\"],[0.4444444444444444,\"#bd3786\"],[0.5555555555555556,\"#d8576b\"],[0.6666666666666666,\"#ed7953\"],[0.7777777777777778,\"#fb9f3a\"],[0.8888888888888888,\"#fdca26\"],[1.0,\"#f0f921\"]],\"type\":\"contour\"}],\"contourcarpet\":[{\"colorbar\":{\"outlinewidth\":0,\"ticks\":\"\"},\"type\":\"contourcarpet\"}],\"heatmap\":[{\"colorbar\":{\"outlinewidth\":0,\"ticks\":\"\"},\"colorscale\":[[0.0,\"#0d0887\"],[0.1111111111111111,\"#46039f\"],[0.2222222222222222,\"#7201a8\"],[0.3333333333333333,\"#9c179e\"],[0.4444444444444444,\"#bd3786\"],[0.5555555555555556,\"#d8576b\"],[0.6666666666666666,\"#ed7953\"],[0.7777777777777778,\"#fb9f3a\"],[0.8888888888888888,\"#fdca26\"],[1.0,\"#f0f921\"]],\"type\":\"heatmap\"}],\"heatmapgl\":[{\"colorbar\":{\"outlinewidth\":0,\"ticks\":\"\"},\"colorscale\":[[0.0,\"#0d0887\"],[0.1111111111111111,\"#46039f\"],[0.2222222222222222,\"#7201a8\"],[0.3333333333333333,\"#9c179e\"],[0.4444444444444444,\"#bd3786\"],[0.5555555555555556,\"#d8576b\"],[0.6666666666666666,\"#ed7953\"],[0.7777777777777778,\"#fb9f3a\"],[0.8888888888888888,\"#fdca26\"],[1.0,\"#f0f921\"]],\"type\":\"heatmapgl\"}],\"histogram\":[{\"marker\":{\"pattern\":{\"fillmode\":\"overlay\",\"size\":10,\"solidity\":0.2}},\"type\":\"histogram\"}],\"histogram2d\":[{\"colorbar\":{\"outlinewidth\":0,\"ticks\":\"\"},\"colorscale\":[[0.0,\"#0d0887\"],[0.1111111111111111,\"#46039f\"],[0.2222222222222222,\"#7201a8\"],[0.3333333333333333,\"#9c179e\"],[0.4444444444444444,\"#bd3786\"],[0.5555555555555556,\"#d8576b\"],[0.6666666666666666,\"#ed7953\"],[0.7777777777777778,\"#fb9f3a\"],[0.8888888888888888,\"#fdca26\"],[1.0,\"#f0f921\"]],\"type\":\"histogram2d\"}],\"histogram2dcontour\":[{\"colorbar\":{\"outlinewidth\":0,\"ticks\":\"\"},\"colorscale\":[[0.0,\"#0d0887\"],[0.1111111111111111,\"#46039f\"],[0.2222222222222222,\"#7201a8\"],[0.3333333333333333,\"#9c179e\"],[0.4444444444444444,\"#bd3786\"],[0.5555555555555556,\"#d8576b\"],[0.6666666666666666,\"#ed7953\"],[0.7777777777777778,\"#fb9f3a\"],[0.8888888888888888,\"#fdca26\"],[1.0,\"#f0f921\"]],\"type\":\"histogram2dcontour\"}],\"mesh3d\":[{\"colorbar\":{\"outlinewidth\":0,\"ticks\":\"\"},\"type\":\"mesh3d\"}],\"parcoords\":[{\"line\":{\"colorbar\":{\"outlinewidth\":0,\"ticks\":\"\"}},\"type\":\"parcoords\"}],\"pie\":[{\"automargin\":true,\"type\":\"pie\"}],\"scatter\":[{\"marker\":{\"line\":{\"color\":\"#283442\"}},\"type\":\"scatter\"}],\"scatter3d\":[{\"line\":{\"colorbar\":{\"outlinewidth\":0,\"ticks\":\"\"}},\"marker\":{\"colorbar\":{\"outlinewidth\":0,\"ticks\":\"\"}},\"type\":\"scatter3d\"}],\"scattercarpet\":[{\"marker\":{\"colorbar\":{\"outlinewidth\":0,\"ticks\":\"\"}},\"type\":\"scattercarpet\"}],\"scattergeo\":[{\"marker\":{\"colorbar\":{\"outlinewidth\":0,\"ticks\":\"\"}},\"type\":\"scattergeo\"}],\"scattergl\":[{\"marker\":{\"line\":{\"color\":\"#283442\"}},\"type\":\"scattergl\"}],\"scattermapbox\":[{\"marker\":{\"colorbar\":{\"outlinewidth\":0,\"ticks\":\"\"}},\"type\":\"scattermapbox\"}],\"scatterpolar\":[{\"marker\":{\"colorbar\":{\"outlinewidth\":0,\"ticks\":\"\"}},\"type\":\"scatterpolar\"}],\"scatterpolargl\":[{\"marker\":{\"colorbar\":{\"outlinewidth\":0,\"ticks\":\"\"}},\"type\":\"scatterpolargl\"}],\"scatterternary\":[{\"marker\":{\"colorbar\":{\"outlinewidth\":0,\"ticks\":\"\"}},\"type\":\"scatterternary\"}],\"surface\":[{\"colorbar\":{\"outlinewidth\":0,\"ticks\":\"\"},\"colorscale\":[[0.0,\"#0d0887\"],[0.1111111111111111,\"#46039f\"],[0.2222222222222222,\"#7201a8\"],[0.3333333333333333,\"#9c179e\"],[0.4444444444444444,\"#bd3786\"],[0.5555555555555556,\"#d8576b\"],[0.6666666666666666,\"#ed7953\"],[0.7777777777777778,\"#fb9f3a\"],[0.8888888888888888,\"#fdca26\"],[1.0,\"#f0f921\"]],\"type\":\"surface\"}],\"table\":[{\"cells\":{\"fill\":{\"color\":\"#506784\"},\"line\":{\"color\":\"rgb(17,17,17)\"}},\"header\":{\"fill\":{\"color\":\"#2a3f5f\"},\"line\":{\"color\":\"rgb(17,17,17)\"}},\"type\":\"table\"}]},\"layout\":{\"annotationdefaults\":{\"arrowcolor\":\"#f2f5fa\",\"arrowhead\":0,\"arrowwidth\":1},\"autotypenumbers\":\"strict\",\"coloraxis\":{\"colorbar\":{\"outlinewidth\":0,\"ticks\":\"\"}},\"colorscale\":{\"diverging\":[[0,\"#8e0152\"],[0.1,\"#c51b7d\"],[0.2,\"#de77ae\"],[0.3,\"#f1b6da\"],[0.4,\"#fde0ef\"],[0.5,\"#f7f7f7\"],[0.6,\"#e6f5d0\"],[0.7,\"#b8e186\"],[0.8,\"#7fbc41\"],[0.9,\"#4d9221\"],[1,\"#276419\"]],\"sequential\":[[0.0,\"#0d0887\"],[0.1111111111111111,\"#46039f\"],[0.2222222222222222,\"#7201a8\"],[0.3333333333333333,\"#9c179e\"],[0.4444444444444444,\"#bd3786\"],[0.5555555555555556,\"#d8576b\"],[0.6666666666666666,\"#ed7953\"],[0.7777777777777778,\"#fb9f3a\"],[0.8888888888888888,\"#fdca26\"],[1.0,\"#f0f921\"]],\"sequentialminus\":[[0.0,\"#0d0887\"],[0.1111111111111111,\"#46039f\"],[0.2222222222222222,\"#7201a8\"],[0.3333333333333333,\"#9c179e\"],[0.4444444444444444,\"#bd3786\"],[0.5555555555555556,\"#d8576b\"],[0.6666666666666666,\"#ed7953\"],[0.7777777777777778,\"#fb9f3a\"],[0.8888888888888888,\"#fdca26\"],[1.0,\"#f0f921\"]]},\"colorway\":[\"#636efa\",\"#EF553B\",\"#00cc96\",\"#ab63fa\",\"#FFA15A\",\"#19d3f3\",\"#FF6692\",\"#B6E880\",\"#FF97FF\",\"#FECB52\"],\"font\":{\"color\":\"#f2f5fa\"},\"geo\":{\"bgcolor\":\"rgb(17,17,17)\",\"lakecolor\":\"rgb(17,17,17)\",\"landcolor\":\"rgb(17,17,17)\",\"showlakes\":true,\"showland\":true,\"subunitcolor\":\"#506784\"},\"hoverlabel\":{\"align\":\"left\"},\"hovermode\":\"closest\",\"mapbox\":{\"style\":\"dark\"},\"paper_bgcolor\":\"rgb(17,17,17)\",\"plot_bgcolor\":\"rgb(17,17,17)\",\"polar\":{\"angularaxis\":{\"gridcolor\":\"#506784\",\"linecolor\":\"#506784\",\"ticks\":\"\"},\"bgcolor\":\"rgb(17,17,17)\",\"radialaxis\":{\"gridcolor\":\"#506784\",\"linecolor\":\"#506784\",\"ticks\":\"\"}},\"scene\":{\"xaxis\":{\"backgroundcolor\":\"rgb(17,17,17)\",\"gridcolor\":\"#506784\",\"gridwidth\":2,\"linecolor\":\"#506784\",\"showbackground\":true,\"ticks\":\"\",\"zerolinecolor\":\"#C8D4E3\"},\"yaxis\":{\"backgroundcolor\":\"rgb(17,17,17)\",\"gridcolor\":\"#506784\",\"gridwidth\":2,\"linecolor\":\"#506784\",\"showbackground\":true,\"ticks\":\"\",\"zerolinecolor\":\"#C8D4E3\"},\"zaxis\":{\"backgroundcolor\":\"rgb(17,17,17)\",\"gridcolor\":\"#506784\",\"gridwidth\":2,\"linecolor\":\"#506784\",\"showbackground\":true,\"ticks\":\"\",\"zerolinecolor\":\"#C8D4E3\"}},\"shapedefaults\":{\"line\":{\"color\":\"#f2f5fa\"}},\"sliderdefaults\":{\"bgcolor\":\"#C8D4E3\",\"bordercolor\":\"rgb(17,17,17)\",\"borderwidth\":1,\"tickwidth\":0},\"ternary\":{\"aaxis\":{\"gridcolor\":\"#506784\",\"linecolor\":\"#506784\",\"ticks\":\"\"},\"baxis\":{\"gridcolor\":\"#506784\",\"linecolor\":\"#506784\",\"ticks\":\"\"},\"bgcolor\":\"rgb(17,17,17)\",\"caxis\":{\"gridcolor\":\"#506784\",\"linecolor\":\"#506784\",\"ticks\":\"\"}},\"title\":{\"x\":0.05},\"updatemenudefaults\":{\"bgcolor\":\"#506784\",\"borderwidth\":0},\"xaxis\":{\"automargin\":true,\"gridcolor\":\"#283442\",\"linecolor\":\"#506784\",\"ticks\":\"\",\"title\":{\"standoff\":15},\"zerolinecolor\":\"#283442\",\"zerolinewidth\":2},\"yaxis\":{\"automargin\":true,\"gridcolor\":\"#283442\",\"linecolor\":\"#506784\",\"ticks\":\"\",\"title\":{\"standoff\":15},\"zerolinecolor\":\"#283442\",\"zerolinewidth\":2}}},\"xaxis\":{\"anchor\":\"y\",\"domain\":[0.0,1.0],\"title\":{\"text\":\"avg_tran_amt_SV\"}},\"yaxis\":{\"anchor\":\"x\",\"domain\":[0.0,1.0],\"title\":{\"text\":\"days_per_tran_SV\"}},\"legend\":{\"title\":{\"text\":\"hc_clusters\"},\"tracegroupgap\":0},\"margin\":{\"t\":60}},                        {\"responsive\": true}                    ).then(function(){\n                            \nvar gd = document.getElementById('01a7632e-51e4-40d5-a5f4-3419ebfd1e69');\nvar x = new MutationObserver(function (mutations, observer) {{\n        var display = window.getComputedStyle(gd).display;\n        if (!display || display === 'none') {{\n            console.log([gd, 'removed!']);\n            Plotly.purge(gd);\n            observer.disconnect();\n        }}\n}});\n\n// Listen for the removal of the full notebook cells\nvar notebookContainer = gd.closest('#notebook-container');\nif (notebookContainer) {{\n    x.observe(notebookContainer, {childList: true});\n}}\n\n// Listen for the clearing of the current output cell\nvar outputEl = gd.closest('.output');\nif (outputEl) {{\n    x.observe(outputEl, {childList: true});\n}}\n\n                        })                };                });            </script>        </div>"
     },
     "metadata": {},
     "output_type": "display_data"
    }
   ],
   "source": [
    "px.scatter(final_df, y='days_per_tran_SV', x='avg_tran_amt_SV', color='km_clusters')\n",
    "px.scatter(final_df, y='days_per_tran_SV', x='avg_tran_amt_SV', color='hc_clusters')\n"
   ],
   "metadata": {
    "collapsed": false,
    "pycharm": {
     "name": "#%%\n"
    }
   }
  },
  {
   "cell_type": "code",
   "execution_count": 317,
   "outputs": [
    {
     "data": {
      "application/vnd.plotly.v1+json": {
       "data": [
        {
         "hovertemplate": "hc_clusters=0<br>avg_tran_amt_CK=%{x}<br>days_per_tran_CK=%{y}<extra></extra>",
         "legendgroup": "0",
         "marker": {
          "color": "#636efa",
          "symbol": "circle"
         },
         "mode": "markers",
         "name": "0",
         "orientation": "v",
         "showlegend": true,
         "x": [
          -2.4746464646464617,
          -1.6594949494949491,
          -37.6048,
          -7.151212121212117,
          0.0,
          0.0,
          -1.072105263157893,
          0.0,
          32.6661111111111,
          -4.605194805194798,
          0.0,
          -1.1480808080808094,
          0.0,
          7.582020202020202,
          -25.970606060606052,
          -1.7405050505050523,
          -1.791818181818184,
          -15.263030303030314,
          10.39263157894737,
          -20.803750000000004,
          -2.4853535353535348,
          0.0,
          0.0,
          -1.6255555555555574,
          -27.734444444444463,
          -14.596565656565653,
          2.3858585858585872,
          0.0,
          0.0,
          0.0,
          -54.069056603773596,
          -25.98323232323233,
          0.0,
          0.0,
          0.0,
          21.408227848101266,
          -2.070505050505051,
          3.35616161616162,
          0.0,
          -24.98020202020203,
          -5.408383838383828,
          0.0,
          -8.894848484848476,
          0.0,
          -2.1880898876404498,
          -2.4443434343434363,
          0.0,
          -6.229090909090905,
          3.341010101010102,
          -3.497373737373735,
          -1.0713131313131314,
          -2.068383838383834,
          0.9460606060606046,
          -2.270707070707073,
          0.0,
          -5.850303030303031,
          0.0,
          1.9988888888888912,
          0.0,
          -2.9555952380952357,
          -1.2624242424242398,
          0.0,
          -0.75,
          0.0,
          0.0,
          -3.3476363636363637,
          -33.45494949494949,
          -4.816851851851852,
          0.0,
          1.9108695652173926,
          -2.498585858585856,
          -2.2071929824561383,
          0.0,
          -21.886730769230777,
          -0.1904040404040417,
          -44.094909090909084,
          1.9374999999999976,
          6.553737373737373,
          -1.052626262626264,
          0.0,
          -2.9101010101010085,
          4.46656565656566,
          0.0,
          0.0,
          -1.6046835443038037,
          -101.33807692307693,
          0.0,
          0.0,
          -1.5505050505050522,
          -14.720101010101017,
          0.0,
          0.0,
          0.0,
          0.0,
          0.0,
          7.331641791044777,
          -18.21325581395349,
          2.7784848484848466,
          6.19121212121212,
          0.0,
          0.0,
          0.672525252525257,
          -3.276262626262625,
          0.5527272727272767,
          3.576161616161618,
          65.33777777777777,
          0.1525641025641052,
          1.1185858585858621,
          0.4683838383838398,
          2.010606060606058,
          -11.489375,
          0.0,
          -23.47454545454546,
          -0.6439393939393933,
          0.8716666666666667,
          -8.660808080808085,
          0.0,
          -1.6859595959595977,
          -5.6048484848484765,
          0.0,
          -2.076666666666667,
          -4.7975,
          -15.056666666666668,
          -5.007575757575755,
          -8.768051948051964,
          -2.9227586206896556,
          -7.876363636363627,
          -0.13414141414141115,
          -1.3779797979797979,
          -17.070505050505055,
          -5.203548387096779,
          -1.750307692307693,
          -25.68222222222222,
          -4.3297979797979735,
          -38.48681818181817,
          -3.718499999999996,
          4.5521212121212145,
          -18.131919191919195,
          -0.42707070707070677,
          -3.268333333333333,
          0.0,
          -1.7131313131313153,
          -0.2037373737373747,
          0.0,
          0.0,
          -1.6463736263736226,
          -1.3155555555555591,
          6.8777777777777755,
          0.0,
          -18.149898989898993,
          0.31749999999999995,
          0.0,
          -4.471910112359548,
          -2.46888888888889,
          23.66434343434344,
          -20.59727272727273,
          -29.09524390243903,
          3.39919191919192,
          0.014141414141412763,
          -31.256226415094346,
          -9.784523809523808,
          -8.684747474747475,
          0.0,
          0.0,
          18.968484848484845,
          4.183636363636368,
          -7.929595959595954,
          3.3609090909090913,
          -2.1464646464646475,
          0.0,
          1.6020202020202075,
          -9.27474747474748,
          0.0,
          0.0,
          -1.7159595959595946,
          8.773434343434346,
          -0.9487878787878788,
          -1.9217171717171688,
          0.0,
          5.116825396825396,
          3.471717171717169,
          0.0,
          10.382828282828283,
          5.1716161616161616,
          0.0,
          0.0,
          -3.5465656565656554,
          -3.420879120879128,
          0.0,
          10.525454545454544,
          7.029191919191911,
          0.0,
          0.0,
          0.0,
          0.0,
          -1.0079797979797998,
          -1.3909090909090873,
          0.0,
          -0.048383838383832437,
          0.0,
          1.7743434343434334,
          0.0,
          -1.842626262626263,
          -1.6271717171717155,
          -4.062929292929289,
          -1.3662626262626278,
          0.0,
          -3.855652173913043,
          0.0,
          -1.3367676767676797,
          -10.07030303030303,
          0.0,
          1.1745454545454577,
          0.9696969696969693,
          -0.6506060606060605,
          1.2738383838383833,
          -22.820000000000007,
          10.264646464646468,
          0.0,
          -3.211010101010101,
          1.721919191919187,
          0.0,
          -0.75,
          -9.171076923076926,
          0.0,
          37.137474747474755,
          0.0,
          0.03353535353535368,
          -2.0033333333333316,
          -15.659797979797979,
          -22.58484848484849,
          1.0209090909090923,
          0.0633333333333355,
          0.0,
          2.9410204081632645,
          0.0,
          10.18767857142858,
          0.26457446808510304,
          0.0,
          0.382525252525252,
          0.8244444444444451,
          0.0,
          -10.113232323232324,
          -1.0094949494949492,
          -2.690707070707072,
          4.8823232323232375,
          16.41848484848484,
          -0.11075757575757701,
          -5.164912280701753,
          7.542727272727273,
          0.24272727272727337,
          6.158035714285718,
          14.389494949494944,
          -11.212424242424246,
          -2.6977777777777763,
          0.0,
          -0.7120202020202021,
          0.0,
          11.883131313131313,
          58.172000000000004,
          0.0,
          19.86555555555556,
          0.0,
          13.231919191919197,
          0.9667676767676759,
          -0.5941414141414113,
          0.0,
          0.0,
          0.0,
          -1.298686868686862,
          0.0,
          0.0,
          0.0,
          0.0,
          -4.273999999999999,
          -2.405858585858585,
          0.0,
          5.0378947368421025,
          0.0,
          -8.600808080808081,
          -1.348787878787878,
          0.0,
          1.7571111111111182,
          20.59545454545454,
          0.0,
          -2.9274747474747445,
          5.953030303030302,
          -7.808205128205129,
          0.0,
          -1.3494949494949506,
          9.760303030303032,
          -12.863170731707319,
          0.0,
          -1.959191919191919,
          0.0,
          0.0,
          -5.769191919191917,
          -8.151428571428573,
          -0.75,
          -16.905858585858592,
          0.0,
          -7.646440677966099,
          0.0,
          0.0,
          -22.477499999999996,
          -1.14,
          -40.67780487804878,
          -7.412727272727272,
          0.0,
          -0.8875757575757572,
          -3.887540983606559,
          4.246161616161616,
          -5.663838383838383,
          -0.18636363636363826,
          0.0,
          1.2762626262626187,
          0.0,
          -1.10959595959596,
          -35.068444444444445,
          -4.571323529411764,
          0.0,
          -0.03050505050504659,
          -21.70000000000001,
          -3.5957446808510642,
          -0.012020202020202571,
          -3.302727272727268,
          0.0,
          -3.3736363636363627,
          0.0,
          0.0,
          -10.367916666666666,
          -3.4925252525252497,
          0.6653424657534258,
          -12.862626262626268,
          -3.0260714285714294,
          0.0,
          4.473939393939395,
          0.6577777777777821,
          -31.71243902439025,
          -24.54588235294117,
          -0.36474747474747604,
          0.0,
          -74.53,
          0.0,
          0.0,
          -0.4163636363636375,
          -3.804949494949492,
          0.0,
          -1.8689898989899016,
          0.0,
          -116.38038461538463,
          -12.69555555555556,
          6.565252525252524,
          8.292424242424241,
          -1.504242424242428,
          0.0,
          0.0,
          -3.4162626262626237,
          -29.543939393939397,
          0.0,
          -4.650707070707069,
          6.2308080808080835,
          -19.122727272727282,
          2.246666666666666,
          19.466565656565656,
          -4.042323232323228,
          -1.9527272727272724,
          4.501720430107532,
          -2.4405050505050516,
          0.0,
          -3.0467307692307717,
          0.0,
          -26.052929292929285,
          -1.9429292929292916,
          0.0,
          -1.7795959595959612,
          -4.810303030303035,
          9.109090909090906,
          -2.0104040404040413,
          -18.684040404040406,
          -1.7836363636363595,
          -1.849696969696971,
          0.0,
          -0.05525252525252255,
          -0.5463736263736226,
          -1.0427272727272696,
          5.3081818181818194,
          0.0,
          7.608181818181819,
          0.0,
          0.0,
          -3.4989090909090903,
          -25.288080808080807,
          -2.9142424242424223,
          -14.906868686868703,
          -2.2070707070707063,
          -2.863838383838385,
          -1.21030303030303,
          -24.742020202020196,
          6.556923076923076,
          0.0,
          -1.6128282828282805,
          -18.273434343434346,
          8.395656565656557,
          -0.15109589041096008,
          -0.12969696969697303,
          25.648888888888887,
          40.7187755102041,
          8.132881355932211,
          -13.617878787878785,
          0.0,
          -2.1882828282828295,
          -1.522828282828283,
          -1.029191919191921,
          0.0,
          0.0,
          -2.1227272727272766,
          0.0,
          -0.9042424242424257,
          20.52878787878788,
          0.0,
          0.0,
          -4.435555555555557,
          -10.064242424242423,
          0.0,
          -10.008080808080813,
          0.0,
          0.0,
          -6.245526315789473,
          -1.1007070707070692,
          0.0,
          -11.614848484848489,
          0.0,
          0.0,
          7.905353535353532,
          -2.1697979797979787,
          -0.29707070707070726,
          0.0,
          -10.444444444444445,
          -7.276464646464659,
          15.393131313131313,
          5.69979797979798,
          1.0749494949494949,
          -1.6643434343434351,
          0.0,
          -0.10060606060606106,
          -8.63252525252524,
          -2.092959183673471,
          -17.232121212121218,
          0.0,
          -33.26474999999999,
          0.6666666666666713,
          -8.781616161616162,
          0.37000000000000005,
          -16.969506172839495,
          -1.6987878787878767,
          1.179797979797979,
          0.4033333333333334,
          -7.03434343434343,
          -0.9810101010100998,
          0.0,
          12.541616161616165,
          -0.1318181818181922,
          1.0288888888888879,
          -13.560625000000002,
          -22.134949494949492,
          0.0,
          15.3827868852459,
          -2.8622222222222184,
          0.0,
          -3.2737499999999997,
          -15.437936507936511,
          0.0,
          0.0,
          1.083535353535352,
          -23.01454545454547,
          -0.5072727272727279,
          -2.696565656565655,
          -1.7840404040404052,
          0.0,
          2.6172727272727268,
          -23.918282828282837,
          0.0,
          0.0,
          0.0,
          0.0,
          -12.570404040404055
         ],
         "xaxis": "x",
         "y": [
          0.0,
          0.0,
          14.0,
          2.0,
          0.0,
          0.0,
          5.0,
          0.0,
          1.0,
          4.0,
          0.0,
          2.0,
          0.0,
          1.0,
          0.0,
          0.0,
          0.0,
          2.0,
          0.0,
          13.0,
          0.0,
          0.0,
          0.0,
          0.0,
          1.0,
          1.0,
          0.0,
          0.0,
          0.0,
          0.0,
          6.0,
          0.0,
          0.0,
          0.0,
          0.0,
          1.0,
          2.0,
          0.0,
          0.0,
          3.0,
          0.0,
          0.0,
          1.0,
          0.0,
          0.0,
          0.0,
          0.0,
          2.0,
          0.0,
          1.0,
          0.0,
          0.0,
          0.0,
          0.0,
          0.0,
          1.0,
          0.0,
          0.0,
          0.0,
          4.0,
          0.0,
          0.0,
          45.0,
          0.0,
          0.0,
          6.0,
          3.0,
          0.0,
          0.0,
          5.0,
          0.0,
          5.0,
          0.0,
          7.0,
          0.0,
          6.0,
          9.0,
          0.0,
          0.0,
          0.0,
          2.0,
          0.0,
          0.0,
          0.0,
          4.0,
          12.0,
          0.0,
          0.0,
          2.0,
          2.0,
          0.0,
          0.0,
          0.0,
          0.0,
          0.0,
          0.0,
          8.0,
          0.0,
          1.0,
          0.0,
          0.0,
          0.0,
          3.0,
          0.0,
          0.0,
          12.0,
          9.0,
          0.0,
          0.0,
          0.0,
          10.0,
          0.0,
          0.0,
          2.0,
          27.0,
          0.0,
          0.0,
          0.0,
          1.0,
          0.0,
          0.0,
          7.0,
          6.0,
          1.0,
          1.0,
          11.0,
          1.0,
          1.0,
          0.0,
          0.0,
          3.0,
          4.0,
          3.0,
          0.0,
          5.0,
          4.0,
          2.0,
          0.0,
          0.0,
          13.0,
          0.0,
          0.0,
          0.0,
          0.0,
          0.0,
          1.0,
          1.0,
          0.0,
          0.0,
          0.0,
          27.0,
          0.0,
          3.0,
          0.0,
          0.0,
          3.0,
          4.0,
          0.0,
          2.0,
          6.0,
          8.0,
          0.0,
          0.0,
          0.0,
          1.0,
          0.0,
          2.0,
          5.0,
          0.0,
          0.0,
          0.0,
          1.0,
          0.0,
          0.0,
          0.0,
          2.0,
          0.0,
          1.0,
          0.0,
          3.0,
          2.0,
          0.0,
          1.0,
          1.0,
          0.0,
          0.0,
          1.0,
          3.0,
          0.0,
          0.0,
          0.0,
          0.0,
          0.0,
          0.0,
          0.0,
          0.0,
          3.0,
          0.0,
          1.0,
          0.0,
          3.0,
          0.0,
          0.0,
          0.0,
          1.0,
          0.0,
          0.0,
          5.0,
          0.0,
          0.0,
          2.0,
          0.0,
          0.0,
          1.0,
          3.0,
          0.0,
          1.0,
          1.0,
          0.0,
          0.0,
          2.0,
          0.0,
          0.0,
          5.0,
          0.0,
          0.0,
          0.0,
          0.0,
          0.0,
          3.0,
          0.0,
          0.0,
          0.0,
          0.0,
          7.0,
          0.0,
          5.0,
          0.0,
          0.0,
          0.0,
          0.0,
          0.0,
          0.0,
          1.0,
          1.0,
          1.0,
          0.0,
          5.0,
          5.0,
          0.0,
          0.0,
          6.0,
          1.0,
          2.0,
          1.0,
          0.0,
          2.0,
          0.0,
          0.0,
          21.0,
          0.0,
          0.0,
          0.0,
          0.0,
          0.0,
          1.0,
          0.0,
          0.0,
          0.0,
          0.0,
          0.0,
          0.0,
          0.0,
          0.0,
          0.0,
          2.0,
          0.0,
          17.0,
          0.0,
          3.0,
          0.0,
          0.0,
          6.0,
          1.0,
          0.0,
          1.0,
          1.0,
          8.0,
          0.0,
          0.0,
          1.0,
          0.0,
          0.0,
          1.0,
          0.0,
          0.0,
          0.0,
          1.0,
          46.0,
          2.0,
          0.0,
          6.0,
          0.0,
          0.0,
          11.0,
          0.0,
          8.0,
          15.0,
          0.0,
          2.0,
          5.0,
          0.0,
          1.0,
          0.0,
          0.0,
          0.0,
          0.0,
          0.0,
          7.0,
          5.0,
          0.0,
          0.0,
          0.0,
          6.0,
          0.0,
          0.0,
          0.0,
          0.0,
          0.0,
          0.0,
          3.0,
          2.0,
          4.0,
          0.0,
          6.0,
          0.0,
          0.0,
          0.0,
          6.0,
          12.0,
          1.0,
          0.0,
          2.0,
          0.0,
          0.0,
          0.0,
          2.0,
          0.0,
          0.0,
          0.0,
          13.0,
          0.0,
          0.0,
          3.0,
          0.0,
          0.0,
          0.0,
          1.0,
          0.0,
          0.0,
          0.0,
          0.0,
          0.0,
          0.0,
          0.0,
          0.0,
          1.0,
          0.0,
          1.0,
          0.0,
          2.0,
          0.0,
          0.0,
          0.0,
          0.0,
          0.0,
          0.0,
          0.0,
          0.0,
          0.0,
          2.0,
          0.0,
          0.0,
          0.0,
          3.0,
          1.0,
          1.0,
          0.0,
          1.0,
          0.0,
          0.0,
          6.0,
          0.0,
          0.0,
          1.0,
          0.0,
          0.0,
          0.0,
          1.0,
          25.0,
          0.0,
          3.0,
          2.0,
          1.0,
          4.0,
          1.0,
          0.0,
          3.0,
          4.0,
          1.0,
          0.0,
          0.0,
          0.0,
          0.0,
          0.0,
          0.0,
          0.0,
          0.0,
          0.0,
          1.0,
          0.0,
          0.0,
          0.0,
          0.0,
          0.0,
          0.0,
          0.0,
          0.0,
          8.0,
          0.0,
          0.0,
          1.0,
          0.0,
          0.0,
          0.0,
          0.0,
          0.0,
          0.0,
          2.0,
          0.0,
          0.0,
          0.0,
          1.0,
          0.0,
          0.0,
          1.0,
          3.0,
          0.0,
          1.0,
          0.0,
          8.0,
          2.0,
          0.0,
          27.0,
          4.0,
          0.0,
          0.0,
          1.0,
          1.0,
          0.0,
          0.0,
          0.0,
          2.0,
          1.0,
          14.0,
          1.0,
          0.0,
          4.0,
          0.0,
          0.0,
          13.0,
          5.0,
          0.0,
          0.0,
          0.0,
          1.0,
          0.0,
          0.0,
          0.0,
          0.0,
          0.0,
          1.0,
          0.0,
          0.0,
          0.0,
          0.0,
          3.0
         ],
         "yaxis": "y",
         "type": "scatter"
        },
        {
         "hovertemplate": "hc_clusters=2<br>avg_tran_amt_CK=%{x}<br>days_per_tran_CK=%{y}<extra></extra>",
         "legendgroup": "2",
         "marker": {
          "color": "#EF553B",
          "symbol": "circle"
         },
         "mode": "markers",
         "name": "2",
         "orientation": "v",
         "showlegend": true,
         "x": [
          -25.435757575757577,
          -26.513269230769236,
          -41.540606060606045,
          -45.64060606060607,
          -16.564949494949495,
          -27.25968421052632,
          -53.526969696969715,
          -34.613131313131305,
          -20.179393939393947,
          -55.373838383838375,
          -40.932525252525274,
          -42.894747474747476,
          -24.337676767676772,
          -22.504141414141408,
          -24.707714285714285,
          -24.950000000000003,
          -39.873939393939395,
          -40.095353535353524,
          -21.380404040404045,
          -91.97689189189188,
          -38.22020202020204,
          -25.731717171717175,
          -40.30838383838385,
          -31.39703703703703,
          -38.50151515151516,
          -26.789090909090902,
          -52.68882352941176,
          -68.4269696969697,
          -40.31020202020202,
          -26.84121212121211,
          -25.367272727272724,
          -26.159898989898984,
          -22.980202020202018,
          -56.59630769230769,
          -30.612929292929284,
          -19.579898989898982,
          -39.38343434343435,
          -27.016666666666673,
          -62.09434343434343,
          -35.77626262626262,
          -34.353232323232334,
          -20.890303030303038,
          -55.764343434343424,
          -38.4509090909091,
          -27.452222222222222,
          -21.931212121212123,
          -105.5250877192982,
          -69.75909090909083,
          -41.58878787878787,
          -27.27666666666667,
          -64.18656565656565,
          -34.42464646464645,
          -23.753333333333323,
          -23.446060606060605,
          -19.812929292929294,
          -41.9529292929293,
          -19.794848484848487,
          -24.855151515151523,
          -25.780202020202022,
          -107.69684210526317,
          -22.901313131313128,
          -28.899807692307693,
          -64.88838383838386,
          -35.923434343434366,
          -17.911010101010092,
          -54.72010101010102,
          -27.28737373737373,
          -33.008139534883725,
          -32.422250000000005,
          -42.544646464646455,
          -49.27646464646465,
          -31.85868686868687,
          -26.902222222222218,
          -52.55050505050508,
          -21.497474747474737,
          -32.126060606060605,
          -19.244646464646454,
          -68.24818181818182,
          -26.87525252525253,
          -32.775555555555556,
          -22.214747474747472,
          -41.26909090909092,
          -18.81595959595959,
          -59.650975609756074,
          -76.42444444444445,
          -25.73494949494951,
          -32.93484848484848,
          -24.226262626262628,
          -37.544343434343425,
          -36.22939393939395,
          -27.152323232323223,
          -26.50141414141413,
          -34.79242424242425,
          -64.6449494949495,
          -24.56040404040404,
          -27.053838383838375,
          -50.29563829787234,
          -25.903636363636352,
          -28.857171717171713,
          -25.40232323232323,
          -22.598282828282837,
          -69.8310101010101,
          -56.096060606060625,
          -25.911616161616177,
          -26.426868686868694,
          -54.742222222222225,
          -24.32111111111111,
          -50.551212121212146,
          -25.98050505050505,
          -59.40727272727274,
          -18.638383838383845,
          -25.641313131313137,
          -18.656060606060617,
          -19.402525252525262,
          -41.509090909090915,
          -25.738989898989903,
          -24.566161616161622,
          -43.416969696969694,
          -31.90292929292929,
          -20.900404040404045,
          -49.66171717171716,
          -18.386666666666695,
          -20.749393939393943,
          -38.665252525252534,
          -24.889999999999997,
          -28.464949494949483,
          -24.97575757575758,
          -38.78717171717173,
          -73.6382828282828,
          -53.81070707070708,
          -27.77767676767677,
          -38.29227272727272,
          -23.97333333333334,
          -42.01282828282825,
          -73.87282828282825,
          -34.48758241758241,
          -34.52959595959597,
          -50.303030303030305,
          -26.867474747474745,
          -36.65464646464646,
          -47.24707070707068,
          -27.61171717171717,
          -26.10767676767676,
          -23.029696969696964,
          -22.933333333333326,
          -26.626464646464648,
          -25.08212121212121,
          -33.17999999999999,
          -44.653939393939375,
          -60.59711864406779,
          -27.23676767676768,
          -25.72373737373738,
          -53.75535353535352,
          -22.99555555555557,
          -22.355050505050503,
          -36.14484848484849,
          -19.398989898989903,
          -41.38898989898989,
          -26.76686868686868,
          -20.590101010101034,
          -41.11050505050504,
          -24.513232323232327
         ],
         "xaxis": "x",
         "y": [
          0.0,
          6.0,
          3.0,
          2.0,
          2.0,
          3.0,
          1.0,
          0.0,
          2.0,
          1.0,
          3.0,
          0.0,
          2.0,
          0.0,
          4.0,
          0.0,
          2.0,
          1.0,
          0.0,
          0.0,
          2.0,
          0.0,
          0.0,
          4.0,
          1.0,
          0.0,
          4.0,
          0.0,
          0.0,
          2.0,
          1.0,
          0.0,
          1.0,
          5.0,
          0.0,
          1.0,
          2.0,
          3.0,
          0.0,
          0.0,
          1.0,
          1.0,
          2.0,
          0.0,
          2.0,
          0.0,
          6.0,
          2.0,
          0.0,
          2.0,
          1.0,
          2.0,
          0.0,
          0.0,
          0.0,
          2.0,
          0.0,
          1.0,
          0.0,
          2.0,
          3.0,
          6.0,
          2.0,
          1.0,
          2.0,
          1.0,
          3.0,
          7.0,
          4.0,
          2.0,
          0.0,
          1.0,
          2.0,
          3.0,
          0.0,
          2.0,
          0.0,
          0.0,
          0.0,
          9.0,
          0.0,
          1.0,
          3.0,
          4.0,
          7.0,
          0.0,
          2.0,
          0.0,
          0.0,
          1.0,
          1.0,
          0.0,
          2.0,
          1.0,
          2.0,
          0.0,
          3.0,
          2.0,
          1.0,
          1.0,
          0.0,
          0.0,
          1.0,
          3.0,
          0.0,
          2.0,
          2.0,
          0.0,
          2.0,
          0.0,
          1.0,
          3.0,
          1.0,
          1.0,
          0.0,
          1.0,
          1.0,
          0.0,
          0.0,
          1.0,
          2.0,
          0.0,
          2.0,
          3.0,
          3.0,
          3.0,
          1.0,
          2.0,
          0.0,
          2.0,
          0.0,
          8.0,
          1.0,
          0.0,
          1.0,
          3.0,
          0.0,
          0.0,
          3.0,
          0.0,
          0.0,
          1.0,
          1.0,
          0.0,
          3.0,
          1.0,
          3.0,
          0.0,
          1.0,
          6.0,
          3.0,
          3.0,
          1.0,
          1.0,
          1.0,
          0.0,
          0.0,
          0.0,
          2.0,
          0.0,
          2.0,
          2.0
         ],
         "yaxis": "y",
         "type": "scatter"
        },
        {
         "hovertemplate": "hc_clusters=1<br>avg_tran_amt_CK=%{x}<br>days_per_tran_CK=%{y}<extra></extra>",
         "legendgroup": "1",
         "marker": {
          "color": "#00cc96",
          "symbol": "circle"
         },
         "mode": "markers",
         "name": "1",
         "orientation": "v",
         "showlegend": true,
         "x": [
          -91.95464646464647,
          -54.89585858585859,
          -174.5157575757575,
          -98.93191919191918,
          -77.15505050505048,
          -140.26898989898993,
          -89.42060606060608,
          -112.2738383838384,
          -97.29090909090908,
          -124.96909090909094,
          -75.02636363636366,
          -101.50171717171712,
          -110.31767676767677,
          -74.5086868686869,
          -110.269898989899
         ],
         "xaxis": "x",
         "y": [
          1.0,
          2.0,
          0.0,
          2.0,
          1.0,
          0.0,
          0.0,
          1.0,
          3.0,
          1.0,
          3.0,
          2.0,
          3.0,
          0.0,
          3.0
         ],
         "yaxis": "y",
         "type": "scatter"
        }
       ],
       "layout": {
        "template": {
         "data": {
          "bar": [
           {
            "error_x": {
             "color": "#f2f5fa"
            },
            "error_y": {
             "color": "#f2f5fa"
            },
            "marker": {
             "line": {
              "color": "rgb(17,17,17)",
              "width": 0.5
             },
             "pattern": {
              "fillmode": "overlay",
              "size": 10,
              "solidity": 0.2
             }
            },
            "type": "bar"
           }
          ],
          "barpolar": [
           {
            "marker": {
             "line": {
              "color": "rgb(17,17,17)",
              "width": 0.5
             },
             "pattern": {
              "fillmode": "overlay",
              "size": 10,
              "solidity": 0.2
             }
            },
            "type": "barpolar"
           }
          ],
          "carpet": [
           {
            "aaxis": {
             "endlinecolor": "#A2B1C6",
             "gridcolor": "#506784",
             "linecolor": "#506784",
             "minorgridcolor": "#506784",
             "startlinecolor": "#A2B1C6"
            },
            "baxis": {
             "endlinecolor": "#A2B1C6",
             "gridcolor": "#506784",
             "linecolor": "#506784",
             "minorgridcolor": "#506784",
             "startlinecolor": "#A2B1C6"
            },
            "type": "carpet"
           }
          ],
          "choropleth": [
           {
            "colorbar": {
             "outlinewidth": 0,
             "ticks": ""
            },
            "type": "choropleth"
           }
          ],
          "contour": [
           {
            "colorbar": {
             "outlinewidth": 0,
             "ticks": ""
            },
            "colorscale": [
             [
              0.0,
              "#0d0887"
             ],
             [
              0.1111111111111111,
              "#46039f"
             ],
             [
              0.2222222222222222,
              "#7201a8"
             ],
             [
              0.3333333333333333,
              "#9c179e"
             ],
             [
              0.4444444444444444,
              "#bd3786"
             ],
             [
              0.5555555555555556,
              "#d8576b"
             ],
             [
              0.6666666666666666,
              "#ed7953"
             ],
             [
              0.7777777777777778,
              "#fb9f3a"
             ],
             [
              0.8888888888888888,
              "#fdca26"
             ],
             [
              1.0,
              "#f0f921"
             ]
            ],
            "type": "contour"
           }
          ],
          "contourcarpet": [
           {
            "colorbar": {
             "outlinewidth": 0,
             "ticks": ""
            },
            "type": "contourcarpet"
           }
          ],
          "heatmap": [
           {
            "colorbar": {
             "outlinewidth": 0,
             "ticks": ""
            },
            "colorscale": [
             [
              0.0,
              "#0d0887"
             ],
             [
              0.1111111111111111,
              "#46039f"
             ],
             [
              0.2222222222222222,
              "#7201a8"
             ],
             [
              0.3333333333333333,
              "#9c179e"
             ],
             [
              0.4444444444444444,
              "#bd3786"
             ],
             [
              0.5555555555555556,
              "#d8576b"
             ],
             [
              0.6666666666666666,
              "#ed7953"
             ],
             [
              0.7777777777777778,
              "#fb9f3a"
             ],
             [
              0.8888888888888888,
              "#fdca26"
             ],
             [
              1.0,
              "#f0f921"
             ]
            ],
            "type": "heatmap"
           }
          ],
          "heatmapgl": [
           {
            "colorbar": {
             "outlinewidth": 0,
             "ticks": ""
            },
            "colorscale": [
             [
              0.0,
              "#0d0887"
             ],
             [
              0.1111111111111111,
              "#46039f"
             ],
             [
              0.2222222222222222,
              "#7201a8"
             ],
             [
              0.3333333333333333,
              "#9c179e"
             ],
             [
              0.4444444444444444,
              "#bd3786"
             ],
             [
              0.5555555555555556,
              "#d8576b"
             ],
             [
              0.6666666666666666,
              "#ed7953"
             ],
             [
              0.7777777777777778,
              "#fb9f3a"
             ],
             [
              0.8888888888888888,
              "#fdca26"
             ],
             [
              1.0,
              "#f0f921"
             ]
            ],
            "type": "heatmapgl"
           }
          ],
          "histogram": [
           {
            "marker": {
             "pattern": {
              "fillmode": "overlay",
              "size": 10,
              "solidity": 0.2
             }
            },
            "type": "histogram"
           }
          ],
          "histogram2d": [
           {
            "colorbar": {
             "outlinewidth": 0,
             "ticks": ""
            },
            "colorscale": [
             [
              0.0,
              "#0d0887"
             ],
             [
              0.1111111111111111,
              "#46039f"
             ],
             [
              0.2222222222222222,
              "#7201a8"
             ],
             [
              0.3333333333333333,
              "#9c179e"
             ],
             [
              0.4444444444444444,
              "#bd3786"
             ],
             [
              0.5555555555555556,
              "#d8576b"
             ],
             [
              0.6666666666666666,
              "#ed7953"
             ],
             [
              0.7777777777777778,
              "#fb9f3a"
             ],
             [
              0.8888888888888888,
              "#fdca26"
             ],
             [
              1.0,
              "#f0f921"
             ]
            ],
            "type": "histogram2d"
           }
          ],
          "histogram2dcontour": [
           {
            "colorbar": {
             "outlinewidth": 0,
             "ticks": ""
            },
            "colorscale": [
             [
              0.0,
              "#0d0887"
             ],
             [
              0.1111111111111111,
              "#46039f"
             ],
             [
              0.2222222222222222,
              "#7201a8"
             ],
             [
              0.3333333333333333,
              "#9c179e"
             ],
             [
              0.4444444444444444,
              "#bd3786"
             ],
             [
              0.5555555555555556,
              "#d8576b"
             ],
             [
              0.6666666666666666,
              "#ed7953"
             ],
             [
              0.7777777777777778,
              "#fb9f3a"
             ],
             [
              0.8888888888888888,
              "#fdca26"
             ],
             [
              1.0,
              "#f0f921"
             ]
            ],
            "type": "histogram2dcontour"
           }
          ],
          "mesh3d": [
           {
            "colorbar": {
             "outlinewidth": 0,
             "ticks": ""
            },
            "type": "mesh3d"
           }
          ],
          "parcoords": [
           {
            "line": {
             "colorbar": {
              "outlinewidth": 0,
              "ticks": ""
             }
            },
            "type": "parcoords"
           }
          ],
          "pie": [
           {
            "automargin": true,
            "type": "pie"
           }
          ],
          "scatter": [
           {
            "marker": {
             "line": {
              "color": "#283442"
             }
            },
            "type": "scatter"
           }
          ],
          "scatter3d": [
           {
            "line": {
             "colorbar": {
              "outlinewidth": 0,
              "ticks": ""
             }
            },
            "marker": {
             "colorbar": {
              "outlinewidth": 0,
              "ticks": ""
             }
            },
            "type": "scatter3d"
           }
          ],
          "scattercarpet": [
           {
            "marker": {
             "colorbar": {
              "outlinewidth": 0,
              "ticks": ""
             }
            },
            "type": "scattercarpet"
           }
          ],
          "scattergeo": [
           {
            "marker": {
             "colorbar": {
              "outlinewidth": 0,
              "ticks": ""
             }
            },
            "type": "scattergeo"
           }
          ],
          "scattergl": [
           {
            "marker": {
             "line": {
              "color": "#283442"
             }
            },
            "type": "scattergl"
           }
          ],
          "scattermapbox": [
           {
            "marker": {
             "colorbar": {
              "outlinewidth": 0,
              "ticks": ""
             }
            },
            "type": "scattermapbox"
           }
          ],
          "scatterpolar": [
           {
            "marker": {
             "colorbar": {
              "outlinewidth": 0,
              "ticks": ""
             }
            },
            "type": "scatterpolar"
           }
          ],
          "scatterpolargl": [
           {
            "marker": {
             "colorbar": {
              "outlinewidth": 0,
              "ticks": ""
             }
            },
            "type": "scatterpolargl"
           }
          ],
          "scatterternary": [
           {
            "marker": {
             "colorbar": {
              "outlinewidth": 0,
              "ticks": ""
             }
            },
            "type": "scatterternary"
           }
          ],
          "surface": [
           {
            "colorbar": {
             "outlinewidth": 0,
             "ticks": ""
            },
            "colorscale": [
             [
              0.0,
              "#0d0887"
             ],
             [
              0.1111111111111111,
              "#46039f"
             ],
             [
              0.2222222222222222,
              "#7201a8"
             ],
             [
              0.3333333333333333,
              "#9c179e"
             ],
             [
              0.4444444444444444,
              "#bd3786"
             ],
             [
              0.5555555555555556,
              "#d8576b"
             ],
             [
              0.6666666666666666,
              "#ed7953"
             ],
             [
              0.7777777777777778,
              "#fb9f3a"
             ],
             [
              0.8888888888888888,
              "#fdca26"
             ],
             [
              1.0,
              "#f0f921"
             ]
            ],
            "type": "surface"
           }
          ],
          "table": [
           {
            "cells": {
             "fill": {
              "color": "#506784"
             },
             "line": {
              "color": "rgb(17,17,17)"
             }
            },
            "header": {
             "fill": {
              "color": "#2a3f5f"
             },
             "line": {
              "color": "rgb(17,17,17)"
             }
            },
            "type": "table"
           }
          ]
         },
         "layout": {
          "annotationdefaults": {
           "arrowcolor": "#f2f5fa",
           "arrowhead": 0,
           "arrowwidth": 1
          },
          "autotypenumbers": "strict",
          "coloraxis": {
           "colorbar": {
            "outlinewidth": 0,
            "ticks": ""
           }
          },
          "colorscale": {
           "diverging": [
            [
             0,
             "#8e0152"
            ],
            [
             0.1,
             "#c51b7d"
            ],
            [
             0.2,
             "#de77ae"
            ],
            [
             0.3,
             "#f1b6da"
            ],
            [
             0.4,
             "#fde0ef"
            ],
            [
             0.5,
             "#f7f7f7"
            ],
            [
             0.6,
             "#e6f5d0"
            ],
            [
             0.7,
             "#b8e186"
            ],
            [
             0.8,
             "#7fbc41"
            ],
            [
             0.9,
             "#4d9221"
            ],
            [
             1,
             "#276419"
            ]
           ],
           "sequential": [
            [
             0.0,
             "#0d0887"
            ],
            [
             0.1111111111111111,
             "#46039f"
            ],
            [
             0.2222222222222222,
             "#7201a8"
            ],
            [
             0.3333333333333333,
             "#9c179e"
            ],
            [
             0.4444444444444444,
             "#bd3786"
            ],
            [
             0.5555555555555556,
             "#d8576b"
            ],
            [
             0.6666666666666666,
             "#ed7953"
            ],
            [
             0.7777777777777778,
             "#fb9f3a"
            ],
            [
             0.8888888888888888,
             "#fdca26"
            ],
            [
             1.0,
             "#f0f921"
            ]
           ],
           "sequentialminus": [
            [
             0.0,
             "#0d0887"
            ],
            [
             0.1111111111111111,
             "#46039f"
            ],
            [
             0.2222222222222222,
             "#7201a8"
            ],
            [
             0.3333333333333333,
             "#9c179e"
            ],
            [
             0.4444444444444444,
             "#bd3786"
            ],
            [
             0.5555555555555556,
             "#d8576b"
            ],
            [
             0.6666666666666666,
             "#ed7953"
            ],
            [
             0.7777777777777778,
             "#fb9f3a"
            ],
            [
             0.8888888888888888,
             "#fdca26"
            ],
            [
             1.0,
             "#f0f921"
            ]
           ]
          },
          "colorway": [
           "#636efa",
           "#EF553B",
           "#00cc96",
           "#ab63fa",
           "#FFA15A",
           "#19d3f3",
           "#FF6692",
           "#B6E880",
           "#FF97FF",
           "#FECB52"
          ],
          "font": {
           "color": "#f2f5fa"
          },
          "geo": {
           "bgcolor": "rgb(17,17,17)",
           "lakecolor": "rgb(17,17,17)",
           "landcolor": "rgb(17,17,17)",
           "showlakes": true,
           "showland": true,
           "subunitcolor": "#506784"
          },
          "hoverlabel": {
           "align": "left"
          },
          "hovermode": "closest",
          "mapbox": {
           "style": "dark"
          },
          "paper_bgcolor": "rgb(17,17,17)",
          "plot_bgcolor": "rgb(17,17,17)",
          "polar": {
           "angularaxis": {
            "gridcolor": "#506784",
            "linecolor": "#506784",
            "ticks": ""
           },
           "bgcolor": "rgb(17,17,17)",
           "radialaxis": {
            "gridcolor": "#506784",
            "linecolor": "#506784",
            "ticks": ""
           }
          },
          "scene": {
           "xaxis": {
            "backgroundcolor": "rgb(17,17,17)",
            "gridcolor": "#506784",
            "gridwidth": 2,
            "linecolor": "#506784",
            "showbackground": true,
            "ticks": "",
            "zerolinecolor": "#C8D4E3"
           },
           "yaxis": {
            "backgroundcolor": "rgb(17,17,17)",
            "gridcolor": "#506784",
            "gridwidth": 2,
            "linecolor": "#506784",
            "showbackground": true,
            "ticks": "",
            "zerolinecolor": "#C8D4E3"
           },
           "zaxis": {
            "backgroundcolor": "rgb(17,17,17)",
            "gridcolor": "#506784",
            "gridwidth": 2,
            "linecolor": "#506784",
            "showbackground": true,
            "ticks": "",
            "zerolinecolor": "#C8D4E3"
           }
          },
          "shapedefaults": {
           "line": {
            "color": "#f2f5fa"
           }
          },
          "sliderdefaults": {
           "bgcolor": "#C8D4E3",
           "bordercolor": "rgb(17,17,17)",
           "borderwidth": 1,
           "tickwidth": 0
          },
          "ternary": {
           "aaxis": {
            "gridcolor": "#506784",
            "linecolor": "#506784",
            "ticks": ""
           },
           "baxis": {
            "gridcolor": "#506784",
            "linecolor": "#506784",
            "ticks": ""
           },
           "bgcolor": "rgb(17,17,17)",
           "caxis": {
            "gridcolor": "#506784",
            "linecolor": "#506784",
            "ticks": ""
           }
          },
          "title": {
           "x": 0.05
          },
          "updatemenudefaults": {
           "bgcolor": "#506784",
           "borderwidth": 0
          },
          "xaxis": {
           "automargin": true,
           "gridcolor": "#283442",
           "linecolor": "#506784",
           "ticks": "",
           "title": {
            "standoff": 15
           },
           "zerolinecolor": "#283442",
           "zerolinewidth": 2
          },
          "yaxis": {
           "automargin": true,
           "gridcolor": "#283442",
           "linecolor": "#506784",
           "ticks": "",
           "title": {
            "standoff": 15
           },
           "zerolinecolor": "#283442",
           "zerolinewidth": 2
          }
         }
        },
        "xaxis": {
         "anchor": "y",
         "domain": [
          0.0,
          1.0
         ],
         "title": {
          "text": "avg_tran_amt_CK"
         }
        },
        "yaxis": {
         "anchor": "x",
         "domain": [
          0.0,
          1.0
         ],
         "title": {
          "text": "days_per_tran_CK"
         }
        },
        "legend": {
         "title": {
          "text": "hc_clusters"
         },
         "tracegroupgap": 0
        },
        "margin": {
         "t": 60
        }
       },
       "config": {
        "plotlyServerURL": "https://plot.ly"
       }
      },
      "text/html": "<div>                            <div id=\"5a02e057-eea1-4989-8397-c7706f02a317\" class=\"plotly-graph-div\" style=\"height:525px; width:100%;\"></div>            <script type=\"text/javascript\">                require([\"plotly\"], function(Plotly) {                    window.PLOTLYENV=window.PLOTLYENV || {};                                    if (document.getElementById(\"5a02e057-eea1-4989-8397-c7706f02a317\")) {                    Plotly.newPlot(                        \"5a02e057-eea1-4989-8397-c7706f02a317\",                        [{\"hovertemplate\":\"hc_clusters=0<br>avg_tran_amt_CK=%{x}<br>days_per_tran_CK=%{y}<extra></extra>\",\"legendgroup\":\"0\",\"marker\":{\"color\":\"#636efa\",\"symbol\":\"circle\"},\"mode\":\"markers\",\"name\":\"0\",\"orientation\":\"v\",\"showlegend\":true,\"x\":[-2.4746464646464617,-1.6594949494949491,-37.6048,-7.151212121212117,0.0,0.0,-1.072105263157893,0.0,32.6661111111111,-4.605194805194798,0.0,-1.1480808080808094,0.0,7.582020202020202,-25.970606060606052,-1.7405050505050523,-1.791818181818184,-15.263030303030314,10.39263157894737,-20.803750000000004,-2.4853535353535348,0.0,0.0,-1.6255555555555574,-27.734444444444463,-14.596565656565653,2.3858585858585872,0.0,0.0,0.0,-54.069056603773596,-25.98323232323233,0.0,0.0,0.0,21.408227848101266,-2.070505050505051,3.35616161616162,0.0,-24.98020202020203,-5.408383838383828,0.0,-8.894848484848476,0.0,-2.1880898876404498,-2.4443434343434363,0.0,-6.229090909090905,3.341010101010102,-3.497373737373735,-1.0713131313131314,-2.068383838383834,0.9460606060606046,-2.270707070707073,0.0,-5.850303030303031,0.0,1.9988888888888912,0.0,-2.9555952380952357,-1.2624242424242398,0.0,-0.75,0.0,0.0,-3.3476363636363637,-33.45494949494949,-4.816851851851852,0.0,1.9108695652173926,-2.498585858585856,-2.2071929824561383,0.0,-21.886730769230777,-0.1904040404040417,-44.094909090909084,1.9374999999999976,6.553737373737373,-1.052626262626264,0.0,-2.9101010101010085,4.46656565656566,0.0,0.0,-1.6046835443038037,-101.33807692307693,0.0,0.0,-1.5505050505050522,-14.720101010101017,0.0,0.0,0.0,0.0,0.0,7.331641791044777,-18.21325581395349,2.7784848484848466,6.19121212121212,0.0,0.0,0.672525252525257,-3.276262626262625,0.5527272727272767,3.576161616161618,65.33777777777777,0.1525641025641052,1.1185858585858621,0.4683838383838398,2.010606060606058,-11.489375,0.0,-23.47454545454546,-0.6439393939393933,0.8716666666666667,-8.660808080808085,0.0,-1.6859595959595977,-5.6048484848484765,0.0,-2.076666666666667,-4.7975,-15.056666666666668,-5.007575757575755,-8.768051948051964,-2.9227586206896556,-7.876363636363627,-0.13414141414141115,-1.3779797979797979,-17.070505050505055,-5.203548387096779,-1.750307692307693,-25.68222222222222,-4.3297979797979735,-38.48681818181817,-3.718499999999996,4.5521212121212145,-18.131919191919195,-0.42707070707070677,-3.268333333333333,0.0,-1.7131313131313153,-0.2037373737373747,0.0,0.0,-1.6463736263736226,-1.3155555555555591,6.8777777777777755,0.0,-18.149898989898993,0.31749999999999995,0.0,-4.471910112359548,-2.46888888888889,23.66434343434344,-20.59727272727273,-29.09524390243903,3.39919191919192,0.014141414141412763,-31.256226415094346,-9.784523809523808,-8.684747474747475,0.0,0.0,18.968484848484845,4.183636363636368,-7.929595959595954,3.3609090909090913,-2.1464646464646475,0.0,1.6020202020202075,-9.27474747474748,0.0,0.0,-1.7159595959595946,8.773434343434346,-0.9487878787878788,-1.9217171717171688,0.0,5.116825396825396,3.471717171717169,0.0,10.382828282828283,5.1716161616161616,0.0,0.0,-3.5465656565656554,-3.420879120879128,0.0,10.525454545454544,7.029191919191911,0.0,0.0,0.0,0.0,-1.0079797979797998,-1.3909090909090873,0.0,-0.048383838383832437,0.0,1.7743434343434334,0.0,-1.842626262626263,-1.6271717171717155,-4.062929292929289,-1.3662626262626278,0.0,-3.855652173913043,0.0,-1.3367676767676797,-10.07030303030303,0.0,1.1745454545454577,0.9696969696969693,-0.6506060606060605,1.2738383838383833,-22.820000000000007,10.264646464646468,0.0,-3.211010101010101,1.721919191919187,0.0,-0.75,-9.171076923076926,0.0,37.137474747474755,0.0,0.03353535353535368,-2.0033333333333316,-15.659797979797979,-22.58484848484849,1.0209090909090923,0.0633333333333355,0.0,2.9410204081632645,0.0,10.18767857142858,0.26457446808510304,0.0,0.382525252525252,0.8244444444444451,0.0,-10.113232323232324,-1.0094949494949492,-2.690707070707072,4.8823232323232375,16.41848484848484,-0.11075757575757701,-5.164912280701753,7.542727272727273,0.24272727272727337,6.158035714285718,14.389494949494944,-11.212424242424246,-2.6977777777777763,0.0,-0.7120202020202021,0.0,11.883131313131313,58.172000000000004,0.0,19.86555555555556,0.0,13.231919191919197,0.9667676767676759,-0.5941414141414113,0.0,0.0,0.0,-1.298686868686862,0.0,0.0,0.0,0.0,-4.273999999999999,-2.405858585858585,0.0,5.0378947368421025,0.0,-8.600808080808081,-1.348787878787878,0.0,1.7571111111111182,20.59545454545454,0.0,-2.9274747474747445,5.953030303030302,-7.808205128205129,0.0,-1.3494949494949506,9.760303030303032,-12.863170731707319,0.0,-1.959191919191919,0.0,0.0,-5.769191919191917,-8.151428571428573,-0.75,-16.905858585858592,0.0,-7.646440677966099,0.0,0.0,-22.477499999999996,-1.14,-40.67780487804878,-7.412727272727272,0.0,-0.8875757575757572,-3.887540983606559,4.246161616161616,-5.663838383838383,-0.18636363636363826,0.0,1.2762626262626187,0.0,-1.10959595959596,-35.068444444444445,-4.571323529411764,0.0,-0.03050505050504659,-21.70000000000001,-3.5957446808510642,-0.012020202020202571,-3.302727272727268,0.0,-3.3736363636363627,0.0,0.0,-10.367916666666666,-3.4925252525252497,0.6653424657534258,-12.862626262626268,-3.0260714285714294,0.0,4.473939393939395,0.6577777777777821,-31.71243902439025,-24.54588235294117,-0.36474747474747604,0.0,-74.53,0.0,0.0,-0.4163636363636375,-3.804949494949492,0.0,-1.8689898989899016,0.0,-116.38038461538463,-12.69555555555556,6.565252525252524,8.292424242424241,-1.504242424242428,0.0,0.0,-3.4162626262626237,-29.543939393939397,0.0,-4.650707070707069,6.2308080808080835,-19.122727272727282,2.246666666666666,19.466565656565656,-4.042323232323228,-1.9527272727272724,4.501720430107532,-2.4405050505050516,0.0,-3.0467307692307717,0.0,-26.052929292929285,-1.9429292929292916,0.0,-1.7795959595959612,-4.810303030303035,9.109090909090906,-2.0104040404040413,-18.684040404040406,-1.7836363636363595,-1.849696969696971,0.0,-0.05525252525252255,-0.5463736263736226,-1.0427272727272696,5.3081818181818194,0.0,7.608181818181819,0.0,0.0,-3.4989090909090903,-25.288080808080807,-2.9142424242424223,-14.906868686868703,-2.2070707070707063,-2.863838383838385,-1.21030303030303,-24.742020202020196,6.556923076923076,0.0,-1.6128282828282805,-18.273434343434346,8.395656565656557,-0.15109589041096008,-0.12969696969697303,25.648888888888887,40.7187755102041,8.132881355932211,-13.617878787878785,0.0,-2.1882828282828295,-1.522828282828283,-1.029191919191921,0.0,0.0,-2.1227272727272766,0.0,-0.9042424242424257,20.52878787878788,0.0,0.0,-4.435555555555557,-10.064242424242423,0.0,-10.008080808080813,0.0,0.0,-6.245526315789473,-1.1007070707070692,0.0,-11.614848484848489,0.0,0.0,7.905353535353532,-2.1697979797979787,-0.29707070707070726,0.0,-10.444444444444445,-7.276464646464659,15.393131313131313,5.69979797979798,1.0749494949494949,-1.6643434343434351,0.0,-0.10060606060606106,-8.63252525252524,-2.092959183673471,-17.232121212121218,0.0,-33.26474999999999,0.6666666666666713,-8.781616161616162,0.37000000000000005,-16.969506172839495,-1.6987878787878767,1.179797979797979,0.4033333333333334,-7.03434343434343,-0.9810101010100998,0.0,12.541616161616165,-0.1318181818181922,1.0288888888888879,-13.560625000000002,-22.134949494949492,0.0,15.3827868852459,-2.8622222222222184,0.0,-3.2737499999999997,-15.437936507936511,0.0,0.0,1.083535353535352,-23.01454545454547,-0.5072727272727279,-2.696565656565655,-1.7840404040404052,0.0,2.6172727272727268,-23.918282828282837,0.0,0.0,0.0,0.0,-12.570404040404055],\"xaxis\":\"x\",\"y\":[0.0,0.0,14.0,2.0,0.0,0.0,5.0,0.0,1.0,4.0,0.0,2.0,0.0,1.0,0.0,0.0,0.0,2.0,0.0,13.0,0.0,0.0,0.0,0.0,1.0,1.0,0.0,0.0,0.0,0.0,6.0,0.0,0.0,0.0,0.0,1.0,2.0,0.0,0.0,3.0,0.0,0.0,1.0,0.0,0.0,0.0,0.0,2.0,0.0,1.0,0.0,0.0,0.0,0.0,0.0,1.0,0.0,0.0,0.0,4.0,0.0,0.0,45.0,0.0,0.0,6.0,3.0,0.0,0.0,5.0,0.0,5.0,0.0,7.0,0.0,6.0,9.0,0.0,0.0,0.0,2.0,0.0,0.0,0.0,4.0,12.0,0.0,0.0,2.0,2.0,0.0,0.0,0.0,0.0,0.0,0.0,8.0,0.0,1.0,0.0,0.0,0.0,3.0,0.0,0.0,12.0,9.0,0.0,0.0,0.0,10.0,0.0,0.0,2.0,27.0,0.0,0.0,0.0,1.0,0.0,0.0,7.0,6.0,1.0,1.0,11.0,1.0,1.0,0.0,0.0,3.0,4.0,3.0,0.0,5.0,4.0,2.0,0.0,0.0,13.0,0.0,0.0,0.0,0.0,0.0,1.0,1.0,0.0,0.0,0.0,27.0,0.0,3.0,0.0,0.0,3.0,4.0,0.0,2.0,6.0,8.0,0.0,0.0,0.0,1.0,0.0,2.0,5.0,0.0,0.0,0.0,1.0,0.0,0.0,0.0,2.0,0.0,1.0,0.0,3.0,2.0,0.0,1.0,1.0,0.0,0.0,1.0,3.0,0.0,0.0,0.0,0.0,0.0,0.0,0.0,0.0,3.0,0.0,1.0,0.0,3.0,0.0,0.0,0.0,1.0,0.0,0.0,5.0,0.0,0.0,2.0,0.0,0.0,1.0,3.0,0.0,1.0,1.0,0.0,0.0,2.0,0.0,0.0,5.0,0.0,0.0,0.0,0.0,0.0,3.0,0.0,0.0,0.0,0.0,7.0,0.0,5.0,0.0,0.0,0.0,0.0,0.0,0.0,1.0,1.0,1.0,0.0,5.0,5.0,0.0,0.0,6.0,1.0,2.0,1.0,0.0,2.0,0.0,0.0,21.0,0.0,0.0,0.0,0.0,0.0,1.0,0.0,0.0,0.0,0.0,0.0,0.0,0.0,0.0,0.0,2.0,0.0,17.0,0.0,3.0,0.0,0.0,6.0,1.0,0.0,1.0,1.0,8.0,0.0,0.0,1.0,0.0,0.0,1.0,0.0,0.0,0.0,1.0,46.0,2.0,0.0,6.0,0.0,0.0,11.0,0.0,8.0,15.0,0.0,2.0,5.0,0.0,1.0,0.0,0.0,0.0,0.0,0.0,7.0,5.0,0.0,0.0,0.0,6.0,0.0,0.0,0.0,0.0,0.0,0.0,3.0,2.0,4.0,0.0,6.0,0.0,0.0,0.0,6.0,12.0,1.0,0.0,2.0,0.0,0.0,0.0,2.0,0.0,0.0,0.0,13.0,0.0,0.0,3.0,0.0,0.0,0.0,1.0,0.0,0.0,0.0,0.0,0.0,0.0,0.0,0.0,1.0,0.0,1.0,0.0,2.0,0.0,0.0,0.0,0.0,0.0,0.0,0.0,0.0,0.0,2.0,0.0,0.0,0.0,3.0,1.0,1.0,0.0,1.0,0.0,0.0,6.0,0.0,0.0,1.0,0.0,0.0,0.0,1.0,25.0,0.0,3.0,2.0,1.0,4.0,1.0,0.0,3.0,4.0,1.0,0.0,0.0,0.0,0.0,0.0,0.0,0.0,0.0,0.0,1.0,0.0,0.0,0.0,0.0,0.0,0.0,0.0,0.0,8.0,0.0,0.0,1.0,0.0,0.0,0.0,0.0,0.0,0.0,2.0,0.0,0.0,0.0,1.0,0.0,0.0,1.0,3.0,0.0,1.0,0.0,8.0,2.0,0.0,27.0,4.0,0.0,0.0,1.0,1.0,0.0,0.0,0.0,2.0,1.0,14.0,1.0,0.0,4.0,0.0,0.0,13.0,5.0,0.0,0.0,0.0,1.0,0.0,0.0,0.0,0.0,0.0,1.0,0.0,0.0,0.0,0.0,3.0],\"yaxis\":\"y\",\"type\":\"scatter\"},{\"hovertemplate\":\"hc_clusters=2<br>avg_tran_amt_CK=%{x}<br>days_per_tran_CK=%{y}<extra></extra>\",\"legendgroup\":\"2\",\"marker\":{\"color\":\"#EF553B\",\"symbol\":\"circle\"},\"mode\":\"markers\",\"name\":\"2\",\"orientation\":\"v\",\"showlegend\":true,\"x\":[-25.435757575757577,-26.513269230769236,-41.540606060606045,-45.64060606060607,-16.564949494949495,-27.25968421052632,-53.526969696969715,-34.613131313131305,-20.179393939393947,-55.373838383838375,-40.932525252525274,-42.894747474747476,-24.337676767676772,-22.504141414141408,-24.707714285714285,-24.950000000000003,-39.873939393939395,-40.095353535353524,-21.380404040404045,-91.97689189189188,-38.22020202020204,-25.731717171717175,-40.30838383838385,-31.39703703703703,-38.50151515151516,-26.789090909090902,-52.68882352941176,-68.4269696969697,-40.31020202020202,-26.84121212121211,-25.367272727272724,-26.159898989898984,-22.980202020202018,-56.59630769230769,-30.612929292929284,-19.579898989898982,-39.38343434343435,-27.016666666666673,-62.09434343434343,-35.77626262626262,-34.353232323232334,-20.890303030303038,-55.764343434343424,-38.4509090909091,-27.452222222222222,-21.931212121212123,-105.5250877192982,-69.75909090909083,-41.58878787878787,-27.27666666666667,-64.18656565656565,-34.42464646464645,-23.753333333333323,-23.446060606060605,-19.812929292929294,-41.9529292929293,-19.794848484848487,-24.855151515151523,-25.780202020202022,-107.69684210526317,-22.901313131313128,-28.899807692307693,-64.88838383838386,-35.923434343434366,-17.911010101010092,-54.72010101010102,-27.28737373737373,-33.008139534883725,-32.422250000000005,-42.544646464646455,-49.27646464646465,-31.85868686868687,-26.902222222222218,-52.55050505050508,-21.497474747474737,-32.126060606060605,-19.244646464646454,-68.24818181818182,-26.87525252525253,-32.775555555555556,-22.214747474747472,-41.26909090909092,-18.81595959595959,-59.650975609756074,-76.42444444444445,-25.73494949494951,-32.93484848484848,-24.226262626262628,-37.544343434343425,-36.22939393939395,-27.152323232323223,-26.50141414141413,-34.79242424242425,-64.6449494949495,-24.56040404040404,-27.053838383838375,-50.29563829787234,-25.903636363636352,-28.857171717171713,-25.40232323232323,-22.598282828282837,-69.8310101010101,-56.096060606060625,-25.911616161616177,-26.426868686868694,-54.742222222222225,-24.32111111111111,-50.551212121212146,-25.98050505050505,-59.40727272727274,-18.638383838383845,-25.641313131313137,-18.656060606060617,-19.402525252525262,-41.509090909090915,-25.738989898989903,-24.566161616161622,-43.416969696969694,-31.90292929292929,-20.900404040404045,-49.66171717171716,-18.386666666666695,-20.749393939393943,-38.665252525252534,-24.889999999999997,-28.464949494949483,-24.97575757575758,-38.78717171717173,-73.6382828282828,-53.81070707070708,-27.77767676767677,-38.29227272727272,-23.97333333333334,-42.01282828282825,-73.87282828282825,-34.48758241758241,-34.52959595959597,-50.303030303030305,-26.867474747474745,-36.65464646464646,-47.24707070707068,-27.61171717171717,-26.10767676767676,-23.029696969696964,-22.933333333333326,-26.626464646464648,-25.08212121212121,-33.17999999999999,-44.653939393939375,-60.59711864406779,-27.23676767676768,-25.72373737373738,-53.75535353535352,-22.99555555555557,-22.355050505050503,-36.14484848484849,-19.398989898989903,-41.38898989898989,-26.76686868686868,-20.590101010101034,-41.11050505050504,-24.513232323232327],\"xaxis\":\"x\",\"y\":[0.0,6.0,3.0,2.0,2.0,3.0,1.0,0.0,2.0,1.0,3.0,0.0,2.0,0.0,4.0,0.0,2.0,1.0,0.0,0.0,2.0,0.0,0.0,4.0,1.0,0.0,4.0,0.0,0.0,2.0,1.0,0.0,1.0,5.0,0.0,1.0,2.0,3.0,0.0,0.0,1.0,1.0,2.0,0.0,2.0,0.0,6.0,2.0,0.0,2.0,1.0,2.0,0.0,0.0,0.0,2.0,0.0,1.0,0.0,2.0,3.0,6.0,2.0,1.0,2.0,1.0,3.0,7.0,4.0,2.0,0.0,1.0,2.0,3.0,0.0,2.0,0.0,0.0,0.0,9.0,0.0,1.0,3.0,4.0,7.0,0.0,2.0,0.0,0.0,1.0,1.0,0.0,2.0,1.0,2.0,0.0,3.0,2.0,1.0,1.0,0.0,0.0,1.0,3.0,0.0,2.0,2.0,0.0,2.0,0.0,1.0,3.0,1.0,1.0,0.0,1.0,1.0,0.0,0.0,1.0,2.0,0.0,2.0,3.0,3.0,3.0,1.0,2.0,0.0,2.0,0.0,8.0,1.0,0.0,1.0,3.0,0.0,0.0,3.0,0.0,0.0,1.0,1.0,0.0,3.0,1.0,3.0,0.0,1.0,6.0,3.0,3.0,1.0,1.0,1.0,0.0,0.0,0.0,2.0,0.0,2.0,2.0],\"yaxis\":\"y\",\"type\":\"scatter\"},{\"hovertemplate\":\"hc_clusters=1<br>avg_tran_amt_CK=%{x}<br>days_per_tran_CK=%{y}<extra></extra>\",\"legendgroup\":\"1\",\"marker\":{\"color\":\"#00cc96\",\"symbol\":\"circle\"},\"mode\":\"markers\",\"name\":\"1\",\"orientation\":\"v\",\"showlegend\":true,\"x\":[-91.95464646464647,-54.89585858585859,-174.5157575757575,-98.93191919191918,-77.15505050505048,-140.26898989898993,-89.42060606060608,-112.2738383838384,-97.29090909090908,-124.96909090909094,-75.02636363636366,-101.50171717171712,-110.31767676767677,-74.5086868686869,-110.269898989899],\"xaxis\":\"x\",\"y\":[1.0,2.0,0.0,2.0,1.0,0.0,0.0,1.0,3.0,1.0,3.0,2.0,3.0,0.0,3.0],\"yaxis\":\"y\",\"type\":\"scatter\"}],                        {\"template\":{\"data\":{\"bar\":[{\"error_x\":{\"color\":\"#f2f5fa\"},\"error_y\":{\"color\":\"#f2f5fa\"},\"marker\":{\"line\":{\"color\":\"rgb(17,17,17)\",\"width\":0.5},\"pattern\":{\"fillmode\":\"overlay\",\"size\":10,\"solidity\":0.2}},\"type\":\"bar\"}],\"barpolar\":[{\"marker\":{\"line\":{\"color\":\"rgb(17,17,17)\",\"width\":0.5},\"pattern\":{\"fillmode\":\"overlay\",\"size\":10,\"solidity\":0.2}},\"type\":\"barpolar\"}],\"carpet\":[{\"aaxis\":{\"endlinecolor\":\"#A2B1C6\",\"gridcolor\":\"#506784\",\"linecolor\":\"#506784\",\"minorgridcolor\":\"#506784\",\"startlinecolor\":\"#A2B1C6\"},\"baxis\":{\"endlinecolor\":\"#A2B1C6\",\"gridcolor\":\"#506784\",\"linecolor\":\"#506784\",\"minorgridcolor\":\"#506784\",\"startlinecolor\":\"#A2B1C6\"},\"type\":\"carpet\"}],\"choropleth\":[{\"colorbar\":{\"outlinewidth\":0,\"ticks\":\"\"},\"type\":\"choropleth\"}],\"contour\":[{\"colorbar\":{\"outlinewidth\":0,\"ticks\":\"\"},\"colorscale\":[[0.0,\"#0d0887\"],[0.1111111111111111,\"#46039f\"],[0.2222222222222222,\"#7201a8\"],[0.3333333333333333,\"#9c179e\"],[0.4444444444444444,\"#bd3786\"],[0.5555555555555556,\"#d8576b\"],[0.6666666666666666,\"#ed7953\"],[0.7777777777777778,\"#fb9f3a\"],[0.8888888888888888,\"#fdca26\"],[1.0,\"#f0f921\"]],\"type\":\"contour\"}],\"contourcarpet\":[{\"colorbar\":{\"outlinewidth\":0,\"ticks\":\"\"},\"type\":\"contourcarpet\"}],\"heatmap\":[{\"colorbar\":{\"outlinewidth\":0,\"ticks\":\"\"},\"colorscale\":[[0.0,\"#0d0887\"],[0.1111111111111111,\"#46039f\"],[0.2222222222222222,\"#7201a8\"],[0.3333333333333333,\"#9c179e\"],[0.4444444444444444,\"#bd3786\"],[0.5555555555555556,\"#d8576b\"],[0.6666666666666666,\"#ed7953\"],[0.7777777777777778,\"#fb9f3a\"],[0.8888888888888888,\"#fdca26\"],[1.0,\"#f0f921\"]],\"type\":\"heatmap\"}],\"heatmapgl\":[{\"colorbar\":{\"outlinewidth\":0,\"ticks\":\"\"},\"colorscale\":[[0.0,\"#0d0887\"],[0.1111111111111111,\"#46039f\"],[0.2222222222222222,\"#7201a8\"],[0.3333333333333333,\"#9c179e\"],[0.4444444444444444,\"#bd3786\"],[0.5555555555555556,\"#d8576b\"],[0.6666666666666666,\"#ed7953\"],[0.7777777777777778,\"#fb9f3a\"],[0.8888888888888888,\"#fdca26\"],[1.0,\"#f0f921\"]],\"type\":\"heatmapgl\"}],\"histogram\":[{\"marker\":{\"pattern\":{\"fillmode\":\"overlay\",\"size\":10,\"solidity\":0.2}},\"type\":\"histogram\"}],\"histogram2d\":[{\"colorbar\":{\"outlinewidth\":0,\"ticks\":\"\"},\"colorscale\":[[0.0,\"#0d0887\"],[0.1111111111111111,\"#46039f\"],[0.2222222222222222,\"#7201a8\"],[0.3333333333333333,\"#9c179e\"],[0.4444444444444444,\"#bd3786\"],[0.5555555555555556,\"#d8576b\"],[0.6666666666666666,\"#ed7953\"],[0.7777777777777778,\"#fb9f3a\"],[0.8888888888888888,\"#fdca26\"],[1.0,\"#f0f921\"]],\"type\":\"histogram2d\"}],\"histogram2dcontour\":[{\"colorbar\":{\"outlinewidth\":0,\"ticks\":\"\"},\"colorscale\":[[0.0,\"#0d0887\"],[0.1111111111111111,\"#46039f\"],[0.2222222222222222,\"#7201a8\"],[0.3333333333333333,\"#9c179e\"],[0.4444444444444444,\"#bd3786\"],[0.5555555555555556,\"#d8576b\"],[0.6666666666666666,\"#ed7953\"],[0.7777777777777778,\"#fb9f3a\"],[0.8888888888888888,\"#fdca26\"],[1.0,\"#f0f921\"]],\"type\":\"histogram2dcontour\"}],\"mesh3d\":[{\"colorbar\":{\"outlinewidth\":0,\"ticks\":\"\"},\"type\":\"mesh3d\"}],\"parcoords\":[{\"line\":{\"colorbar\":{\"outlinewidth\":0,\"ticks\":\"\"}},\"type\":\"parcoords\"}],\"pie\":[{\"automargin\":true,\"type\":\"pie\"}],\"scatter\":[{\"marker\":{\"line\":{\"color\":\"#283442\"}},\"type\":\"scatter\"}],\"scatter3d\":[{\"line\":{\"colorbar\":{\"outlinewidth\":0,\"ticks\":\"\"}},\"marker\":{\"colorbar\":{\"outlinewidth\":0,\"ticks\":\"\"}},\"type\":\"scatter3d\"}],\"scattercarpet\":[{\"marker\":{\"colorbar\":{\"outlinewidth\":0,\"ticks\":\"\"}},\"type\":\"scattercarpet\"}],\"scattergeo\":[{\"marker\":{\"colorbar\":{\"outlinewidth\":0,\"ticks\":\"\"}},\"type\":\"scattergeo\"}],\"scattergl\":[{\"marker\":{\"line\":{\"color\":\"#283442\"}},\"type\":\"scattergl\"}],\"scattermapbox\":[{\"marker\":{\"colorbar\":{\"outlinewidth\":0,\"ticks\":\"\"}},\"type\":\"scattermapbox\"}],\"scatterpolar\":[{\"marker\":{\"colorbar\":{\"outlinewidth\":0,\"ticks\":\"\"}},\"type\":\"scatterpolar\"}],\"scatterpolargl\":[{\"marker\":{\"colorbar\":{\"outlinewidth\":0,\"ticks\":\"\"}},\"type\":\"scatterpolargl\"}],\"scatterternary\":[{\"marker\":{\"colorbar\":{\"outlinewidth\":0,\"ticks\":\"\"}},\"type\":\"scatterternary\"}],\"surface\":[{\"colorbar\":{\"outlinewidth\":0,\"ticks\":\"\"},\"colorscale\":[[0.0,\"#0d0887\"],[0.1111111111111111,\"#46039f\"],[0.2222222222222222,\"#7201a8\"],[0.3333333333333333,\"#9c179e\"],[0.4444444444444444,\"#bd3786\"],[0.5555555555555556,\"#d8576b\"],[0.6666666666666666,\"#ed7953\"],[0.7777777777777778,\"#fb9f3a\"],[0.8888888888888888,\"#fdca26\"],[1.0,\"#f0f921\"]],\"type\":\"surface\"}],\"table\":[{\"cells\":{\"fill\":{\"color\":\"#506784\"},\"line\":{\"color\":\"rgb(17,17,17)\"}},\"header\":{\"fill\":{\"color\":\"#2a3f5f\"},\"line\":{\"color\":\"rgb(17,17,17)\"}},\"type\":\"table\"}]},\"layout\":{\"annotationdefaults\":{\"arrowcolor\":\"#f2f5fa\",\"arrowhead\":0,\"arrowwidth\":1},\"autotypenumbers\":\"strict\",\"coloraxis\":{\"colorbar\":{\"outlinewidth\":0,\"ticks\":\"\"}},\"colorscale\":{\"diverging\":[[0,\"#8e0152\"],[0.1,\"#c51b7d\"],[0.2,\"#de77ae\"],[0.3,\"#f1b6da\"],[0.4,\"#fde0ef\"],[0.5,\"#f7f7f7\"],[0.6,\"#e6f5d0\"],[0.7,\"#b8e186\"],[0.8,\"#7fbc41\"],[0.9,\"#4d9221\"],[1,\"#276419\"]],\"sequential\":[[0.0,\"#0d0887\"],[0.1111111111111111,\"#46039f\"],[0.2222222222222222,\"#7201a8\"],[0.3333333333333333,\"#9c179e\"],[0.4444444444444444,\"#bd3786\"],[0.5555555555555556,\"#d8576b\"],[0.6666666666666666,\"#ed7953\"],[0.7777777777777778,\"#fb9f3a\"],[0.8888888888888888,\"#fdca26\"],[1.0,\"#f0f921\"]],\"sequentialminus\":[[0.0,\"#0d0887\"],[0.1111111111111111,\"#46039f\"],[0.2222222222222222,\"#7201a8\"],[0.3333333333333333,\"#9c179e\"],[0.4444444444444444,\"#bd3786\"],[0.5555555555555556,\"#d8576b\"],[0.6666666666666666,\"#ed7953\"],[0.7777777777777778,\"#fb9f3a\"],[0.8888888888888888,\"#fdca26\"],[1.0,\"#f0f921\"]]},\"colorway\":[\"#636efa\",\"#EF553B\",\"#00cc96\",\"#ab63fa\",\"#FFA15A\",\"#19d3f3\",\"#FF6692\",\"#B6E880\",\"#FF97FF\",\"#FECB52\"],\"font\":{\"color\":\"#f2f5fa\"},\"geo\":{\"bgcolor\":\"rgb(17,17,17)\",\"lakecolor\":\"rgb(17,17,17)\",\"landcolor\":\"rgb(17,17,17)\",\"showlakes\":true,\"showland\":true,\"subunitcolor\":\"#506784\"},\"hoverlabel\":{\"align\":\"left\"},\"hovermode\":\"closest\",\"mapbox\":{\"style\":\"dark\"},\"paper_bgcolor\":\"rgb(17,17,17)\",\"plot_bgcolor\":\"rgb(17,17,17)\",\"polar\":{\"angularaxis\":{\"gridcolor\":\"#506784\",\"linecolor\":\"#506784\",\"ticks\":\"\"},\"bgcolor\":\"rgb(17,17,17)\",\"radialaxis\":{\"gridcolor\":\"#506784\",\"linecolor\":\"#506784\",\"ticks\":\"\"}},\"scene\":{\"xaxis\":{\"backgroundcolor\":\"rgb(17,17,17)\",\"gridcolor\":\"#506784\",\"gridwidth\":2,\"linecolor\":\"#506784\",\"showbackground\":true,\"ticks\":\"\",\"zerolinecolor\":\"#C8D4E3\"},\"yaxis\":{\"backgroundcolor\":\"rgb(17,17,17)\",\"gridcolor\":\"#506784\",\"gridwidth\":2,\"linecolor\":\"#506784\",\"showbackground\":true,\"ticks\":\"\",\"zerolinecolor\":\"#C8D4E3\"},\"zaxis\":{\"backgroundcolor\":\"rgb(17,17,17)\",\"gridcolor\":\"#506784\",\"gridwidth\":2,\"linecolor\":\"#506784\",\"showbackground\":true,\"ticks\":\"\",\"zerolinecolor\":\"#C8D4E3\"}},\"shapedefaults\":{\"line\":{\"color\":\"#f2f5fa\"}},\"sliderdefaults\":{\"bgcolor\":\"#C8D4E3\",\"bordercolor\":\"rgb(17,17,17)\",\"borderwidth\":1,\"tickwidth\":0},\"ternary\":{\"aaxis\":{\"gridcolor\":\"#506784\",\"linecolor\":\"#506784\",\"ticks\":\"\"},\"baxis\":{\"gridcolor\":\"#506784\",\"linecolor\":\"#506784\",\"ticks\":\"\"},\"bgcolor\":\"rgb(17,17,17)\",\"caxis\":{\"gridcolor\":\"#506784\",\"linecolor\":\"#506784\",\"ticks\":\"\"}},\"title\":{\"x\":0.05},\"updatemenudefaults\":{\"bgcolor\":\"#506784\",\"borderwidth\":0},\"xaxis\":{\"automargin\":true,\"gridcolor\":\"#283442\",\"linecolor\":\"#506784\",\"ticks\":\"\",\"title\":{\"standoff\":15},\"zerolinecolor\":\"#283442\",\"zerolinewidth\":2},\"yaxis\":{\"automargin\":true,\"gridcolor\":\"#283442\",\"linecolor\":\"#506784\",\"ticks\":\"\",\"title\":{\"standoff\":15},\"zerolinecolor\":\"#283442\",\"zerolinewidth\":2}}},\"xaxis\":{\"anchor\":\"y\",\"domain\":[0.0,1.0],\"title\":{\"text\":\"avg_tran_amt_CK\"}},\"yaxis\":{\"anchor\":\"x\",\"domain\":[0.0,1.0],\"title\":{\"text\":\"days_per_tran_CK\"}},\"legend\":{\"title\":{\"text\":\"hc_clusters\"},\"tracegroupgap\":0},\"margin\":{\"t\":60}},                        {\"responsive\": true}                    ).then(function(){\n                            \nvar gd = document.getElementById('5a02e057-eea1-4989-8397-c7706f02a317');\nvar x = new MutationObserver(function (mutations, observer) {{\n        var display = window.getComputedStyle(gd).display;\n        if (!display || display === 'none') {{\n            console.log([gd, 'removed!']);\n            Plotly.purge(gd);\n            observer.disconnect();\n        }}\n}});\n\n// Listen for the removal of the full notebook cells\nvar notebookContainer = gd.closest('#notebook-container');\nif (notebookContainer) {{\n    x.observe(notebookContainer, {childList: true});\n}}\n\n// Listen for the clearing of the current output cell\nvar outputEl = gd.closest('.output');\nif (outputEl) {{\n    x.observe(outputEl, {childList: true});\n}}\n\n                        })                };                });            </script>        </div>"
     },
     "metadata": {},
     "output_type": "display_data"
    }
   ],
   "source": [
    "px.scatter(final_df, y='days_per_tran_CK', x='avg_tran_amt_CK', color='km_clusters')\n",
    "px.scatter(final_df, y='days_per_tran_CK', x='avg_tran_amt_CK', color='hc_clusters')\n",
    "\n"
   ],
   "metadata": {
    "collapsed": false,
    "pycharm": {
     "name": "#%%\n"
    }
   }
  },
  {
   "cell_type": "markdown",
   "source": [],
   "metadata": {
    "collapsed": false,
    "pycharm": {
     "name": "#%% md\n"
    }
   }
  },
  {
   "cell_type": "code",
   "execution_count": 318,
   "outputs": [
    {
     "data": {
      "application/vnd.plotly.v1+json": {
       "data": [
        {
         "hovertemplate": "hc_clusters=0<br>avg_tran_amt_CC=%{x}<br>days_per_tran_CC=%{y}<extra></extra>",
         "legendgroup": "0",
         "marker": {
          "color": "#636efa",
          "symbol": "circle"
         },
         "mode": "markers",
         "name": "0",
         "orientation": "v",
         "showlegend": true,
         "x": [
          60.89562500000001,
          -10.57263888888889,
          0.0,
          48.40514285714287,
          0.0,
          0.0,
          0.0,
          -15.36605263157894,
          0.0,
          278.6466666666667,
          0.0,
          0.0,
          -140.55100000000002,
          0.0,
          -2.0678160919540214,
          10.5760465116279,
          -18.46795918367347,
          -46.13961538461538,
          0.0,
          -6.6842500000000005,
          41.10955555555555,
          0.0,
          0.0,
          19.931224489795934,
          237.7791666666667,
          0.8384000000000006,
          34.905384615384605,
          2.8376712328767124,
          0.0,
          -42.638749999999995,
          173.37615384615384,
          13.397023809523809,
          -13.581692307692293,
          1.2243835616438392,
          0.0,
          0.0,
          -1.3267796610169487,
          0.0,
          38.39619047619047,
          -351.85185185185185,
          -36.28222222222223,
          0.0,
          -328.5714285714285,
          0.0,
          -9.61047619047619,
          0.3751282051282057,
          -17.567567567567572,
          -81.33809523809525,
          18.27186046511628,
          -23.705555555555563,
          -29.275882352941178,
          0.0,
          -35.37214285714287,
          -9.502407407407407,
          0.0,
          80.48535714285713,
          0.0,
          49.555230769230796,
          0.0,
          -8.150322580645161,
          16.82437500000002,
          3.7842857142857143,
          55.70181818181818,
          -18.470588235294134,
          0.0,
          -23.554615384615392,
          3905.04,
          0.0,
          -14.251836734693883,
          63.33075000000002,
          -43.504230769230766,
          0.0,
          11.882153846153848,
          11.558620689655173,
          -2.1684507042253554,
          43.23739130434784,
          -10.813809523809525,
          61.058684210526316,
          -8.99,
          -50.00000000000001,
          0.0,
          -37.142812500000005,
          0.0,
          9.814705882352948,
          0.0,
          563.9525,
          0.0,
          0.05859649122806774,
          -42.21078431372548,
          -27.735405405405405,
          0.0,
          0.0,
          0.0,
          0.0,
          -47.22,
          -13.327647058823526,
          -22.368,
          0.0,
          -43.09695652173912,
          0.0,
          -16.324680851063825,
          -28.0529268292683,
          -5.1889473684210525,
          -12.358205128205128,
          -9.35666666666667,
          9.25258064516129,
          0.0,
          0.0,
          -16.518888888888895,
          0.0,
          0.0,
          -4.658833333333333,
          -8.65709090909091,
          -43.45434782608695,
          163.7425,
          -23.809523809523803,
          -30.059393939393942,
          22.07295454545455,
          152.62384615384616,
          0.0,
          -98.459,
          0.0,
          16.063529411764705,
          -95.65217391304346,
          10.233529411764703,
          122.27999999999999,
          -51.47310344827586,
          -4.5344155844155845,
          1.3998461538461535,
          -27.531489361702118,
          160.44333333333333,
          -9.793695652173913,
          4.700624999999999,
          9.153818181818178,
          114.26714285714287,
          -5.333333333333333,
          0.0,
          -1.1766197183098586,
          -5.484782608695648,
          0.0,
          -13.168809523809525,
          81.99918367346937,
          0.45545454545454234,
          -3.610606060606058,
          -13.641386861313865,
          0.0,
          -17.549183673469386,
          0.0,
          0.0,
          55.45185185185187,
          0.0,
          1.1977272727272719,
          16.597272727272724,
          -0.24333333333333307,
          -18.449710144927533,
          422.78666666666663,
          46.02479166666662,
          -50.61263157894737,
          -18.520000000000003,
          142.07,
          146.27133333333333,
          208.18666666666664,
          0.0,
          -23.070000000000004,
          -49.43289473684212,
          16.854324324324317,
          -293.1034482758621,
          8.35904761904762,
          -19.86365853658538,
          0.0,
          0.0,
          -1.5791666666666722,
          103.78459459459458,
          0.0,
          7.520000000000003,
          0.0,
          -5.381785714285711,
          -8.532530120481912,
          0.0,
          0.0,
          -4.950576923076932,
          -9.44161764705882,
          5.022105263157893,
          -0.34404761904761877,
          0.0,
          0.0,
          0.8001388888888865,
          176.5466666666667,
          -16.451551724137932,
          0.0,
          49.368165137614675,
          0.0,
          0.0,
          -9.360294117647058,
          -47.680370370370376,
          0.0,
          0.0,
          0.0,
          -1.039850746268659,
          8.893939393939394,
          17.53625,
          345.9941666666667,
          29.557843137254903,
          0.6577777777777788,
          -261.53846153846155,
          -12.707142857142866,
          0.0,
          107.79523809523809,
          -6.107708333333332,
          4.578499999999999,
          -112.02694444444441,
          343.1766666666667,
          0.0,
          -1.0648780487804874,
          -9.921304347826089,
          47.52050000000001,
          15.855312500000004,
          69.22391304347825,
          1.4990909090909112,
          0.0,
          -4.49825,
          -82.69249999999998,
          -10.688000000000004,
          53.67477272727274,
          0.0,
          96.23947368421052,
          -40.24874999999999,
          -8.059428571428567,
          0.0,
          -28.804062500000008,
          21.49103896103893,
          0.0,
          0.0,
          -18.84816326530612,
          0.0,
          56.59708333333333,
          21.456923076923086,
          2.68483870967742,
          0.0,
          0.0,
          0.0,
          0.0,
          -16.949152542372882,
          -10.33234375,
          0.0,
          0.0,
          45.94348837209303,
          9.554722222222223,
          0.0,
          -3.835354838709675,
          0.0,
          -12.663243243243244,
          -13.364090909090907,
          0.0,
          -0.8409890109890122,
          0.0,
          0.0,
          1.2414492753623259,
          -11.715185185185193,
          -16.602058823529408,
          0.0,
          -12.961129032258066,
          0.0,
          0.0,
          0.0,
          -72.55291666666666,
          -100.9361111111111,
          -7.886382978723402,
          0.0,
          0.0,
          -51.005,
          -15.108235294117648,
          2.7844444444444503,
          0.0,
          0.0,
          0.0,
          51.88173913043478,
          -9.115499999999997,
          -5.917454545454542,
          155.67725000000002,
          26.281400000000005,
          0.0,
          89.32950000000001,
          -20.937954545454556,
          75.40129032258062,
          -25.3259375,
          -10.13981481481481,
          0.0,
          0.0,
          0.0,
          -19.471250000000012,
          0.0,
          79.094,
          -3.113333333333329,
          -44.94333333333334,
          -58.823529411764696,
          49.98818181818182,
          17.949999999999996,
          16.55340909090909,
          98.2988888888889,
          -38.847058823529416,
          11.879166666666672,
          0.0,
          37.96571428571427,
          -5.185185185185185,
          12.534545454545452,
          1675.89,
          0.0,
          95.58741935483873,
          -15.031764705882347,
          -18.328387096774193,
          0.0,
          -36.28865384615385,
          0.0,
          2814.61,
          -1.1514583333333352,
          0.0,
          0.0,
          23.534166666666664,
          192.368,
          5.588676470588235,
          -7.994390243902437,
          -2.1176923076923067,
          1749.6,
          -21.700250000000004,
          11.958636363636368,
          0.0,
          0.0,
          0.0,
          -92.5328846153846,
          -39.9584,
          -16.171999999999993,
          0.0,
          -15.069142857142866,
          4.283589743589757,
          181.13941176470587,
          -52.63157894736843,
          -3.0093814432989747,
          98.46714285714283,
          -58.82352941176471,
          0.0,
          -34.569117647058825,
          85.53730769230768,
          -189.32586206896548,
          2.26721518987342,
          0.0,
          5.4222580645161305,
          53.035294117647055,
          -19.24487804878049,
          -25.819210526315793,
          184.338,
          -10.055116279069763,
          -15.103220338983052,
          -16.33749999999999,
          0.0,
          -1.709166666666662,
          -35.03892857142857,
          -71.42857142857142,
          40.4069369369369,
          0.0,
          -14.500428571428568,
          0.0,
          16.91436363636364,
          -42.30333333333334,
          -0.6117557251908404,
          0.0,
          -2.4499999999999975,
          19.310754716981133,
          0.0,
          -32.08477611940299,
          0.0,
          0.9396363636363632,
          -15.984999999999992,
          0.0,
          -16.038684210526313,
          -10.080638297872335,
          -25.441428571428574,
          12.53285714285715,
          0.0,
          16.95795454545456,
          -21.449361702127657,
          -5.446166666666664,
          0.0,
          -9.53157142857143,
          -5.279444444444445,
          -34.91620689655173,
          -3.2770270270270285,
          -4.065312499999998,
          2.5547916666666595,
          0.0,
          -166.2052631578947,
          3.869999999999999,
          -4.339795918367347,
          17.027954545454552,
          167.0881818181818,
          0.0,
          0.0,
          -3.615789473684211,
          16.077142857142853,
          71.10333333333334,
          -67.04338461538462,
          35.8472,
          32.10265625000001,
          -2.9596428571428572,
          23.538124999999997,
          0.0,
          21.53083333333333,
          0.0,
          -41.45615384615384,
          135.68674999999996,
          95.32545454545453,
          0.0,
          0.0,
          -12.940199999999999,
          0.0,
          0.0,
          -10.754814814814816,
          0.0,
          -4.1335,
          0.008888888888891857,
          0.0,
          0.0,
          -2.8406557377049233,
          2.3515909090909095,
          56.180681818181846,
          0.24733333333333274,
          0.0,
          -10.714,
          0.0,
          0.0,
          0.0,
          -25.303888888888903,
          13.3540243902439,
          22.268947368421045,
          0.2406250000000001,
          0.0,
          -11.235955056179776,
          -43.29272727272726,
          80.459,
          87.97400000000002,
          15.361785714285718,
          0.0,
          0.0,
          -22.138387096774213,
          20.77225,
          0.0,
          2.550499999999997,
          0.0,
          35.717833333333346,
          71.27827586206895,
          24.945500000000017,
          135.1082608695652,
          0.0,
          95.25615384615388,
          36.7175,
          0.0,
          7.486400000000003,
          19.392093023255814,
          0.0,
          -16.1325,
          0.0,
          7.536938775510203,
          0.0,
          0.0,
          0.0,
          17.41369047619049,
          -207.71920000000003,
          0.0,
          -12.763000000000003,
          -103.41827586206897,
          4.771666666666667,
          0.0,
          0.0,
          -134.14634146341464,
          0.0,
          -102.35354166666666,
          -60.74547169811319,
          59.60583333333332,
          0.0,
          50.96377358490565,
          0.3348051948051927,
          12.080512820512821,
          139.23956521739132,
          0.0,
          0.0,
          0.0,
          -61.28068965517241
         ],
         "xaxis": "x",
         "y": [
          10.0,
          5.0,
          0.0,
          7.0,
          0.0,
          0.0,
          0.0,
          9.0,
          0.0,
          28.0,
          0.0,
          0.0,
          6.0,
          0.0,
          4.0,
          1.0,
          4.0,
          13.0,
          0.0,
          8.0,
          7.0,
          0.0,
          0.0,
          3.0,
          27.0,
          7.0,
          9.0,
          4.0,
          0.0,
          5.0,
          27.0,
          4.0,
          3.0,
          4.0,
          0.0,
          0.0,
          6.0,
          0.0,
          5.0,
          1.0,
          4.0,
          0.0,
          0.0,
          0.0,
          17.0,
          8.0,
          2.0,
          11.0,
          2.0,
          9.0,
          2.0,
          0.0,
          6.0,
          6.0,
          0.0,
          12.0,
          0.0,
          5.0,
          0.0,
          11.0,
          5.0,
          7.0,
          7.0,
          10.0,
          0.0,
          8.0,
          0.0,
          0.0,
          7.0,
          8.0,
          7.0,
          0.0,
          5.0,
          11.0,
          4.0,
          5.0,
          16.0,
          6.0,
          4.0,
          1.0,
          0.0,
          2.0,
          0.0,
          6.0,
          0.0,
          27.0,
          0.0,
          6.0,
          6.0,
          4.0,
          0.0,
          0.0,
          0.0,
          0.0,
          2.0,
          7.0,
          11.0,
          0.0,
          2.0,
          0.0,
          2.0,
          5.0,
          8.0,
          5.0,
          6.0,
          10.0,
          0.0,
          0.0,
          9.0,
          0.0,
          0.0,
          6.0,
          6.0,
          2.0,
          28.0,
          3.0,
          1.0,
          8.0,
          7.0,
          0.0,
          3.0,
          0.0,
          10.0,
          1.0,
          6.0,
          16.0,
          1.0,
          4.0,
          5.0,
          7.0,
          6.0,
          7.0,
          20.0,
          6.0,
          25.0,
          6.0,
          0.0,
          5.0,
          5.0,
          0.0,
          5.0,
          6.0,
          4.0,
          10.0,
          1.0,
          0.0,
          7.0,
          0.0,
          0.0,
          6.0,
          0.0,
          16.0,
          15.0,
          6.0,
          5.0,
          25.0,
          7.0,
          6.0,
          9.0,
          25.0,
          7.0,
          7.0,
          0.0,
          11.0,
          7.0,
          9.0,
          1.0,
          16.0,
          8.0,
          0.0,
          0.0,
          5.0,
          9.0,
          0.0,
          4.0,
          0.0,
          6.0,
          4.0,
          0.0,
          0.0,
          6.0,
          5.0,
          9.0,
          8.0,
          0.0,
          0.0,
          5.0,
          27.0,
          2.0,
          0.0,
          3.0,
          0.0,
          0.0,
          0.0,
          2.0,
          0.0,
          0.0,
          0.0,
          5.0,
          10.0,
          7.0,
          27.0,
          6.0,
          9.0,
          0.0,
          8.0,
          0.0,
          16.0,
          7.0,
          4.0,
          4.0,
          20.0,
          0.0,
          8.0,
          13.0,
          7.0,
          5.0,
          5.0,
          16.0,
          0.0,
          8.0,
          4.0,
          11.0,
          8.0,
          0.0,
          8.0,
          9.0,
          5.0,
          0.0,
          8.0,
          4.0,
          0.0,
          0.0,
          7.0,
          0.0,
          14.0,
          12.0,
          11.0,
          0.0,
          0.0,
          0.0,
          0.0,
          3.0,
          5.0,
          0.0,
          0.0,
          8.0,
          9.0,
          0.0,
          2.0,
          0.0,
          9.0,
          8.0,
          0.0,
          3.0,
          0.0,
          0.0,
          5.0,
          6.0,
          8.0,
          0.0,
          5.0,
          0.0,
          0.0,
          0.0,
          5.0,
          9.0,
          7.0,
          0.0,
          0.0,
          14.0,
          10.0,
          6.0,
          0.0,
          0.0,
          0.0,
          6.0,
          8.0,
          6.0,
          8.0,
          7.0,
          0.0,
          9.0,
          6.0,
          11.0,
          10.0,
          6.0,
          0.0,
          0.0,
          0.0,
          10.0,
          0.0,
          24.0,
          6.0,
          4.0,
          1.0,
          5.0,
          15.0,
          8.0,
          26.0,
          6.0,
          7.0,
          0.0,
          25.0,
          9.0,
          4.0,
          0.0,
          0.0,
          11.0,
          6.0,
          11.0,
          0.0,
          5.0,
          0.0,
          0.0,
          7.0,
          0.0,
          0.0,
          28.0,
          23.0,
          5.0,
          4.0,
          5.0,
          0.0,
          8.0,
          4.0,
          0.0,
          0.0,
          0.0,
          4.0,
          2.0,
          11.0,
          0.0,
          9.0,
          9.0,
          11.0,
          1.0,
          3.0,
          17.0,
          2.0,
          0.0,
          3.0,
          13.0,
          1.0,
          4.0,
          0.0,
          11.0,
          10.0,
          8.0,
          7.0,
          8.0,
          8.0,
          5.0,
          7.0,
          0.0,
          5.0,
          3.0,
          0.0,
          3.0,
          0.0,
          5.0,
          0.0,
          6.0,
          5.0,
          2.0,
          0.0,
          10.0,
          6.0,
          0.0,
          4.0,
          0.0,
          6.0,
          6.0,
          0.0,
          3.0,
          3.0,
          6.0,
          12.0,
          0.0,
          8.0,
          2.0,
          5.0,
          0.0,
          4.0,
          9.0,
          8.0,
          9.0,
          10.0,
          7.0,
          0.0,
          0.0,
          10.0,
          3.0,
          7.0,
          10.0,
          0.0,
          0.0,
          8.0,
          4.0,
          3.0,
          1.0,
          13.0,
          5.0,
          12.0,
          11.0,
          0.0,
          7.0,
          0.0,
          19.0,
          8.0,
          16.0,
          0.0,
          0.0,
          7.0,
          0.0,
          0.0,
          4.0,
          0.0,
          5.0,
          7.0,
          0.0,
          0.0,
          5.0,
          8.0,
          7.0,
          2.0,
          0.0,
          8.0,
          0.0,
          0.0,
          0.0,
          7.0,
          4.0,
          8.0,
          10.0,
          0.0,
          2.0,
          7.0,
          4.0,
          24.0,
          4.0,
          0.0,
          0.0,
          11.0,
          8.0,
          0.0,
          8.0,
          0.0,
          6.0,
          11.0,
          8.0,
          15.0,
          0.0,
          0.0,
          21.0,
          0.0,
          7.0,
          8.0,
          0.0,
          4.0,
          0.0,
          7.0,
          0.0,
          0.0,
          0.0,
          4.0,
          1.0,
          0.0,
          8.0,
          2.0,
          8.0,
          0.0,
          0.0,
          1.0,
          0.0,
          4.0,
          3.0,
          7.0,
          0.0,
          4.0,
          4.0,
          9.0,
          15.0,
          0.0,
          0.0,
          0.0,
          12.0
         ],
         "yaxis": "y",
         "type": "scatter"
        },
        {
         "hovertemplate": "hc_clusters=2<br>avg_tran_amt_CC=%{x}<br>days_per_tran_CC=%{y}<extra></extra>",
         "legendgroup": "2",
         "marker": {
          "color": "#EF553B",
          "symbol": "circle"
         },
         "mode": "markers",
         "name": "2",
         "orientation": "v",
         "showlegend": true,
         "x": [
          16.797636363636357,
          -47.98718749999999,
          0.0,
          -63.33096774193549,
          0.0,
          0.0,
          -25.869230769230775,
          4.733437499999998,
          -125.0,
          -8.60363636363636,
          0.0,
          0.0,
          -11.096470588235295,
          1.461392405063291,
          0.0,
          -5.332788461538456,
          -8.531200000000021,
          0.0,
          12.454468085106388,
          143.79153846153847,
          -22.41745454545455,
          -19.870454545454546,
          0.0,
          -100.0,
          42.802391304347815,
          25.650476190476194,
          3.7972549019607875,
          0.0,
          -10.165217391304349,
          1.8896610169491497,
          0.0,
          0.0,
          0.0,
          0.0,
          -22.83119047619049,
          -45.18095238095239,
          -2.110166666666664,
          0.0,
          0.7372093023255831,
          6.868070175438596,
          -7.794528301886795,
          -4.110181818181817,
          -40.32828571428571,
          -46.3314634146341,
          -99.99999999999997,
          0.0,
          0.0,
          119.80765957446809,
          0.0,
          0.0,
          2.304782608695651,
          12.864230769230765,
          -123.07692307692308,
          -12.625072463768117,
          -49.894000000000005,
          -16.125377358490567,
          -33.333333333333336,
          3.679090909090911,
          0.0,
          3.5403030303030283,
          -67.435,
          10.923333333333332,
          0.0,
          7.330800000000003,
          -42.0452,
          0.0,
          -2.4534999999999973,
          0.0,
          -41.5725,
          0.22395833333332918,
          0.0,
          13.785531914893612,
          -15.751111111111104,
          -27.86636363636364,
          -9.458909090909088,
          -48.39233333333333,
          -14.47204081632653,
          6.818482142857144,
          -7.470370370370365,
          -91.31142857142856,
          -7.685384615384614,
          13.53345238095238,
          -57.763928571428565,
          63.18129032258065,
          0.0,
          -15.176190476190481,
          -23.211400000000005,
          -99.99999999999999,
          -7.006212121212124,
          0.0,
          0.0664912280701778,
          0.0,
          -37.12666666666668,
          2.1378571428571456,
          -5.947272727272727,
          0.0,
          -1.7487096774193633,
          -104.9325,
          0.0,
          0.0,
          0.0,
          -19.68093750000001,
          -66.2870731707317,
          -14.544545454545453,
          0.0,
          0.0,
          3.482727272727279,
          -3.452564102564099,
          0.0,
          0.0,
          -55.093333333333334,
          -9.786200000000001,
          -5.081702127659575,
          -20.088809523809523,
          0.0,
          -3.5024358974358907,
          -5.106578947368422,
          -11.208923076923078,
          3.0602500000000026,
          0.0,
          0.0,
          0.0,
          0.0,
          -4.5052830188679165,
          -2.6624000000000048,
          -19.50294117647059,
          0.0,
          -84.05559322033898,
          0.0,
          0.0,
          -16.39344262295082,
          0.0,
          -61.267872340425555,
          0.0,
          0.0,
          0.0,
          -23.81206349206349,
          -13.628550724637673,
          -8.674727272727269,
          9.280232558139542,
          -88.52217391304347,
          0.0,
          -7.445312499999997,
          0.0,
          -35.80215686274509,
          -0.4354545454545443,
          -34.42923076923077,
          2.7843243243243263,
          -118.75,
          0.0,
          0.0,
          -22.728947368421053,
          0.0,
          -1.3464583333333329,
          -61.789375,
          -29.52452380952381,
          0.6837974683544417,
          -2.547027027027022,
          -16.823250000000005,
          0.0,
          0.0,
          0.0
         ],
         "xaxis": "x",
         "y": [
          6.0,
          4.0,
          0.0,
          4.0,
          0.0,
          0.0,
          6.0,
          10.0,
          3.0,
          6.0,
          0.0,
          0.0,
          7.0,
          4.0,
          0.0,
          3.0,
          2.0,
          0.0,
          7.0,
          25.0,
          4.0,
          8.0,
          0.0,
          1.0,
          4.0,
          1.0,
          6.0,
          0.0,
          5.0,
          6.0,
          0.0,
          0.0,
          0.0,
          0.0,
          8.0,
          7.0,
          6.0,
          0.0,
          8.0,
          6.0,
          5.0,
          6.0,
          9.0,
          7.0,
          0.0,
          0.0,
          0.0,
          7.0,
          0.0,
          0.0,
          7.0,
          13.0,
          0.0,
          5.0,
          2.0,
          3.0,
          1.0,
          10.0,
          0.0,
          10.0,
          10.0,
          16.0,
          0.0,
          13.0,
          4.0,
          0.0,
          17.0,
          0.0,
          4.0,
          7.0,
          0.0,
          7.0,
          7.0,
          5.0,
          6.0,
          9.0,
          6.0,
          3.0,
          6.0,
          13.0,
          4.0,
          4.0,
          5.0,
          8.0,
          0.0,
          5.0,
          5.0,
          2.0,
          5.0,
          0.0,
          6.0,
          0.0,
          7.0,
          12.0,
          5.0,
          0.0,
          11.0,
          4.0,
          0.0,
          0.0,
          0.0,
          10.0,
          7.0,
          11.0,
          0.0,
          0.0,
          6.0,
          8.0,
          0.0,
          0.0,
          4.0,
          7.0,
          6.0,
          7.0,
          0.0,
          4.0,
          4.0,
          5.0,
          8.0,
          0.0,
          0.0,
          0.0,
          0.0,
          6.0,
          4.0,
          5.0,
          0.0,
          3.0,
          0.0,
          0.0,
          3.0,
          0.0,
          5.0,
          0.0,
          0.0,
          0.0,
          5.0,
          5.0,
          6.0,
          8.0,
          4.0,
          0.0,
          5.0,
          0.0,
          4.0,
          10.0,
          11.0,
          9.0,
          2.0,
          0.0,
          0.0,
          9.0,
          0.0,
          7.0,
          4.0,
          8.0,
          4.0,
          4.0,
          4.0,
          0.0,
          0.0,
          0.0
         ],
         "yaxis": "y",
         "type": "scatter"
        },
        {
         "hovertemplate": "hc_clusters=1<br>avg_tran_amt_CC=%{x}<br>days_per_tran_CC=%{y}<extra></extra>",
         "legendgroup": "1",
         "marker": {
          "color": "#00cc96",
          "symbol": "circle"
         },
         "mode": "markers",
         "name": "1",
         "orientation": "v",
         "showlegend": true,
         "x": [
          0.0,
          317.14772727272725,
          113.47408163265305,
          193.33444444444447,
          167.46500000000003,
          9.128909090909108,
          0.6707291666666789,
          66.73339285714287,
          0.0,
          0.0,
          8735.14,
          -225.0,
          143.37552631578944,
          80.21399999999998,
          -22.700166666666647
         ],
         "xaxis": "x",
         "y": [
          0.0,
          15.0,
          7.0,
          3.0,
          7.0,
          6.0,
          3.0,
          6.0,
          0.0,
          0.0,
          0.0,
          1.0,
          9.0,
          6.0,
          5.0
         ],
         "yaxis": "y",
         "type": "scatter"
        }
       ],
       "layout": {
        "template": {
         "data": {
          "bar": [
           {
            "error_x": {
             "color": "#f2f5fa"
            },
            "error_y": {
             "color": "#f2f5fa"
            },
            "marker": {
             "line": {
              "color": "rgb(17,17,17)",
              "width": 0.5
             },
             "pattern": {
              "fillmode": "overlay",
              "size": 10,
              "solidity": 0.2
             }
            },
            "type": "bar"
           }
          ],
          "barpolar": [
           {
            "marker": {
             "line": {
              "color": "rgb(17,17,17)",
              "width": 0.5
             },
             "pattern": {
              "fillmode": "overlay",
              "size": 10,
              "solidity": 0.2
             }
            },
            "type": "barpolar"
           }
          ],
          "carpet": [
           {
            "aaxis": {
             "endlinecolor": "#A2B1C6",
             "gridcolor": "#506784",
             "linecolor": "#506784",
             "minorgridcolor": "#506784",
             "startlinecolor": "#A2B1C6"
            },
            "baxis": {
             "endlinecolor": "#A2B1C6",
             "gridcolor": "#506784",
             "linecolor": "#506784",
             "minorgridcolor": "#506784",
             "startlinecolor": "#A2B1C6"
            },
            "type": "carpet"
           }
          ],
          "choropleth": [
           {
            "colorbar": {
             "outlinewidth": 0,
             "ticks": ""
            },
            "type": "choropleth"
           }
          ],
          "contour": [
           {
            "colorbar": {
             "outlinewidth": 0,
             "ticks": ""
            },
            "colorscale": [
             [
              0.0,
              "#0d0887"
             ],
             [
              0.1111111111111111,
              "#46039f"
             ],
             [
              0.2222222222222222,
              "#7201a8"
             ],
             [
              0.3333333333333333,
              "#9c179e"
             ],
             [
              0.4444444444444444,
              "#bd3786"
             ],
             [
              0.5555555555555556,
              "#d8576b"
             ],
             [
              0.6666666666666666,
              "#ed7953"
             ],
             [
              0.7777777777777778,
              "#fb9f3a"
             ],
             [
              0.8888888888888888,
              "#fdca26"
             ],
             [
              1.0,
              "#f0f921"
             ]
            ],
            "type": "contour"
           }
          ],
          "contourcarpet": [
           {
            "colorbar": {
             "outlinewidth": 0,
             "ticks": ""
            },
            "type": "contourcarpet"
           }
          ],
          "heatmap": [
           {
            "colorbar": {
             "outlinewidth": 0,
             "ticks": ""
            },
            "colorscale": [
             [
              0.0,
              "#0d0887"
             ],
             [
              0.1111111111111111,
              "#46039f"
             ],
             [
              0.2222222222222222,
              "#7201a8"
             ],
             [
              0.3333333333333333,
              "#9c179e"
             ],
             [
              0.4444444444444444,
              "#bd3786"
             ],
             [
              0.5555555555555556,
              "#d8576b"
             ],
             [
              0.6666666666666666,
              "#ed7953"
             ],
             [
              0.7777777777777778,
              "#fb9f3a"
             ],
             [
              0.8888888888888888,
              "#fdca26"
             ],
             [
              1.0,
              "#f0f921"
             ]
            ],
            "type": "heatmap"
           }
          ],
          "heatmapgl": [
           {
            "colorbar": {
             "outlinewidth": 0,
             "ticks": ""
            },
            "colorscale": [
             [
              0.0,
              "#0d0887"
             ],
             [
              0.1111111111111111,
              "#46039f"
             ],
             [
              0.2222222222222222,
              "#7201a8"
             ],
             [
              0.3333333333333333,
              "#9c179e"
             ],
             [
              0.4444444444444444,
              "#bd3786"
             ],
             [
              0.5555555555555556,
              "#d8576b"
             ],
             [
              0.6666666666666666,
              "#ed7953"
             ],
             [
              0.7777777777777778,
              "#fb9f3a"
             ],
             [
              0.8888888888888888,
              "#fdca26"
             ],
             [
              1.0,
              "#f0f921"
             ]
            ],
            "type": "heatmapgl"
           }
          ],
          "histogram": [
           {
            "marker": {
             "pattern": {
              "fillmode": "overlay",
              "size": 10,
              "solidity": 0.2
             }
            },
            "type": "histogram"
           }
          ],
          "histogram2d": [
           {
            "colorbar": {
             "outlinewidth": 0,
             "ticks": ""
            },
            "colorscale": [
             [
              0.0,
              "#0d0887"
             ],
             [
              0.1111111111111111,
              "#46039f"
             ],
             [
              0.2222222222222222,
              "#7201a8"
             ],
             [
              0.3333333333333333,
              "#9c179e"
             ],
             [
              0.4444444444444444,
              "#bd3786"
             ],
             [
              0.5555555555555556,
              "#d8576b"
             ],
             [
              0.6666666666666666,
              "#ed7953"
             ],
             [
              0.7777777777777778,
              "#fb9f3a"
             ],
             [
              0.8888888888888888,
              "#fdca26"
             ],
             [
              1.0,
              "#f0f921"
             ]
            ],
            "type": "histogram2d"
           }
          ],
          "histogram2dcontour": [
           {
            "colorbar": {
             "outlinewidth": 0,
             "ticks": ""
            },
            "colorscale": [
             [
              0.0,
              "#0d0887"
             ],
             [
              0.1111111111111111,
              "#46039f"
             ],
             [
              0.2222222222222222,
              "#7201a8"
             ],
             [
              0.3333333333333333,
              "#9c179e"
             ],
             [
              0.4444444444444444,
              "#bd3786"
             ],
             [
              0.5555555555555556,
              "#d8576b"
             ],
             [
              0.6666666666666666,
              "#ed7953"
             ],
             [
              0.7777777777777778,
              "#fb9f3a"
             ],
             [
              0.8888888888888888,
              "#fdca26"
             ],
             [
              1.0,
              "#f0f921"
             ]
            ],
            "type": "histogram2dcontour"
           }
          ],
          "mesh3d": [
           {
            "colorbar": {
             "outlinewidth": 0,
             "ticks": ""
            },
            "type": "mesh3d"
           }
          ],
          "parcoords": [
           {
            "line": {
             "colorbar": {
              "outlinewidth": 0,
              "ticks": ""
             }
            },
            "type": "parcoords"
           }
          ],
          "pie": [
           {
            "automargin": true,
            "type": "pie"
           }
          ],
          "scatter": [
           {
            "marker": {
             "line": {
              "color": "#283442"
             }
            },
            "type": "scatter"
           }
          ],
          "scatter3d": [
           {
            "line": {
             "colorbar": {
              "outlinewidth": 0,
              "ticks": ""
             }
            },
            "marker": {
             "colorbar": {
              "outlinewidth": 0,
              "ticks": ""
             }
            },
            "type": "scatter3d"
           }
          ],
          "scattercarpet": [
           {
            "marker": {
             "colorbar": {
              "outlinewidth": 0,
              "ticks": ""
             }
            },
            "type": "scattercarpet"
           }
          ],
          "scattergeo": [
           {
            "marker": {
             "colorbar": {
              "outlinewidth": 0,
              "ticks": ""
             }
            },
            "type": "scattergeo"
           }
          ],
          "scattergl": [
           {
            "marker": {
             "line": {
              "color": "#283442"
             }
            },
            "type": "scattergl"
           }
          ],
          "scattermapbox": [
           {
            "marker": {
             "colorbar": {
              "outlinewidth": 0,
              "ticks": ""
             }
            },
            "type": "scattermapbox"
           }
          ],
          "scatterpolar": [
           {
            "marker": {
             "colorbar": {
              "outlinewidth": 0,
              "ticks": ""
             }
            },
            "type": "scatterpolar"
           }
          ],
          "scatterpolargl": [
           {
            "marker": {
             "colorbar": {
              "outlinewidth": 0,
              "ticks": ""
             }
            },
            "type": "scatterpolargl"
           }
          ],
          "scatterternary": [
           {
            "marker": {
             "colorbar": {
              "outlinewidth": 0,
              "ticks": ""
             }
            },
            "type": "scatterternary"
           }
          ],
          "surface": [
           {
            "colorbar": {
             "outlinewidth": 0,
             "ticks": ""
            },
            "colorscale": [
             [
              0.0,
              "#0d0887"
             ],
             [
              0.1111111111111111,
              "#46039f"
             ],
             [
              0.2222222222222222,
              "#7201a8"
             ],
             [
              0.3333333333333333,
              "#9c179e"
             ],
             [
              0.4444444444444444,
              "#bd3786"
             ],
             [
              0.5555555555555556,
              "#d8576b"
             ],
             [
              0.6666666666666666,
              "#ed7953"
             ],
             [
              0.7777777777777778,
              "#fb9f3a"
             ],
             [
              0.8888888888888888,
              "#fdca26"
             ],
             [
              1.0,
              "#f0f921"
             ]
            ],
            "type": "surface"
           }
          ],
          "table": [
           {
            "cells": {
             "fill": {
              "color": "#506784"
             },
             "line": {
              "color": "rgb(17,17,17)"
             }
            },
            "header": {
             "fill": {
              "color": "#2a3f5f"
             },
             "line": {
              "color": "rgb(17,17,17)"
             }
            },
            "type": "table"
           }
          ]
         },
         "layout": {
          "annotationdefaults": {
           "arrowcolor": "#f2f5fa",
           "arrowhead": 0,
           "arrowwidth": 1
          },
          "autotypenumbers": "strict",
          "coloraxis": {
           "colorbar": {
            "outlinewidth": 0,
            "ticks": ""
           }
          },
          "colorscale": {
           "diverging": [
            [
             0,
             "#8e0152"
            ],
            [
             0.1,
             "#c51b7d"
            ],
            [
             0.2,
             "#de77ae"
            ],
            [
             0.3,
             "#f1b6da"
            ],
            [
             0.4,
             "#fde0ef"
            ],
            [
             0.5,
             "#f7f7f7"
            ],
            [
             0.6,
             "#e6f5d0"
            ],
            [
             0.7,
             "#b8e186"
            ],
            [
             0.8,
             "#7fbc41"
            ],
            [
             0.9,
             "#4d9221"
            ],
            [
             1,
             "#276419"
            ]
           ],
           "sequential": [
            [
             0.0,
             "#0d0887"
            ],
            [
             0.1111111111111111,
             "#46039f"
            ],
            [
             0.2222222222222222,
             "#7201a8"
            ],
            [
             0.3333333333333333,
             "#9c179e"
            ],
            [
             0.4444444444444444,
             "#bd3786"
            ],
            [
             0.5555555555555556,
             "#d8576b"
            ],
            [
             0.6666666666666666,
             "#ed7953"
            ],
            [
             0.7777777777777778,
             "#fb9f3a"
            ],
            [
             0.8888888888888888,
             "#fdca26"
            ],
            [
             1.0,
             "#f0f921"
            ]
           ],
           "sequentialminus": [
            [
             0.0,
             "#0d0887"
            ],
            [
             0.1111111111111111,
             "#46039f"
            ],
            [
             0.2222222222222222,
             "#7201a8"
            ],
            [
             0.3333333333333333,
             "#9c179e"
            ],
            [
             0.4444444444444444,
             "#bd3786"
            ],
            [
             0.5555555555555556,
             "#d8576b"
            ],
            [
             0.6666666666666666,
             "#ed7953"
            ],
            [
             0.7777777777777778,
             "#fb9f3a"
            ],
            [
             0.8888888888888888,
             "#fdca26"
            ],
            [
             1.0,
             "#f0f921"
            ]
           ]
          },
          "colorway": [
           "#636efa",
           "#EF553B",
           "#00cc96",
           "#ab63fa",
           "#FFA15A",
           "#19d3f3",
           "#FF6692",
           "#B6E880",
           "#FF97FF",
           "#FECB52"
          ],
          "font": {
           "color": "#f2f5fa"
          },
          "geo": {
           "bgcolor": "rgb(17,17,17)",
           "lakecolor": "rgb(17,17,17)",
           "landcolor": "rgb(17,17,17)",
           "showlakes": true,
           "showland": true,
           "subunitcolor": "#506784"
          },
          "hoverlabel": {
           "align": "left"
          },
          "hovermode": "closest",
          "mapbox": {
           "style": "dark"
          },
          "paper_bgcolor": "rgb(17,17,17)",
          "plot_bgcolor": "rgb(17,17,17)",
          "polar": {
           "angularaxis": {
            "gridcolor": "#506784",
            "linecolor": "#506784",
            "ticks": ""
           },
           "bgcolor": "rgb(17,17,17)",
           "radialaxis": {
            "gridcolor": "#506784",
            "linecolor": "#506784",
            "ticks": ""
           }
          },
          "scene": {
           "xaxis": {
            "backgroundcolor": "rgb(17,17,17)",
            "gridcolor": "#506784",
            "gridwidth": 2,
            "linecolor": "#506784",
            "showbackground": true,
            "ticks": "",
            "zerolinecolor": "#C8D4E3"
           },
           "yaxis": {
            "backgroundcolor": "rgb(17,17,17)",
            "gridcolor": "#506784",
            "gridwidth": 2,
            "linecolor": "#506784",
            "showbackground": true,
            "ticks": "",
            "zerolinecolor": "#C8D4E3"
           },
           "zaxis": {
            "backgroundcolor": "rgb(17,17,17)",
            "gridcolor": "#506784",
            "gridwidth": 2,
            "linecolor": "#506784",
            "showbackground": true,
            "ticks": "",
            "zerolinecolor": "#C8D4E3"
           }
          },
          "shapedefaults": {
           "line": {
            "color": "#f2f5fa"
           }
          },
          "sliderdefaults": {
           "bgcolor": "#C8D4E3",
           "bordercolor": "rgb(17,17,17)",
           "borderwidth": 1,
           "tickwidth": 0
          },
          "ternary": {
           "aaxis": {
            "gridcolor": "#506784",
            "linecolor": "#506784",
            "ticks": ""
           },
           "baxis": {
            "gridcolor": "#506784",
            "linecolor": "#506784",
            "ticks": ""
           },
           "bgcolor": "rgb(17,17,17)",
           "caxis": {
            "gridcolor": "#506784",
            "linecolor": "#506784",
            "ticks": ""
           }
          },
          "title": {
           "x": 0.05
          },
          "updatemenudefaults": {
           "bgcolor": "#506784",
           "borderwidth": 0
          },
          "xaxis": {
           "automargin": true,
           "gridcolor": "#283442",
           "linecolor": "#506784",
           "ticks": "",
           "title": {
            "standoff": 15
           },
           "zerolinecolor": "#283442",
           "zerolinewidth": 2
          },
          "yaxis": {
           "automargin": true,
           "gridcolor": "#283442",
           "linecolor": "#506784",
           "ticks": "",
           "title": {
            "standoff": 15
           },
           "zerolinecolor": "#283442",
           "zerolinewidth": 2
          }
         }
        },
        "xaxis": {
         "anchor": "y",
         "domain": [
          0.0,
          1.0
         ],
         "title": {
          "text": "avg_tran_amt_CC"
         }
        },
        "yaxis": {
         "anchor": "x",
         "domain": [
          0.0,
          1.0
         ],
         "title": {
          "text": "days_per_tran_CC"
         }
        },
        "legend": {
         "title": {
          "text": "hc_clusters"
         },
         "tracegroupgap": 0
        },
        "margin": {
         "t": 60
        }
       },
       "config": {
        "plotlyServerURL": "https://plot.ly"
       }
      },
      "text/html": "<div>                            <div id=\"485efbae-e010-40ec-9f2e-02aca6e996ed\" class=\"plotly-graph-div\" style=\"height:525px; width:100%;\"></div>            <script type=\"text/javascript\">                require([\"plotly\"], function(Plotly) {                    window.PLOTLYENV=window.PLOTLYENV || {};                                    if (document.getElementById(\"485efbae-e010-40ec-9f2e-02aca6e996ed\")) {                    Plotly.newPlot(                        \"485efbae-e010-40ec-9f2e-02aca6e996ed\",                        [{\"hovertemplate\":\"hc_clusters=0<br>avg_tran_amt_CC=%{x}<br>days_per_tran_CC=%{y}<extra></extra>\",\"legendgroup\":\"0\",\"marker\":{\"color\":\"#636efa\",\"symbol\":\"circle\"},\"mode\":\"markers\",\"name\":\"0\",\"orientation\":\"v\",\"showlegend\":true,\"x\":[60.89562500000001,-10.57263888888889,0.0,48.40514285714287,0.0,0.0,0.0,-15.36605263157894,0.0,278.6466666666667,0.0,0.0,-140.55100000000002,0.0,-2.0678160919540214,10.5760465116279,-18.46795918367347,-46.13961538461538,0.0,-6.6842500000000005,41.10955555555555,0.0,0.0,19.931224489795934,237.7791666666667,0.8384000000000006,34.905384615384605,2.8376712328767124,0.0,-42.638749999999995,173.37615384615384,13.397023809523809,-13.581692307692293,1.2243835616438392,0.0,0.0,-1.3267796610169487,0.0,38.39619047619047,-351.85185185185185,-36.28222222222223,0.0,-328.5714285714285,0.0,-9.61047619047619,0.3751282051282057,-17.567567567567572,-81.33809523809525,18.27186046511628,-23.705555555555563,-29.275882352941178,0.0,-35.37214285714287,-9.502407407407407,0.0,80.48535714285713,0.0,49.555230769230796,0.0,-8.150322580645161,16.82437500000002,3.7842857142857143,55.70181818181818,-18.470588235294134,0.0,-23.554615384615392,3905.04,0.0,-14.251836734693883,63.33075000000002,-43.504230769230766,0.0,11.882153846153848,11.558620689655173,-2.1684507042253554,43.23739130434784,-10.813809523809525,61.058684210526316,-8.99,-50.00000000000001,0.0,-37.142812500000005,0.0,9.814705882352948,0.0,563.9525,0.0,0.05859649122806774,-42.21078431372548,-27.735405405405405,0.0,0.0,0.0,0.0,-47.22,-13.327647058823526,-22.368,0.0,-43.09695652173912,0.0,-16.324680851063825,-28.0529268292683,-5.1889473684210525,-12.358205128205128,-9.35666666666667,9.25258064516129,0.0,0.0,-16.518888888888895,0.0,0.0,-4.658833333333333,-8.65709090909091,-43.45434782608695,163.7425,-23.809523809523803,-30.059393939393942,22.07295454545455,152.62384615384616,0.0,-98.459,0.0,16.063529411764705,-95.65217391304346,10.233529411764703,122.27999999999999,-51.47310344827586,-4.5344155844155845,1.3998461538461535,-27.531489361702118,160.44333333333333,-9.793695652173913,4.700624999999999,9.153818181818178,114.26714285714287,-5.333333333333333,0.0,-1.1766197183098586,-5.484782608695648,0.0,-13.168809523809525,81.99918367346937,0.45545454545454234,-3.610606060606058,-13.641386861313865,0.0,-17.549183673469386,0.0,0.0,55.45185185185187,0.0,1.1977272727272719,16.597272727272724,-0.24333333333333307,-18.449710144927533,422.78666666666663,46.02479166666662,-50.61263157894737,-18.520000000000003,142.07,146.27133333333333,208.18666666666664,0.0,-23.070000000000004,-49.43289473684212,16.854324324324317,-293.1034482758621,8.35904761904762,-19.86365853658538,0.0,0.0,-1.5791666666666722,103.78459459459458,0.0,7.520000000000003,0.0,-5.381785714285711,-8.532530120481912,0.0,0.0,-4.950576923076932,-9.44161764705882,5.022105263157893,-0.34404761904761877,0.0,0.0,0.8001388888888865,176.5466666666667,-16.451551724137932,0.0,49.368165137614675,0.0,0.0,-9.360294117647058,-47.680370370370376,0.0,0.0,0.0,-1.039850746268659,8.893939393939394,17.53625,345.9941666666667,29.557843137254903,0.6577777777777788,-261.53846153846155,-12.707142857142866,0.0,107.79523809523809,-6.107708333333332,4.578499999999999,-112.02694444444441,343.1766666666667,0.0,-1.0648780487804874,-9.921304347826089,47.52050000000001,15.855312500000004,69.22391304347825,1.4990909090909112,0.0,-4.49825,-82.69249999999998,-10.688000000000004,53.67477272727274,0.0,96.23947368421052,-40.24874999999999,-8.059428571428567,0.0,-28.804062500000008,21.49103896103893,0.0,0.0,-18.84816326530612,0.0,56.59708333333333,21.456923076923086,2.68483870967742,0.0,0.0,0.0,0.0,-16.949152542372882,-10.33234375,0.0,0.0,45.94348837209303,9.554722222222223,0.0,-3.835354838709675,0.0,-12.663243243243244,-13.364090909090907,0.0,-0.8409890109890122,0.0,0.0,1.2414492753623259,-11.715185185185193,-16.602058823529408,0.0,-12.961129032258066,0.0,0.0,0.0,-72.55291666666666,-100.9361111111111,-7.886382978723402,0.0,0.0,-51.005,-15.108235294117648,2.7844444444444503,0.0,0.0,0.0,51.88173913043478,-9.115499999999997,-5.917454545454542,155.67725000000002,26.281400000000005,0.0,89.32950000000001,-20.937954545454556,75.40129032258062,-25.3259375,-10.13981481481481,0.0,0.0,0.0,-19.471250000000012,0.0,79.094,-3.113333333333329,-44.94333333333334,-58.823529411764696,49.98818181818182,17.949999999999996,16.55340909090909,98.2988888888889,-38.847058823529416,11.879166666666672,0.0,37.96571428571427,-5.185185185185185,12.534545454545452,1675.89,0.0,95.58741935483873,-15.031764705882347,-18.328387096774193,0.0,-36.28865384615385,0.0,2814.61,-1.1514583333333352,0.0,0.0,23.534166666666664,192.368,5.588676470588235,-7.994390243902437,-2.1176923076923067,1749.6,-21.700250000000004,11.958636363636368,0.0,0.0,0.0,-92.5328846153846,-39.9584,-16.171999999999993,0.0,-15.069142857142866,4.283589743589757,181.13941176470587,-52.63157894736843,-3.0093814432989747,98.46714285714283,-58.82352941176471,0.0,-34.569117647058825,85.53730769230768,-189.32586206896548,2.26721518987342,0.0,5.4222580645161305,53.035294117647055,-19.24487804878049,-25.819210526315793,184.338,-10.055116279069763,-15.103220338983052,-16.33749999999999,0.0,-1.709166666666662,-35.03892857142857,-71.42857142857142,40.4069369369369,0.0,-14.500428571428568,0.0,16.91436363636364,-42.30333333333334,-0.6117557251908404,0.0,-2.4499999999999975,19.310754716981133,0.0,-32.08477611940299,0.0,0.9396363636363632,-15.984999999999992,0.0,-16.038684210526313,-10.080638297872335,-25.441428571428574,12.53285714285715,0.0,16.95795454545456,-21.449361702127657,-5.446166666666664,0.0,-9.53157142857143,-5.279444444444445,-34.91620689655173,-3.2770270270270285,-4.065312499999998,2.5547916666666595,0.0,-166.2052631578947,3.869999999999999,-4.339795918367347,17.027954545454552,167.0881818181818,0.0,0.0,-3.615789473684211,16.077142857142853,71.10333333333334,-67.04338461538462,35.8472,32.10265625000001,-2.9596428571428572,23.538124999999997,0.0,21.53083333333333,0.0,-41.45615384615384,135.68674999999996,95.32545454545453,0.0,0.0,-12.940199999999999,0.0,0.0,-10.754814814814816,0.0,-4.1335,0.008888888888891857,0.0,0.0,-2.8406557377049233,2.3515909090909095,56.180681818181846,0.24733333333333274,0.0,-10.714,0.0,0.0,0.0,-25.303888888888903,13.3540243902439,22.268947368421045,0.2406250000000001,0.0,-11.235955056179776,-43.29272727272726,80.459,87.97400000000002,15.361785714285718,0.0,0.0,-22.138387096774213,20.77225,0.0,2.550499999999997,0.0,35.717833333333346,71.27827586206895,24.945500000000017,135.1082608695652,0.0,95.25615384615388,36.7175,0.0,7.486400000000003,19.392093023255814,0.0,-16.1325,0.0,7.536938775510203,0.0,0.0,0.0,17.41369047619049,-207.71920000000003,0.0,-12.763000000000003,-103.41827586206897,4.771666666666667,0.0,0.0,-134.14634146341464,0.0,-102.35354166666666,-60.74547169811319,59.60583333333332,0.0,50.96377358490565,0.3348051948051927,12.080512820512821,139.23956521739132,0.0,0.0,0.0,-61.28068965517241],\"xaxis\":\"x\",\"y\":[10.0,5.0,0.0,7.0,0.0,0.0,0.0,9.0,0.0,28.0,0.0,0.0,6.0,0.0,4.0,1.0,4.0,13.0,0.0,8.0,7.0,0.0,0.0,3.0,27.0,7.0,9.0,4.0,0.0,5.0,27.0,4.0,3.0,4.0,0.0,0.0,6.0,0.0,5.0,1.0,4.0,0.0,0.0,0.0,17.0,8.0,2.0,11.0,2.0,9.0,2.0,0.0,6.0,6.0,0.0,12.0,0.0,5.0,0.0,11.0,5.0,7.0,7.0,10.0,0.0,8.0,0.0,0.0,7.0,8.0,7.0,0.0,5.0,11.0,4.0,5.0,16.0,6.0,4.0,1.0,0.0,2.0,0.0,6.0,0.0,27.0,0.0,6.0,6.0,4.0,0.0,0.0,0.0,0.0,2.0,7.0,11.0,0.0,2.0,0.0,2.0,5.0,8.0,5.0,6.0,10.0,0.0,0.0,9.0,0.0,0.0,6.0,6.0,2.0,28.0,3.0,1.0,8.0,7.0,0.0,3.0,0.0,10.0,1.0,6.0,16.0,1.0,4.0,5.0,7.0,6.0,7.0,20.0,6.0,25.0,6.0,0.0,5.0,5.0,0.0,5.0,6.0,4.0,10.0,1.0,0.0,7.0,0.0,0.0,6.0,0.0,16.0,15.0,6.0,5.0,25.0,7.0,6.0,9.0,25.0,7.0,7.0,0.0,11.0,7.0,9.0,1.0,16.0,8.0,0.0,0.0,5.0,9.0,0.0,4.0,0.0,6.0,4.0,0.0,0.0,6.0,5.0,9.0,8.0,0.0,0.0,5.0,27.0,2.0,0.0,3.0,0.0,0.0,0.0,2.0,0.0,0.0,0.0,5.0,10.0,7.0,27.0,6.0,9.0,0.0,8.0,0.0,16.0,7.0,4.0,4.0,20.0,0.0,8.0,13.0,7.0,5.0,5.0,16.0,0.0,8.0,4.0,11.0,8.0,0.0,8.0,9.0,5.0,0.0,8.0,4.0,0.0,0.0,7.0,0.0,14.0,12.0,11.0,0.0,0.0,0.0,0.0,3.0,5.0,0.0,0.0,8.0,9.0,0.0,2.0,0.0,9.0,8.0,0.0,3.0,0.0,0.0,5.0,6.0,8.0,0.0,5.0,0.0,0.0,0.0,5.0,9.0,7.0,0.0,0.0,14.0,10.0,6.0,0.0,0.0,0.0,6.0,8.0,6.0,8.0,7.0,0.0,9.0,6.0,11.0,10.0,6.0,0.0,0.0,0.0,10.0,0.0,24.0,6.0,4.0,1.0,5.0,15.0,8.0,26.0,6.0,7.0,0.0,25.0,9.0,4.0,0.0,0.0,11.0,6.0,11.0,0.0,5.0,0.0,0.0,7.0,0.0,0.0,28.0,23.0,5.0,4.0,5.0,0.0,8.0,4.0,0.0,0.0,0.0,4.0,2.0,11.0,0.0,9.0,9.0,11.0,1.0,3.0,17.0,2.0,0.0,3.0,13.0,1.0,4.0,0.0,11.0,10.0,8.0,7.0,8.0,8.0,5.0,7.0,0.0,5.0,3.0,0.0,3.0,0.0,5.0,0.0,6.0,5.0,2.0,0.0,10.0,6.0,0.0,4.0,0.0,6.0,6.0,0.0,3.0,3.0,6.0,12.0,0.0,8.0,2.0,5.0,0.0,4.0,9.0,8.0,9.0,10.0,7.0,0.0,0.0,10.0,3.0,7.0,10.0,0.0,0.0,8.0,4.0,3.0,1.0,13.0,5.0,12.0,11.0,0.0,7.0,0.0,19.0,8.0,16.0,0.0,0.0,7.0,0.0,0.0,4.0,0.0,5.0,7.0,0.0,0.0,5.0,8.0,7.0,2.0,0.0,8.0,0.0,0.0,0.0,7.0,4.0,8.0,10.0,0.0,2.0,7.0,4.0,24.0,4.0,0.0,0.0,11.0,8.0,0.0,8.0,0.0,6.0,11.0,8.0,15.0,0.0,0.0,21.0,0.0,7.0,8.0,0.0,4.0,0.0,7.0,0.0,0.0,0.0,4.0,1.0,0.0,8.0,2.0,8.0,0.0,0.0,1.0,0.0,4.0,3.0,7.0,0.0,4.0,4.0,9.0,15.0,0.0,0.0,0.0,12.0],\"yaxis\":\"y\",\"type\":\"scatter\"},{\"hovertemplate\":\"hc_clusters=2<br>avg_tran_amt_CC=%{x}<br>days_per_tran_CC=%{y}<extra></extra>\",\"legendgroup\":\"2\",\"marker\":{\"color\":\"#EF553B\",\"symbol\":\"circle\"},\"mode\":\"markers\",\"name\":\"2\",\"orientation\":\"v\",\"showlegend\":true,\"x\":[16.797636363636357,-47.98718749999999,0.0,-63.33096774193549,0.0,0.0,-25.869230769230775,4.733437499999998,-125.0,-8.60363636363636,0.0,0.0,-11.096470588235295,1.461392405063291,0.0,-5.332788461538456,-8.531200000000021,0.0,12.454468085106388,143.79153846153847,-22.41745454545455,-19.870454545454546,0.0,-100.0,42.802391304347815,25.650476190476194,3.7972549019607875,0.0,-10.165217391304349,1.8896610169491497,0.0,0.0,0.0,0.0,-22.83119047619049,-45.18095238095239,-2.110166666666664,0.0,0.7372093023255831,6.868070175438596,-7.794528301886795,-4.110181818181817,-40.32828571428571,-46.3314634146341,-99.99999999999997,0.0,0.0,119.80765957446809,0.0,0.0,2.304782608695651,12.864230769230765,-123.07692307692308,-12.625072463768117,-49.894000000000005,-16.125377358490567,-33.333333333333336,3.679090909090911,0.0,3.5403030303030283,-67.435,10.923333333333332,0.0,7.330800000000003,-42.0452,0.0,-2.4534999999999973,0.0,-41.5725,0.22395833333332918,0.0,13.785531914893612,-15.751111111111104,-27.86636363636364,-9.458909090909088,-48.39233333333333,-14.47204081632653,6.818482142857144,-7.470370370370365,-91.31142857142856,-7.685384615384614,13.53345238095238,-57.763928571428565,63.18129032258065,0.0,-15.176190476190481,-23.211400000000005,-99.99999999999999,-7.006212121212124,0.0,0.0664912280701778,0.0,-37.12666666666668,2.1378571428571456,-5.947272727272727,0.0,-1.7487096774193633,-104.9325,0.0,0.0,0.0,-19.68093750000001,-66.2870731707317,-14.544545454545453,0.0,0.0,3.482727272727279,-3.452564102564099,0.0,0.0,-55.093333333333334,-9.786200000000001,-5.081702127659575,-20.088809523809523,0.0,-3.5024358974358907,-5.106578947368422,-11.208923076923078,3.0602500000000026,0.0,0.0,0.0,0.0,-4.5052830188679165,-2.6624000000000048,-19.50294117647059,0.0,-84.05559322033898,0.0,0.0,-16.39344262295082,0.0,-61.267872340425555,0.0,0.0,0.0,-23.81206349206349,-13.628550724637673,-8.674727272727269,9.280232558139542,-88.52217391304347,0.0,-7.445312499999997,0.0,-35.80215686274509,-0.4354545454545443,-34.42923076923077,2.7843243243243263,-118.75,0.0,0.0,-22.728947368421053,0.0,-1.3464583333333329,-61.789375,-29.52452380952381,0.6837974683544417,-2.547027027027022,-16.823250000000005,0.0,0.0,0.0],\"xaxis\":\"x\",\"y\":[6.0,4.0,0.0,4.0,0.0,0.0,6.0,10.0,3.0,6.0,0.0,0.0,7.0,4.0,0.0,3.0,2.0,0.0,7.0,25.0,4.0,8.0,0.0,1.0,4.0,1.0,6.0,0.0,5.0,6.0,0.0,0.0,0.0,0.0,8.0,7.0,6.0,0.0,8.0,6.0,5.0,6.0,9.0,7.0,0.0,0.0,0.0,7.0,0.0,0.0,7.0,13.0,0.0,5.0,2.0,3.0,1.0,10.0,0.0,10.0,10.0,16.0,0.0,13.0,4.0,0.0,17.0,0.0,4.0,7.0,0.0,7.0,7.0,5.0,6.0,9.0,6.0,3.0,6.0,13.0,4.0,4.0,5.0,8.0,0.0,5.0,5.0,2.0,5.0,0.0,6.0,0.0,7.0,12.0,5.0,0.0,11.0,4.0,0.0,0.0,0.0,10.0,7.0,11.0,0.0,0.0,6.0,8.0,0.0,0.0,4.0,7.0,6.0,7.0,0.0,4.0,4.0,5.0,8.0,0.0,0.0,0.0,0.0,6.0,4.0,5.0,0.0,3.0,0.0,0.0,3.0,0.0,5.0,0.0,0.0,0.0,5.0,5.0,6.0,8.0,4.0,0.0,5.0,0.0,4.0,10.0,11.0,9.0,2.0,0.0,0.0,9.0,0.0,7.0,4.0,8.0,4.0,4.0,4.0,0.0,0.0,0.0],\"yaxis\":\"y\",\"type\":\"scatter\"},{\"hovertemplate\":\"hc_clusters=1<br>avg_tran_amt_CC=%{x}<br>days_per_tran_CC=%{y}<extra></extra>\",\"legendgroup\":\"1\",\"marker\":{\"color\":\"#00cc96\",\"symbol\":\"circle\"},\"mode\":\"markers\",\"name\":\"1\",\"orientation\":\"v\",\"showlegend\":true,\"x\":[0.0,317.14772727272725,113.47408163265305,193.33444444444447,167.46500000000003,9.128909090909108,0.6707291666666789,66.73339285714287,0.0,0.0,8735.14,-225.0,143.37552631578944,80.21399999999998,-22.700166666666647],\"xaxis\":\"x\",\"y\":[0.0,15.0,7.0,3.0,7.0,6.0,3.0,6.0,0.0,0.0,0.0,1.0,9.0,6.0,5.0],\"yaxis\":\"y\",\"type\":\"scatter\"}],                        {\"template\":{\"data\":{\"bar\":[{\"error_x\":{\"color\":\"#f2f5fa\"},\"error_y\":{\"color\":\"#f2f5fa\"},\"marker\":{\"line\":{\"color\":\"rgb(17,17,17)\",\"width\":0.5},\"pattern\":{\"fillmode\":\"overlay\",\"size\":10,\"solidity\":0.2}},\"type\":\"bar\"}],\"barpolar\":[{\"marker\":{\"line\":{\"color\":\"rgb(17,17,17)\",\"width\":0.5},\"pattern\":{\"fillmode\":\"overlay\",\"size\":10,\"solidity\":0.2}},\"type\":\"barpolar\"}],\"carpet\":[{\"aaxis\":{\"endlinecolor\":\"#A2B1C6\",\"gridcolor\":\"#506784\",\"linecolor\":\"#506784\",\"minorgridcolor\":\"#506784\",\"startlinecolor\":\"#A2B1C6\"},\"baxis\":{\"endlinecolor\":\"#A2B1C6\",\"gridcolor\":\"#506784\",\"linecolor\":\"#506784\",\"minorgridcolor\":\"#506784\",\"startlinecolor\":\"#A2B1C6\"},\"type\":\"carpet\"}],\"choropleth\":[{\"colorbar\":{\"outlinewidth\":0,\"ticks\":\"\"},\"type\":\"choropleth\"}],\"contour\":[{\"colorbar\":{\"outlinewidth\":0,\"ticks\":\"\"},\"colorscale\":[[0.0,\"#0d0887\"],[0.1111111111111111,\"#46039f\"],[0.2222222222222222,\"#7201a8\"],[0.3333333333333333,\"#9c179e\"],[0.4444444444444444,\"#bd3786\"],[0.5555555555555556,\"#d8576b\"],[0.6666666666666666,\"#ed7953\"],[0.7777777777777778,\"#fb9f3a\"],[0.8888888888888888,\"#fdca26\"],[1.0,\"#f0f921\"]],\"type\":\"contour\"}],\"contourcarpet\":[{\"colorbar\":{\"outlinewidth\":0,\"ticks\":\"\"},\"type\":\"contourcarpet\"}],\"heatmap\":[{\"colorbar\":{\"outlinewidth\":0,\"ticks\":\"\"},\"colorscale\":[[0.0,\"#0d0887\"],[0.1111111111111111,\"#46039f\"],[0.2222222222222222,\"#7201a8\"],[0.3333333333333333,\"#9c179e\"],[0.4444444444444444,\"#bd3786\"],[0.5555555555555556,\"#d8576b\"],[0.6666666666666666,\"#ed7953\"],[0.7777777777777778,\"#fb9f3a\"],[0.8888888888888888,\"#fdca26\"],[1.0,\"#f0f921\"]],\"type\":\"heatmap\"}],\"heatmapgl\":[{\"colorbar\":{\"outlinewidth\":0,\"ticks\":\"\"},\"colorscale\":[[0.0,\"#0d0887\"],[0.1111111111111111,\"#46039f\"],[0.2222222222222222,\"#7201a8\"],[0.3333333333333333,\"#9c179e\"],[0.4444444444444444,\"#bd3786\"],[0.5555555555555556,\"#d8576b\"],[0.6666666666666666,\"#ed7953\"],[0.7777777777777778,\"#fb9f3a\"],[0.8888888888888888,\"#fdca26\"],[1.0,\"#f0f921\"]],\"type\":\"heatmapgl\"}],\"histogram\":[{\"marker\":{\"pattern\":{\"fillmode\":\"overlay\",\"size\":10,\"solidity\":0.2}},\"type\":\"histogram\"}],\"histogram2d\":[{\"colorbar\":{\"outlinewidth\":0,\"ticks\":\"\"},\"colorscale\":[[0.0,\"#0d0887\"],[0.1111111111111111,\"#46039f\"],[0.2222222222222222,\"#7201a8\"],[0.3333333333333333,\"#9c179e\"],[0.4444444444444444,\"#bd3786\"],[0.5555555555555556,\"#d8576b\"],[0.6666666666666666,\"#ed7953\"],[0.7777777777777778,\"#fb9f3a\"],[0.8888888888888888,\"#fdca26\"],[1.0,\"#f0f921\"]],\"type\":\"histogram2d\"}],\"histogram2dcontour\":[{\"colorbar\":{\"outlinewidth\":0,\"ticks\":\"\"},\"colorscale\":[[0.0,\"#0d0887\"],[0.1111111111111111,\"#46039f\"],[0.2222222222222222,\"#7201a8\"],[0.3333333333333333,\"#9c179e\"],[0.4444444444444444,\"#bd3786\"],[0.5555555555555556,\"#d8576b\"],[0.6666666666666666,\"#ed7953\"],[0.7777777777777778,\"#fb9f3a\"],[0.8888888888888888,\"#fdca26\"],[1.0,\"#f0f921\"]],\"type\":\"histogram2dcontour\"}],\"mesh3d\":[{\"colorbar\":{\"outlinewidth\":0,\"ticks\":\"\"},\"type\":\"mesh3d\"}],\"parcoords\":[{\"line\":{\"colorbar\":{\"outlinewidth\":0,\"ticks\":\"\"}},\"type\":\"parcoords\"}],\"pie\":[{\"automargin\":true,\"type\":\"pie\"}],\"scatter\":[{\"marker\":{\"line\":{\"color\":\"#283442\"}},\"type\":\"scatter\"}],\"scatter3d\":[{\"line\":{\"colorbar\":{\"outlinewidth\":0,\"ticks\":\"\"}},\"marker\":{\"colorbar\":{\"outlinewidth\":0,\"ticks\":\"\"}},\"type\":\"scatter3d\"}],\"scattercarpet\":[{\"marker\":{\"colorbar\":{\"outlinewidth\":0,\"ticks\":\"\"}},\"type\":\"scattercarpet\"}],\"scattergeo\":[{\"marker\":{\"colorbar\":{\"outlinewidth\":0,\"ticks\":\"\"}},\"type\":\"scattergeo\"}],\"scattergl\":[{\"marker\":{\"line\":{\"color\":\"#283442\"}},\"type\":\"scattergl\"}],\"scattermapbox\":[{\"marker\":{\"colorbar\":{\"outlinewidth\":0,\"ticks\":\"\"}},\"type\":\"scattermapbox\"}],\"scatterpolar\":[{\"marker\":{\"colorbar\":{\"outlinewidth\":0,\"ticks\":\"\"}},\"type\":\"scatterpolar\"}],\"scatterpolargl\":[{\"marker\":{\"colorbar\":{\"outlinewidth\":0,\"ticks\":\"\"}},\"type\":\"scatterpolargl\"}],\"scatterternary\":[{\"marker\":{\"colorbar\":{\"outlinewidth\":0,\"ticks\":\"\"}},\"type\":\"scatterternary\"}],\"surface\":[{\"colorbar\":{\"outlinewidth\":0,\"ticks\":\"\"},\"colorscale\":[[0.0,\"#0d0887\"],[0.1111111111111111,\"#46039f\"],[0.2222222222222222,\"#7201a8\"],[0.3333333333333333,\"#9c179e\"],[0.4444444444444444,\"#bd3786\"],[0.5555555555555556,\"#d8576b\"],[0.6666666666666666,\"#ed7953\"],[0.7777777777777778,\"#fb9f3a\"],[0.8888888888888888,\"#fdca26\"],[1.0,\"#f0f921\"]],\"type\":\"surface\"}],\"table\":[{\"cells\":{\"fill\":{\"color\":\"#506784\"},\"line\":{\"color\":\"rgb(17,17,17)\"}},\"header\":{\"fill\":{\"color\":\"#2a3f5f\"},\"line\":{\"color\":\"rgb(17,17,17)\"}},\"type\":\"table\"}]},\"layout\":{\"annotationdefaults\":{\"arrowcolor\":\"#f2f5fa\",\"arrowhead\":0,\"arrowwidth\":1},\"autotypenumbers\":\"strict\",\"coloraxis\":{\"colorbar\":{\"outlinewidth\":0,\"ticks\":\"\"}},\"colorscale\":{\"diverging\":[[0,\"#8e0152\"],[0.1,\"#c51b7d\"],[0.2,\"#de77ae\"],[0.3,\"#f1b6da\"],[0.4,\"#fde0ef\"],[0.5,\"#f7f7f7\"],[0.6,\"#e6f5d0\"],[0.7,\"#b8e186\"],[0.8,\"#7fbc41\"],[0.9,\"#4d9221\"],[1,\"#276419\"]],\"sequential\":[[0.0,\"#0d0887\"],[0.1111111111111111,\"#46039f\"],[0.2222222222222222,\"#7201a8\"],[0.3333333333333333,\"#9c179e\"],[0.4444444444444444,\"#bd3786\"],[0.5555555555555556,\"#d8576b\"],[0.6666666666666666,\"#ed7953\"],[0.7777777777777778,\"#fb9f3a\"],[0.8888888888888888,\"#fdca26\"],[1.0,\"#f0f921\"]],\"sequentialminus\":[[0.0,\"#0d0887\"],[0.1111111111111111,\"#46039f\"],[0.2222222222222222,\"#7201a8\"],[0.3333333333333333,\"#9c179e\"],[0.4444444444444444,\"#bd3786\"],[0.5555555555555556,\"#d8576b\"],[0.6666666666666666,\"#ed7953\"],[0.7777777777777778,\"#fb9f3a\"],[0.8888888888888888,\"#fdca26\"],[1.0,\"#f0f921\"]]},\"colorway\":[\"#636efa\",\"#EF553B\",\"#00cc96\",\"#ab63fa\",\"#FFA15A\",\"#19d3f3\",\"#FF6692\",\"#B6E880\",\"#FF97FF\",\"#FECB52\"],\"font\":{\"color\":\"#f2f5fa\"},\"geo\":{\"bgcolor\":\"rgb(17,17,17)\",\"lakecolor\":\"rgb(17,17,17)\",\"landcolor\":\"rgb(17,17,17)\",\"showlakes\":true,\"showland\":true,\"subunitcolor\":\"#506784\"},\"hoverlabel\":{\"align\":\"left\"},\"hovermode\":\"closest\",\"mapbox\":{\"style\":\"dark\"},\"paper_bgcolor\":\"rgb(17,17,17)\",\"plot_bgcolor\":\"rgb(17,17,17)\",\"polar\":{\"angularaxis\":{\"gridcolor\":\"#506784\",\"linecolor\":\"#506784\",\"ticks\":\"\"},\"bgcolor\":\"rgb(17,17,17)\",\"radialaxis\":{\"gridcolor\":\"#506784\",\"linecolor\":\"#506784\",\"ticks\":\"\"}},\"scene\":{\"xaxis\":{\"backgroundcolor\":\"rgb(17,17,17)\",\"gridcolor\":\"#506784\",\"gridwidth\":2,\"linecolor\":\"#506784\",\"showbackground\":true,\"ticks\":\"\",\"zerolinecolor\":\"#C8D4E3\"},\"yaxis\":{\"backgroundcolor\":\"rgb(17,17,17)\",\"gridcolor\":\"#506784\",\"gridwidth\":2,\"linecolor\":\"#506784\",\"showbackground\":true,\"ticks\":\"\",\"zerolinecolor\":\"#C8D4E3\"},\"zaxis\":{\"backgroundcolor\":\"rgb(17,17,17)\",\"gridcolor\":\"#506784\",\"gridwidth\":2,\"linecolor\":\"#506784\",\"showbackground\":true,\"ticks\":\"\",\"zerolinecolor\":\"#C8D4E3\"}},\"shapedefaults\":{\"line\":{\"color\":\"#f2f5fa\"}},\"sliderdefaults\":{\"bgcolor\":\"#C8D4E3\",\"bordercolor\":\"rgb(17,17,17)\",\"borderwidth\":1,\"tickwidth\":0},\"ternary\":{\"aaxis\":{\"gridcolor\":\"#506784\",\"linecolor\":\"#506784\",\"ticks\":\"\"},\"baxis\":{\"gridcolor\":\"#506784\",\"linecolor\":\"#506784\",\"ticks\":\"\"},\"bgcolor\":\"rgb(17,17,17)\",\"caxis\":{\"gridcolor\":\"#506784\",\"linecolor\":\"#506784\",\"ticks\":\"\"}},\"title\":{\"x\":0.05},\"updatemenudefaults\":{\"bgcolor\":\"#506784\",\"borderwidth\":0},\"xaxis\":{\"automargin\":true,\"gridcolor\":\"#283442\",\"linecolor\":\"#506784\",\"ticks\":\"\",\"title\":{\"standoff\":15},\"zerolinecolor\":\"#283442\",\"zerolinewidth\":2},\"yaxis\":{\"automargin\":true,\"gridcolor\":\"#283442\",\"linecolor\":\"#506784\",\"ticks\":\"\",\"title\":{\"standoff\":15},\"zerolinecolor\":\"#283442\",\"zerolinewidth\":2}}},\"xaxis\":{\"anchor\":\"y\",\"domain\":[0.0,1.0],\"title\":{\"text\":\"avg_tran_amt_CC\"}},\"yaxis\":{\"anchor\":\"x\",\"domain\":[0.0,1.0],\"title\":{\"text\":\"days_per_tran_CC\"}},\"legend\":{\"title\":{\"text\":\"hc_clusters\"},\"tracegroupgap\":0},\"margin\":{\"t\":60}},                        {\"responsive\": true}                    ).then(function(){\n                            \nvar gd = document.getElementById('485efbae-e010-40ec-9f2e-02aca6e996ed');\nvar x = new MutationObserver(function (mutations, observer) {{\n        var display = window.getComputedStyle(gd).display;\n        if (!display || display === 'none') {{\n            console.log([gd, 'removed!']);\n            Plotly.purge(gd);\n            observer.disconnect();\n        }}\n}});\n\n// Listen for the removal of the full notebook cells\nvar notebookContainer = gd.closest('#notebook-container');\nif (notebookContainer) {{\n    x.observe(notebookContainer, {childList: true});\n}}\n\n// Listen for the clearing of the current output cell\nvar outputEl = gd.closest('.output');\nif (outputEl) {{\n    x.observe(outputEl, {childList: true});\n}}\n\n                        })                };                });            </script>        </div>"
     },
     "metadata": {},
     "output_type": "display_data"
    }
   ],
   "source": [
    "px.scatter(final_df, y='days_per_tran_CC', x='avg_tran_amt_CC', color='km_clusters')\n",
    "px.scatter(final_df, y='days_per_tran_CC', x='avg_tran_amt_CC', color='hc_clusters')\n"
   ],
   "metadata": {
    "collapsed": false,
    "pycharm": {
     "name": "#%%\n"
    }
   }
  },
  {
   "cell_type": "code",
   "execution_count": 142,
   "outputs": [
    {
     "data": {
      "application/vnd.plotly.v1+json": {
       "data": [
        {
         "hovertemplate": "hc_clusters=1<br>avg_tran_amt_CC=%{x}<br>avg_tran_amt_CK=%{y}<br>avg_tran_amt_SV=%{z}<br>size=%{marker.size}<extra></extra>",
         "legendgroup": "1",
         "marker": {
          "color": "#636efa",
          "size": [
           157.0,
           187.0,
           50.0,
           99.0,
           37.0,
           89.0,
           22.0,
           133.0,
           188.0,
           143.0,
           26.0,
           26.0,
           177.0,
           28.0,
           135.0,
           64.0,
           57.0,
           131.0,
           139.0,
           175.0,
           156.0,
           99.0,
           82.0,
           46.0,
           206.0,
           144.0,
           95.0,
           21.0,
           79.0,
           99.0,
           136.0,
           37.0,
           22.0,
           40.0,
           33.0,
           99.0,
           94.0,
           168.0,
           129.0,
           126.0,
           12.0,
           11.0,
           97.0,
           71.0,
           162.0,
           57.0,
           97.0,
           171.0,
           122.0,
           22.0,
           193.0,
           151.0,
           34.0,
           154.0,
           168.0,
           154.0,
           156.0,
           243.0,
           123.0,
           24.0,
           179.0,
           174.0,
           51.0,
           123.0,
           22.0,
           62.0,
           12.0,
           125.0,
           116.0,
           178.0,
           168.0,
           139.0,
           126.0,
           159.0,
           99.0,
           137.0,
           201.0,
           124.0,
           29.0,
           99.0,
           40.0,
           193.0,
           99.0,
           105.0,
           165.0,
           26.0,
           24.0,
           99.0,
           134.0,
           18.0,
           99.0,
           148.0,
           111.0,
           99.0,
           174.0,
           71.0,
           12.0,
           71.0,
           207.0,
           22.0,
           172.0,
           183.0,
           49.0,
           99.0,
           130.0,
           160.0,
           120.0,
           30.0,
           140.0,
           170.0,
           83.0,
           177.0,
           99.0,
           92.0,
           160.0,
           165.0,
           12.0,
           201.0,
           99.0,
           139.0,
           153.0,
           176.0,
           205.0,
           110.0,
           168.0,
           137.0,
           139.0,
           138.0,
           26.0,
           103.0,
           208.0,
           4.0,
           130.0,
           176.0,
           136.0,
           156.0,
           48.0,
           236.0,
           160.0,
           113.0,
           99.0,
           31.0,
           181.0,
           170.0,
           34.0,
           147.0,
           160.0,
           18.0,
           153.0,
           118.0
          ],
          "sizemode": "area",
          "sizeref": 0.6575,
          "symbol": "circle"
         },
         "mode": "markers",
         "name": "1",
         "scene": "scene",
         "showlegend": true,
         "x": [
          60.89562500000001,
          16.797636363636357,
          0.0,
          0.0,
          0.0,
          278.6466666666667,
          0.0,
          0.0,
          -18.46795918367347,
          -46.13961538461538,
          0.0,
          0.0,
          -25.869230769230775,
          0.0,
          0.0,
          38.39619047619047,
          0.0,
          -9.61047619047619,
          0.0,
          -11.096470588235295,
          -23.705555555555563,
          0.0,
          0.0,
          55.70181818181818,
          -10.165217391304349,
          -43.504230769230766,
          43.23739130434784,
          0.0,
          0.0,
          0.0,
          -27.735405405405405,
          0.0,
          0.0,
          0.0,
          0.0,
          0.0,
          -22.368,
          -12.358205128205128,
          0.0,
          0.0,
          0.0,
          0.0,
          16.063529411764705,
          122.27999999999999,
          -27.531489361702118,
          0.0,
          114.26714285714287,
          -5.484782608695648,
          0.0,
          0.0,
          55.45185185185187,
          12.864230769230765,
          0.0,
          46.02479166666662,
          3.679090909090911,
          0.0,
          16.854324324324317,
          0.6707291666666789,
          0.0,
          0.0,
          -5.381785714285711,
          -0.34404761904761877,
          0.0,
          0.0,
          0.0,
          -9.360294117647058,
          0.0,
          -261.53846153846155,
          -41.5725,
          0.22395833333332918,
          -112.02694444444441,
          0.0,
          0.0,
          -4.49825,
          0.0,
          -28.804062500000008,
          21.49103896103893,
          0.0,
          0.0,
          0.0,
          0.0,
          45.94348837209303,
          0.0,
          -12.663243243243244,
          -13.364090909090907,
          0.0,
          0.0,
          0.0,
          -99.99999999999999,
          0.0,
          0.0,
          2.1378571428571456,
          0.0,
          0.0,
          -20.937954545454556,
          16.55340909090909,
          0.0,
          -5.185185185185185,
          12.534545454545452,
          0.0,
          -15.031764705882347,
          -1.1514583333333352,
          0.0,
          0.0,
          0.0,
          -21.700250000000004,
          4.283589743589757,
          181.13941176470587,
          -52.63157894736843,
          -9.786200000000001,
          98.46714285714283,
          -5.081702127659575,
          0.0,
          184.338,
          3.0602500000000026,
          -71.42857142857142,
          0.0,
          -42.30333333333334,
          0.0,
          0.0,
          19.310754716981133,
          16.95795454545456,
          -9.53157142857143,
          0.0,
          -3.615789473684211,
          143.37552631578944,
          0.0,
          0.0,
          0.0,
          0.0,
          -23.81206349206349,
          0.0,
          0.0,
          80.21399999999998,
          0.0,
          -0.4354545454545443,
          -43.29272727272726,
          15.361785714285718,
          2.550499999999997,
          0.0,
          0.0,
          0.0,
          -29.52452380952381,
          -12.763000000000003,
          0.0,
          -102.35354166666666,
          -16.823250000000005,
          0.0,
          -61.28068965517241,
          0.0
         ],
         "y": [
          -2.4746464646464617,
          -25.435757575757577,
          -37.6048,
          -41.540606060606045,
          0.0,
          -4.605194805194798,
          0.0,
          -1.1480808080808094,
          -1.791818181818184,
          -15.263030303030314,
          0.0,
          0.0,
          -53.526969696969715,
          0.0,
          3.35616161616162,
          0.0,
          0.0,
          -2.1880898876404498,
          -42.894747474747476,
          -24.337676767676772,
          -3.497373737373735,
          -2.068383838383834,
          -24.707714285714285,
          -0.75,
          -40.31020202020202,
          -2.498585858585856,
          -44.094909090909084,
          0.0,
          -1.6046835443038037,
          -25.367272727272724,
          -14.720101010101017,
          0.0,
          0.0,
          0.0,
          0.0,
          -26.159898989898984,
          -18.21325581395349,
          0.5527272727272767,
          1.1185858585858621,
          2.010606060606058,
          0.0,
          -4.7975,
          -15.056666666666668,
          -2.9227586206896556,
          -17.070505050505055,
          -105.5250877192982,
          -38.48681818181817,
          -0.42707070707070677,
          6.8777777777777755,
          0.0,
          -18.149898989898993,
          -34.42464646464645,
          0.31749999999999995,
          -29.09524390243903,
          -24.855151515151523,
          -25.780202020202022,
          4.183636363636368,
          -89.42060606060608,
          1.6020202020202075,
          0.0,
          -0.9487878787878788,
          5.1716161616161616,
          0.0,
          10.525454545454544,
          0.0,
          0.0,
          0.0,
          -4.062929292929289,
          -32.422250000000005,
          -42.544646464646455,
          -10.07030303030303,
          1.1745454545454577,
          -3.211010101010101,
          1.721919191919187,
          -2.0033333333333316,
          -15.659797979797979,
          -22.58484848484849,
          0.0633333333333355,
          0.0,
          0.382525252525252,
          0.0,
          16.41848484848484,
          0.24272727272727337,
          6.158035714285718,
          14.389494949494944,
          0.0,
          0.0,
          13.231919191919197,
          -24.226262626262628,
          0.0,
          -26.50141414141413,
          -64.6449494949495,
          -2.405858585858585,
          -27.053838383838375,
          20.59545454545454,
          -0.75,
          0.0,
          -22.477499999999996,
          -1.14,
          -7.412727272727272,
          -0.8875757575757572,
          1.2762626262626187,
          0.0,
          -1.10959595959596,
          -54.742222222222225,
          -0.012020202020202571,
          -3.0260714285714294,
          0.0,
          4.473939393939395,
          -25.641313131313137,
          -31.71243902439025,
          -18.656060606060617,
          -41.509090909090915,
          -116.38038461538463,
          -31.90292929292929,
          -3.4162626262626237,
          0.0,
          2.246666666666666,
          -4.042323232323228,
          -20.749393939393943,
          4.501720430107532,
          -18.684040404040406,
          -0.05525252525252255,
          -24.97575757575758,
          -1.21030303030303,
          -110.31767676767677,
          -2.1882828282828295,
          -42.01282828282825,
          0.0,
          -34.48758241758241,
          -34.52959595959597,
          0.0,
          -27.61171717171717,
          -74.5086868686869,
          -23.029696969696964,
          -26.626464646464648,
          0.0,
          15.393131313131313,
          -8.63252525252524,
          -53.75535353535352,
          -7.03434343434343,
          0.0,
          -36.14484848484849,
          -2.8622222222222184,
          0.0,
          -23.01454545454547,
          -26.76686868686868,
          0.0,
          -12.570404040404055,
          -41.11050505050504
         ],
         "z": [
          18.55076923076924,
          58.47454545454546,
          -6.729600000000004,
          0.0,
          -15.191621621621616,
          0.0,
          21.36136363636363,
          -3.070882352941176,
          11.659249999999997,
          59.15222222222222,
          -5.185769230769231,
          18.130769230769236,
          12.718076923076922,
          52.93785714285714,
          -4.192499999999999,
          -3.6000000000000054,
          32.0819298245614,
          -14.87142857142857,
          -7.843750000000002,
          24.382399999999997,
          -14.54428571428572,
          0.0,
          1.3741666666666665,
          0.0,
          -1.7484210526315773,
          -15.940526315789477,
          21.12117647058823,
          -7.71761904761905,
          0.0,
          0.0,
          0.0,
          -2.5237837837837858,
          -12.376818181818182,
          31.418999999999993,
          46.08878787878788,
          0.0,
          3.5185714285714265,
          18.154999999999994,
          -22.87166666666667,
          -6.8418518518518505,
          0.14999999999999997,
          0.5457142857142856,
          2.7016666666666667,
          34.354761904761915,
          -0.6937499999999988,
          0.0,
          -11.866249999999999,
          31.6026923076923,
          18.377391304347828,
          -0.5363636363636298,
          8.349000000000004,
          -21.599230769230772,
          18.502727272727274,
          22.844583333333343,
          -3.4569444444444444,
          -4.619818181818186,
          -10.110000000000001,
          -20.09354166666667,
          -2.380000000000004,
          -17.501249999999995,
          -19.282083333333336,
          9.62757575757576,
          6.257254901960785,
          152.95958333333337,
          44.373636363636365,
          -59.035000000000004,
          4.486666666666666,
          0.0,
          13.135,
          35.45354838709678,
          9.289696969696964,
          -5.514749999999998,
          26.962592592592593,
          61.81750000000001,
          0.0,
          0.15,
          -2.0144000000000006,
          -11.2908,
          -2.248620689655171,
          0.0,
          28.671250000000008,
          49.115882352941185,
          0.0,
          0.21,
          29.878181818181826,
          93.29692307692305,
          2.5283333333333315,
          0.0,
          69.78040000000001,
          15.305555555555555,
          0.0,
          36.4709523809524,
          0.35999999999999993,
          0.0,
          16.008064516129032,
          6.365454545454545,
          0.14999999999999997,
          2.7416666666666667,
          -1.7367741935483894,
          0.0,
          46.59772727272725,
          -28.48972222222223,
          2.774081632653063,
          0.0,
          1.3003225806451606,
          -28.63142857142857,
          12.632399999999995,
          18.85923076923077,
          21.509545454545457,
          11.728095238095241,
          6.330476190476196,
          40.08903225806451,
          0.0,
          67.92115384615384,
          5.59761904761905,
          32.43541666666667,
          0.24000000000000007,
          1.5615384615384629,
          0.0,
          1.4122500000000016,
          2.511428571428571,
          11.966060606060612,
          43.98222222222221,
          106.50909090909092,
          15.945161290322579,
          0.0,
          30.3005,
          -2.9569230769230765,
          14.76346153846154,
          0.4100000000000001,
          25.965434782608696,
          0.27,
          -20.581290322580646,
          117.99000000000001,
          -14.663513513513513,
          5.522500000000001,
          1.2038461538461516,
          -8.066603773584912,
          19.975714285714286,
          171.3714285714286,
          0.0,
          -6.129032258064514,
          22.596249999999994,
          -1.780645161290321,
          16.436764705882357,
          0.0,
          -22.481428571428577,
          -10.423888888888882,
          6.563200000000006,
          11.706842105263155
         ],
         "type": "scatter3d"
        },
        {
         "hovertemplate": "hc_clusters=2<br>avg_tran_amt_CC=%{x}<br>avg_tran_amt_CK=%{y}<br>avg_tran_amt_SV=%{z}<br>size=%{marker.size}<extra></extra>",
         "legendgroup": "2",
         "marker": {
          "color": "#EF553B",
          "size": [
           171.0,
           103.0,
           130.0,
           12.0,
           69.0,
           30.0,
           99.0,
           30.0,
           99.0,
           228.0,
           95.0,
           64.0,
           64.0,
           144.0,
           135.0,
           131.0,
           99.0,
           48.0,
           65.0,
           118.0,
           26.0,
           79.0,
           158.0,
           138.0,
           166.0,
           126.0,
           148.0,
           129.0,
           127.0,
           12.0,
           169.0,
           74.0,
           120.0,
           185.0,
           159.0,
           155.0,
           32.0,
           203.0,
           127.0,
           174.0,
           191.0,
           99.0,
           26.0,
           146.0,
           87.0,
           205.0,
           40.0,
           154.0,
           163.0,
           174.0,
           40.0,
           80.0,
           99.0,
           112.0,
           68.0,
           141.0,
           99.0,
           57.0,
           100.0,
           201.0,
           137.0,
           183.0,
           58.0,
           99.0,
           131.0,
           89.0,
           54.0,
           150.0,
           62.0,
           84.0,
           115.0,
           99.0,
           122.0,
           38.0,
           77.0,
           141.0,
           165.0,
           143.0,
           159.0,
           144.0,
           159.0,
           120.0,
           183.0,
           150.0,
           65.0,
           184.0,
           194.0,
           44.0,
           134.0,
           36.0,
           181.0,
           60.0,
           146.0,
           162.0,
           143.0,
           137.0,
           129.0,
           159.0,
           168.0,
           135.0,
           181.0,
           197.0,
           120.0,
           111.0,
           99.0,
           110.0,
           99.0,
           195.0,
           24.0,
           42.0,
           148.0,
           216.0,
           99.0,
           33.0,
           99.0,
           192.0,
           113.0,
           169.0,
           145.0,
           22.0,
           111.0,
           208.0,
           112.0,
           168.0,
           118.0,
           145.0,
           205.0,
           154.0,
           60.0,
           183.0,
           147.0,
           24.0,
           168.0,
           52.0,
           128.0,
           140.0,
           48.0,
           195.0,
           37.0,
           173.0,
           99.0,
           124.0,
           145.0,
           130.0,
           222.0,
           40.0,
           75.0,
           151.0,
           68.0,
           22.0,
           195.0,
           103.0,
           84.0,
           208.0,
           22.0,
           55.0,
           99.0,
           99.0,
           99.0,
           59.0,
           24.0,
           150.0,
           135.0,
           165.0,
           12.0,
           55.0,
           90.0,
           84.0,
           179.0,
           25.0,
           99.0,
           147.0,
           139.0,
           163.0,
           208.0,
           48.0,
           12.0,
           182.0,
           37.0,
           112.0,
           143.0,
           29.0,
           154.0,
           169.0,
           99.0,
           61.0,
           129.0,
           48.0,
           173.0,
           82.0,
           251.0,
           193.0,
           99.0,
           194.0,
           81.0,
           224.0,
           99.0,
           137.0,
           114.0,
           57.0,
           183.0,
           254.0,
           139.0,
           45.0,
           111.0,
           190.0,
           12.0,
           111.0,
           69.0,
           186.0,
           201.0,
           61.0,
           111.0,
           149.0,
           156.0,
           44.0,
           201.0,
           120.0,
           99.0,
           18.0,
           156.0,
           34.0,
           129.0,
           32.0,
           70.0,
           46.0,
           71.0,
           170.0,
           139.0,
           21.0,
           125.0,
           115.0,
           54.0,
           131.0,
           51.0,
           12.0,
           127.0,
           109.0,
           99.0,
           99.0,
           61.0,
           17.0,
           132.0,
           50.0,
           99.0,
           29.0,
           131.0,
           172.0,
           26.0,
           121.0,
           118.0,
           130.0,
           163.0,
           112.0,
           99.0,
           73.0,
           99.0,
           124.0,
           154.0,
           187.0,
           26.0,
           99.0,
           99.0,
           40.0,
           78.0,
           99.0,
           49.0,
           117.0,
           73.0,
           134.0,
           196.0,
           57.0,
           139.0,
           34.0,
           67.0,
           29.0,
           79.0,
           139.0,
           163.0,
           34.0,
           50.0,
           182.0,
           177.0,
           158.0,
           135.0,
           123.0,
           87.0,
           99.0,
           28.0,
           116.0,
           99.0,
           99.0,
           230.0,
           143.0,
           99.0,
           119.0,
           80.0,
           132.0,
           76.0,
           233.0,
           172.0,
           150.0,
           173.0,
           146.0,
           186.0,
           159.0,
           44.0,
           147.0,
           32.0,
           178.0,
           32.0,
           184.0,
           31.0,
           99.0,
           132.0,
           110.0,
           160.0,
           99.0,
           99.0,
           216.0,
           69.0,
           138.0,
           65.0,
           124.0,
           148.0,
           99.0,
           183.0,
           44.0,
           62.0,
           177.0,
           93.0,
           22.0,
           129.0,
           149.0,
           139.0,
           44.0,
           231.0,
           41.0,
           183.0,
           144.0,
           33.0,
           185.0,
           67.0,
           157.0,
           122.0,
           40.0,
           52.0,
           50.0,
           99.0,
           36.0,
           188.0,
           159.0,
           82.0,
           191.0,
           99.0,
           188.0,
           125.0,
           104.0,
           136.0,
           136.0,
           132.0,
           99.0,
           40.0,
           71.0,
           99.0,
           99.0,
           98.0,
           137.0,
           50.0,
           80.0,
           99.0,
           99.0,
           180.0,
           159.0,
           141.0,
           148.0,
           126.0,
           139.0,
           16.0,
           38.0,
           61.0,
           29.0,
           178.0,
           75.0,
           173.0,
           103.0,
           125.0,
           174.0,
           147.0,
           99.0,
           132.0,
           176.0,
           138.0,
           38.0,
           12.0,
           135.0
          ],
          "sizemode": "area",
          "sizeref": 0.6575,
          "symbol": "circle"
         },
         "mode": "markers",
         "name": "2",
         "scene": "scene",
         "showlegend": true,
         "x": [
          -10.57263888888889,
          -47.98718749999999,
          -63.33096774193549,
          0.0,
          0.0,
          0.0,
          0.0,
          -140.55100000000002,
          0.0,
          10.5760465116279,
          0.0,
          0.0,
          -6.6842500000000005,
          41.10955555555555,
          237.7791666666667,
          4.733437499999998,
          0.0,
          -42.638749999999995,
          -13.581692307692293,
          1.2243835616438392,
          0.0,
          0.0,
          -1.3267796610169487,
          -125.0,
          -351.85185185185185,
          -36.28222222222223,
          113.47408163265305,
          0.0,
          -328.5714285714285,
          0.0,
          0.3751282051282057,
          -17.567567567567572,
          -81.33809523809525,
          18.27186046511628,
          -29.275882352941178,
          -35.37214285714287,
          0.0,
          -5.332788461538456,
          80.48535714285713,
          -8.531200000000021,
          193.33444444444447,
          0.0,
          0.0,
          12.454468085106388,
          143.79153846153847,
          49.555230769230796,
          0.0,
          -22.41745454545455,
          16.82437500000002,
          -19.870454545454546,
          0.0,
          -23.554615384615392,
          0.0,
          -100.0,
          0.0,
          25.650476190476194,
          0.0,
          0.0,
          11.882153846153848,
          -2.1684507042253554,
          61.058684210526316,
          -8.99,
          -50.00000000000001,
          0.0,
          -37.142812500000005,
          9.814705882352948,
          0.0,
          -42.21078431372548,
          -47.22,
          -13.327647058823526,
          0.0,
          0.0,
          -43.09695652173912,
          0.0,
          0.0,
          -16.324680851063825,
          -28.0529268292683,
          -5.1889473684210525,
          -22.83119047619049,
          -45.18095238095239,
          -2.110166666666664,
          0.0,
          0.7372093023255831,
          -9.35666666666667,
          0.0,
          -7.794528301886795,
          -4.110181818181817,
          0.0,
          -43.45434782608695,
          163.7425,
          -23.809523809523803,
          -30.059393939393942,
          -40.32828571428571,
          -46.3314634146341,
          22.07295454545455,
          152.62384615384616,
          -98.459,
          -99.99999999999997,
          -95.65217391304346,
          10.233529411764703,
          -51.47310344827586,
          1.3998461538461535,
          160.44333333333333,
          -9.793695652173913,
          0.0,
          -5.333333333333333,
          0.0,
          -1.1766197183098586,
          0.0,
          -13.168809523809525,
          81.99918367346937,
          0.45545454545454234,
          0.0,
          -3.610606060606058,
          0.0,
          -13.641386861313865,
          0.0,
          -17.549183673469386,
          2.304782608695651,
          1.1977272727272719,
          16.597272727272724,
          -18.449710144927533,
          -123.07692307692308,
          -12.625072463768117,
          -50.61263157894737,
          -49.894000000000005,
          -16.125377358490567,
          9.128909090909108,
          142.07,
          -33.333333333333336,
          208.18666666666664,
          0.0,
          -49.43289473684212,
          3.5403030303030283,
          -293.1034482758621,
          -67.435,
          0.0,
          -1.5791666666666722,
          103.78459459459458,
          7.520000000000003,
          0.0,
          7.330800000000003,
          -42.0452,
          0.0,
          -8.532530120481912,
          0.0,
          0.0,
          -4.950576923076932,
          -9.44161764705882,
          0.0,
          0.8001388888888865,
          176.5466666666667,
          -16.451551724137932,
          49.368165137614675,
          0.0,
          -47.680370370370376,
          0.0,
          0.0,
          0.0,
          8.893939393939394,
          345.9941666666667,
          29.557843137254903,
          0.6577777777777788,
          -12.707142857142866,
          0.0,
          0.0,
          107.79523809523809,
          -6.107708333333332,
          4.578499999999999,
          343.1766666666667,
          0.0,
          -9.921304347826089,
          47.52050000000001,
          15.855312500000004,
          69.22391304347825,
          1.4990909090909112,
          -82.69249999999998,
          -15.751111111111104,
          -10.688000000000004,
          53.67477272727274,
          -27.86636363636364,
          0.0,
          -9.458909090909088,
          -8.059428571428567,
          0.0,
          0.0,
          -48.39233333333333,
          56.59708333333333,
          -14.47204081632653,
          21.456923076923086,
          6.818482142857144,
          -7.470370370370365,
          0.0,
          -16.949152542372882,
          -91.31142857142856,
          -7.685384615384614,
          0.0,
          0.0,
          9.554722222222223,
          0.0,
          13.53345238095238,
          -3.835354838709675,
          -57.763928571428565,
          0.0,
          0.0,
          -0.8409890109890122,
          0.0,
          0.0,
          1.2414492753623259,
          -15.176190476190481,
          -11.715185185185193,
          -16.602058823529408,
          0.0,
          -23.211400000000005,
          -72.55291666666666,
          -100.9361111111111,
          -7.006212121212124,
          0.0,
          0.0,
          -51.005,
          0.0664912280701778,
          -15.108235294117648,
          -37.12666666666668,
          0.0,
          0.0,
          51.88173913043478,
          -9.115499999999997,
          -5.947272727272727,
          155.67725000000002,
          0.0,
          -1.7487096774193633,
          -104.9325,
          75.40129032258062,
          -25.3259375,
          0.0,
          0.0,
          0.0,
          0.0,
          0.0,
          0.0,
          -44.94333333333334,
          -58.823529411764696,
          49.98818181818182,
          17.949999999999996,
          0.0,
          -38.847058823529416,
          -19.68093750000001,
          -66.2870731707317,
          37.96571428571427,
          -14.544545454545453,
          -18.328387096774193,
          0.0,
          -36.28865384615385,
          0.0,
          0.0,
          192.368,
          0.0,
          0.0,
          3.482727272727279,
          11.958636363636368,
          0.0,
          0.0,
          0.0,
          0.0,
          -92.5328846153846,
          0.0,
          -39.9584,
          -55.093333333333334,
          0.0,
          -15.069142857142866,
          -3.0093814432989747,
          -58.82352941176471,
          0.0,
          -34.569117647058825,
          85.53730769230768,
          -189.32586206896548,
          2.26721518987342,
          0.0,
          -20.088809523809523,
          53.035294117647055,
          -25.819210526315793,
          -10.055116279069763,
          -3.5024358974358907,
          -15.103220338983052,
          -16.33749999999999,
          0.0,
          -1.709166666666662,
          0.0,
          -35.03892857142857,
          0.0,
          0.0,
          0.0,
          -0.6117557251908404,
          -2.4499999999999975,
          0.0,
          -32.08477611940299,
          0.0,
          0.0,
          -16.038684210526313,
          -10.080638297872335,
          -2.6624000000000048,
          -19.50294117647059,
          -25.441428571428574,
          0.0,
          -21.449361702127657,
          -5.446166666666664,
          0.0,
          -34.91620689655173,
          -4.065312499999998,
          2.5547916666666595,
          0.0,
          -84.05559322033898,
          -166.2052631578947,
          0.0,
          0.0,
          167.0881818181818,
          -16.39344262295082,
          0.0,
          0.0,
          16.077142857142853,
          71.10333333333334,
          -225.0,
          -67.04338461538462,
          35.8472,
          -2.9596428571428572,
          0.0,
          21.53083333333333,
          0.0,
          0.0,
          -61.267872340425555,
          -41.45615384615384,
          95.32545454545453,
          0.0,
          -12.940199999999999,
          0.0,
          0.0,
          -10.754814814814816,
          0.0,
          -4.1335,
          0.008888888888891857,
          0.0,
          -2.8406557377049233,
          56.180681818181846,
          9.280232558139542,
          -88.52217391304347,
          0.0,
          -10.714,
          0.0,
          0.0,
          0.0,
          -7.445312499999997,
          -25.303888888888903,
          13.3540243902439,
          -35.80215686274509,
          0.0,
          -11.235955056179776,
          -34.42923076923077,
          87.97400000000002,
          2.7843243243243263,
          -118.75,
          0.0,
          0.0,
          20.77225,
          0.0,
          0.0,
          0.0,
          0.0,
          -22.728947368421053,
          71.27827586206895,
          24.945500000000017,
          0.0,
          0.0,
          7.486400000000003,
          -16.1325,
          -61.789375,
          7.536938775510203,
          0.0,
          0.0,
          0.0,
          -207.71920000000003,
          0.0,
          -103.41827586206897,
          0.6837974683544417,
          0.0,
          -2.547027027027022,
          -134.14634146341464,
          0.0,
          -60.74547169811319,
          59.60583333333332,
          0.0,
          0.0,
          0.3348051948051927,
          12.080512820512821,
          0.0,
          0.0,
          0.0
         ],
         "y": [
          -1.6594949494949491,
          -26.513269230769236,
          -45.64060606060607,
          0.0,
          -1.072105263157893,
          32.6661111111111,
          -16.564949494949495,
          0.0,
          7.582020202020202,
          -1.7405050505050523,
          -27.25968421052632,
          10.39263157894737,
          -20.803750000000004,
          -2.4853535353535348,
          -27.734444444444463,
          -34.613131313131305,
          -91.95464646464647,
          0.0,
          0.0,
          0.0,
          0.0,
          21.408227848101266,
          -2.070505050505051,
          -20.179393939393947,
          -24.98020202020203,
          -5.408383838383828,
          -174.5157575757575,
          -40.932525252525274,
          -8.894848484848476,
          0.0,
          -2.4443434343434363,
          0.0,
          -6.229090909090905,
          3.341010101010102,
          -1.0713131313131314,
          0.9460606060606046,
          0.0,
          -24.950000000000003,
          -5.850303030303031,
          -39.873939393939395,
          -98.93191919191918,
          -40.095353535353524,
          0.0,
          -21.380404040404045,
          -91.97689189189188,
          1.9988888888888912,
          0.0,
          -38.22020202020204,
          -1.2624242424242398,
          -25.731717171717175,
          0.0,
          -3.3476363636363637,
          -40.30838383838385,
          -31.39703703703703,
          -4.816851851851852,
          -26.789090909090902,
          -68.4269696969697,
          -2.2071929824561383,
          0.0,
          -0.1904040404040417,
          6.553737373737373,
          -1.052626262626264,
          0.0,
          -2.9101010101010085,
          4.46656565656566,
          0.0,
          0.0,
          -1.5505050505050522,
          0.0,
          7.331641791044777,
          -22.980202020202018,
          2.7784848484848466,
          6.19121212121212,
          0.0,
          -56.59630769230769,
          0.0,
          0.672525252525257,
          -3.276262626262625,
          -30.612929292929284,
          -19.579898989898982,
          -39.38343434343435,
          -27.016666666666673,
          -62.09434343434343,
          3.576161616161618,
          0.1525641025641052,
          -34.353232323232334,
          -20.890303030303038,
          -11.489375,
          -0.6439393939393933,
          0.8716666666666667,
          -8.660808080808085,
          0.0,
          -55.764343434343424,
          -38.4509090909091,
          -1.6859595959595977,
          -5.6048484848484765,
          -2.076666666666667,
          -27.452222222222222,
          -5.007575757575755,
          -8.768051948051964,
          -7.876363636363627,
          -1.3779797979797979,
          -5.203548387096779,
          -1.750307692307693,
          -21.931212121212123,
          -3.718499999999996,
          4.5521212121212145,
          -18.131919191919195,
          -3.268333333333333,
          0.0,
          -1.7131313131313153,
          -0.2037373737373747,
          -41.58878787878787,
          0.0,
          -27.27666666666667,
          0.0,
          -1.6463736263736226,
          -1.3155555555555591,
          -64.18656565656565,
          0.0,
          -4.471910112359548,
          23.66434343434344,
          -23.753333333333323,
          -23.446060606060605,
          3.39919191919192,
          -19.812929292929294,
          -41.9529292929293,
          -140.26898989898993,
          -31.256226415094346,
          -19.794848484848487,
          -8.684747474747475,
          0.0,
          18.968484848484845,
          -107.69684210526317,
          -7.929595959595954,
          -22.901313131313128,
          0.0,
          -9.27474747474748,
          0.0,
          -1.7159595959595946,
          -64.88838383838386,
          -35.923434343434366,
          -17.911010101010092,
          8.773434343434346,
          -1.9217171717171688,
          0.0,
          5.116825396825396,
          3.471717171717169,
          0.0,
          0.0,
          -3.5465656565656554,
          -3.420879120879128,
          0.0,
          7.029191919191911,
          0.0,
          0.0,
          -54.72010101010102,
          -1.0079797979797998,
          -1.3909090909090873,
          0.0,
          0.0,
          -1.842626262626263,
          -1.6271717171717155,
          -1.3662626262626278,
          0.0,
          -33.008139534883725,
          -3.855652173913043,
          0.0,
          -1.3367676767676797,
          0.0,
          -49.27646464646465,
          -0.6506060606060605,
          1.2738383838383833,
          -22.820000000000007,
          10.264646464646468,
          0.0,
          0.0,
          -26.902222222222218,
          -0.75,
          -9.171076923076926,
          -52.55050505050508,
          0.0,
          -21.497474747474737,
          0.03353535353535368,
          1.0209090909090923,
          2.9410204081632645,
          -32.126060606060605,
          0.0,
          -19.244646464646454,
          10.18767857142858,
          -68.24818181818182,
          -26.87525252525253,
          0.8244444444444451,
          -10.113232323232324,
          -32.775555555555556,
          -22.214747474747472,
          -2.690707070707072,
          4.8823232323232375,
          -0.11075757575757701,
          -5.164912280701753,
          -41.26909090909092,
          7.542727272727273,
          -18.81595959595959,
          -76.42444444444445,
          -11.212424242424246,
          -2.6977777777777763,
          0.0,
          -0.7120202020202021,
          0.0,
          -25.73494949494951,
          11.883131313131313,
          58.172000000000004,
          0.9667676767676759,
          -32.93484848484848,
          -0.5941414141414113,
          0.0,
          -37.544343434343425,
          -36.22939393939395,
          -1.298686868686862,
          0.0,
          -27.152323232323223,
          0.0,
          -34.79242424242425,
          0.0,
          -4.273999999999999,
          0.0,
          5.0378947368421025,
          -24.56040404040404,
          -8.600808080808081,
          0.0,
          -50.29563829787234,
          -25.903636363636352,
          0.0,
          -2.9274747474747445,
          -7.808205128205129,
          0.0,
          -1.3494949494949506,
          -12.863170731707319,
          -28.857171717171713,
          -25.40232323232323,
          0.0,
          0.0,
          -5.769191919191917,
          -8.151428571428573,
          -22.598282828282837,
          0.0,
          -69.8310101010101,
          -56.096060606060625,
          0.0,
          -25.911616161616177,
          -3.887540983606559,
          4.246161616161616,
          -5.663838383838383,
          -0.18636363636363826,
          -97.29090909090908,
          -4.571323529411764,
          -26.426868686868694,
          -124.96909090909094,
          -24.32111111111111,
          -3.302727272727268,
          0.0,
          -3.3736363636363627,
          -25.98050505050505,
          0.0,
          0.0,
          -59.40727272727274,
          -10.367916666666666,
          -18.638383838383845,
          0.6653424657534258,
          -12.862626262626268,
          0.6577777777777821,
          -24.54588235294117,
          -0.36474747474747604,
          0.0,
          -74.53,
          0.0,
          0.0,
          -0.4163636363636375,
          -19.402525252525262,
          0.0,
          0.0,
          -12.69555555555556,
          -25.738989898989903,
          6.565252525252524,
          8.292424242424241,
          -1.504242424242428,
          0.0,
          -20.900404040404045,
          0.0,
          -49.66171717171716,
          -18.386666666666695,
          6.2308080808080835,
          19.466565656565656,
          -1.9527272727272724,
          -2.4405050505050516,
          0.0,
          -3.0467307692307717,
          -1.9429292929292916,
          0.0,
          -1.7795959595959612,
          -24.889999999999997,
          -28.464949494949483,
          -4.810303030303035,
          -2.0104040404040413,
          -1.7836363636363595,
          -1.849696969696971,
          0.0,
          -1.0427272727272696,
          0.0,
          7.608181818181819,
          0.0,
          -38.78717171717173,
          0.0,
          -73.6382828282828,
          -53.81070707070708,
          -14.906868686868703,
          -27.77767676767677,
          -2.2070707070707063,
          -2.863838383838385,
          -24.742020202020196,
          6.556923076923076,
          -101.50171717171712,
          0.0,
          -1.6128282828282805,
          8.395656565656557,
          -0.12969696969697303,
          25.648888888888887,
          -38.29227272727272,
          40.7187755102041,
          -23.97333333333334,
          8.132881355932211,
          0.0,
          -1.522828282828283,
          -1.029191919191921,
          -73.87282828282825,
          0.0,
          -2.1227272727272766,
          0.0,
          -0.9042424242424257,
          20.52878787878788,
          0.0,
          -4.435555555555557,
          0.0,
          -36.65464646464646,
          -47.24707070707068,
          0.0,
          0.0,
          -6.245526315789473,
          -1.1007070707070692,
          0.0,
          -26.10767676767676,
          -11.614848484848489,
          0.0,
          -22.933333333333326,
          -2.1697979797979787,
          -0.29707070707070726,
          -25.08212121212121,
          -7.276464646464659,
          -33.17999999999999,
          -44.653939393939375,
          5.69979797979798,
          1.0749494949494949,
          0.0,
          -60.59711864406779,
          -0.10060606060606106,
          -27.23676767676768,
          -2.092959183673471,
          -25.72373737373738,
          0.0,
          -33.26474999999999,
          -8.781616161616162,
          -1.6987878787878767,
          1.179797979797979,
          -0.9810101010100998,
          -22.355050505050503,
          12.541616161616165,
          -0.1318181818181922,
          1.0288888888888879,
          -13.560625000000002,
          0.0,
          15.3827868852459,
          0.0,
          -19.398989898989903,
          -15.437936507936511,
          -41.38898989898989,
          0.0,
          1.083535353535352,
          -0.5072727272727279,
          -2.696565656565655,
          -20.590101010101034,
          -1.7840404040404052,
          2.6172727272727268,
          -23.918282828282837,
          0.0,
          0.0,
          -24.513232323232327
         ],
         "z": [
          0.0,
          -33.62315789473685,
          0.0,
          0.31,
          2.861666666666667,
          0.4175,
          0.0,
          0.0,
          0.0,
          4.418139534883722,
          0.0,
          -1.436153846153842,
          0.0,
          0.0,
          24.78416666666665,
          0.0,
          0.0,
          0.0,
          0.0,
          16.196222222222225,
          -5.783076923076924,
          0.0,
          0.0,
          -20.29225806451613,
          86.82025000000002,
          0.0,
          0.0,
          3.4013333333333384,
          0.0,
          0.21750000000000003,
          7.482580645161289,
          0.0,
          0.0,
          0.0,
          -1.2742307692307713,
          0.0,
          19.240937499999998,
          0.0,
          0.0,
          0.0,
          121.98605263157896,
          0.0,
          -10.976923076923075,
          0.0,
          0.0,
          35.74634146341463,
          0.03749999999999807,
          0.0,
          0.0,
          -22.854193548387094,
          34.852,
          0.16999999999999996,
          0.0,
          36.69095238095238,
          0.044285714285714255,
          0.0,
          0.0,
          0.0,
          32.163428571428575,
          -2.871290322580645,
          0.0,
          0.0,
          -0.17000000000000015,
          0.0,
          0.0,
          6.516052631578947,
          -4.8129629629629616,
          0.0,
          -1.8064102564102562,
          0.0,
          -7.511875,
          0.0,
          0.0,
          10.523684210526325,
          0.29999999999999993,
          0.0,
          56.0012,
          0.6028000000000013,
          -8.217777777777778,
          -6.537500000000001,
          0.0,
          0.003333333333332575,
          63.66682926829269,
          0.0,
          61.5476923076923,
          37.31375000000001,
          19.576249999999995,
          0.58,
          0.23,
          4.718333333333334,
          21.122500000000002,
          -4.411481481481481,
          0.3225,
          -54.90545454545451,
          0.0,
          11.323333333333332,
          0.0,
          5.69733333333333,
          0.0,
          0.15,
          28.36,
          20.722727272727276,
          0.7558333333333332,
          0.0,
          0.0,
          0.0,
          0.0,
          48.4044,
          0.0,
          0.0,
          0.0,
          53.66025,
          0.0,
          0.0,
          0.0,
          -5.411636363636363,
          83.47681818181819,
          5.584761904761906,
          0.0,
          0.0,
          0.0,
          -28.641,
          0.0,
          0.0,
          0.0,
          -9.43653846153846,
          0.0,
          0.0,
          0.0,
          6.712962962962961,
          0.0,
          11.937916666666665,
          59.37580645161291,
          0.0,
          0.0,
          15.06320000000001,
          15.299374999999996,
          37.518333333333324,
          0.0,
          0.0,
          0.0,
          0.0,
          5.105714285714287,
          -0.21516129032258033,
          -24.1625,
          -3.3807500000000017,
          0.22000000000000006,
          0.0,
          0.0,
          24.160909090909094,
          -10.021666666666667,
          0.0,
          -21.251153846153848,
          0.0,
          31.175454545454553,
          -2.6325000000000007,
          0.0,
          0.0,
          0.0,
          14.900769230769232,
          1.4249999999999998,
          0.0,
          0.0,
          -1.99875,
          0.395,
          1.8208333333333335,
          0.0,
          32.7686111111111,
          0.0,
          27.091818181818187,
          0.0,
          1.891199999999999,
          0.0,
          0.0,
          -11.555500000000002,
          23.6073076923077,
          0.0,
          7.544736842105264,
          42.23619047619048,
          0.29,
          0.0,
          16.05137931034483,
          0.0,
          0.0,
          0.0,
          0.3441666666666667,
          0.0,
          7.792083333333331,
          11.8552,
          0.0,
          -5.2312499999999975,
          1.9579999999999973,
          0.0,
          32.707777777777785,
          -30.26333333333334,
          20.258936170212767,
          0.0,
          7.5794736842105275,
          0.25,
          0.0,
          0.0,
          0.0,
          0.3041666666666667,
          0.0,
          0.5974999999999998,
          0.0,
          0.2191666666666667,
          0.48000000000000015,
          0.0,
          37.09708333333332,
          -50.10812500000001,
          0.16999999999999996,
          1.8616666666666666,
          0.0,
          5.300303030303028,
          -16.224230769230765,
          23.795,
          17.01476190476191,
          0.0,
          0.0,
          0.0,
          0.0,
          0.0,
          27.564374999999995,
          0.0,
          0.0,
          2.600833333333333,
          -40.12148148148148,
          0.0,
          17.639523809523812,
          0.0,
          0.0,
          43.662608695652175,
          0.0,
          0.19999999999999998,
          2.9000000000000004,
          5.004642857142859,
          -43.47185185185185,
          0.0,
          0.0,
          5.41,
          0.0,
          0.0,
          0.0,
          0.0,
          3.475,
          0.0,
          68.3640625,
          0.14999999999999997,
          0.0,
          30.384230769230776,
          11.330322580645161,
          0.5008333333333334,
          25.79076923076923,
          0.0,
          0.0,
          0.0,
          44.9088,
          0.0,
          0.0,
          -1.816153846153843,
          0.0,
          0.0,
          -9.021999999999997,
          -91.6253846153846,
          0.0,
          0.0,
          0.0,
          0.0,
          0.0,
          0.0,
          -1.1173913043478252,
          12.792250000000008,
          0.0,
          44.906000000000006,
          0.0,
          0.0,
          23.595499999999998,
          -2.7268181818181825,
          0.0,
          0.35999999999999993,
          -0.7745000000000088,
          0.0,
          0.0,
          0.0,
          51.1675,
          -0.21814814814814779,
          0.0,
          0.0,
          -17.152352941176474,
          0.0,
          0.0,
          0.0,
          0.22666666666666668,
          0.0,
          18.015769230769234,
          2.4846428571428554,
          124.4748484848485,
          0.0,
          -43.14825000000001,
          30.737826086956524,
          0.0,
          34.56719999999999,
          -3.596170212765961,
          13.649499999999998,
          0.0,
          27.912954545454546,
          -8.595263157894736,
          0.0,
          -25.931935483870966,
          11.408750000000003,
          14.575384615384618,
          1.8791666666666664,
          0.0,
          3.7827272727272763,
          0.0,
          0.0,
          0.0,
          0.0,
          -1.1787878787878812,
          52.65652173913044,
          -12.483333333333327,
          0.0,
          0.0,
          14.810476190476193,
          0.0,
          23.247499999999988,
          0.0,
          0.6038461538461537,
          3.98,
          57.44238095238096,
          0.0,
          7.322000000000003,
          0.0,
          180.86425,
          7.729318181818181,
          -4.360588235294118,
          34.24195121951219,
          6.066249999999999,
          0.0,
          -8.511818181818176,
          36.43319999999999,
          7.290000000000002,
          -1.492000000000009,
          0.0,
          175.16299999999998,
          0.18499999999999997,
          1.4791666666666667,
          0.0,
          27.825555555555567,
          46.8784,
          6.819166666666671,
          0.0,
          11.890000000000002,
          0.0,
          0.0,
          0.0,
          0.0,
          0.0,
          20.24285714285715,
          13.225454545454548,
          0.0,
          0.0,
          2.2025,
          0.0,
          0.0,
          0.0,
          0.0,
          -19.48428571428571,
          0.0,
          0.0,
          0.0,
          -1.9077419354838692,
          0.0,
          18.663076923076925,
          0.0,
          32.688148148148144,
          -13.60775,
          0.0,
          0.23692307692307685,
          0.0,
          0.0,
          0.0,
          1.4533333333333334,
          0.0,
          10.536935483870968,
          -13.597307692307691,
          68.95772727272725,
          0.0,
          0.0,
          43.97212121212121,
          0.0,
          0.0,
          0.0,
          2.8533333333333335,
          12.82777777777778
         ],
         "type": "scatter3d"
        },
        {
         "hovertemplate": "hc_clusters=0<br>avg_tran_amt_CC=%{x}<br>avg_tran_amt_CK=%{y}<br>avg_tran_amt_SV=%{z}<br>size=%{marker.size}<extra></extra>",
         "legendgroup": "0",
         "marker": {
          "color": "#00cc96",
          "size": [
           156.0,
           38.0,
           219.0,
           236.0,
           180.0,
           159.0,
           73.0,
           92.0,
           209.0,
           133.0,
           176.0,
           211.0,
           186.0,
           127.0,
           49.0,
           62.0,
           112.0,
           176.0,
           75.0,
           63.0,
           148.0,
           158.0,
           92.0,
           69.0,
           46.0,
           97.0,
           70.0,
           192.0,
           175.0,
           60.0,
           177.0,
           225.0,
           136.0,
           194.0,
           201.0,
           170.0,
           193.0,
           117.0,
           165.0,
           78.0,
           30.0,
           44.0,
           185.0,
           85.0,
           158.0,
           192.0,
           159.0,
           142.0,
           161.0,
           146.0,
           137.0,
           73.0,
           97.0,
           125.0,
           187.0,
           125.0,
           194.0,
           161.0,
           47.0,
           85.0,
           55.0,
           175.0,
           86.0,
           186.0,
           159.0,
           5.0,
           170.0,
           108.0,
           119.0,
           63.0,
           36.0,
           1.0,
           79.0,
           116.0,
           218.0,
           186.0,
           60.0,
           138.0,
           141.0,
           163.0,
           140.0,
           175.0,
           164.0,
           263.0,
           112.0,
           216.0,
           171.0,
           176.0,
           55.0,
           187.0,
           153.0,
           127.0,
           167.0,
           111.0,
           228.0,
           143.0,
           163.0,
           117.0,
           170.0,
           194.0,
           183.0,
           184.0,
           174.0,
           69.0,
           169.0,
           141.0,
           162.0,
           190.0,
           122.0,
           37.0,
           97.0,
           147.0,
           169.0,
           209.0,
           180.0,
           90.0,
           86.0,
           35.0
          ],
          "sizemode": "area",
          "sizeref": 0.6575,
          "symbol": "circle"
         },
         "mode": "markers",
         "name": "0",
         "scene": "scene",
         "showlegend": true,
         "x": [
          48.40514285714287,
          -15.36605263157894,
          -2.0678160919540214,
          19.931224489795934,
          0.8384000000000006,
          34.905384615384605,
          2.8376712328767124,
          173.37615384615384,
          13.397023809523809,
          317.14772727272725,
          -8.60363636363636,
          1.461392405063291,
          -9.502407407407407,
          -8.150322580645161,
          3.7842857142857143,
          -18.470588235294134,
          3905.04,
          42.802391304347815,
          -14.251836734693883,
          63.33075000000002,
          3.7972549019607875,
          1.8896610169491497,
          11.558620689655173,
          -10.813809523809525,
          563.9525,
          0.05859649122806774,
          9.25258064516129,
          6.868070175438596,
          -16.518888888888895,
          -4.658833333333333,
          -8.65709090909091,
          -4.5344155844155845,
          4.700624999999999,
          9.153818181818178,
          119.80765957446809,
          167.46500000000003,
          -0.24333333333333307,
          422.78666666666663,
          -18.520000000000003,
          146.27133333333333,
          -23.070000000000004,
          8.35904761904762,
          -19.86365853658538,
          10.923333333333332,
          5.022105263157893,
          -1.039850746268659,
          17.53625,
          -2.4534999999999973,
          -1.0648780487804874,
          13.785531914893612,
          96.23947368421052,
          -40.24874999999999,
          -18.84816326530612,
          2.68483870967742,
          -10.33234375,
          63.18129032258065,
          66.73339285714287,
          -12.961129032258066,
          -7.886382978723402,
          2.7844444444444503,
          -5.917454545454542,
          26.281400000000005,
          89.32950000000001,
          -10.13981481481481,
          -19.471250000000012,
          79.094,
          -3.113333333333329,
          98.2988888888889,
          11.879166666666672,
          1675.89,
          95.58741935483873,
          2814.61,
          23.534166666666664,
          5.588676470588235,
          -7.994390243902437,
          -2.1176923076923067,
          1749.6,
          -3.452564102564099,
          -16.171999999999993,
          5.4222580645161305,
          -19.24487804878049,
          -5.106578947368422,
          -11.208923076923078,
          40.4069369369369,
          8735.14,
          -14.500428571428568,
          16.91436363636364,
          -4.5052830188679165,
          0.9396363636363632,
          -15.984999999999992,
          12.53285714285715,
          -5.279444444444445,
          -3.2770270270270285,
          3.869999999999999,
          -4.339795918367347,
          17.027954545454552,
          32.10265625000001,
          23.538124999999997,
          135.68674999999996,
          -13.628550724637673,
          2.3515909090909095,
          -8.674727272727269,
          0.24733333333333274,
          22.268947368421045,
          0.2406250000000001,
          80.459,
          -22.138387096774213,
          35.717833333333346,
          135.1082608695652,
          95.25615384615388,
          36.7175,
          -1.3464583333333329,
          19.392093023255814,
          17.41369047619049,
          -22.700166666666647,
          4.771666666666667,
          50.96377358490565,
          139.23956521739132
         ],
         "y": [
          -7.151212121212117,
          0.0,
          -25.970606060606052,
          -1.6255555555555574,
          -14.596565656565653,
          2.3858585858585872,
          0.0,
          -54.069056603773596,
          -25.98323232323233,
          -54.89585858585859,
          -55.373838383838375,
          -22.504141414141408,
          -2.270707070707073,
          -2.9555952380952357,
          0.0,
          0.0,
          -33.45494949494949,
          -38.50151515151516,
          0.0,
          1.9108695652173926,
          -52.68882352941176,
          -26.84121212121211,
          -21.886730769230777,
          1.9374999999999976,
          -101.33807692307693,
          0.0,
          65.33777777777777,
          -35.77626262626262,
          0.4683838383838398,
          0.0,
          -23.47454545454546,
          -0.13414141414141115,
          -25.68222222222222,
          -4.3297979797979735,
          -69.75909090909083,
          -77.15505050505048,
          -2.46888888888889,
          -20.59727272727273,
          0.014141414141412763,
          -9.784523809523808,
          0.0,
          3.3609090909090913,
          -2.1464646464646475,
          -28.899807692307693,
          10.382828282828283,
          -0.048383838383832437,
          1.7743434343434334,
          -27.28737373737373,
          0.9696969696969693,
          -31.85868686868687,
          37.137474747474755,
          0.0,
          0.0,
          0.26457446808510304,
          -1.0094949494949492,
          -59.650975609756074,
          -112.2738383838384,
          19.86555555555556,
          0.0,
          0.0,
          0.0,
          -1.348787878787878,
          1.7571111111111182,
          5.953030303030302,
          9.760303030303032,
          0.0,
          -1.959191919191919,
          -16.905858585858592,
          -7.646440677966099,
          -40.67780487804878,
          0.0,
          0.0,
          -35.068444444444445,
          0.0,
          -0.03050505050504659,
          -21.70000000000001,
          -3.5957446808510642,
          -50.551212121212146,
          -3.4925252525252497,
          -3.804949494949492,
          -1.8689898989899016,
          -24.566161616161622,
          -43.416969696969694,
          -29.543939393939397,
          -75.02636363636366,
          -4.650707070707069,
          -19.122727272727282,
          -38.665252525252534,
          0.0,
          -26.052929292929285,
          9.109090909090906,
          -0.5463736263736226,
          5.3081818181818194,
          -3.4989090909090903,
          -25.288080808080807,
          -2.9142424242424223,
          -18.273434343434346,
          -0.15109589041096008,
          -13.617878787878785,
          -50.303030303030305,
          -10.064242424242423,
          -26.867474747474745,
          -10.008080808080813,
          0.0,
          7.905353535353532,
          -10.444444444444445,
          -1.6643434343434351,
          -17.232121212121218,
          0.6666666666666713,
          0.37000000000000005,
          -16.969506172839495,
          -22.99555555555557,
          0.4033333333333334,
          -22.134949494949492,
          -110.269898989899,
          -3.2737499999999997,
          0.0,
          0.0
         ],
         "z": [
          -17.57227272727273,
          0.0,
          4.044545454545452,
          0.7433333333333295,
          0.2380645161290282,
          10.128571428571433,
          0.0,
          40.28807692307692,
          33.48153846153846,
          0.31499999999999995,
          28.2490909090909,
          29.31787878787879,
          -7.3493939393939405,
          1.5050000000000001,
          0.0,
          3.654642857142857,
          2.7874999999999996,
          134.86516129032256,
          25.52076923076923,
          0.0,
          0.6608333333333334,
          0.0,
          0.17909090909090905,
          0.16166666666666665,
          0.2966666666666666,
          35.361,
          0.39000000000000007,
          0.006666666666667116,
          -29.63425,
          0.0,
          3.6934782608695667,
          34.075102040816326,
          -2.843809523809522,
          -3.384250000000003,
          201.45345454545452,
          0.27428571428570825,
          2.7057499999999988,
          0.3399999999999999,
          20.372333333333337,
          3.0509523809523764,
          0.0,
          2.5549999999999997,
          17.14288888888889,
          0.14999999999999997,
          15.273809523809529,
          52.705769230769235,
          0.25,
          7.270869565217393,
          -11.975714285714284,
          0.0,
          0.0,
          1.5187878787878795,
          98.52604166666664,
          0.0,
          8.96875,
          23.0325,
          -2.136666666666661,
          0.0,
          0.0,
          -29.850645161290323,
          0.0,
          18.053076923076922,
          21.0347619047619,
          30.170606060606065,
          -6.696071428571429,
          0.0,
          -10.185882352941178,
          0.0,
          0.37000000000000005,
          43.268095238095235,
          1.3399999999999999,
          0.0,
          51.98818181818183,
          0.19791666666666832,
          2.401621621621622,
          -9.845000000000004,
          0.18999999999999997,
          0.0,
          0.4166666666666667,
          46.95121212121213,
          0.0,
          0.0,
          0.0,
          14.697735849056603,
          0.9374999999999997,
          29.294680851063823,
          26.519411764705882,
          19.16791666666667,
          0.0,
          -10.744166666666668,
          -12.25230769230769,
          0.0,
          -19.116129032258073,
          3.813333333333335,
          7.138064516129028,
          0.0,
          0.0,
          0.23,
          -5.223548387096779,
          53.81192307692307,
          24.195,
          -4.579666666666663,
          0.0,
          39.217419354838704,
          -1.4123684210526306,
          0.16999999999999996,
          21.344374999999996,
          0.18935483870967756,
          0.0,
          0.21,
          0.0,
          0.0,
          17.13925925925926,
          20.365384615384606,
          76.82238095238095,
          72.33,
          11.046969696969699,
          0.19666666666666666
         ],
         "type": "scatter3d"
        }
       ],
       "layout": {
        "template": {
         "data": {
          "bar": [
           {
            "error_x": {
             "color": "#f2f5fa"
            },
            "error_y": {
             "color": "#f2f5fa"
            },
            "marker": {
             "line": {
              "color": "rgb(17,17,17)",
              "width": 0.5
             },
             "pattern": {
              "fillmode": "overlay",
              "size": 10,
              "solidity": 0.2
             }
            },
            "type": "bar"
           }
          ],
          "barpolar": [
           {
            "marker": {
             "line": {
              "color": "rgb(17,17,17)",
              "width": 0.5
             },
             "pattern": {
              "fillmode": "overlay",
              "size": 10,
              "solidity": 0.2
             }
            },
            "type": "barpolar"
           }
          ],
          "carpet": [
           {
            "aaxis": {
             "endlinecolor": "#A2B1C6",
             "gridcolor": "#506784",
             "linecolor": "#506784",
             "minorgridcolor": "#506784",
             "startlinecolor": "#A2B1C6"
            },
            "baxis": {
             "endlinecolor": "#A2B1C6",
             "gridcolor": "#506784",
             "linecolor": "#506784",
             "minorgridcolor": "#506784",
             "startlinecolor": "#A2B1C6"
            },
            "type": "carpet"
           }
          ],
          "choropleth": [
           {
            "colorbar": {
             "outlinewidth": 0,
             "ticks": ""
            },
            "type": "choropleth"
           }
          ],
          "contour": [
           {
            "colorbar": {
             "outlinewidth": 0,
             "ticks": ""
            },
            "colorscale": [
             [
              0.0,
              "#0d0887"
             ],
             [
              0.1111111111111111,
              "#46039f"
             ],
             [
              0.2222222222222222,
              "#7201a8"
             ],
             [
              0.3333333333333333,
              "#9c179e"
             ],
             [
              0.4444444444444444,
              "#bd3786"
             ],
             [
              0.5555555555555556,
              "#d8576b"
             ],
             [
              0.6666666666666666,
              "#ed7953"
             ],
             [
              0.7777777777777778,
              "#fb9f3a"
             ],
             [
              0.8888888888888888,
              "#fdca26"
             ],
             [
              1.0,
              "#f0f921"
             ]
            ],
            "type": "contour"
           }
          ],
          "contourcarpet": [
           {
            "colorbar": {
             "outlinewidth": 0,
             "ticks": ""
            },
            "type": "contourcarpet"
           }
          ],
          "heatmap": [
           {
            "colorbar": {
             "outlinewidth": 0,
             "ticks": ""
            },
            "colorscale": [
             [
              0.0,
              "#0d0887"
             ],
             [
              0.1111111111111111,
              "#46039f"
             ],
             [
              0.2222222222222222,
              "#7201a8"
             ],
             [
              0.3333333333333333,
              "#9c179e"
             ],
             [
              0.4444444444444444,
              "#bd3786"
             ],
             [
              0.5555555555555556,
              "#d8576b"
             ],
             [
              0.6666666666666666,
              "#ed7953"
             ],
             [
              0.7777777777777778,
              "#fb9f3a"
             ],
             [
              0.8888888888888888,
              "#fdca26"
             ],
             [
              1.0,
              "#f0f921"
             ]
            ],
            "type": "heatmap"
           }
          ],
          "heatmapgl": [
           {
            "colorbar": {
             "outlinewidth": 0,
             "ticks": ""
            },
            "colorscale": [
             [
              0.0,
              "#0d0887"
             ],
             [
              0.1111111111111111,
              "#46039f"
             ],
             [
              0.2222222222222222,
              "#7201a8"
             ],
             [
              0.3333333333333333,
              "#9c179e"
             ],
             [
              0.4444444444444444,
              "#bd3786"
             ],
             [
              0.5555555555555556,
              "#d8576b"
             ],
             [
              0.6666666666666666,
              "#ed7953"
             ],
             [
              0.7777777777777778,
              "#fb9f3a"
             ],
             [
              0.8888888888888888,
              "#fdca26"
             ],
             [
              1.0,
              "#f0f921"
             ]
            ],
            "type": "heatmapgl"
           }
          ],
          "histogram": [
           {
            "marker": {
             "pattern": {
              "fillmode": "overlay",
              "size": 10,
              "solidity": 0.2
             }
            },
            "type": "histogram"
           }
          ],
          "histogram2d": [
           {
            "colorbar": {
             "outlinewidth": 0,
             "ticks": ""
            },
            "colorscale": [
             [
              0.0,
              "#0d0887"
             ],
             [
              0.1111111111111111,
              "#46039f"
             ],
             [
              0.2222222222222222,
              "#7201a8"
             ],
             [
              0.3333333333333333,
              "#9c179e"
             ],
             [
              0.4444444444444444,
              "#bd3786"
             ],
             [
              0.5555555555555556,
              "#d8576b"
             ],
             [
              0.6666666666666666,
              "#ed7953"
             ],
             [
              0.7777777777777778,
              "#fb9f3a"
             ],
             [
              0.8888888888888888,
              "#fdca26"
             ],
             [
              1.0,
              "#f0f921"
             ]
            ],
            "type": "histogram2d"
           }
          ],
          "histogram2dcontour": [
           {
            "colorbar": {
             "outlinewidth": 0,
             "ticks": ""
            },
            "colorscale": [
             [
              0.0,
              "#0d0887"
             ],
             [
              0.1111111111111111,
              "#46039f"
             ],
             [
              0.2222222222222222,
              "#7201a8"
             ],
             [
              0.3333333333333333,
              "#9c179e"
             ],
             [
              0.4444444444444444,
              "#bd3786"
             ],
             [
              0.5555555555555556,
              "#d8576b"
             ],
             [
              0.6666666666666666,
              "#ed7953"
             ],
             [
              0.7777777777777778,
              "#fb9f3a"
             ],
             [
              0.8888888888888888,
              "#fdca26"
             ],
             [
              1.0,
              "#f0f921"
             ]
            ],
            "type": "histogram2dcontour"
           }
          ],
          "mesh3d": [
           {
            "colorbar": {
             "outlinewidth": 0,
             "ticks": ""
            },
            "type": "mesh3d"
           }
          ],
          "parcoords": [
           {
            "line": {
             "colorbar": {
              "outlinewidth": 0,
              "ticks": ""
             }
            },
            "type": "parcoords"
           }
          ],
          "pie": [
           {
            "automargin": true,
            "type": "pie"
           }
          ],
          "scatter": [
           {
            "marker": {
             "line": {
              "color": "#283442"
             }
            },
            "type": "scatter"
           }
          ],
          "scatter3d": [
           {
            "line": {
             "colorbar": {
              "outlinewidth": 0,
              "ticks": ""
             }
            },
            "marker": {
             "colorbar": {
              "outlinewidth": 0,
              "ticks": ""
             }
            },
            "type": "scatter3d"
           }
          ],
          "scattercarpet": [
           {
            "marker": {
             "colorbar": {
              "outlinewidth": 0,
              "ticks": ""
             }
            },
            "type": "scattercarpet"
           }
          ],
          "scattergeo": [
           {
            "marker": {
             "colorbar": {
              "outlinewidth": 0,
              "ticks": ""
             }
            },
            "type": "scattergeo"
           }
          ],
          "scattergl": [
           {
            "marker": {
             "line": {
              "color": "#283442"
             }
            },
            "type": "scattergl"
           }
          ],
          "scattermapbox": [
           {
            "marker": {
             "colorbar": {
              "outlinewidth": 0,
              "ticks": ""
             }
            },
            "type": "scattermapbox"
           }
          ],
          "scatterpolar": [
           {
            "marker": {
             "colorbar": {
              "outlinewidth": 0,
              "ticks": ""
             }
            },
            "type": "scatterpolar"
           }
          ],
          "scatterpolargl": [
           {
            "marker": {
             "colorbar": {
              "outlinewidth": 0,
              "ticks": ""
             }
            },
            "type": "scatterpolargl"
           }
          ],
          "scatterternary": [
           {
            "marker": {
             "colorbar": {
              "outlinewidth": 0,
              "ticks": ""
             }
            },
            "type": "scatterternary"
           }
          ],
          "surface": [
           {
            "colorbar": {
             "outlinewidth": 0,
             "ticks": ""
            },
            "colorscale": [
             [
              0.0,
              "#0d0887"
             ],
             [
              0.1111111111111111,
              "#46039f"
             ],
             [
              0.2222222222222222,
              "#7201a8"
             ],
             [
              0.3333333333333333,
              "#9c179e"
             ],
             [
              0.4444444444444444,
              "#bd3786"
             ],
             [
              0.5555555555555556,
              "#d8576b"
             ],
             [
              0.6666666666666666,
              "#ed7953"
             ],
             [
              0.7777777777777778,
              "#fb9f3a"
             ],
             [
              0.8888888888888888,
              "#fdca26"
             ],
             [
              1.0,
              "#f0f921"
             ]
            ],
            "type": "surface"
           }
          ],
          "table": [
           {
            "cells": {
             "fill": {
              "color": "#506784"
             },
             "line": {
              "color": "rgb(17,17,17)"
             }
            },
            "header": {
             "fill": {
              "color": "#2a3f5f"
             },
             "line": {
              "color": "rgb(17,17,17)"
             }
            },
            "type": "table"
           }
          ]
         },
         "layout": {
          "annotationdefaults": {
           "arrowcolor": "#f2f5fa",
           "arrowhead": 0,
           "arrowwidth": 1
          },
          "autotypenumbers": "strict",
          "coloraxis": {
           "colorbar": {
            "outlinewidth": 0,
            "ticks": ""
           }
          },
          "colorscale": {
           "diverging": [
            [
             0,
             "#8e0152"
            ],
            [
             0.1,
             "#c51b7d"
            ],
            [
             0.2,
             "#de77ae"
            ],
            [
             0.3,
             "#f1b6da"
            ],
            [
             0.4,
             "#fde0ef"
            ],
            [
             0.5,
             "#f7f7f7"
            ],
            [
             0.6,
             "#e6f5d0"
            ],
            [
             0.7,
             "#b8e186"
            ],
            [
             0.8,
             "#7fbc41"
            ],
            [
             0.9,
             "#4d9221"
            ],
            [
             1,
             "#276419"
            ]
           ],
           "sequential": [
            [
             0.0,
             "#0d0887"
            ],
            [
             0.1111111111111111,
             "#46039f"
            ],
            [
             0.2222222222222222,
             "#7201a8"
            ],
            [
             0.3333333333333333,
             "#9c179e"
            ],
            [
             0.4444444444444444,
             "#bd3786"
            ],
            [
             0.5555555555555556,
             "#d8576b"
            ],
            [
             0.6666666666666666,
             "#ed7953"
            ],
            [
             0.7777777777777778,
             "#fb9f3a"
            ],
            [
             0.8888888888888888,
             "#fdca26"
            ],
            [
             1.0,
             "#f0f921"
            ]
           ],
           "sequentialminus": [
            [
             0.0,
             "#0d0887"
            ],
            [
             0.1111111111111111,
             "#46039f"
            ],
            [
             0.2222222222222222,
             "#7201a8"
            ],
            [
             0.3333333333333333,
             "#9c179e"
            ],
            [
             0.4444444444444444,
             "#bd3786"
            ],
            [
             0.5555555555555556,
             "#d8576b"
            ],
            [
             0.6666666666666666,
             "#ed7953"
            ],
            [
             0.7777777777777778,
             "#fb9f3a"
            ],
            [
             0.8888888888888888,
             "#fdca26"
            ],
            [
             1.0,
             "#f0f921"
            ]
           ]
          },
          "colorway": [
           "#636efa",
           "#EF553B",
           "#00cc96",
           "#ab63fa",
           "#FFA15A",
           "#19d3f3",
           "#FF6692",
           "#B6E880",
           "#FF97FF",
           "#FECB52"
          ],
          "font": {
           "color": "#f2f5fa"
          },
          "geo": {
           "bgcolor": "rgb(17,17,17)",
           "lakecolor": "rgb(17,17,17)",
           "landcolor": "rgb(17,17,17)",
           "showlakes": true,
           "showland": true,
           "subunitcolor": "#506784"
          },
          "hoverlabel": {
           "align": "left"
          },
          "hovermode": "closest",
          "mapbox": {
           "style": "dark"
          },
          "paper_bgcolor": "rgb(17,17,17)",
          "plot_bgcolor": "rgb(17,17,17)",
          "polar": {
           "angularaxis": {
            "gridcolor": "#506784",
            "linecolor": "#506784",
            "ticks": ""
           },
           "bgcolor": "rgb(17,17,17)",
           "radialaxis": {
            "gridcolor": "#506784",
            "linecolor": "#506784",
            "ticks": ""
           }
          },
          "scene": {
           "xaxis": {
            "backgroundcolor": "rgb(17,17,17)",
            "gridcolor": "#506784",
            "gridwidth": 2,
            "linecolor": "#506784",
            "showbackground": true,
            "ticks": "",
            "zerolinecolor": "#C8D4E3"
           },
           "yaxis": {
            "backgroundcolor": "rgb(17,17,17)",
            "gridcolor": "#506784",
            "gridwidth": 2,
            "linecolor": "#506784",
            "showbackground": true,
            "ticks": "",
            "zerolinecolor": "#C8D4E3"
           },
           "zaxis": {
            "backgroundcolor": "rgb(17,17,17)",
            "gridcolor": "#506784",
            "gridwidth": 2,
            "linecolor": "#506784",
            "showbackground": true,
            "ticks": "",
            "zerolinecolor": "#C8D4E3"
           }
          },
          "shapedefaults": {
           "line": {
            "color": "#f2f5fa"
           }
          },
          "sliderdefaults": {
           "bgcolor": "#C8D4E3",
           "bordercolor": "rgb(17,17,17)",
           "borderwidth": 1,
           "tickwidth": 0
          },
          "ternary": {
           "aaxis": {
            "gridcolor": "#506784",
            "linecolor": "#506784",
            "ticks": ""
           },
           "baxis": {
            "gridcolor": "#506784",
            "linecolor": "#506784",
            "ticks": ""
           },
           "bgcolor": "rgb(17,17,17)",
           "caxis": {
            "gridcolor": "#506784",
            "linecolor": "#506784",
            "ticks": ""
           }
          },
          "title": {
           "x": 0.05
          },
          "updatemenudefaults": {
           "bgcolor": "#506784",
           "borderwidth": 0
          },
          "xaxis": {
           "automargin": true,
           "gridcolor": "#283442",
           "linecolor": "#506784",
           "ticks": "",
           "title": {
            "standoff": 15
           },
           "zerolinecolor": "#283442",
           "zerolinewidth": 2
          },
          "yaxis": {
           "automargin": true,
           "gridcolor": "#283442",
           "linecolor": "#506784",
           "ticks": "",
           "title": {
            "standoff": 15
           },
           "zerolinecolor": "#283442",
           "zerolinewidth": 2
          }
         }
        },
        "scene": {
         "domain": {
          "x": [
           0.0,
           1.0
          ],
          "y": [
           0.0,
           1.0
          ]
         },
         "xaxis": {
          "title": {
           "text": "avg_tran_amt_CC"
          }
         },
         "yaxis": {
          "title": {
           "text": "avg_tran_amt_CK"
          }
         },
         "zaxis": {
          "title": {
           "text": "avg_tran_amt_SV"
          }
         }
        },
        "legend": {
         "title": {
          "text": "hc_clusters"
         },
         "tracegroupgap": 0,
         "itemsizing": "constant"
        },
        "margin": {
         "t": 60
        }
       },
       "config": {
        "plotlyServerURL": "https://plot.ly"
       }
      },
      "text/html": "<div>                            <div id=\"c59028d1-6f7f-47ab-90ef-dce6de6bbd86\" class=\"plotly-graph-div\" style=\"height:525px; width:100%;\"></div>            <script type=\"text/javascript\">                require([\"plotly\"], function(Plotly) {                    window.PLOTLYENV=window.PLOTLYENV || {};                                    if (document.getElementById(\"c59028d1-6f7f-47ab-90ef-dce6de6bbd86\")) {                    Plotly.newPlot(                        \"c59028d1-6f7f-47ab-90ef-dce6de6bbd86\",                        [{\"hovertemplate\":\"hc_clusters=1<br>avg_tran_amt_CC=%{x}<br>avg_tran_amt_CK=%{y}<br>avg_tran_amt_SV=%{z}<br>size=%{marker.size}<extra></extra>\",\"legendgroup\":\"1\",\"marker\":{\"color\":\"#636efa\",\"size\":[157.0,187.0,50.0,99.0,37.0,89.0,22.0,133.0,188.0,143.0,26.0,26.0,177.0,28.0,135.0,64.0,57.0,131.0,139.0,175.0,156.0,99.0,82.0,46.0,206.0,144.0,95.0,21.0,79.0,99.0,136.0,37.0,22.0,40.0,33.0,99.0,94.0,168.0,129.0,126.0,12.0,11.0,97.0,71.0,162.0,57.0,97.0,171.0,122.0,22.0,193.0,151.0,34.0,154.0,168.0,154.0,156.0,243.0,123.0,24.0,179.0,174.0,51.0,123.0,22.0,62.0,12.0,125.0,116.0,178.0,168.0,139.0,126.0,159.0,99.0,137.0,201.0,124.0,29.0,99.0,40.0,193.0,99.0,105.0,165.0,26.0,24.0,99.0,134.0,18.0,99.0,148.0,111.0,99.0,174.0,71.0,12.0,71.0,207.0,22.0,172.0,183.0,49.0,99.0,130.0,160.0,120.0,30.0,140.0,170.0,83.0,177.0,99.0,92.0,160.0,165.0,12.0,201.0,99.0,139.0,153.0,176.0,205.0,110.0,168.0,137.0,139.0,138.0,26.0,103.0,208.0,4.0,130.0,176.0,136.0,156.0,48.0,236.0,160.0,113.0,99.0,31.0,181.0,170.0,34.0,147.0,160.0,18.0,153.0,118.0],\"sizemode\":\"area\",\"sizeref\":0.6575,\"symbol\":\"circle\"},\"mode\":\"markers\",\"name\":\"1\",\"scene\":\"scene\",\"showlegend\":true,\"x\":[60.89562500000001,16.797636363636357,0.0,0.0,0.0,278.6466666666667,0.0,0.0,-18.46795918367347,-46.13961538461538,0.0,0.0,-25.869230769230775,0.0,0.0,38.39619047619047,0.0,-9.61047619047619,0.0,-11.096470588235295,-23.705555555555563,0.0,0.0,55.70181818181818,-10.165217391304349,-43.504230769230766,43.23739130434784,0.0,0.0,0.0,-27.735405405405405,0.0,0.0,0.0,0.0,0.0,-22.368,-12.358205128205128,0.0,0.0,0.0,0.0,16.063529411764705,122.27999999999999,-27.531489361702118,0.0,114.26714285714287,-5.484782608695648,0.0,0.0,55.45185185185187,12.864230769230765,0.0,46.02479166666662,3.679090909090911,0.0,16.854324324324317,0.6707291666666789,0.0,0.0,-5.381785714285711,-0.34404761904761877,0.0,0.0,0.0,-9.360294117647058,0.0,-261.53846153846155,-41.5725,0.22395833333332918,-112.02694444444441,0.0,0.0,-4.49825,0.0,-28.804062500000008,21.49103896103893,0.0,0.0,0.0,0.0,45.94348837209303,0.0,-12.663243243243244,-13.364090909090907,0.0,0.0,0.0,-99.99999999999999,0.0,0.0,2.1378571428571456,0.0,0.0,-20.937954545454556,16.55340909090909,0.0,-5.185185185185185,12.534545454545452,0.0,-15.031764705882347,-1.1514583333333352,0.0,0.0,0.0,-21.700250000000004,4.283589743589757,181.13941176470587,-52.63157894736843,-9.786200000000001,98.46714285714283,-5.081702127659575,0.0,184.338,3.0602500000000026,-71.42857142857142,0.0,-42.30333333333334,0.0,0.0,19.310754716981133,16.95795454545456,-9.53157142857143,0.0,-3.615789473684211,143.37552631578944,0.0,0.0,0.0,0.0,-23.81206349206349,0.0,0.0,80.21399999999998,0.0,-0.4354545454545443,-43.29272727272726,15.361785714285718,2.550499999999997,0.0,0.0,0.0,-29.52452380952381,-12.763000000000003,0.0,-102.35354166666666,-16.823250000000005,0.0,-61.28068965517241,0.0],\"y\":[-2.4746464646464617,-25.435757575757577,-37.6048,-41.540606060606045,0.0,-4.605194805194798,0.0,-1.1480808080808094,-1.791818181818184,-15.263030303030314,0.0,0.0,-53.526969696969715,0.0,3.35616161616162,0.0,0.0,-2.1880898876404498,-42.894747474747476,-24.337676767676772,-3.497373737373735,-2.068383838383834,-24.707714285714285,-0.75,-40.31020202020202,-2.498585858585856,-44.094909090909084,0.0,-1.6046835443038037,-25.367272727272724,-14.720101010101017,0.0,0.0,0.0,0.0,-26.159898989898984,-18.21325581395349,0.5527272727272767,1.1185858585858621,2.010606060606058,0.0,-4.7975,-15.056666666666668,-2.9227586206896556,-17.070505050505055,-105.5250877192982,-38.48681818181817,-0.42707070707070677,6.8777777777777755,0.0,-18.149898989898993,-34.42464646464645,0.31749999999999995,-29.09524390243903,-24.855151515151523,-25.780202020202022,4.183636363636368,-89.42060606060608,1.6020202020202075,0.0,-0.9487878787878788,5.1716161616161616,0.0,10.525454545454544,0.0,0.0,0.0,-4.062929292929289,-32.422250000000005,-42.544646464646455,-10.07030303030303,1.1745454545454577,-3.211010101010101,1.721919191919187,-2.0033333333333316,-15.659797979797979,-22.58484848484849,0.0633333333333355,0.0,0.382525252525252,0.0,16.41848484848484,0.24272727272727337,6.158035714285718,14.389494949494944,0.0,0.0,13.231919191919197,-24.226262626262628,0.0,-26.50141414141413,-64.6449494949495,-2.405858585858585,-27.053838383838375,20.59545454545454,-0.75,0.0,-22.477499999999996,-1.14,-7.412727272727272,-0.8875757575757572,1.2762626262626187,0.0,-1.10959595959596,-54.742222222222225,-0.012020202020202571,-3.0260714285714294,0.0,4.473939393939395,-25.641313131313137,-31.71243902439025,-18.656060606060617,-41.509090909090915,-116.38038461538463,-31.90292929292929,-3.4162626262626237,0.0,2.246666666666666,-4.042323232323228,-20.749393939393943,4.501720430107532,-18.684040404040406,-0.05525252525252255,-24.97575757575758,-1.21030303030303,-110.31767676767677,-2.1882828282828295,-42.01282828282825,0.0,-34.48758241758241,-34.52959595959597,0.0,-27.61171717171717,-74.5086868686869,-23.029696969696964,-26.626464646464648,0.0,15.393131313131313,-8.63252525252524,-53.75535353535352,-7.03434343434343,0.0,-36.14484848484849,-2.8622222222222184,0.0,-23.01454545454547,-26.76686868686868,0.0,-12.570404040404055,-41.11050505050504],\"z\":[18.55076923076924,58.47454545454546,-6.729600000000004,0.0,-15.191621621621616,0.0,21.36136363636363,-3.070882352941176,11.659249999999997,59.15222222222222,-5.185769230769231,18.130769230769236,12.718076923076922,52.93785714285714,-4.192499999999999,-3.6000000000000054,32.0819298245614,-14.87142857142857,-7.843750000000002,24.382399999999997,-14.54428571428572,0.0,1.3741666666666665,0.0,-1.7484210526315773,-15.940526315789477,21.12117647058823,-7.71761904761905,0.0,0.0,0.0,-2.5237837837837858,-12.376818181818182,31.418999999999993,46.08878787878788,0.0,3.5185714285714265,18.154999999999994,-22.87166666666667,-6.8418518518518505,0.14999999999999997,0.5457142857142856,2.7016666666666667,34.354761904761915,-0.6937499999999988,0.0,-11.866249999999999,31.6026923076923,18.377391304347828,-0.5363636363636298,8.349000000000004,-21.599230769230772,18.502727272727274,22.844583333333343,-3.4569444444444444,-4.619818181818186,-10.110000000000001,-20.09354166666667,-2.380000000000004,-17.501249999999995,-19.282083333333336,9.62757575757576,6.257254901960785,152.95958333333337,44.373636363636365,-59.035000000000004,4.486666666666666,0.0,13.135,35.45354838709678,9.289696969696964,-5.514749999999998,26.962592592592593,61.81750000000001,0.0,0.15,-2.0144000000000006,-11.2908,-2.248620689655171,0.0,28.671250000000008,49.115882352941185,0.0,0.21,29.878181818181826,93.29692307692305,2.5283333333333315,0.0,69.78040000000001,15.305555555555555,0.0,36.4709523809524,0.35999999999999993,0.0,16.008064516129032,6.365454545454545,0.14999999999999997,2.7416666666666667,-1.7367741935483894,0.0,46.59772727272725,-28.48972222222223,2.774081632653063,0.0,1.3003225806451606,-28.63142857142857,12.632399999999995,18.85923076923077,21.509545454545457,11.728095238095241,6.330476190476196,40.08903225806451,0.0,67.92115384615384,5.59761904761905,32.43541666666667,0.24000000000000007,1.5615384615384629,0.0,1.4122500000000016,2.511428571428571,11.966060606060612,43.98222222222221,106.50909090909092,15.945161290322579,0.0,30.3005,-2.9569230769230765,14.76346153846154,0.4100000000000001,25.965434782608696,0.27,-20.581290322580646,117.99000000000001,-14.663513513513513,5.522500000000001,1.2038461538461516,-8.066603773584912,19.975714285714286,171.3714285714286,0.0,-6.129032258064514,22.596249999999994,-1.780645161290321,16.436764705882357,0.0,-22.481428571428577,-10.423888888888882,6.563200000000006,11.706842105263155],\"type\":\"scatter3d\"},{\"hovertemplate\":\"hc_clusters=2<br>avg_tran_amt_CC=%{x}<br>avg_tran_amt_CK=%{y}<br>avg_tran_amt_SV=%{z}<br>size=%{marker.size}<extra></extra>\",\"legendgroup\":\"2\",\"marker\":{\"color\":\"#EF553B\",\"size\":[171.0,103.0,130.0,12.0,69.0,30.0,99.0,30.0,99.0,228.0,95.0,64.0,64.0,144.0,135.0,131.0,99.0,48.0,65.0,118.0,26.0,79.0,158.0,138.0,166.0,126.0,148.0,129.0,127.0,12.0,169.0,74.0,120.0,185.0,159.0,155.0,32.0,203.0,127.0,174.0,191.0,99.0,26.0,146.0,87.0,205.0,40.0,154.0,163.0,174.0,40.0,80.0,99.0,112.0,68.0,141.0,99.0,57.0,100.0,201.0,137.0,183.0,58.0,99.0,131.0,89.0,54.0,150.0,62.0,84.0,115.0,99.0,122.0,38.0,77.0,141.0,165.0,143.0,159.0,144.0,159.0,120.0,183.0,150.0,65.0,184.0,194.0,44.0,134.0,36.0,181.0,60.0,146.0,162.0,143.0,137.0,129.0,159.0,168.0,135.0,181.0,197.0,120.0,111.0,99.0,110.0,99.0,195.0,24.0,42.0,148.0,216.0,99.0,33.0,99.0,192.0,113.0,169.0,145.0,22.0,111.0,208.0,112.0,168.0,118.0,145.0,205.0,154.0,60.0,183.0,147.0,24.0,168.0,52.0,128.0,140.0,48.0,195.0,37.0,173.0,99.0,124.0,145.0,130.0,222.0,40.0,75.0,151.0,68.0,22.0,195.0,103.0,84.0,208.0,22.0,55.0,99.0,99.0,99.0,59.0,24.0,150.0,135.0,165.0,12.0,55.0,90.0,84.0,179.0,25.0,99.0,147.0,139.0,163.0,208.0,48.0,12.0,182.0,37.0,112.0,143.0,29.0,154.0,169.0,99.0,61.0,129.0,48.0,173.0,82.0,251.0,193.0,99.0,194.0,81.0,224.0,99.0,137.0,114.0,57.0,183.0,254.0,139.0,45.0,111.0,190.0,12.0,111.0,69.0,186.0,201.0,61.0,111.0,149.0,156.0,44.0,201.0,120.0,99.0,18.0,156.0,34.0,129.0,32.0,70.0,46.0,71.0,170.0,139.0,21.0,125.0,115.0,54.0,131.0,51.0,12.0,127.0,109.0,99.0,99.0,61.0,17.0,132.0,50.0,99.0,29.0,131.0,172.0,26.0,121.0,118.0,130.0,163.0,112.0,99.0,73.0,99.0,124.0,154.0,187.0,26.0,99.0,99.0,40.0,78.0,99.0,49.0,117.0,73.0,134.0,196.0,57.0,139.0,34.0,67.0,29.0,79.0,139.0,163.0,34.0,50.0,182.0,177.0,158.0,135.0,123.0,87.0,99.0,28.0,116.0,99.0,99.0,230.0,143.0,99.0,119.0,80.0,132.0,76.0,233.0,172.0,150.0,173.0,146.0,186.0,159.0,44.0,147.0,32.0,178.0,32.0,184.0,31.0,99.0,132.0,110.0,160.0,99.0,99.0,216.0,69.0,138.0,65.0,124.0,148.0,99.0,183.0,44.0,62.0,177.0,93.0,22.0,129.0,149.0,139.0,44.0,231.0,41.0,183.0,144.0,33.0,185.0,67.0,157.0,122.0,40.0,52.0,50.0,99.0,36.0,188.0,159.0,82.0,191.0,99.0,188.0,125.0,104.0,136.0,136.0,132.0,99.0,40.0,71.0,99.0,99.0,98.0,137.0,50.0,80.0,99.0,99.0,180.0,159.0,141.0,148.0,126.0,139.0,16.0,38.0,61.0,29.0,178.0,75.0,173.0,103.0,125.0,174.0,147.0,99.0,132.0,176.0,138.0,38.0,12.0,135.0],\"sizemode\":\"area\",\"sizeref\":0.6575,\"symbol\":\"circle\"},\"mode\":\"markers\",\"name\":\"2\",\"scene\":\"scene\",\"showlegend\":true,\"x\":[-10.57263888888889,-47.98718749999999,-63.33096774193549,0.0,0.0,0.0,0.0,-140.55100000000002,0.0,10.5760465116279,0.0,0.0,-6.6842500000000005,41.10955555555555,237.7791666666667,4.733437499999998,0.0,-42.638749999999995,-13.581692307692293,1.2243835616438392,0.0,0.0,-1.3267796610169487,-125.0,-351.85185185185185,-36.28222222222223,113.47408163265305,0.0,-328.5714285714285,0.0,0.3751282051282057,-17.567567567567572,-81.33809523809525,18.27186046511628,-29.275882352941178,-35.37214285714287,0.0,-5.332788461538456,80.48535714285713,-8.531200000000021,193.33444444444447,0.0,0.0,12.454468085106388,143.79153846153847,49.555230769230796,0.0,-22.41745454545455,16.82437500000002,-19.870454545454546,0.0,-23.554615384615392,0.0,-100.0,0.0,25.650476190476194,0.0,0.0,11.882153846153848,-2.1684507042253554,61.058684210526316,-8.99,-50.00000000000001,0.0,-37.142812500000005,9.814705882352948,0.0,-42.21078431372548,-47.22,-13.327647058823526,0.0,0.0,-43.09695652173912,0.0,0.0,-16.324680851063825,-28.0529268292683,-5.1889473684210525,-22.83119047619049,-45.18095238095239,-2.110166666666664,0.0,0.7372093023255831,-9.35666666666667,0.0,-7.794528301886795,-4.110181818181817,0.0,-43.45434782608695,163.7425,-23.809523809523803,-30.059393939393942,-40.32828571428571,-46.3314634146341,22.07295454545455,152.62384615384616,-98.459,-99.99999999999997,-95.65217391304346,10.233529411764703,-51.47310344827586,1.3998461538461535,160.44333333333333,-9.793695652173913,0.0,-5.333333333333333,0.0,-1.1766197183098586,0.0,-13.168809523809525,81.99918367346937,0.45545454545454234,0.0,-3.610606060606058,0.0,-13.641386861313865,0.0,-17.549183673469386,2.304782608695651,1.1977272727272719,16.597272727272724,-18.449710144927533,-123.07692307692308,-12.625072463768117,-50.61263157894737,-49.894000000000005,-16.125377358490567,9.128909090909108,142.07,-33.333333333333336,208.18666666666664,0.0,-49.43289473684212,3.5403030303030283,-293.1034482758621,-67.435,0.0,-1.5791666666666722,103.78459459459458,7.520000000000003,0.0,7.330800000000003,-42.0452,0.0,-8.532530120481912,0.0,0.0,-4.950576923076932,-9.44161764705882,0.0,0.8001388888888865,176.5466666666667,-16.451551724137932,49.368165137614675,0.0,-47.680370370370376,0.0,0.0,0.0,8.893939393939394,345.9941666666667,29.557843137254903,0.6577777777777788,-12.707142857142866,0.0,0.0,107.79523809523809,-6.107708333333332,4.578499999999999,343.1766666666667,0.0,-9.921304347826089,47.52050000000001,15.855312500000004,69.22391304347825,1.4990909090909112,-82.69249999999998,-15.751111111111104,-10.688000000000004,53.67477272727274,-27.86636363636364,0.0,-9.458909090909088,-8.059428571428567,0.0,0.0,-48.39233333333333,56.59708333333333,-14.47204081632653,21.456923076923086,6.818482142857144,-7.470370370370365,0.0,-16.949152542372882,-91.31142857142856,-7.685384615384614,0.0,0.0,9.554722222222223,0.0,13.53345238095238,-3.835354838709675,-57.763928571428565,0.0,0.0,-0.8409890109890122,0.0,0.0,1.2414492753623259,-15.176190476190481,-11.715185185185193,-16.602058823529408,0.0,-23.211400000000005,-72.55291666666666,-100.9361111111111,-7.006212121212124,0.0,0.0,-51.005,0.0664912280701778,-15.108235294117648,-37.12666666666668,0.0,0.0,51.88173913043478,-9.115499999999997,-5.947272727272727,155.67725000000002,0.0,-1.7487096774193633,-104.9325,75.40129032258062,-25.3259375,0.0,0.0,0.0,0.0,0.0,0.0,-44.94333333333334,-58.823529411764696,49.98818181818182,17.949999999999996,0.0,-38.847058823529416,-19.68093750000001,-66.2870731707317,37.96571428571427,-14.544545454545453,-18.328387096774193,0.0,-36.28865384615385,0.0,0.0,192.368,0.0,0.0,3.482727272727279,11.958636363636368,0.0,0.0,0.0,0.0,-92.5328846153846,0.0,-39.9584,-55.093333333333334,0.0,-15.069142857142866,-3.0093814432989747,-58.82352941176471,0.0,-34.569117647058825,85.53730769230768,-189.32586206896548,2.26721518987342,0.0,-20.088809523809523,53.035294117647055,-25.819210526315793,-10.055116279069763,-3.5024358974358907,-15.103220338983052,-16.33749999999999,0.0,-1.709166666666662,0.0,-35.03892857142857,0.0,0.0,0.0,-0.6117557251908404,-2.4499999999999975,0.0,-32.08477611940299,0.0,0.0,-16.038684210526313,-10.080638297872335,-2.6624000000000048,-19.50294117647059,-25.441428571428574,0.0,-21.449361702127657,-5.446166666666664,0.0,-34.91620689655173,-4.065312499999998,2.5547916666666595,0.0,-84.05559322033898,-166.2052631578947,0.0,0.0,167.0881818181818,-16.39344262295082,0.0,0.0,16.077142857142853,71.10333333333334,-225.0,-67.04338461538462,35.8472,-2.9596428571428572,0.0,21.53083333333333,0.0,0.0,-61.267872340425555,-41.45615384615384,95.32545454545453,0.0,-12.940199999999999,0.0,0.0,-10.754814814814816,0.0,-4.1335,0.008888888888891857,0.0,-2.8406557377049233,56.180681818181846,9.280232558139542,-88.52217391304347,0.0,-10.714,0.0,0.0,0.0,-7.445312499999997,-25.303888888888903,13.3540243902439,-35.80215686274509,0.0,-11.235955056179776,-34.42923076923077,87.97400000000002,2.7843243243243263,-118.75,0.0,0.0,20.77225,0.0,0.0,0.0,0.0,-22.728947368421053,71.27827586206895,24.945500000000017,0.0,0.0,7.486400000000003,-16.1325,-61.789375,7.536938775510203,0.0,0.0,0.0,-207.71920000000003,0.0,-103.41827586206897,0.6837974683544417,0.0,-2.547027027027022,-134.14634146341464,0.0,-60.74547169811319,59.60583333333332,0.0,0.0,0.3348051948051927,12.080512820512821,0.0,0.0,0.0],\"y\":[-1.6594949494949491,-26.513269230769236,-45.64060606060607,0.0,-1.072105263157893,32.6661111111111,-16.564949494949495,0.0,7.582020202020202,-1.7405050505050523,-27.25968421052632,10.39263157894737,-20.803750000000004,-2.4853535353535348,-27.734444444444463,-34.613131313131305,-91.95464646464647,0.0,0.0,0.0,0.0,21.408227848101266,-2.070505050505051,-20.179393939393947,-24.98020202020203,-5.408383838383828,-174.5157575757575,-40.932525252525274,-8.894848484848476,0.0,-2.4443434343434363,0.0,-6.229090909090905,3.341010101010102,-1.0713131313131314,0.9460606060606046,0.0,-24.950000000000003,-5.850303030303031,-39.873939393939395,-98.93191919191918,-40.095353535353524,0.0,-21.380404040404045,-91.97689189189188,1.9988888888888912,0.0,-38.22020202020204,-1.2624242424242398,-25.731717171717175,0.0,-3.3476363636363637,-40.30838383838385,-31.39703703703703,-4.816851851851852,-26.789090909090902,-68.4269696969697,-2.2071929824561383,0.0,-0.1904040404040417,6.553737373737373,-1.052626262626264,0.0,-2.9101010101010085,4.46656565656566,0.0,0.0,-1.5505050505050522,0.0,7.331641791044777,-22.980202020202018,2.7784848484848466,6.19121212121212,0.0,-56.59630769230769,0.0,0.672525252525257,-3.276262626262625,-30.612929292929284,-19.579898989898982,-39.38343434343435,-27.016666666666673,-62.09434343434343,3.576161616161618,0.1525641025641052,-34.353232323232334,-20.890303030303038,-11.489375,-0.6439393939393933,0.8716666666666667,-8.660808080808085,0.0,-55.764343434343424,-38.4509090909091,-1.6859595959595977,-5.6048484848484765,-2.076666666666667,-27.452222222222222,-5.007575757575755,-8.768051948051964,-7.876363636363627,-1.3779797979797979,-5.203548387096779,-1.750307692307693,-21.931212121212123,-3.718499999999996,4.5521212121212145,-18.131919191919195,-3.268333333333333,0.0,-1.7131313131313153,-0.2037373737373747,-41.58878787878787,0.0,-27.27666666666667,0.0,-1.6463736263736226,-1.3155555555555591,-64.18656565656565,0.0,-4.471910112359548,23.66434343434344,-23.753333333333323,-23.446060606060605,3.39919191919192,-19.812929292929294,-41.9529292929293,-140.26898989898993,-31.256226415094346,-19.794848484848487,-8.684747474747475,0.0,18.968484848484845,-107.69684210526317,-7.929595959595954,-22.901313131313128,0.0,-9.27474747474748,0.0,-1.7159595959595946,-64.88838383838386,-35.923434343434366,-17.911010101010092,8.773434343434346,-1.9217171717171688,0.0,5.116825396825396,3.471717171717169,0.0,0.0,-3.5465656565656554,-3.420879120879128,0.0,7.029191919191911,0.0,0.0,-54.72010101010102,-1.0079797979797998,-1.3909090909090873,0.0,0.0,-1.842626262626263,-1.6271717171717155,-1.3662626262626278,0.0,-33.008139534883725,-3.855652173913043,0.0,-1.3367676767676797,0.0,-49.27646464646465,-0.6506060606060605,1.2738383838383833,-22.820000000000007,10.264646464646468,0.0,0.0,-26.902222222222218,-0.75,-9.171076923076926,-52.55050505050508,0.0,-21.497474747474737,0.03353535353535368,1.0209090909090923,2.9410204081632645,-32.126060606060605,0.0,-19.244646464646454,10.18767857142858,-68.24818181818182,-26.87525252525253,0.8244444444444451,-10.113232323232324,-32.775555555555556,-22.214747474747472,-2.690707070707072,4.8823232323232375,-0.11075757575757701,-5.164912280701753,-41.26909090909092,7.542727272727273,-18.81595959595959,-76.42444444444445,-11.212424242424246,-2.6977777777777763,0.0,-0.7120202020202021,0.0,-25.73494949494951,11.883131313131313,58.172000000000004,0.9667676767676759,-32.93484848484848,-0.5941414141414113,0.0,-37.544343434343425,-36.22939393939395,-1.298686868686862,0.0,-27.152323232323223,0.0,-34.79242424242425,0.0,-4.273999999999999,0.0,5.0378947368421025,-24.56040404040404,-8.600808080808081,0.0,-50.29563829787234,-25.903636363636352,0.0,-2.9274747474747445,-7.808205128205129,0.0,-1.3494949494949506,-12.863170731707319,-28.857171717171713,-25.40232323232323,0.0,0.0,-5.769191919191917,-8.151428571428573,-22.598282828282837,0.0,-69.8310101010101,-56.096060606060625,0.0,-25.911616161616177,-3.887540983606559,4.246161616161616,-5.663838383838383,-0.18636363636363826,-97.29090909090908,-4.571323529411764,-26.426868686868694,-124.96909090909094,-24.32111111111111,-3.302727272727268,0.0,-3.3736363636363627,-25.98050505050505,0.0,0.0,-59.40727272727274,-10.367916666666666,-18.638383838383845,0.6653424657534258,-12.862626262626268,0.6577777777777821,-24.54588235294117,-0.36474747474747604,0.0,-74.53,0.0,0.0,-0.4163636363636375,-19.402525252525262,0.0,0.0,-12.69555555555556,-25.738989898989903,6.565252525252524,8.292424242424241,-1.504242424242428,0.0,-20.900404040404045,0.0,-49.66171717171716,-18.386666666666695,6.2308080808080835,19.466565656565656,-1.9527272727272724,-2.4405050505050516,0.0,-3.0467307692307717,-1.9429292929292916,0.0,-1.7795959595959612,-24.889999999999997,-28.464949494949483,-4.810303030303035,-2.0104040404040413,-1.7836363636363595,-1.849696969696971,0.0,-1.0427272727272696,0.0,7.608181818181819,0.0,-38.78717171717173,0.0,-73.6382828282828,-53.81070707070708,-14.906868686868703,-27.77767676767677,-2.2070707070707063,-2.863838383838385,-24.742020202020196,6.556923076923076,-101.50171717171712,0.0,-1.6128282828282805,8.395656565656557,-0.12969696969697303,25.648888888888887,-38.29227272727272,40.7187755102041,-23.97333333333334,8.132881355932211,0.0,-1.522828282828283,-1.029191919191921,-73.87282828282825,0.0,-2.1227272727272766,0.0,-0.9042424242424257,20.52878787878788,0.0,-4.435555555555557,0.0,-36.65464646464646,-47.24707070707068,0.0,0.0,-6.245526315789473,-1.1007070707070692,0.0,-26.10767676767676,-11.614848484848489,0.0,-22.933333333333326,-2.1697979797979787,-0.29707070707070726,-25.08212121212121,-7.276464646464659,-33.17999999999999,-44.653939393939375,5.69979797979798,1.0749494949494949,0.0,-60.59711864406779,-0.10060606060606106,-27.23676767676768,-2.092959183673471,-25.72373737373738,0.0,-33.26474999999999,-8.781616161616162,-1.6987878787878767,1.179797979797979,-0.9810101010100998,-22.355050505050503,12.541616161616165,-0.1318181818181922,1.0288888888888879,-13.560625000000002,0.0,15.3827868852459,0.0,-19.398989898989903,-15.437936507936511,-41.38898989898989,0.0,1.083535353535352,-0.5072727272727279,-2.696565656565655,-20.590101010101034,-1.7840404040404052,2.6172727272727268,-23.918282828282837,0.0,0.0,-24.513232323232327],\"z\":[0.0,-33.62315789473685,0.0,0.31,2.861666666666667,0.4175,0.0,0.0,0.0,4.418139534883722,0.0,-1.436153846153842,0.0,0.0,24.78416666666665,0.0,0.0,0.0,0.0,16.196222222222225,-5.783076923076924,0.0,0.0,-20.29225806451613,86.82025000000002,0.0,0.0,3.4013333333333384,0.0,0.21750000000000003,7.482580645161289,0.0,0.0,0.0,-1.2742307692307713,0.0,19.240937499999998,0.0,0.0,0.0,121.98605263157896,0.0,-10.976923076923075,0.0,0.0,35.74634146341463,0.03749999999999807,0.0,0.0,-22.854193548387094,34.852,0.16999999999999996,0.0,36.69095238095238,0.044285714285714255,0.0,0.0,0.0,32.163428571428575,-2.871290322580645,0.0,0.0,-0.17000000000000015,0.0,0.0,6.516052631578947,-4.8129629629629616,0.0,-1.8064102564102562,0.0,-7.511875,0.0,0.0,10.523684210526325,0.29999999999999993,0.0,56.0012,0.6028000000000013,-8.217777777777778,-6.537500000000001,0.0,0.003333333333332575,63.66682926829269,0.0,61.5476923076923,37.31375000000001,19.576249999999995,0.58,0.23,4.718333333333334,21.122500000000002,-4.411481481481481,0.3225,-54.90545454545451,0.0,11.323333333333332,0.0,5.69733333333333,0.0,0.15,28.36,20.722727272727276,0.7558333333333332,0.0,0.0,0.0,0.0,48.4044,0.0,0.0,0.0,53.66025,0.0,0.0,0.0,-5.411636363636363,83.47681818181819,5.584761904761906,0.0,0.0,0.0,-28.641,0.0,0.0,0.0,-9.43653846153846,0.0,0.0,0.0,6.712962962962961,0.0,11.937916666666665,59.37580645161291,0.0,0.0,15.06320000000001,15.299374999999996,37.518333333333324,0.0,0.0,0.0,0.0,5.105714285714287,-0.21516129032258033,-24.1625,-3.3807500000000017,0.22000000000000006,0.0,0.0,24.160909090909094,-10.021666666666667,0.0,-21.251153846153848,0.0,31.175454545454553,-2.6325000000000007,0.0,0.0,0.0,14.900769230769232,1.4249999999999998,0.0,0.0,-1.99875,0.395,1.8208333333333335,0.0,32.7686111111111,0.0,27.091818181818187,0.0,1.891199999999999,0.0,0.0,-11.555500000000002,23.6073076923077,0.0,7.544736842105264,42.23619047619048,0.29,0.0,16.05137931034483,0.0,0.0,0.0,0.3441666666666667,0.0,7.792083333333331,11.8552,0.0,-5.2312499999999975,1.9579999999999973,0.0,32.707777777777785,-30.26333333333334,20.258936170212767,0.0,7.5794736842105275,0.25,0.0,0.0,0.0,0.3041666666666667,0.0,0.5974999999999998,0.0,0.2191666666666667,0.48000000000000015,0.0,37.09708333333332,-50.10812500000001,0.16999999999999996,1.8616666666666666,0.0,5.300303030303028,-16.224230769230765,23.795,17.01476190476191,0.0,0.0,0.0,0.0,0.0,27.564374999999995,0.0,0.0,2.600833333333333,-40.12148148148148,0.0,17.639523809523812,0.0,0.0,43.662608695652175,0.0,0.19999999999999998,2.9000000000000004,5.004642857142859,-43.47185185185185,0.0,0.0,5.41,0.0,0.0,0.0,0.0,3.475,0.0,68.3640625,0.14999999999999997,0.0,30.384230769230776,11.330322580645161,0.5008333333333334,25.79076923076923,0.0,0.0,0.0,44.9088,0.0,0.0,-1.816153846153843,0.0,0.0,-9.021999999999997,-91.6253846153846,0.0,0.0,0.0,0.0,0.0,0.0,-1.1173913043478252,12.792250000000008,0.0,44.906000000000006,0.0,0.0,23.595499999999998,-2.7268181818181825,0.0,0.35999999999999993,-0.7745000000000088,0.0,0.0,0.0,51.1675,-0.21814814814814779,0.0,0.0,-17.152352941176474,0.0,0.0,0.0,0.22666666666666668,0.0,18.015769230769234,2.4846428571428554,124.4748484848485,0.0,-43.14825000000001,30.737826086956524,0.0,34.56719999999999,-3.596170212765961,13.649499999999998,0.0,27.912954545454546,-8.595263157894736,0.0,-25.931935483870966,11.408750000000003,14.575384615384618,1.8791666666666664,0.0,3.7827272727272763,0.0,0.0,0.0,0.0,-1.1787878787878812,52.65652173913044,-12.483333333333327,0.0,0.0,14.810476190476193,0.0,23.247499999999988,0.0,0.6038461538461537,3.98,57.44238095238096,0.0,7.322000000000003,0.0,180.86425,7.729318181818181,-4.360588235294118,34.24195121951219,6.066249999999999,0.0,-8.511818181818176,36.43319999999999,7.290000000000002,-1.492000000000009,0.0,175.16299999999998,0.18499999999999997,1.4791666666666667,0.0,27.825555555555567,46.8784,6.819166666666671,0.0,11.890000000000002,0.0,0.0,0.0,0.0,0.0,20.24285714285715,13.225454545454548,0.0,0.0,2.2025,0.0,0.0,0.0,0.0,-19.48428571428571,0.0,0.0,0.0,-1.9077419354838692,0.0,18.663076923076925,0.0,32.688148148148144,-13.60775,0.0,0.23692307692307685,0.0,0.0,0.0,1.4533333333333334,0.0,10.536935483870968,-13.597307692307691,68.95772727272725,0.0,0.0,43.97212121212121,0.0,0.0,0.0,2.8533333333333335,12.82777777777778],\"type\":\"scatter3d\"},{\"hovertemplate\":\"hc_clusters=0<br>avg_tran_amt_CC=%{x}<br>avg_tran_amt_CK=%{y}<br>avg_tran_amt_SV=%{z}<br>size=%{marker.size}<extra></extra>\",\"legendgroup\":\"0\",\"marker\":{\"color\":\"#00cc96\",\"size\":[156.0,38.0,219.0,236.0,180.0,159.0,73.0,92.0,209.0,133.0,176.0,211.0,186.0,127.0,49.0,62.0,112.0,176.0,75.0,63.0,148.0,158.0,92.0,69.0,46.0,97.0,70.0,192.0,175.0,60.0,177.0,225.0,136.0,194.0,201.0,170.0,193.0,117.0,165.0,78.0,30.0,44.0,185.0,85.0,158.0,192.0,159.0,142.0,161.0,146.0,137.0,73.0,97.0,125.0,187.0,125.0,194.0,161.0,47.0,85.0,55.0,175.0,86.0,186.0,159.0,5.0,170.0,108.0,119.0,63.0,36.0,1.0,79.0,116.0,218.0,186.0,60.0,138.0,141.0,163.0,140.0,175.0,164.0,263.0,112.0,216.0,171.0,176.0,55.0,187.0,153.0,127.0,167.0,111.0,228.0,143.0,163.0,117.0,170.0,194.0,183.0,184.0,174.0,69.0,169.0,141.0,162.0,190.0,122.0,37.0,97.0,147.0,169.0,209.0,180.0,90.0,86.0,35.0],\"sizemode\":\"area\",\"sizeref\":0.6575,\"symbol\":\"circle\"},\"mode\":\"markers\",\"name\":\"0\",\"scene\":\"scene\",\"showlegend\":true,\"x\":[48.40514285714287,-15.36605263157894,-2.0678160919540214,19.931224489795934,0.8384000000000006,34.905384615384605,2.8376712328767124,173.37615384615384,13.397023809523809,317.14772727272725,-8.60363636363636,1.461392405063291,-9.502407407407407,-8.150322580645161,3.7842857142857143,-18.470588235294134,3905.04,42.802391304347815,-14.251836734693883,63.33075000000002,3.7972549019607875,1.8896610169491497,11.558620689655173,-10.813809523809525,563.9525,0.05859649122806774,9.25258064516129,6.868070175438596,-16.518888888888895,-4.658833333333333,-8.65709090909091,-4.5344155844155845,4.700624999999999,9.153818181818178,119.80765957446809,167.46500000000003,-0.24333333333333307,422.78666666666663,-18.520000000000003,146.27133333333333,-23.070000000000004,8.35904761904762,-19.86365853658538,10.923333333333332,5.022105263157893,-1.039850746268659,17.53625,-2.4534999999999973,-1.0648780487804874,13.785531914893612,96.23947368421052,-40.24874999999999,-18.84816326530612,2.68483870967742,-10.33234375,63.18129032258065,66.73339285714287,-12.961129032258066,-7.886382978723402,2.7844444444444503,-5.917454545454542,26.281400000000005,89.32950000000001,-10.13981481481481,-19.471250000000012,79.094,-3.113333333333329,98.2988888888889,11.879166666666672,1675.89,95.58741935483873,2814.61,23.534166666666664,5.588676470588235,-7.994390243902437,-2.1176923076923067,1749.6,-3.452564102564099,-16.171999999999993,5.4222580645161305,-19.24487804878049,-5.106578947368422,-11.208923076923078,40.4069369369369,8735.14,-14.500428571428568,16.91436363636364,-4.5052830188679165,0.9396363636363632,-15.984999999999992,12.53285714285715,-5.279444444444445,-3.2770270270270285,3.869999999999999,-4.339795918367347,17.027954545454552,32.10265625000001,23.538124999999997,135.68674999999996,-13.628550724637673,2.3515909090909095,-8.674727272727269,0.24733333333333274,22.268947368421045,0.2406250000000001,80.459,-22.138387096774213,35.717833333333346,135.1082608695652,95.25615384615388,36.7175,-1.3464583333333329,19.392093023255814,17.41369047619049,-22.700166666666647,4.771666666666667,50.96377358490565,139.23956521739132],\"y\":[-7.151212121212117,0.0,-25.970606060606052,-1.6255555555555574,-14.596565656565653,2.3858585858585872,0.0,-54.069056603773596,-25.98323232323233,-54.89585858585859,-55.373838383838375,-22.504141414141408,-2.270707070707073,-2.9555952380952357,0.0,0.0,-33.45494949494949,-38.50151515151516,0.0,1.9108695652173926,-52.68882352941176,-26.84121212121211,-21.886730769230777,1.9374999999999976,-101.33807692307693,0.0,65.33777777777777,-35.77626262626262,0.4683838383838398,0.0,-23.47454545454546,-0.13414141414141115,-25.68222222222222,-4.3297979797979735,-69.75909090909083,-77.15505050505048,-2.46888888888889,-20.59727272727273,0.014141414141412763,-9.784523809523808,0.0,3.3609090909090913,-2.1464646464646475,-28.899807692307693,10.382828282828283,-0.048383838383832437,1.7743434343434334,-27.28737373737373,0.9696969696969693,-31.85868686868687,37.137474747474755,0.0,0.0,0.26457446808510304,-1.0094949494949492,-59.650975609756074,-112.2738383838384,19.86555555555556,0.0,0.0,0.0,-1.348787878787878,1.7571111111111182,5.953030303030302,9.760303030303032,0.0,-1.959191919191919,-16.905858585858592,-7.646440677966099,-40.67780487804878,0.0,0.0,-35.068444444444445,0.0,-0.03050505050504659,-21.70000000000001,-3.5957446808510642,-50.551212121212146,-3.4925252525252497,-3.804949494949492,-1.8689898989899016,-24.566161616161622,-43.416969696969694,-29.543939393939397,-75.02636363636366,-4.650707070707069,-19.122727272727282,-38.665252525252534,0.0,-26.052929292929285,9.109090909090906,-0.5463736263736226,5.3081818181818194,-3.4989090909090903,-25.288080808080807,-2.9142424242424223,-18.273434343434346,-0.15109589041096008,-13.617878787878785,-50.303030303030305,-10.064242424242423,-26.867474747474745,-10.008080808080813,0.0,7.905353535353532,-10.444444444444445,-1.6643434343434351,-17.232121212121218,0.6666666666666713,0.37000000000000005,-16.969506172839495,-22.99555555555557,0.4033333333333334,-22.134949494949492,-110.269898989899,-3.2737499999999997,0.0,0.0],\"z\":[-17.57227272727273,0.0,4.044545454545452,0.7433333333333295,0.2380645161290282,10.128571428571433,0.0,40.28807692307692,33.48153846153846,0.31499999999999995,28.2490909090909,29.31787878787879,-7.3493939393939405,1.5050000000000001,0.0,3.654642857142857,2.7874999999999996,134.86516129032256,25.52076923076923,0.0,0.6608333333333334,0.0,0.17909090909090905,0.16166666666666665,0.2966666666666666,35.361,0.39000000000000007,0.006666666666667116,-29.63425,0.0,3.6934782608695667,34.075102040816326,-2.843809523809522,-3.384250000000003,201.45345454545452,0.27428571428570825,2.7057499999999988,0.3399999999999999,20.372333333333337,3.0509523809523764,0.0,2.5549999999999997,17.14288888888889,0.14999999999999997,15.273809523809529,52.705769230769235,0.25,7.270869565217393,-11.975714285714284,0.0,0.0,1.5187878787878795,98.52604166666664,0.0,8.96875,23.0325,-2.136666666666661,0.0,0.0,-29.850645161290323,0.0,18.053076923076922,21.0347619047619,30.170606060606065,-6.696071428571429,0.0,-10.185882352941178,0.0,0.37000000000000005,43.268095238095235,1.3399999999999999,0.0,51.98818181818183,0.19791666666666832,2.401621621621622,-9.845000000000004,0.18999999999999997,0.0,0.4166666666666667,46.95121212121213,0.0,0.0,0.0,14.697735849056603,0.9374999999999997,29.294680851063823,26.519411764705882,19.16791666666667,0.0,-10.744166666666668,-12.25230769230769,0.0,-19.116129032258073,3.813333333333335,7.138064516129028,0.0,0.0,0.23,-5.223548387096779,53.81192307692307,24.195,-4.579666666666663,0.0,39.217419354838704,-1.4123684210526306,0.16999999999999996,21.344374999999996,0.18935483870967756,0.0,0.21,0.0,0.0,17.13925925925926,20.365384615384606,76.82238095238095,72.33,11.046969696969699,0.19666666666666666],\"type\":\"scatter3d\"}],                        {\"template\":{\"data\":{\"bar\":[{\"error_x\":{\"color\":\"#f2f5fa\"},\"error_y\":{\"color\":\"#f2f5fa\"},\"marker\":{\"line\":{\"color\":\"rgb(17,17,17)\",\"width\":0.5},\"pattern\":{\"fillmode\":\"overlay\",\"size\":10,\"solidity\":0.2}},\"type\":\"bar\"}],\"barpolar\":[{\"marker\":{\"line\":{\"color\":\"rgb(17,17,17)\",\"width\":0.5},\"pattern\":{\"fillmode\":\"overlay\",\"size\":10,\"solidity\":0.2}},\"type\":\"barpolar\"}],\"carpet\":[{\"aaxis\":{\"endlinecolor\":\"#A2B1C6\",\"gridcolor\":\"#506784\",\"linecolor\":\"#506784\",\"minorgridcolor\":\"#506784\",\"startlinecolor\":\"#A2B1C6\"},\"baxis\":{\"endlinecolor\":\"#A2B1C6\",\"gridcolor\":\"#506784\",\"linecolor\":\"#506784\",\"minorgridcolor\":\"#506784\",\"startlinecolor\":\"#A2B1C6\"},\"type\":\"carpet\"}],\"choropleth\":[{\"colorbar\":{\"outlinewidth\":0,\"ticks\":\"\"},\"type\":\"choropleth\"}],\"contour\":[{\"colorbar\":{\"outlinewidth\":0,\"ticks\":\"\"},\"colorscale\":[[0.0,\"#0d0887\"],[0.1111111111111111,\"#46039f\"],[0.2222222222222222,\"#7201a8\"],[0.3333333333333333,\"#9c179e\"],[0.4444444444444444,\"#bd3786\"],[0.5555555555555556,\"#d8576b\"],[0.6666666666666666,\"#ed7953\"],[0.7777777777777778,\"#fb9f3a\"],[0.8888888888888888,\"#fdca26\"],[1.0,\"#f0f921\"]],\"type\":\"contour\"}],\"contourcarpet\":[{\"colorbar\":{\"outlinewidth\":0,\"ticks\":\"\"},\"type\":\"contourcarpet\"}],\"heatmap\":[{\"colorbar\":{\"outlinewidth\":0,\"ticks\":\"\"},\"colorscale\":[[0.0,\"#0d0887\"],[0.1111111111111111,\"#46039f\"],[0.2222222222222222,\"#7201a8\"],[0.3333333333333333,\"#9c179e\"],[0.4444444444444444,\"#bd3786\"],[0.5555555555555556,\"#d8576b\"],[0.6666666666666666,\"#ed7953\"],[0.7777777777777778,\"#fb9f3a\"],[0.8888888888888888,\"#fdca26\"],[1.0,\"#f0f921\"]],\"type\":\"heatmap\"}],\"heatmapgl\":[{\"colorbar\":{\"outlinewidth\":0,\"ticks\":\"\"},\"colorscale\":[[0.0,\"#0d0887\"],[0.1111111111111111,\"#46039f\"],[0.2222222222222222,\"#7201a8\"],[0.3333333333333333,\"#9c179e\"],[0.4444444444444444,\"#bd3786\"],[0.5555555555555556,\"#d8576b\"],[0.6666666666666666,\"#ed7953\"],[0.7777777777777778,\"#fb9f3a\"],[0.8888888888888888,\"#fdca26\"],[1.0,\"#f0f921\"]],\"type\":\"heatmapgl\"}],\"histogram\":[{\"marker\":{\"pattern\":{\"fillmode\":\"overlay\",\"size\":10,\"solidity\":0.2}},\"type\":\"histogram\"}],\"histogram2d\":[{\"colorbar\":{\"outlinewidth\":0,\"ticks\":\"\"},\"colorscale\":[[0.0,\"#0d0887\"],[0.1111111111111111,\"#46039f\"],[0.2222222222222222,\"#7201a8\"],[0.3333333333333333,\"#9c179e\"],[0.4444444444444444,\"#bd3786\"],[0.5555555555555556,\"#d8576b\"],[0.6666666666666666,\"#ed7953\"],[0.7777777777777778,\"#fb9f3a\"],[0.8888888888888888,\"#fdca26\"],[1.0,\"#f0f921\"]],\"type\":\"histogram2d\"}],\"histogram2dcontour\":[{\"colorbar\":{\"outlinewidth\":0,\"ticks\":\"\"},\"colorscale\":[[0.0,\"#0d0887\"],[0.1111111111111111,\"#46039f\"],[0.2222222222222222,\"#7201a8\"],[0.3333333333333333,\"#9c179e\"],[0.4444444444444444,\"#bd3786\"],[0.5555555555555556,\"#d8576b\"],[0.6666666666666666,\"#ed7953\"],[0.7777777777777778,\"#fb9f3a\"],[0.8888888888888888,\"#fdca26\"],[1.0,\"#f0f921\"]],\"type\":\"histogram2dcontour\"}],\"mesh3d\":[{\"colorbar\":{\"outlinewidth\":0,\"ticks\":\"\"},\"type\":\"mesh3d\"}],\"parcoords\":[{\"line\":{\"colorbar\":{\"outlinewidth\":0,\"ticks\":\"\"}},\"type\":\"parcoords\"}],\"pie\":[{\"automargin\":true,\"type\":\"pie\"}],\"scatter\":[{\"marker\":{\"line\":{\"color\":\"#283442\"}},\"type\":\"scatter\"}],\"scatter3d\":[{\"line\":{\"colorbar\":{\"outlinewidth\":0,\"ticks\":\"\"}},\"marker\":{\"colorbar\":{\"outlinewidth\":0,\"ticks\":\"\"}},\"type\":\"scatter3d\"}],\"scattercarpet\":[{\"marker\":{\"colorbar\":{\"outlinewidth\":0,\"ticks\":\"\"}},\"type\":\"scattercarpet\"}],\"scattergeo\":[{\"marker\":{\"colorbar\":{\"outlinewidth\":0,\"ticks\":\"\"}},\"type\":\"scattergeo\"}],\"scattergl\":[{\"marker\":{\"line\":{\"color\":\"#283442\"}},\"type\":\"scattergl\"}],\"scattermapbox\":[{\"marker\":{\"colorbar\":{\"outlinewidth\":0,\"ticks\":\"\"}},\"type\":\"scattermapbox\"}],\"scatterpolar\":[{\"marker\":{\"colorbar\":{\"outlinewidth\":0,\"ticks\":\"\"}},\"type\":\"scatterpolar\"}],\"scatterpolargl\":[{\"marker\":{\"colorbar\":{\"outlinewidth\":0,\"ticks\":\"\"}},\"type\":\"scatterpolargl\"}],\"scatterternary\":[{\"marker\":{\"colorbar\":{\"outlinewidth\":0,\"ticks\":\"\"}},\"type\":\"scatterternary\"}],\"surface\":[{\"colorbar\":{\"outlinewidth\":0,\"ticks\":\"\"},\"colorscale\":[[0.0,\"#0d0887\"],[0.1111111111111111,\"#46039f\"],[0.2222222222222222,\"#7201a8\"],[0.3333333333333333,\"#9c179e\"],[0.4444444444444444,\"#bd3786\"],[0.5555555555555556,\"#d8576b\"],[0.6666666666666666,\"#ed7953\"],[0.7777777777777778,\"#fb9f3a\"],[0.8888888888888888,\"#fdca26\"],[1.0,\"#f0f921\"]],\"type\":\"surface\"}],\"table\":[{\"cells\":{\"fill\":{\"color\":\"#506784\"},\"line\":{\"color\":\"rgb(17,17,17)\"}},\"header\":{\"fill\":{\"color\":\"#2a3f5f\"},\"line\":{\"color\":\"rgb(17,17,17)\"}},\"type\":\"table\"}]},\"layout\":{\"annotationdefaults\":{\"arrowcolor\":\"#f2f5fa\",\"arrowhead\":0,\"arrowwidth\":1},\"autotypenumbers\":\"strict\",\"coloraxis\":{\"colorbar\":{\"outlinewidth\":0,\"ticks\":\"\"}},\"colorscale\":{\"diverging\":[[0,\"#8e0152\"],[0.1,\"#c51b7d\"],[0.2,\"#de77ae\"],[0.3,\"#f1b6da\"],[0.4,\"#fde0ef\"],[0.5,\"#f7f7f7\"],[0.6,\"#e6f5d0\"],[0.7,\"#b8e186\"],[0.8,\"#7fbc41\"],[0.9,\"#4d9221\"],[1,\"#276419\"]],\"sequential\":[[0.0,\"#0d0887\"],[0.1111111111111111,\"#46039f\"],[0.2222222222222222,\"#7201a8\"],[0.3333333333333333,\"#9c179e\"],[0.4444444444444444,\"#bd3786\"],[0.5555555555555556,\"#d8576b\"],[0.6666666666666666,\"#ed7953\"],[0.7777777777777778,\"#fb9f3a\"],[0.8888888888888888,\"#fdca26\"],[1.0,\"#f0f921\"]],\"sequentialminus\":[[0.0,\"#0d0887\"],[0.1111111111111111,\"#46039f\"],[0.2222222222222222,\"#7201a8\"],[0.3333333333333333,\"#9c179e\"],[0.4444444444444444,\"#bd3786\"],[0.5555555555555556,\"#d8576b\"],[0.6666666666666666,\"#ed7953\"],[0.7777777777777778,\"#fb9f3a\"],[0.8888888888888888,\"#fdca26\"],[1.0,\"#f0f921\"]]},\"colorway\":[\"#636efa\",\"#EF553B\",\"#00cc96\",\"#ab63fa\",\"#FFA15A\",\"#19d3f3\",\"#FF6692\",\"#B6E880\",\"#FF97FF\",\"#FECB52\"],\"font\":{\"color\":\"#f2f5fa\"},\"geo\":{\"bgcolor\":\"rgb(17,17,17)\",\"lakecolor\":\"rgb(17,17,17)\",\"landcolor\":\"rgb(17,17,17)\",\"showlakes\":true,\"showland\":true,\"subunitcolor\":\"#506784\"},\"hoverlabel\":{\"align\":\"left\"},\"hovermode\":\"closest\",\"mapbox\":{\"style\":\"dark\"},\"paper_bgcolor\":\"rgb(17,17,17)\",\"plot_bgcolor\":\"rgb(17,17,17)\",\"polar\":{\"angularaxis\":{\"gridcolor\":\"#506784\",\"linecolor\":\"#506784\",\"ticks\":\"\"},\"bgcolor\":\"rgb(17,17,17)\",\"radialaxis\":{\"gridcolor\":\"#506784\",\"linecolor\":\"#506784\",\"ticks\":\"\"}},\"scene\":{\"xaxis\":{\"backgroundcolor\":\"rgb(17,17,17)\",\"gridcolor\":\"#506784\",\"gridwidth\":2,\"linecolor\":\"#506784\",\"showbackground\":true,\"ticks\":\"\",\"zerolinecolor\":\"#C8D4E3\"},\"yaxis\":{\"backgroundcolor\":\"rgb(17,17,17)\",\"gridcolor\":\"#506784\",\"gridwidth\":2,\"linecolor\":\"#506784\",\"showbackground\":true,\"ticks\":\"\",\"zerolinecolor\":\"#C8D4E3\"},\"zaxis\":{\"backgroundcolor\":\"rgb(17,17,17)\",\"gridcolor\":\"#506784\",\"gridwidth\":2,\"linecolor\":\"#506784\",\"showbackground\":true,\"ticks\":\"\",\"zerolinecolor\":\"#C8D4E3\"}},\"shapedefaults\":{\"line\":{\"color\":\"#f2f5fa\"}},\"sliderdefaults\":{\"bgcolor\":\"#C8D4E3\",\"bordercolor\":\"rgb(17,17,17)\",\"borderwidth\":1,\"tickwidth\":0},\"ternary\":{\"aaxis\":{\"gridcolor\":\"#506784\",\"linecolor\":\"#506784\",\"ticks\":\"\"},\"baxis\":{\"gridcolor\":\"#506784\",\"linecolor\":\"#506784\",\"ticks\":\"\"},\"bgcolor\":\"rgb(17,17,17)\",\"caxis\":{\"gridcolor\":\"#506784\",\"linecolor\":\"#506784\",\"ticks\":\"\"}},\"title\":{\"x\":0.05},\"updatemenudefaults\":{\"bgcolor\":\"#506784\",\"borderwidth\":0},\"xaxis\":{\"automargin\":true,\"gridcolor\":\"#283442\",\"linecolor\":\"#506784\",\"ticks\":\"\",\"title\":{\"standoff\":15},\"zerolinecolor\":\"#283442\",\"zerolinewidth\":2},\"yaxis\":{\"automargin\":true,\"gridcolor\":\"#283442\",\"linecolor\":\"#506784\",\"ticks\":\"\",\"title\":{\"standoff\":15},\"zerolinecolor\":\"#283442\",\"zerolinewidth\":2}}},\"scene\":{\"domain\":{\"x\":[0.0,1.0],\"y\":[0.0,1.0]},\"xaxis\":{\"title\":{\"text\":\"avg_tran_amt_CC\"}},\"yaxis\":{\"title\":{\"text\":\"avg_tran_amt_CK\"}},\"zaxis\":{\"title\":{\"text\":\"avg_tran_amt_SV\"}}},\"legend\":{\"title\":{\"text\":\"hc_clusters\"},\"tracegroupgap\":0,\"itemsizing\":\"constant\"},\"margin\":{\"t\":60}},                        {\"responsive\": true}                    ).then(function(){\n                            \nvar gd = document.getElementById('c59028d1-6f7f-47ab-90ef-dce6de6bbd86');\nvar x = new MutationObserver(function (mutations, observer) {{\n        var display = window.getComputedStyle(gd).display;\n        if (!display || display === 'none') {{\n            console.log([gd, 'removed!']);\n            Plotly.purge(gd);\n            observer.disconnect();\n        }}\n}});\n\n// Listen for the removal of the full notebook cells\nvar notebookContainer = gd.closest('#notebook-container');\nif (notebookContainer) {{\n    x.observe(notebookContainer, {childList: true});\n}}\n\n// Listen for the clearing of the current output cell\nvar outputEl = gd.closest('.output');\nif (outputEl) {{\n    x.observe(outputEl, {childList: true});\n}}\n\n                        })                };                });            </script>        </div>"
     },
     "metadata": {},
     "output_type": "display_data"
    }
   ],
   "source": [
    "px.scatter_3d(final_df, x='avg_tran_amt_CC', y='avg_tran_amt_CK', z='avg_tran_amt_SV', color='hc_clusters',\n",
    "              size=(final_df.nbr_of_tran_CC + final_df.nbr_of_tran_CK + final_df.nbr_of_tran_SV))"
   ],
   "metadata": {
    "collapsed": false,
    "pycharm": {
     "name": "#%%\n"
    }
   }
  },
  {
   "cell_type": "code",
   "execution_count": 157,
   "outputs": [
    {
     "data": {
      "text/plain": "array([[ 0.71797514,  0.07833046,  0.14099536, ...,  0.07327235,\n        -0.9099763 ,  0.33598366],\n       [ 0.71113618,  0.06747003,  0.12572028, ...,  1.08623832,\n        -0.3280767 ,  0.21955926],\n       [-0.21663399, -0.97347685, -1.28965926, ...,  0.68402729,\n        -0.20171101, -1.07782886],\n       ...,\n       [ 1.30507105,  0.05713877,  0.22661088, ..., -0.50479298,\n        -0.41327319,  0.3988101 ],\n       [-0.35117704,  0.75328186,  0.52836254, ..., -1.20168667,\n         0.41379025,  0.19493407],\n       [-0.78565282,  0.55479945, -0.07164068, ..., -0.99103387,\n        -0.35051352,  1.61284137]])"
     },
     "execution_count": 157,
     "metadata": {},
     "output_type": "execute_result"
    }
   ],
   "source": [
    "from sklearn.decomposition import PCA\n",
    "\n",
    "pca1 = PCA(whiten=True)\n",
    "pca1.fit_transform(twm_data5)"
   ],
   "metadata": {
    "collapsed": false,
    "pycharm": {
     "name": "#%%\n"
    }
   }
  },
  {
   "cell_type": "code",
   "execution_count": 164,
   "outputs": [
    {
     "data": {
      "application/vnd.plotly.v1+json": {
       "data": [
        {
         "alignmentgroup": "True",
         "hovertemplate": "variable=0<br>index=%{x}<br>value=%{y}<extra></extra>",
         "legendgroup": "0",
         "marker": {
          "color": "#636efa",
          "pattern": {
           "shape": ""
          }
         },
         "name": "0",
         "offsetgroup": "0",
         "orientation": "v",
         "showlegend": true,
         "textposition": "auto",
         "x": [
          0,
          1,
          2,
          3,
          4,
          5,
          6,
          7,
          8
         ],
         "xaxis": "x",
         "y": [
          0.5281719083139456,
          0.21029904068084512,
          0.18497499443053816,
          0.07499186192228119,
          6.753519386282164E-4,
          3.25628471917716E-4,
          2.613025431369514E-4,
          2.2562011825074773E-4,
          7.429158045616765E-5
         ],
         "yaxis": "y",
         "type": "bar"
        }
       ],
       "layout": {
        "template": {
         "data": {
          "bar": [
           {
            "error_x": {
             "color": "#f2f5fa"
            },
            "error_y": {
             "color": "#f2f5fa"
            },
            "marker": {
             "line": {
              "color": "rgb(17,17,17)",
              "width": 0.5
             },
             "pattern": {
              "fillmode": "overlay",
              "size": 10,
              "solidity": 0.2
             }
            },
            "type": "bar"
           }
          ],
          "barpolar": [
           {
            "marker": {
             "line": {
              "color": "rgb(17,17,17)",
              "width": 0.5
             },
             "pattern": {
              "fillmode": "overlay",
              "size": 10,
              "solidity": 0.2
             }
            },
            "type": "barpolar"
           }
          ],
          "carpet": [
           {
            "aaxis": {
             "endlinecolor": "#A2B1C6",
             "gridcolor": "#506784",
             "linecolor": "#506784",
             "minorgridcolor": "#506784",
             "startlinecolor": "#A2B1C6"
            },
            "baxis": {
             "endlinecolor": "#A2B1C6",
             "gridcolor": "#506784",
             "linecolor": "#506784",
             "minorgridcolor": "#506784",
             "startlinecolor": "#A2B1C6"
            },
            "type": "carpet"
           }
          ],
          "choropleth": [
           {
            "colorbar": {
             "outlinewidth": 0,
             "ticks": ""
            },
            "type": "choropleth"
           }
          ],
          "contour": [
           {
            "colorbar": {
             "outlinewidth": 0,
             "ticks": ""
            },
            "colorscale": [
             [
              0.0,
              "#0d0887"
             ],
             [
              0.1111111111111111,
              "#46039f"
             ],
             [
              0.2222222222222222,
              "#7201a8"
             ],
             [
              0.3333333333333333,
              "#9c179e"
             ],
             [
              0.4444444444444444,
              "#bd3786"
             ],
             [
              0.5555555555555556,
              "#d8576b"
             ],
             [
              0.6666666666666666,
              "#ed7953"
             ],
             [
              0.7777777777777778,
              "#fb9f3a"
             ],
             [
              0.8888888888888888,
              "#fdca26"
             ],
             [
              1.0,
              "#f0f921"
             ]
            ],
            "type": "contour"
           }
          ],
          "contourcarpet": [
           {
            "colorbar": {
             "outlinewidth": 0,
             "ticks": ""
            },
            "type": "contourcarpet"
           }
          ],
          "heatmap": [
           {
            "colorbar": {
             "outlinewidth": 0,
             "ticks": ""
            },
            "colorscale": [
             [
              0.0,
              "#0d0887"
             ],
             [
              0.1111111111111111,
              "#46039f"
             ],
             [
              0.2222222222222222,
              "#7201a8"
             ],
             [
              0.3333333333333333,
              "#9c179e"
             ],
             [
              0.4444444444444444,
              "#bd3786"
             ],
             [
              0.5555555555555556,
              "#d8576b"
             ],
             [
              0.6666666666666666,
              "#ed7953"
             ],
             [
              0.7777777777777778,
              "#fb9f3a"
             ],
             [
              0.8888888888888888,
              "#fdca26"
             ],
             [
              1.0,
              "#f0f921"
             ]
            ],
            "type": "heatmap"
           }
          ],
          "heatmapgl": [
           {
            "colorbar": {
             "outlinewidth": 0,
             "ticks": ""
            },
            "colorscale": [
             [
              0.0,
              "#0d0887"
             ],
             [
              0.1111111111111111,
              "#46039f"
             ],
             [
              0.2222222222222222,
              "#7201a8"
             ],
             [
              0.3333333333333333,
              "#9c179e"
             ],
             [
              0.4444444444444444,
              "#bd3786"
             ],
             [
              0.5555555555555556,
              "#d8576b"
             ],
             [
              0.6666666666666666,
              "#ed7953"
             ],
             [
              0.7777777777777778,
              "#fb9f3a"
             ],
             [
              0.8888888888888888,
              "#fdca26"
             ],
             [
              1.0,
              "#f0f921"
             ]
            ],
            "type": "heatmapgl"
           }
          ],
          "histogram": [
           {
            "marker": {
             "pattern": {
              "fillmode": "overlay",
              "size": 10,
              "solidity": 0.2
             }
            },
            "type": "histogram"
           }
          ],
          "histogram2d": [
           {
            "colorbar": {
             "outlinewidth": 0,
             "ticks": ""
            },
            "colorscale": [
             [
              0.0,
              "#0d0887"
             ],
             [
              0.1111111111111111,
              "#46039f"
             ],
             [
              0.2222222222222222,
              "#7201a8"
             ],
             [
              0.3333333333333333,
              "#9c179e"
             ],
             [
              0.4444444444444444,
              "#bd3786"
             ],
             [
              0.5555555555555556,
              "#d8576b"
             ],
             [
              0.6666666666666666,
              "#ed7953"
             ],
             [
              0.7777777777777778,
              "#fb9f3a"
             ],
             [
              0.8888888888888888,
              "#fdca26"
             ],
             [
              1.0,
              "#f0f921"
             ]
            ],
            "type": "histogram2d"
           }
          ],
          "histogram2dcontour": [
           {
            "colorbar": {
             "outlinewidth": 0,
             "ticks": ""
            },
            "colorscale": [
             [
              0.0,
              "#0d0887"
             ],
             [
              0.1111111111111111,
              "#46039f"
             ],
             [
              0.2222222222222222,
              "#7201a8"
             ],
             [
              0.3333333333333333,
              "#9c179e"
             ],
             [
              0.4444444444444444,
              "#bd3786"
             ],
             [
              0.5555555555555556,
              "#d8576b"
             ],
             [
              0.6666666666666666,
              "#ed7953"
             ],
             [
              0.7777777777777778,
              "#fb9f3a"
             ],
             [
              0.8888888888888888,
              "#fdca26"
             ],
             [
              1.0,
              "#f0f921"
             ]
            ],
            "type": "histogram2dcontour"
           }
          ],
          "mesh3d": [
           {
            "colorbar": {
             "outlinewidth": 0,
             "ticks": ""
            },
            "type": "mesh3d"
           }
          ],
          "parcoords": [
           {
            "line": {
             "colorbar": {
              "outlinewidth": 0,
              "ticks": ""
             }
            },
            "type": "parcoords"
           }
          ],
          "pie": [
           {
            "automargin": true,
            "type": "pie"
           }
          ],
          "scatter": [
           {
            "marker": {
             "line": {
              "color": "#283442"
             }
            },
            "type": "scatter"
           }
          ],
          "scatter3d": [
           {
            "line": {
             "colorbar": {
              "outlinewidth": 0,
              "ticks": ""
             }
            },
            "marker": {
             "colorbar": {
              "outlinewidth": 0,
              "ticks": ""
             }
            },
            "type": "scatter3d"
           }
          ],
          "scattercarpet": [
           {
            "marker": {
             "colorbar": {
              "outlinewidth": 0,
              "ticks": ""
             }
            },
            "type": "scattercarpet"
           }
          ],
          "scattergeo": [
           {
            "marker": {
             "colorbar": {
              "outlinewidth": 0,
              "ticks": ""
             }
            },
            "type": "scattergeo"
           }
          ],
          "scattergl": [
           {
            "marker": {
             "line": {
              "color": "#283442"
             }
            },
            "type": "scattergl"
           }
          ],
          "scattermapbox": [
           {
            "marker": {
             "colorbar": {
              "outlinewidth": 0,
              "ticks": ""
             }
            },
            "type": "scattermapbox"
           }
          ],
          "scatterpolar": [
           {
            "marker": {
             "colorbar": {
              "outlinewidth": 0,
              "ticks": ""
             }
            },
            "type": "scatterpolar"
           }
          ],
          "scatterpolargl": [
           {
            "marker": {
             "colorbar": {
              "outlinewidth": 0,
              "ticks": ""
             }
            },
            "type": "scatterpolargl"
           }
          ],
          "scatterternary": [
           {
            "marker": {
             "colorbar": {
              "outlinewidth": 0,
              "ticks": ""
             }
            },
            "type": "scatterternary"
           }
          ],
          "surface": [
           {
            "colorbar": {
             "outlinewidth": 0,
             "ticks": ""
            },
            "colorscale": [
             [
              0.0,
              "#0d0887"
             ],
             [
              0.1111111111111111,
              "#46039f"
             ],
             [
              0.2222222222222222,
              "#7201a8"
             ],
             [
              0.3333333333333333,
              "#9c179e"
             ],
             [
              0.4444444444444444,
              "#bd3786"
             ],
             [
              0.5555555555555556,
              "#d8576b"
             ],
             [
              0.6666666666666666,
              "#ed7953"
             ],
             [
              0.7777777777777778,
              "#fb9f3a"
             ],
             [
              0.8888888888888888,
              "#fdca26"
             ],
             [
              1.0,
              "#f0f921"
             ]
            ],
            "type": "surface"
           }
          ],
          "table": [
           {
            "cells": {
             "fill": {
              "color": "#506784"
             },
             "line": {
              "color": "rgb(17,17,17)"
             }
            },
            "header": {
             "fill": {
              "color": "#2a3f5f"
             },
             "line": {
              "color": "rgb(17,17,17)"
             }
            },
            "type": "table"
           }
          ]
         },
         "layout": {
          "annotationdefaults": {
           "arrowcolor": "#f2f5fa",
           "arrowhead": 0,
           "arrowwidth": 1
          },
          "autotypenumbers": "strict",
          "coloraxis": {
           "colorbar": {
            "outlinewidth": 0,
            "ticks": ""
           }
          },
          "colorscale": {
           "diverging": [
            [
             0,
             "#8e0152"
            ],
            [
             0.1,
             "#c51b7d"
            ],
            [
             0.2,
             "#de77ae"
            ],
            [
             0.3,
             "#f1b6da"
            ],
            [
             0.4,
             "#fde0ef"
            ],
            [
             0.5,
             "#f7f7f7"
            ],
            [
             0.6,
             "#e6f5d0"
            ],
            [
             0.7,
             "#b8e186"
            ],
            [
             0.8,
             "#7fbc41"
            ],
            [
             0.9,
             "#4d9221"
            ],
            [
             1,
             "#276419"
            ]
           ],
           "sequential": [
            [
             0.0,
             "#0d0887"
            ],
            [
             0.1111111111111111,
             "#46039f"
            ],
            [
             0.2222222222222222,
             "#7201a8"
            ],
            [
             0.3333333333333333,
             "#9c179e"
            ],
            [
             0.4444444444444444,
             "#bd3786"
            ],
            [
             0.5555555555555556,
             "#d8576b"
            ],
            [
             0.6666666666666666,
             "#ed7953"
            ],
            [
             0.7777777777777778,
             "#fb9f3a"
            ],
            [
             0.8888888888888888,
             "#fdca26"
            ],
            [
             1.0,
             "#f0f921"
            ]
           ],
           "sequentialminus": [
            [
             0.0,
             "#0d0887"
            ],
            [
             0.1111111111111111,
             "#46039f"
            ],
            [
             0.2222222222222222,
             "#7201a8"
            ],
            [
             0.3333333333333333,
             "#9c179e"
            ],
            [
             0.4444444444444444,
             "#bd3786"
            ],
            [
             0.5555555555555556,
             "#d8576b"
            ],
            [
             0.6666666666666666,
             "#ed7953"
            ],
            [
             0.7777777777777778,
             "#fb9f3a"
            ],
            [
             0.8888888888888888,
             "#fdca26"
            ],
            [
             1.0,
             "#f0f921"
            ]
           ]
          },
          "colorway": [
           "#636efa",
           "#EF553B",
           "#00cc96",
           "#ab63fa",
           "#FFA15A",
           "#19d3f3",
           "#FF6692",
           "#B6E880",
           "#FF97FF",
           "#FECB52"
          ],
          "font": {
           "color": "#f2f5fa"
          },
          "geo": {
           "bgcolor": "rgb(17,17,17)",
           "lakecolor": "rgb(17,17,17)",
           "landcolor": "rgb(17,17,17)",
           "showlakes": true,
           "showland": true,
           "subunitcolor": "#506784"
          },
          "hoverlabel": {
           "align": "left"
          },
          "hovermode": "closest",
          "mapbox": {
           "style": "dark"
          },
          "paper_bgcolor": "rgb(17,17,17)",
          "plot_bgcolor": "rgb(17,17,17)",
          "polar": {
           "angularaxis": {
            "gridcolor": "#506784",
            "linecolor": "#506784",
            "ticks": ""
           },
           "bgcolor": "rgb(17,17,17)",
           "radialaxis": {
            "gridcolor": "#506784",
            "linecolor": "#506784",
            "ticks": ""
           }
          },
          "scene": {
           "xaxis": {
            "backgroundcolor": "rgb(17,17,17)",
            "gridcolor": "#506784",
            "gridwidth": 2,
            "linecolor": "#506784",
            "showbackground": true,
            "ticks": "",
            "zerolinecolor": "#C8D4E3"
           },
           "yaxis": {
            "backgroundcolor": "rgb(17,17,17)",
            "gridcolor": "#506784",
            "gridwidth": 2,
            "linecolor": "#506784",
            "showbackground": true,
            "ticks": "",
            "zerolinecolor": "#C8D4E3"
           },
           "zaxis": {
            "backgroundcolor": "rgb(17,17,17)",
            "gridcolor": "#506784",
            "gridwidth": 2,
            "linecolor": "#506784",
            "showbackground": true,
            "ticks": "",
            "zerolinecolor": "#C8D4E3"
           }
          },
          "shapedefaults": {
           "line": {
            "color": "#f2f5fa"
           }
          },
          "sliderdefaults": {
           "bgcolor": "#C8D4E3",
           "bordercolor": "rgb(17,17,17)",
           "borderwidth": 1,
           "tickwidth": 0
          },
          "ternary": {
           "aaxis": {
            "gridcolor": "#506784",
            "linecolor": "#506784",
            "ticks": ""
           },
           "baxis": {
            "gridcolor": "#506784",
            "linecolor": "#506784",
            "ticks": ""
           },
           "bgcolor": "rgb(17,17,17)",
           "caxis": {
            "gridcolor": "#506784",
            "linecolor": "#506784",
            "ticks": ""
           }
          },
          "title": {
           "x": 0.05
          },
          "updatemenudefaults": {
           "bgcolor": "#506784",
           "borderwidth": 0
          },
          "xaxis": {
           "automargin": true,
           "gridcolor": "#283442",
           "linecolor": "#506784",
           "ticks": "",
           "title": {
            "standoff": 15
           },
           "zerolinecolor": "#283442",
           "zerolinewidth": 2
          },
          "yaxis": {
           "automargin": true,
           "gridcolor": "#283442",
           "linecolor": "#506784",
           "ticks": "",
           "title": {
            "standoff": 15
           },
           "zerolinecolor": "#283442",
           "zerolinewidth": 2
          }
         }
        },
        "xaxis": {
         "anchor": "y",
         "domain": [
          0.0,
          1.0
         ],
         "title": {
          "text": "index"
         }
        },
        "yaxis": {
         "anchor": "x",
         "domain": [
          0.0,
          1.0
         ],
         "title": {
          "text": "value"
         }
        },
        "legend": {
         "title": {
          "text": "variable"
         },
         "tracegroupgap": 0
        },
        "margin": {
         "t": 60
        },
        "barmode": "relative"
       },
       "config": {
        "plotlyServerURL": "https://plot.ly"
       }
      },
      "text/html": "<div>                            <div id=\"77a91b82-1e24-4cf5-8a9e-da78527bbe96\" class=\"plotly-graph-div\" style=\"height:525px; width:100%;\"></div>            <script type=\"text/javascript\">                require([\"plotly\"], function(Plotly) {                    window.PLOTLYENV=window.PLOTLYENV || {};                                    if (document.getElementById(\"77a91b82-1e24-4cf5-8a9e-da78527bbe96\")) {                    Plotly.newPlot(                        \"77a91b82-1e24-4cf5-8a9e-da78527bbe96\",                        [{\"alignmentgroup\":\"True\",\"hovertemplate\":\"variable=0<br>index=%{x}<br>value=%{y}<extra></extra>\",\"legendgroup\":\"0\",\"marker\":{\"color\":\"#636efa\",\"pattern\":{\"shape\":\"\"}},\"name\":\"0\",\"offsetgroup\":\"0\",\"orientation\":\"v\",\"showlegend\":true,\"textposition\":\"auto\",\"x\":[0,1,2,3,4,5,6,7,8],\"xaxis\":\"x\",\"y\":[0.5281719083139456,0.21029904068084512,0.18497499443053816,0.07499186192228119,0.0006753519386282164,0.000325628471917716,0.0002613025431369514,0.00022562011825074773,7.429158045616765e-05],\"yaxis\":\"y\",\"type\":\"bar\"}],                        {\"template\":{\"data\":{\"bar\":[{\"error_x\":{\"color\":\"#f2f5fa\"},\"error_y\":{\"color\":\"#f2f5fa\"},\"marker\":{\"line\":{\"color\":\"rgb(17,17,17)\",\"width\":0.5},\"pattern\":{\"fillmode\":\"overlay\",\"size\":10,\"solidity\":0.2}},\"type\":\"bar\"}],\"barpolar\":[{\"marker\":{\"line\":{\"color\":\"rgb(17,17,17)\",\"width\":0.5},\"pattern\":{\"fillmode\":\"overlay\",\"size\":10,\"solidity\":0.2}},\"type\":\"barpolar\"}],\"carpet\":[{\"aaxis\":{\"endlinecolor\":\"#A2B1C6\",\"gridcolor\":\"#506784\",\"linecolor\":\"#506784\",\"minorgridcolor\":\"#506784\",\"startlinecolor\":\"#A2B1C6\"},\"baxis\":{\"endlinecolor\":\"#A2B1C6\",\"gridcolor\":\"#506784\",\"linecolor\":\"#506784\",\"minorgridcolor\":\"#506784\",\"startlinecolor\":\"#A2B1C6\"},\"type\":\"carpet\"}],\"choropleth\":[{\"colorbar\":{\"outlinewidth\":0,\"ticks\":\"\"},\"type\":\"choropleth\"}],\"contour\":[{\"colorbar\":{\"outlinewidth\":0,\"ticks\":\"\"},\"colorscale\":[[0.0,\"#0d0887\"],[0.1111111111111111,\"#46039f\"],[0.2222222222222222,\"#7201a8\"],[0.3333333333333333,\"#9c179e\"],[0.4444444444444444,\"#bd3786\"],[0.5555555555555556,\"#d8576b\"],[0.6666666666666666,\"#ed7953\"],[0.7777777777777778,\"#fb9f3a\"],[0.8888888888888888,\"#fdca26\"],[1.0,\"#f0f921\"]],\"type\":\"contour\"}],\"contourcarpet\":[{\"colorbar\":{\"outlinewidth\":0,\"ticks\":\"\"},\"type\":\"contourcarpet\"}],\"heatmap\":[{\"colorbar\":{\"outlinewidth\":0,\"ticks\":\"\"},\"colorscale\":[[0.0,\"#0d0887\"],[0.1111111111111111,\"#46039f\"],[0.2222222222222222,\"#7201a8\"],[0.3333333333333333,\"#9c179e\"],[0.4444444444444444,\"#bd3786\"],[0.5555555555555556,\"#d8576b\"],[0.6666666666666666,\"#ed7953\"],[0.7777777777777778,\"#fb9f3a\"],[0.8888888888888888,\"#fdca26\"],[1.0,\"#f0f921\"]],\"type\":\"heatmap\"}],\"heatmapgl\":[{\"colorbar\":{\"outlinewidth\":0,\"ticks\":\"\"},\"colorscale\":[[0.0,\"#0d0887\"],[0.1111111111111111,\"#46039f\"],[0.2222222222222222,\"#7201a8\"],[0.3333333333333333,\"#9c179e\"],[0.4444444444444444,\"#bd3786\"],[0.5555555555555556,\"#d8576b\"],[0.6666666666666666,\"#ed7953\"],[0.7777777777777778,\"#fb9f3a\"],[0.8888888888888888,\"#fdca26\"],[1.0,\"#f0f921\"]],\"type\":\"heatmapgl\"}],\"histogram\":[{\"marker\":{\"pattern\":{\"fillmode\":\"overlay\",\"size\":10,\"solidity\":0.2}},\"type\":\"histogram\"}],\"histogram2d\":[{\"colorbar\":{\"outlinewidth\":0,\"ticks\":\"\"},\"colorscale\":[[0.0,\"#0d0887\"],[0.1111111111111111,\"#46039f\"],[0.2222222222222222,\"#7201a8\"],[0.3333333333333333,\"#9c179e\"],[0.4444444444444444,\"#bd3786\"],[0.5555555555555556,\"#d8576b\"],[0.6666666666666666,\"#ed7953\"],[0.7777777777777778,\"#fb9f3a\"],[0.8888888888888888,\"#fdca26\"],[1.0,\"#f0f921\"]],\"type\":\"histogram2d\"}],\"histogram2dcontour\":[{\"colorbar\":{\"outlinewidth\":0,\"ticks\":\"\"},\"colorscale\":[[0.0,\"#0d0887\"],[0.1111111111111111,\"#46039f\"],[0.2222222222222222,\"#7201a8\"],[0.3333333333333333,\"#9c179e\"],[0.4444444444444444,\"#bd3786\"],[0.5555555555555556,\"#d8576b\"],[0.6666666666666666,\"#ed7953\"],[0.7777777777777778,\"#fb9f3a\"],[0.8888888888888888,\"#fdca26\"],[1.0,\"#f0f921\"]],\"type\":\"histogram2dcontour\"}],\"mesh3d\":[{\"colorbar\":{\"outlinewidth\":0,\"ticks\":\"\"},\"type\":\"mesh3d\"}],\"parcoords\":[{\"line\":{\"colorbar\":{\"outlinewidth\":0,\"ticks\":\"\"}},\"type\":\"parcoords\"}],\"pie\":[{\"automargin\":true,\"type\":\"pie\"}],\"scatter\":[{\"marker\":{\"line\":{\"color\":\"#283442\"}},\"type\":\"scatter\"}],\"scatter3d\":[{\"line\":{\"colorbar\":{\"outlinewidth\":0,\"ticks\":\"\"}},\"marker\":{\"colorbar\":{\"outlinewidth\":0,\"ticks\":\"\"}},\"type\":\"scatter3d\"}],\"scattercarpet\":[{\"marker\":{\"colorbar\":{\"outlinewidth\":0,\"ticks\":\"\"}},\"type\":\"scattercarpet\"}],\"scattergeo\":[{\"marker\":{\"colorbar\":{\"outlinewidth\":0,\"ticks\":\"\"}},\"type\":\"scattergeo\"}],\"scattergl\":[{\"marker\":{\"line\":{\"color\":\"#283442\"}},\"type\":\"scattergl\"}],\"scattermapbox\":[{\"marker\":{\"colorbar\":{\"outlinewidth\":0,\"ticks\":\"\"}},\"type\":\"scattermapbox\"}],\"scatterpolar\":[{\"marker\":{\"colorbar\":{\"outlinewidth\":0,\"ticks\":\"\"}},\"type\":\"scatterpolar\"}],\"scatterpolargl\":[{\"marker\":{\"colorbar\":{\"outlinewidth\":0,\"ticks\":\"\"}},\"type\":\"scatterpolargl\"}],\"scatterternary\":[{\"marker\":{\"colorbar\":{\"outlinewidth\":0,\"ticks\":\"\"}},\"type\":\"scatterternary\"}],\"surface\":[{\"colorbar\":{\"outlinewidth\":0,\"ticks\":\"\"},\"colorscale\":[[0.0,\"#0d0887\"],[0.1111111111111111,\"#46039f\"],[0.2222222222222222,\"#7201a8\"],[0.3333333333333333,\"#9c179e\"],[0.4444444444444444,\"#bd3786\"],[0.5555555555555556,\"#d8576b\"],[0.6666666666666666,\"#ed7953\"],[0.7777777777777778,\"#fb9f3a\"],[0.8888888888888888,\"#fdca26\"],[1.0,\"#f0f921\"]],\"type\":\"surface\"}],\"table\":[{\"cells\":{\"fill\":{\"color\":\"#506784\"},\"line\":{\"color\":\"rgb(17,17,17)\"}},\"header\":{\"fill\":{\"color\":\"#2a3f5f\"},\"line\":{\"color\":\"rgb(17,17,17)\"}},\"type\":\"table\"}]},\"layout\":{\"annotationdefaults\":{\"arrowcolor\":\"#f2f5fa\",\"arrowhead\":0,\"arrowwidth\":1},\"autotypenumbers\":\"strict\",\"coloraxis\":{\"colorbar\":{\"outlinewidth\":0,\"ticks\":\"\"}},\"colorscale\":{\"diverging\":[[0,\"#8e0152\"],[0.1,\"#c51b7d\"],[0.2,\"#de77ae\"],[0.3,\"#f1b6da\"],[0.4,\"#fde0ef\"],[0.5,\"#f7f7f7\"],[0.6,\"#e6f5d0\"],[0.7,\"#b8e186\"],[0.8,\"#7fbc41\"],[0.9,\"#4d9221\"],[1,\"#276419\"]],\"sequential\":[[0.0,\"#0d0887\"],[0.1111111111111111,\"#46039f\"],[0.2222222222222222,\"#7201a8\"],[0.3333333333333333,\"#9c179e\"],[0.4444444444444444,\"#bd3786\"],[0.5555555555555556,\"#d8576b\"],[0.6666666666666666,\"#ed7953\"],[0.7777777777777778,\"#fb9f3a\"],[0.8888888888888888,\"#fdca26\"],[1.0,\"#f0f921\"]],\"sequentialminus\":[[0.0,\"#0d0887\"],[0.1111111111111111,\"#46039f\"],[0.2222222222222222,\"#7201a8\"],[0.3333333333333333,\"#9c179e\"],[0.4444444444444444,\"#bd3786\"],[0.5555555555555556,\"#d8576b\"],[0.6666666666666666,\"#ed7953\"],[0.7777777777777778,\"#fb9f3a\"],[0.8888888888888888,\"#fdca26\"],[1.0,\"#f0f921\"]]},\"colorway\":[\"#636efa\",\"#EF553B\",\"#00cc96\",\"#ab63fa\",\"#FFA15A\",\"#19d3f3\",\"#FF6692\",\"#B6E880\",\"#FF97FF\",\"#FECB52\"],\"font\":{\"color\":\"#f2f5fa\"},\"geo\":{\"bgcolor\":\"rgb(17,17,17)\",\"lakecolor\":\"rgb(17,17,17)\",\"landcolor\":\"rgb(17,17,17)\",\"showlakes\":true,\"showland\":true,\"subunitcolor\":\"#506784\"},\"hoverlabel\":{\"align\":\"left\"},\"hovermode\":\"closest\",\"mapbox\":{\"style\":\"dark\"},\"paper_bgcolor\":\"rgb(17,17,17)\",\"plot_bgcolor\":\"rgb(17,17,17)\",\"polar\":{\"angularaxis\":{\"gridcolor\":\"#506784\",\"linecolor\":\"#506784\",\"ticks\":\"\"},\"bgcolor\":\"rgb(17,17,17)\",\"radialaxis\":{\"gridcolor\":\"#506784\",\"linecolor\":\"#506784\",\"ticks\":\"\"}},\"scene\":{\"xaxis\":{\"backgroundcolor\":\"rgb(17,17,17)\",\"gridcolor\":\"#506784\",\"gridwidth\":2,\"linecolor\":\"#506784\",\"showbackground\":true,\"ticks\":\"\",\"zerolinecolor\":\"#C8D4E3\"},\"yaxis\":{\"backgroundcolor\":\"rgb(17,17,17)\",\"gridcolor\":\"#506784\",\"gridwidth\":2,\"linecolor\":\"#506784\",\"showbackground\":true,\"ticks\":\"\",\"zerolinecolor\":\"#C8D4E3\"},\"zaxis\":{\"backgroundcolor\":\"rgb(17,17,17)\",\"gridcolor\":\"#506784\",\"gridwidth\":2,\"linecolor\":\"#506784\",\"showbackground\":true,\"ticks\":\"\",\"zerolinecolor\":\"#C8D4E3\"}},\"shapedefaults\":{\"line\":{\"color\":\"#f2f5fa\"}},\"sliderdefaults\":{\"bgcolor\":\"#C8D4E3\",\"bordercolor\":\"rgb(17,17,17)\",\"borderwidth\":1,\"tickwidth\":0},\"ternary\":{\"aaxis\":{\"gridcolor\":\"#506784\",\"linecolor\":\"#506784\",\"ticks\":\"\"},\"baxis\":{\"gridcolor\":\"#506784\",\"linecolor\":\"#506784\",\"ticks\":\"\"},\"bgcolor\":\"rgb(17,17,17)\",\"caxis\":{\"gridcolor\":\"#506784\",\"linecolor\":\"#506784\",\"ticks\":\"\"}},\"title\":{\"x\":0.05},\"updatemenudefaults\":{\"bgcolor\":\"#506784\",\"borderwidth\":0},\"xaxis\":{\"automargin\":true,\"gridcolor\":\"#283442\",\"linecolor\":\"#506784\",\"ticks\":\"\",\"title\":{\"standoff\":15},\"zerolinecolor\":\"#283442\",\"zerolinewidth\":2},\"yaxis\":{\"automargin\":true,\"gridcolor\":\"#283442\",\"linecolor\":\"#506784\",\"ticks\":\"\",\"title\":{\"standoff\":15},\"zerolinecolor\":\"#283442\",\"zerolinewidth\":2}}},\"xaxis\":{\"anchor\":\"y\",\"domain\":[0.0,1.0],\"title\":{\"text\":\"index\"}},\"yaxis\":{\"anchor\":\"x\",\"domain\":[0.0,1.0],\"title\":{\"text\":\"value\"}},\"legend\":{\"title\":{\"text\":\"variable\"},\"tracegroupgap\":0},\"margin\":{\"t\":60},\"barmode\":\"relative\"},                        {\"responsive\": true}                    ).then(function(){\n                            \nvar gd = document.getElementById('77a91b82-1e24-4cf5-8a9e-da78527bbe96');\nvar x = new MutationObserver(function (mutations, observer) {{\n        var display = window.getComputedStyle(gd).display;\n        if (!display || display === 'none') {{\n            console.log([gd, 'removed!']);\n            Plotly.purge(gd);\n            observer.disconnect();\n        }}\n}});\n\n// Listen for the removal of the full notebook cells\nvar notebookContainer = gd.closest('#notebook-container');\nif (notebookContainer) {{\n    x.observe(notebookContainer, {childList: true});\n}}\n\n// Listen for the clearing of the current output cell\nvar outputEl = gd.closest('.output');\nif (outputEl) {{\n    x.observe(outputEl, {childList: true});\n}}\n\n                        })                };                });            </script>        </div>"
     },
     "metadata": {},
     "output_type": "display_data"
    }
   ],
   "source": [
    "px.bar(pca1.explained_variance_ratio_)"
   ],
   "metadata": {
    "collapsed": false,
    "pycharm": {
     "name": "#%%\n"
    }
   }
  },
  {
   "cell_type": "code",
   "execution_count": null,
   "outputs": [],
   "source": [],
   "metadata": {
    "collapsed": false,
    "pycharm": {
     "name": "#%%\n"
    }
   }
  }
 ],
 "metadata": {
  "kernelspec": {
   "name": "matplot-lighthouseenv",
   "language": "python",
   "display_name": "Matplotlib Lighthouse (Python 3.7)"
  },
  "language_info": {
   "codemirror_mode": {
    "name": "ipython",
    "version": 2
   },
   "file_extension": ".py",
   "mimetype": "text/x-python",
   "name": "python",
   "nbconvert_exporter": "python",
   "pygments_lexer": "ipython2",
   "version": "2.7.6"
  }
 },
 "nbformat": 4,
 "nbformat_minor": 0
}