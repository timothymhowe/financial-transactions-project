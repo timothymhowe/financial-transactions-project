{
 "cells": [
  {
   "cell_type": "code",
   "execution_count": 45,
   "outputs": [],
   "source": [
    "import pandas as pd\n",
    "import numpy as np\n",
    "import sqlite3"
   ],
   "metadata": {
    "collapsed": false,
    "pycharm": {
     "name": "#%%\n"
    }
   }
  },
  {
   "cell_type": "code",
   "execution_count": 46,
   "outputs": [],
   "source": [
    "# twm_accounts = pd.read_csv('data/clean/twm_accounts.csv')\n",
    "# twm_customer = pd.read_csv('data/clean/twm_customer.csv')\n",
    "# twm_transactions = pd.read_csv('data/clean/twm_transactions.csv')\n",
    "# twm_checking_acct = pd.read_csv('data/clean/twm_checking_acct.csv')\n",
    "# twm_checking_tran = pd.read_csv('data/clean/twm_checking_tran.csv')\n",
    "# twm_credit_acct = pd.read_csv('data/clean/twm_credit_acct.csv')\n",
    "# twm_credit_tran = pd.read_csv('data/clean/twm_credit_tran.csv')\n",
    "# twm_savings_acct = pd.read_csv('data/clean/twm_savings_acct.csv')\n",
    "# twm_savings_tran = pd.read_csv('data/clean/twm_savings_tran.csv')"
   ],
   "metadata": {
    "collapsed": false,
    "pycharm": {
     "name": "#%%\n"
    }
   }
  },
  {
   "cell_type": "code",
   "execution_count": 235,
   "outputs": [],
   "source": [
    "def dummy_var_create(df, column_name):\n",
    "    for name in set(df[column_name]):\n",
    "        if str(name).strip() != \"\" and name != None:\n",
    "            df[f\"{column_name}_dummy_{name}\"] = (df[column_name] == name).astype(int)\n",
    "\n",
    "\n",
    "# twm_transactions2 = pd.DataFrame(twm_transactions)\n"
   ],
   "metadata": {
    "collapsed": false,
    "pycharm": {
     "name": "#%%\n"
    }
   }
  },
  {
   "cell_type": "code",
   "execution_count": 236,
   "outputs": [],
   "source": [
    "# dummy_var_create(twm_accounts, \"acct_type\")\n",
    "# dummy_var_create(twm_accounts, \"account_active\")\n",
    "# dummy_var_create(twm_transactions, \"channel\")\n",
    "# dummy_var_create(twm_transactions, \"tran_code\")"
   ],
   "metadata": {
    "collapsed": false,
    "pycharm": {
     "name": "#%%\n"
    }
   }
  },
  {
   "cell_type": "code",
   "execution_count": 407,
   "outputs": [],
   "source": [
    "sql_query = \"\"\"\n",
    "SELECT cust_id, acct_nbr, tran_id, acct_type, nbr_of_accts,nbr_of_trans,acct_active,acct_start_date,acct_end_date,\n",
    "        tran_date, AVG(tran_amt) AS avg_tran_amt,\n",
    "       starting_balance as acct_initial_balance,ending_balance as acct_final_balance\n",
    "           FROM\n",
    "twm_transactions\n",
    "INNER JOIN\n",
    "(\n",
    "SELECT twm_accounts.cust_id,\n",
    "       twm_accounts.acct_nbr as __acct_nbr,\n",
    "       nbr_of_accts,\n",
    "       nbr_of_trans,\n",
    "       acct_type,\n",
    "       CASE\n",
    "           WHEN account_active = \"N\" THEN 0\n",
    "           ELSE 1\n",
    "           END                           AS acct_active,\n",
    "       starting_balance,\n",
    "       ending_balance,\n",
    "       ending_balance - starting_balance AS delta_balance,\n",
    "       acct_start_date,\n",
    "       CASE\n",
    "           WHEN acct_end_date IS TRUE THEN acct_end_date\n",
    "           ELSE '1996-01-01'\n",
    "           END                           AS acct_end_date\n",
    "\n",
    "FROM twm_accounts\n",
    "         INNER JOIN (SELECT cust_id                     as me_cust_id,\n",
    "                            COUNT(twm_accounts.cust_id) AS nbr_of_accts\n",
    "                     FROM twm_accounts\n",
    "                     GROUP BY me_cust_id)\n",
    "                    ON twm_accounts.cust_id = me_cust_id\n",
    "\n",
    "         INNER JOIN (SELECT acct_nbr        as _acct_nbr,\n",
    "                            COUNT(acct_nbr) AS nbr_of_trans\n",
    "                     FROM twm_transactions\n",
    "                     GROUP BY _acct_nbr)\n",
    "                    ON twm_accounts.acct_nbr = _acct_nbr )\n",
    "\n",
    "\n",
    "ON twm_transactions.acct_nbr = __acct_nbr\n",
    "GROUP BY cust_id, acct_type\n",
    "ORDER BY cust_id, __acct_nbr;\n",
    "\"\"\""
   ],
   "metadata": {
    "collapsed": false,
    "pycharm": {
     "name": "#%%\n"
    }
   }
  },
  {
   "cell_type": "code",
   "execution_count": 407,
   "outputs": [],
   "source": [],
   "metadata": {
    "collapsed": false,
    "pycharm": {
     "name": "#%%\n"
    }
   }
  },
  {
   "cell_type": "code",
   "execution_count": 408,
   "outputs": [],
   "source": [
    "with sqlite3.connect(\"data/twm.db\") as conn:\n",
    "    twm_data = pd.read_sql(sql_query,con=conn)\n",
    "    twm_data.acct_nbr = twm_data.acct_nbr.astype(int)"
   ],
   "metadata": {
    "collapsed": false,
    "pycharm": {
     "name": "#%%\n"
    }
   }
  },
  {
   "cell_type": "code",
   "execution_count": 409,
   "outputs": [
    {
     "ename": "TypeError",
     "evalue": "unsupported Type RangeIndex",
     "output_type": "error",
     "traceback": [
      "\u001B[1;31m---------------------------------------------------------------------------\u001B[0m",
      "\u001B[1;31mTypeError\u001B[0m                                 Traceback (most recent call last)",
      "Input \u001B[1;32mIn [409]\u001B[0m, in \u001B[0;36m<cell line: 6>\u001B[1;34m()\u001B[0m\n\u001B[0;32m      1\u001B[0m twm_data2 \u001B[38;5;241m=\u001B[39m pd\u001B[38;5;241m.\u001B[39mDataFrame(twm_data)\n\u001B[0;32m      2\u001B[0m \u001B[38;5;66;03m# twm_data2['acct_start_date'] = pd.to_datetime(twm_data2['acct_start_date'])\u001B[39;00m\n\u001B[0;32m      3\u001B[0m \u001B[38;5;66;03m# twm_data2['acct_end_date'] = pd.to_datetime(twm_data2['acct_end_date'])\u001B[39;00m\n\u001B[0;32m      4\u001B[0m \u001B[38;5;66;03m# twm_data2['tran_date'] = pd.to_datetime(twm_data['tran_date'])\u001B[39;00m\n\u001B[1;32m----> 6\u001B[0m \u001B[43mtwm_data2\u001B[49m\u001B[43m[\u001B[49m\u001B[38;5;124;43m'\u001B[39;49m\u001B[38;5;124;43macct_start_date\u001B[39;49m\u001B[38;5;124;43m'\u001B[39;49m\u001B[43m]\u001B[49m\u001B[38;5;241;43m.\u001B[39;49m\u001B[43mto_timestamp\u001B[49m\u001B[43m(\u001B[49m\u001B[43m)\u001B[49m\n",
      "File \u001B[1;32m~\\miniconda3\\envs\\LighthouseEnv\\lib\\site-packages\\pandas\\core\\series.py:5466\u001B[0m, in \u001B[0;36mSeries.to_timestamp\u001B[1;34m(self, freq, how, copy)\u001B[0m\n\u001B[0;32m   5463\u001B[0m     new_values \u001B[38;5;241m=\u001B[39m new_values\u001B[38;5;241m.\u001B[39mcopy()\n\u001B[0;32m   5465\u001B[0m \u001B[38;5;28;01mif\u001B[39;00m \u001B[38;5;129;01mnot\u001B[39;00m \u001B[38;5;28misinstance\u001B[39m(\u001B[38;5;28mself\u001B[39m\u001B[38;5;241m.\u001B[39mindex, PeriodIndex):\n\u001B[1;32m-> 5466\u001B[0m     \u001B[38;5;28;01mraise\u001B[39;00m \u001B[38;5;167;01mTypeError\u001B[39;00m(\u001B[38;5;124mf\u001B[39m\u001B[38;5;124m\"\u001B[39m\u001B[38;5;124munsupported Type \u001B[39m\u001B[38;5;132;01m{\u001B[39;00m\u001B[38;5;28mtype\u001B[39m(\u001B[38;5;28mself\u001B[39m\u001B[38;5;241m.\u001B[39mindex)\u001B[38;5;241m.\u001B[39m\u001B[38;5;18m__name__\u001B[39m\u001B[38;5;132;01m}\u001B[39;00m\u001B[38;5;124m\"\u001B[39m)\n\u001B[0;32m   5467\u001B[0m new_index \u001B[38;5;241m=\u001B[39m \u001B[38;5;28mself\u001B[39m\u001B[38;5;241m.\u001B[39mindex\u001B[38;5;241m.\u001B[39mto_timestamp(freq\u001B[38;5;241m=\u001B[39mfreq, how\u001B[38;5;241m=\u001B[39mhow)\n\u001B[0;32m   5468\u001B[0m \u001B[38;5;28;01mreturn\u001B[39;00m \u001B[38;5;28mself\u001B[39m\u001B[38;5;241m.\u001B[39m_constructor(new_values, index\u001B[38;5;241m=\u001B[39mnew_index)\u001B[38;5;241m.\u001B[39m__finalize__(\n\u001B[0;32m   5469\u001B[0m     \u001B[38;5;28mself\u001B[39m, method\u001B[38;5;241m=\u001B[39m\u001B[38;5;124m\"\u001B[39m\u001B[38;5;124mto_timestamp\u001B[39m\u001B[38;5;124m\"\u001B[39m\n\u001B[0;32m   5470\u001B[0m )\n",
      "\u001B[1;31mTypeError\u001B[0m: unsupported Type RangeIndex"
     ]
    }
   ],
   "source": [
    "twm_data2 = pd.DataFrame(twm_data)\n",
    "# twm_data2['acct_start_date'] = pd.to_datetime(twm_data2['acct_start_date'])\n",
    "# twm_data2['acct_end_date'] = pd.to_datetime(twm_data2['acct_end_date'])\n",
    "# twm_data2['tran_date'] = pd.to_datetime(twm_data['tran_date'])\n",
    "\n",
    "twm_data2['acct_start_date'].to_timestamp()"
   ],
   "metadata": {
    "collapsed": false,
    "pycharm": {
     "name": "#%%\n"
    }
   }
  },
  {
   "cell_type": "code",
   "execution_count": 412,
   "outputs": [],
   "source": [
    "dummy_var_create(twm_data2, \"acct_type\")\n",
    "# dummy_var_create(twm_data2, \"channel\")\n",
    "# dummy_var_create(twm_data2, \"tran_code\")"
   ],
   "metadata": {
    "collapsed": false,
    "pycharm": {
     "name": "#%%\n"
    }
   }
  },
  {
   "cell_type": "code",
   "execution_count": 413,
   "outputs": [
    {
     "data": {
      "text/plain": "Index(['cust_id', 'acct_nbr', 'tran_id', 'acct_type', 'nbr_of_accts',\n       'nbr_of_trans', 'acct_active', 'acct_start_date', 'acct_end_date',\n       'tran_date', 'avg_tran_amt', 'acct_initial_balance',\n       'acct_final_balance', 'acct_type_dummy_SV', 'acct_type_dummy_CK',\n       'acct_type_dummy_CC'],\n      dtype='object')"
     },
     "execution_count": 413,
     "metadata": {},
     "output_type": "execute_result"
    }
   ],
   "source": [
    "twm_data2.columns"
   ],
   "metadata": {
    "collapsed": false,
    "pycharm": {
     "name": "#%%\n"
    }
   }
  },
  {
   "cell_type": "code",
   "execution_count": 420,
   "outputs": [
    {
     "ename": "AttributeError",
     "evalue": "'Series' object has no attribute 'days'",
     "output_type": "error",
     "traceback": [
      "\u001B[1;31m---------------------------------------------------------------------------\u001B[0m",
      "\u001B[1;31mAttributeError\u001B[0m                            Traceback (most recent call last)",
      "Input \u001B[1;32mIn [420]\u001B[0m, in \u001B[0;36m<cell line: 14>\u001B[1;34m()\u001B[0m\n\u001B[0;32m     11\u001B[0m twm_data2[\u001B[38;5;124m'\u001B[39m\u001B[38;5;124macct_start_date_SV\u001B[39m\u001B[38;5;124m'\u001B[39m] \u001B[38;5;241m=\u001B[39m twm_data2[\u001B[38;5;124m'\u001B[39m\u001B[38;5;124macct_start_date\u001B[39m\u001B[38;5;124m'\u001B[39m] \u001B[38;5;241m*\u001B[39m twm_data2[\u001B[38;5;124m'\u001B[39m\u001B[38;5;124macct_type_dummy_SV\u001B[39m\u001B[38;5;124m'\u001B[39m]\n\u001B[0;32m     12\u001B[0m twm_data2[\u001B[38;5;124m'\u001B[39m\u001B[38;5;124macct_end_date_SV\u001B[39m\u001B[38;5;124m'\u001B[39m] \u001B[38;5;241m=\u001B[39m twm_data2[\u001B[38;5;124m'\u001B[39m\u001B[38;5;124macct_end_date\u001B[39m\u001B[38;5;124m'\u001B[39m] \u001B[38;5;241m*\u001B[39m twm_data2[\u001B[38;5;124m'\u001B[39m\u001B[38;5;124macct_type_dummy_SV\u001B[39m\u001B[38;5;124m'\u001B[39m]\n\u001B[1;32m---> 14\u001B[0m twm_data2[\u001B[38;5;124m'\u001B[39m\u001B[38;5;124macct_term_CC\u001B[39m\u001B[38;5;124m'\u001B[39m] \u001B[38;5;241m=\u001B[39m (\u001B[43m(\u001B[49m\u001B[43mpd\u001B[49m\u001B[38;5;241;43m.\u001B[39;49m\u001B[43mto_datetime\u001B[49m\u001B[43m(\u001B[49m\u001B[43mtwm_data2\u001B[49m\u001B[43m[\u001B[49m\u001B[38;5;124;43m'\u001B[39;49m\u001B[38;5;124;43macct_end_date\u001B[39;49m\u001B[38;5;124;43m'\u001B[39;49m\u001B[43m]\u001B[49m\u001B[43m)\u001B[49m\u001B[43m \u001B[49m\u001B[38;5;241;43m-\u001B[39;49m\u001B[43m \u001B[49m\u001B[43mpd\u001B[49m\u001B[38;5;241;43m.\u001B[39;49m\u001B[43mto_datetime\u001B[49m\u001B[43m(\u001B[49m\u001B[43mtwm_data2\u001B[49m\u001B[43m[\u001B[49m\u001B[38;5;124;43m'\u001B[39;49m\u001B[38;5;124;43macct_start_date\u001B[39;49m\u001B[38;5;124;43m'\u001B[39;49m\u001B[43m]\u001B[49m\u001B[43m)\u001B[49m\u001B[43m)\u001B[49m\u001B[38;5;241;43m.\u001B[39;49m\u001B[43mdays\u001B[49m \u001B[38;5;241m*\u001B[39m twm_data2[\u001B[38;5;124m'\u001B[39m\u001B[38;5;124macct_type_dummy_CC\u001B[39m\u001B[38;5;124m'\u001B[39m])\n\u001B[0;32m     15\u001B[0m twm_data2[\u001B[38;5;124m'\u001B[39m\u001B[38;5;124macct_term_CK\u001B[39m\u001B[38;5;124m'\u001B[39m] \u001B[38;5;241m=\u001B[39m ((pd\u001B[38;5;241m.\u001B[39mto_datetime(twm_data2[\u001B[38;5;124m'\u001B[39m\u001B[38;5;124macct_end_date\u001B[39m\u001B[38;5;124m'\u001B[39m]) \u001B[38;5;241m-\u001B[39m pd\u001B[38;5;241m.\u001B[39mto_datetime(twm_data2[\u001B[38;5;124m'\u001B[39m\u001B[38;5;124macct_start_date\u001B[39m\u001B[38;5;124m'\u001B[39m]))\u001B[38;5;241m.\u001B[39mdays \u001B[38;5;241m*\u001B[39m twm_data2[\u001B[38;5;124m'\u001B[39m\u001B[38;5;124macct_type_dummy_CK\u001B[39m\u001B[38;5;124m'\u001B[39m])\n\u001B[0;32m     16\u001B[0m twm_data2[\u001B[38;5;124m'\u001B[39m\u001B[38;5;124macct_term_SV\u001B[39m\u001B[38;5;124m'\u001B[39m] \u001B[38;5;241m=\u001B[39m ((pd\u001B[38;5;241m.\u001B[39mto_datetime(twm_data2[\u001B[38;5;124m'\u001B[39m\u001B[38;5;124macct_end_date\u001B[39m\u001B[38;5;124m'\u001B[39m]) \u001B[38;5;241m-\u001B[39m pd\u001B[38;5;241m.\u001B[39mto_datetime(twm_data2[\u001B[38;5;124m'\u001B[39m\u001B[38;5;124macct_start_date\u001B[39m\u001B[38;5;124m'\u001B[39m]))\u001B[38;5;241m.\u001B[39mdays \u001B[38;5;241m*\u001B[39m twm_data2[\u001B[38;5;124m'\u001B[39m\u001B[38;5;124macct_type_dummy_SV\u001B[39m\u001B[38;5;124m'\u001B[39m])\n",
      "File \u001B[1;32m~\\miniconda3\\envs\\LighthouseEnv\\lib\\site-packages\\pandas\\core\\generic.py:5575\u001B[0m, in \u001B[0;36mNDFrame.__getattr__\u001B[1;34m(self, name)\u001B[0m\n\u001B[0;32m   5568\u001B[0m \u001B[38;5;28;01mif\u001B[39;00m (\n\u001B[0;32m   5569\u001B[0m     name \u001B[38;5;129;01mnot\u001B[39;00m \u001B[38;5;129;01min\u001B[39;00m \u001B[38;5;28mself\u001B[39m\u001B[38;5;241m.\u001B[39m_internal_names_set\n\u001B[0;32m   5570\u001B[0m     \u001B[38;5;129;01mand\u001B[39;00m name \u001B[38;5;129;01mnot\u001B[39;00m \u001B[38;5;129;01min\u001B[39;00m \u001B[38;5;28mself\u001B[39m\u001B[38;5;241m.\u001B[39m_metadata\n\u001B[0;32m   5571\u001B[0m     \u001B[38;5;129;01mand\u001B[39;00m name \u001B[38;5;129;01mnot\u001B[39;00m \u001B[38;5;129;01min\u001B[39;00m \u001B[38;5;28mself\u001B[39m\u001B[38;5;241m.\u001B[39m_accessors\n\u001B[0;32m   5572\u001B[0m     \u001B[38;5;129;01mand\u001B[39;00m \u001B[38;5;28mself\u001B[39m\u001B[38;5;241m.\u001B[39m_info_axis\u001B[38;5;241m.\u001B[39m_can_hold_identifiers_and_holds_name(name)\n\u001B[0;32m   5573\u001B[0m ):\n\u001B[0;32m   5574\u001B[0m     \u001B[38;5;28;01mreturn\u001B[39;00m \u001B[38;5;28mself\u001B[39m[name]\n\u001B[1;32m-> 5575\u001B[0m \u001B[38;5;28;01mreturn\u001B[39;00m \u001B[38;5;28;43mobject\u001B[39;49m\u001B[38;5;241;43m.\u001B[39;49m\u001B[38;5;21;43m__getattribute__\u001B[39;49m\u001B[43m(\u001B[49m\u001B[38;5;28;43mself\u001B[39;49m\u001B[43m,\u001B[49m\u001B[43m \u001B[49m\u001B[43mname\u001B[49m\u001B[43m)\u001B[49m\n",
      "\u001B[1;31mAttributeError\u001B[0m: 'Series' object has no attribute 'days'"
     ]
    }
   ],
   "source": [
    "# columns for if each customer has a certain account type\n",
    "twm_data2['has_CC'] = twm_data2['acct_type_dummy_CC']\n",
    "twm_data2['has_CK'] = twm_data2['acct_type_dummy_CK']\n",
    "twm_data2['has_SV'] = twm_data2['acct_type_dummy_SV']\n",
    "\n",
    "# columns for start and end date of account by type\n",
    "twm_data2['acct_start_date_CC'] = twm_data2['acct_start_date'] * twm_data2['acct_type_dummy_CC']\n",
    "twm_data2['acct_end_date_CC'] = twm_data2['acct_end_date'] * twm_data2['acct_type_dummy_CC']\n",
    "twm_data2['acct_start_date_CK'] = twm_data2['acct_start_date'] * twm_data2['acct_type_dummy_CK']\n",
    "twm_data2['acct_end_date_CK'] = twm_data2['acct_end_date'] * twm_data2['acct_type_dummy_CK']\n",
    "twm_data2['acct_start_date_SV'] = twm_data2['acct_start_date'] * twm_data2['acct_type_dummy_SV']\n",
    "twm_data2['acct_end_date_SV'] = twm_data2['acct_end_date'] * twm_data2['acct_type_dummy_SV']\n",
    "\n",
    "twm_data2['acct_term_CC'] = ((pd.to_datetime(twm_data2['acct_end_date']) - pd.to_datetime(twm_data2['acct_start_date'])) * twm_data2['acct_type_dummy_CC'])\n",
    "twm_data2['acct_term_CC'] =\n",
    "\n",
    "twm_data2['acct_term_CK'] = ((pd.to_datetime(twm_data2['acct_end_date']) - pd.to_datetime(twm_data2['acct_start_date'])) * twm_data2['acct_type_dummy_CK'])\n",
    "\n",
    "\n",
    "twm_data2['acct_term_SV'] = ((pd.to_datetime(twm_data2['acct_end_date']) - pd.to_datetime(twm_data2['acct_start_date'])) * twm_data2['acct_type_dummy_SV'])\n",
    "\n",
    "\n",
    "# columns for avg tran amt by account type\n",
    "twm_data2['avg_tran_amt_CC'] = twm_data['avg_tran_amt'] * twm_data2['acct_type_dummy_CC']\n",
    "twm_data2['avg_tran_amt_CK'] = twm_data['avg_tran_amt'] * twm_data2['acct_type_dummy_CK']\n",
    "twm_data2['avg_tran_amt_SV'] = twm_data['avg_tran_amt'] * twm_data2['acct_type_dummy_SV']\n",
    "\n",
    "# columns for number of transactions by acct type\n",
    "twm_data2['nbr_of_tran_CC'] = twm_data['nbr_of_trans'] * twm_data2['acct_type_dummy_CC']\n",
    "twm_data2['nbr_of_tran_CK'] = twm_data['nbr_of_trans'] * twm_data2['acct_type_dummy_CK']\n",
    "twm_data2['nbr_of_tran_SV'] = twm_data['nbr_of_trans'] * twm_data2['acct_type_dummy_SV']\n",
    "\n",
    "# new columns for initial and final bank balance by account type\n",
    "twm_data2['acct_initial_balance_CC'] = twm_data['acct_initial_balance'] * twm_data2['acct_type_dummy_CC']\n",
    "twm_data2['acct_final_balance_CC'] = twm_data['acct_final_balance'] * twm_data2['acct_type_dummy_CC']\n",
    "\n",
    "twm_data2['acct_initial_balance_CK'] = twm_data['acct_initial_balance'] * twm_data2['acct_type_dummy_CK']\n",
    "twm_data2['acct_final_balance_CK'] = twm_data['acct_final_balance'] * twm_data2['acct_type_dummy_CK']\n",
    "\n",
    "twm_data2['acct_initial_balance_SV'] = twm_data['acct_initial_balance'] * twm_data2['acct_type_dummy_SV']\n",
    "twm_data2['acct_final_balance_SV'] = twm_data['acct_final_balance'] * twm_data2['acct_type_dummy_SV']\n",
    "\n",
    "\n",
    "twm_data2.columns"
   ],
   "metadata": {
    "collapsed": false,
    "pycharm": {
     "name": "#%%\n"
    }
   }
  },
  {
   "cell_type": "code",
   "execution_count": 416,
   "outputs": [
    {
     "name": "stderr",
     "output_type": "stream",
     "text": [
      "C:\\Users\\thowe\\AppData\\Local\\Temp\\ipykernel_38224\\1081082948.py:2: FutureWarning: Indexing with multiple keys (implicitly converted to a tuple of keys) will be deprecated, use a list instead.\n",
      "  x = twm_data3.groupby('cust_id')[ 'has_CC', 'has_CK', 'has_SV',\n"
     ]
    },
    {
     "data": {
      "text/plain": "         has_CC  has_CK  has_SV acct_start_date_CC acct_end_date_CC  \\\ncust_id                                                               \n1362480       1       1       1         1992-12-23       1995-12-15   \n1362484       1       1       1         1993-01-02       1996-01-01   \n1362485       1       1       0         1992-04-13       1996-01-01   \n1362486       0       1       1                                       \n1362487       1       1       1         1995-08-08       1996-01-01   \n...         ...     ...     ...                ...              ...   \n1363490       0       0       1                                       \n1363491       0       0       1                                       \n1363492       1       1       1         1991-12-31       1996-01-01   \n1363493       0       1       1                                       \n1363495       0       1       1                                       \n\n        acct_start_date_CK acct_end_date_CK acct_start_date_SV  \\\ncust_id                                                          \n1362480         1992-12-23       1996-01-01         1992-12-23   \n1362484         1993-01-02       1996-01-01         1993-01-02   \n1362485         1995-09-26       1996-01-01                      \n1362486         1994-08-24       1996-01-01         1989-07-13   \n1362487         1995-01-12       1996-01-01         1994-06-27   \n...                    ...              ...                ...   \n1363490                                             1994-11-27   \n1363491                                             1990-10-22   \n1363492         1991-12-31       1996-01-01         1991-12-31   \n1363493         1994-05-20       1996-01-01         1993-06-08   \n1363495         1995-09-27       1996-01-01         1994-11-16   \n\n        acct_end_date_SV acct_term_CC  ... avg_tran_amt_SV nbr_of_tran_CC  \\\ncust_id                                ...                                  \n1362480       1996-01-01    1087 days  ...       18.550769             32   \n1362484       1996-01-01    1094 days  ...       58.474545             55   \n1362485                     1358 days  ...        0.000000             72   \n1362486       1996-01-01       0 days  ...       -6.729600              0   \n1362487       1995-08-25     146 days  ...      -33.623158             32   \n...                  ...          ...  ...             ...            ...   \n1363490       1996-01-01       0 days  ...        2.853333              0   \n1363491       1995-04-19       0 days  ...      -10.423889              0   \n1363492       1996-01-01    1462 days  ...        6.563200             29   \n1363493       1995-07-19       0 days  ...       11.706842              0   \n1363495       1996-01-01       0 days  ...       12.827778              0   \n\n         nbr_of_tran_CK  nbr_of_tran_SV  acct_initial_balance_CC  \\\ncust_id                                                            \n1362480              99              26                  1607.40   \n1362484              99              33                  1278.78   \n1362485              99               0                   282.38   \n1362486              25              25                     0.00   \n1362487              52              19                     0.00   \n...                 ...             ...                      ...   \n1363490               0              12                     0.00   \n1363491               0              18                     0.00   \n1363492              99              25                  4128.58   \n1363493              99              19                     0.00   \n1363495              99              36                     0.00   \n\n         acct_final_balance_CC  acct_initial_balance_CK  \\\ncust_id                                                   \n1362480                  20.00                   331.85   \n1362484                 369.72                  2613.46   \n1362485                1100.00                   209.78   \n1362486                   0.00                  4252.39   \n1362487                1548.23                  2781.07   \n...                        ...                      ...   \n1363490                   0.00                     0.00   \n1363491                   0.00                     0.00   \n1363492                6869.00                  1350.61   \n1363493                   0.00                  6123.84   \n1363495                   0.00                  2605.49   \n\n         acct_final_balance_CK  acct_initial_balance_SV  acct_final_balance_SV  \ncust_id                                                                         \n1362480                  86.86                   707.09                1187.97  \n1362484                  95.32                   194.76                2122.17  \n1362485                  45.49                     0.00                   0.00  \n1362486                3312.27                   284.48                 116.24  \n1362487                1401.21                   651.73                  12.89  \n...                        ...                      ...                    ...  \n1363490                   0.00                  2267.29                2301.53  \n1363491                   0.00                   205.45                  17.82  \n1363492                 106.14                   952.38                1116.10  \n1363493                2053.90                   331.18                 553.61  \n1363495                 178.50                  2321.90                2783.16  \n\n[664 rows x 24 columns]",
      "text/html": "<div>\n<style scoped>\n    .dataframe tbody tr th:only-of-type {\n        vertical-align: middle;\n    }\n\n    .dataframe tbody tr th {\n        vertical-align: top;\n    }\n\n    .dataframe thead th {\n        text-align: right;\n    }\n</style>\n<table border=\"1\" class=\"dataframe\">\n  <thead>\n    <tr style=\"text-align: right;\">\n      <th></th>\n      <th>has_CC</th>\n      <th>has_CK</th>\n      <th>has_SV</th>\n      <th>acct_start_date_CC</th>\n      <th>acct_end_date_CC</th>\n      <th>acct_start_date_CK</th>\n      <th>acct_end_date_CK</th>\n      <th>acct_start_date_SV</th>\n      <th>acct_end_date_SV</th>\n      <th>acct_term_CC</th>\n      <th>...</th>\n      <th>avg_tran_amt_SV</th>\n      <th>nbr_of_tran_CC</th>\n      <th>nbr_of_tran_CK</th>\n      <th>nbr_of_tran_SV</th>\n      <th>acct_initial_balance_CC</th>\n      <th>acct_final_balance_CC</th>\n      <th>acct_initial_balance_CK</th>\n      <th>acct_final_balance_CK</th>\n      <th>acct_initial_balance_SV</th>\n      <th>acct_final_balance_SV</th>\n    </tr>\n    <tr>\n      <th>cust_id</th>\n      <th></th>\n      <th></th>\n      <th></th>\n      <th></th>\n      <th></th>\n      <th></th>\n      <th></th>\n      <th></th>\n      <th></th>\n      <th></th>\n      <th></th>\n      <th></th>\n      <th></th>\n      <th></th>\n      <th></th>\n      <th></th>\n      <th></th>\n      <th></th>\n      <th></th>\n      <th></th>\n      <th></th>\n    </tr>\n  </thead>\n  <tbody>\n    <tr>\n      <th>1362480</th>\n      <td>1</td>\n      <td>1</td>\n      <td>1</td>\n      <td>1992-12-23</td>\n      <td>1995-12-15</td>\n      <td>1992-12-23</td>\n      <td>1996-01-01</td>\n      <td>1992-12-23</td>\n      <td>1996-01-01</td>\n      <td>1087 days</td>\n      <td>...</td>\n      <td>18.550769</td>\n      <td>32</td>\n      <td>99</td>\n      <td>26</td>\n      <td>1607.40</td>\n      <td>20.00</td>\n      <td>331.85</td>\n      <td>86.86</td>\n      <td>707.09</td>\n      <td>1187.97</td>\n    </tr>\n    <tr>\n      <th>1362484</th>\n      <td>1</td>\n      <td>1</td>\n      <td>1</td>\n      <td>1993-01-02</td>\n      <td>1996-01-01</td>\n      <td>1993-01-02</td>\n      <td>1996-01-01</td>\n      <td>1993-01-02</td>\n      <td>1996-01-01</td>\n      <td>1094 days</td>\n      <td>...</td>\n      <td>58.474545</td>\n      <td>55</td>\n      <td>99</td>\n      <td>33</td>\n      <td>1278.78</td>\n      <td>369.72</td>\n      <td>2613.46</td>\n      <td>95.32</td>\n      <td>194.76</td>\n      <td>2122.17</td>\n    </tr>\n    <tr>\n      <th>1362485</th>\n      <td>1</td>\n      <td>1</td>\n      <td>0</td>\n      <td>1992-04-13</td>\n      <td>1996-01-01</td>\n      <td>1995-09-26</td>\n      <td>1996-01-01</td>\n      <td></td>\n      <td></td>\n      <td>1358 days</td>\n      <td>...</td>\n      <td>0.000000</td>\n      <td>72</td>\n      <td>99</td>\n      <td>0</td>\n      <td>282.38</td>\n      <td>1100.00</td>\n      <td>209.78</td>\n      <td>45.49</td>\n      <td>0.00</td>\n      <td>0.00</td>\n    </tr>\n    <tr>\n      <th>1362486</th>\n      <td>0</td>\n      <td>1</td>\n      <td>1</td>\n      <td></td>\n      <td></td>\n      <td>1994-08-24</td>\n      <td>1996-01-01</td>\n      <td>1989-07-13</td>\n      <td>1996-01-01</td>\n      <td>0 days</td>\n      <td>...</td>\n      <td>-6.729600</td>\n      <td>0</td>\n      <td>25</td>\n      <td>25</td>\n      <td>0.00</td>\n      <td>0.00</td>\n      <td>4252.39</td>\n      <td>3312.27</td>\n      <td>284.48</td>\n      <td>116.24</td>\n    </tr>\n    <tr>\n      <th>1362487</th>\n      <td>1</td>\n      <td>1</td>\n      <td>1</td>\n      <td>1995-08-08</td>\n      <td>1996-01-01</td>\n      <td>1995-01-12</td>\n      <td>1996-01-01</td>\n      <td>1994-06-27</td>\n      <td>1995-08-25</td>\n      <td>146 days</td>\n      <td>...</td>\n      <td>-33.623158</td>\n      <td>32</td>\n      <td>52</td>\n      <td>19</td>\n      <td>0.00</td>\n      <td>1548.23</td>\n      <td>2781.07</td>\n      <td>1401.21</td>\n      <td>651.73</td>\n      <td>12.89</td>\n    </tr>\n    <tr>\n      <th>...</th>\n      <td>...</td>\n      <td>...</td>\n      <td>...</td>\n      <td>...</td>\n      <td>...</td>\n      <td>...</td>\n      <td>...</td>\n      <td>...</td>\n      <td>...</td>\n      <td>...</td>\n      <td>...</td>\n      <td>...</td>\n      <td>...</td>\n      <td>...</td>\n      <td>...</td>\n      <td>...</td>\n      <td>...</td>\n      <td>...</td>\n      <td>...</td>\n      <td>...</td>\n      <td>...</td>\n    </tr>\n    <tr>\n      <th>1363490</th>\n      <td>0</td>\n      <td>0</td>\n      <td>1</td>\n      <td></td>\n      <td></td>\n      <td></td>\n      <td></td>\n      <td>1994-11-27</td>\n      <td>1996-01-01</td>\n      <td>0 days</td>\n      <td>...</td>\n      <td>2.853333</td>\n      <td>0</td>\n      <td>0</td>\n      <td>12</td>\n      <td>0.00</td>\n      <td>0.00</td>\n      <td>0.00</td>\n      <td>0.00</td>\n      <td>2267.29</td>\n      <td>2301.53</td>\n    </tr>\n    <tr>\n      <th>1363491</th>\n      <td>0</td>\n      <td>0</td>\n      <td>1</td>\n      <td></td>\n      <td></td>\n      <td></td>\n      <td></td>\n      <td>1990-10-22</td>\n      <td>1995-04-19</td>\n      <td>0 days</td>\n      <td>...</td>\n      <td>-10.423889</td>\n      <td>0</td>\n      <td>0</td>\n      <td>18</td>\n      <td>0.00</td>\n      <td>0.00</td>\n      <td>0.00</td>\n      <td>0.00</td>\n      <td>205.45</td>\n      <td>17.82</td>\n    </tr>\n    <tr>\n      <th>1363492</th>\n      <td>1</td>\n      <td>1</td>\n      <td>1</td>\n      <td>1991-12-31</td>\n      <td>1996-01-01</td>\n      <td>1991-12-31</td>\n      <td>1996-01-01</td>\n      <td>1991-12-31</td>\n      <td>1996-01-01</td>\n      <td>1462 days</td>\n      <td>...</td>\n      <td>6.563200</td>\n      <td>29</td>\n      <td>99</td>\n      <td>25</td>\n      <td>4128.58</td>\n      <td>6869.00</td>\n      <td>1350.61</td>\n      <td>106.14</td>\n      <td>952.38</td>\n      <td>1116.10</td>\n    </tr>\n    <tr>\n      <th>1363493</th>\n      <td>0</td>\n      <td>1</td>\n      <td>1</td>\n      <td></td>\n      <td></td>\n      <td>1994-05-20</td>\n      <td>1996-01-01</td>\n      <td>1993-06-08</td>\n      <td>1995-07-19</td>\n      <td>0 days</td>\n      <td>...</td>\n      <td>11.706842</td>\n      <td>0</td>\n      <td>99</td>\n      <td>19</td>\n      <td>0.00</td>\n      <td>0.00</td>\n      <td>6123.84</td>\n      <td>2053.90</td>\n      <td>331.18</td>\n      <td>553.61</td>\n    </tr>\n    <tr>\n      <th>1363495</th>\n      <td>0</td>\n      <td>1</td>\n      <td>1</td>\n      <td></td>\n      <td></td>\n      <td>1995-09-27</td>\n      <td>1996-01-01</td>\n      <td>1994-11-16</td>\n      <td>1996-01-01</td>\n      <td>0 days</td>\n      <td>...</td>\n      <td>12.827778</td>\n      <td>0</td>\n      <td>99</td>\n      <td>36</td>\n      <td>0.00</td>\n      <td>0.00</td>\n      <td>2605.49</td>\n      <td>178.50</td>\n      <td>2321.90</td>\n      <td>2783.16</td>\n    </tr>\n  </tbody>\n</table>\n<p>664 rows × 24 columns</p>\n</div>"
     },
     "execution_count": 416,
     "metadata": {},
     "output_type": "execute_result"
    }
   ],
   "source": [
    "twm_data3 = pd.DataFrame(twm_data2)\n",
    "x = twm_data3.groupby('cust_id')[ 'has_CC', 'has_CK', 'has_SV',\n",
    "                                  'acct_start_date_CC', 'acct_end_date_CC',\n",
    "                                  'acct_start_date_CK', 'acct_end_date_CK',\n",
    "                                  'acct_start_date_SV', 'acct_end_date_SV',\n",
    "                                  'acct_term_CC', 'acct_term_CK', 'acct_term_SV',\n",
    "                                  'avg_tran_amt_CC', 'avg_tran_amt_CK', 'avg_tran_amt_SV',\n",
    "                                  'nbr_of_tran_CC','nbr_of_tran_CK', 'nbr_of_tran_SV',\n",
    "                                  'acct_initial_balance_CC', 'acct_final_balance_CC',\n",
    "                                  'acct_initial_balance_CK','acct_final_balance_CK',\n",
    "                                  'acct_initial_balance_SV','acct_final_balance_SV'].apply(sum)\n",
    "\n",
    "dropme = ['acct_nbr','tran_id','acct_type','acct_end_date','tran_date','acct_final_balance']\n",
    "twm_data3 = twm_data3.drop(columns=dropme)\n",
    "# for i in dropme:\n",
    "#     twm_data3 = twm_data3.drop(columns=i)\n",
    "\n",
    "# twm_data3['cust_id'] = twm_data3['cust_id'].astype(object)\n",
    "\n",
    "x\n"
   ],
   "metadata": {
    "collapsed": false,
    "pycharm": {
     "name": "#%%\n"
    }
   }
  },
  {
   "cell_type": "code",
   "execution_count": 395,
   "outputs": [
    {
     "ename": "ValueError",
     "evalue": "could not convert string to float: '1992-12-23'",
     "output_type": "error",
     "traceback": [
      "\u001B[1;31m---------------------------------------------------------------------------\u001B[0m",
      "\u001B[1;31mValueError\u001B[0m                                Traceback (most recent call last)",
      "Input \u001B[1;32mIn [395]\u001B[0m, in \u001B[0;36m<cell line: 10>\u001B[1;34m()\u001B[0m\n\u001B[0;32m      5\u001B[0m \u001B[38;5;66;03m# create an Agglomerative Clustering object\u001B[39;00m\n\u001B[0;32m      6\u001B[0m ac \u001B[38;5;241m=\u001B[39m AgglomerativeClustering(affinity \u001B[38;5;241m=\u001B[39m\u001B[38;5;124m'\u001B[39m\u001B[38;5;124meuclidean\u001B[39m\u001B[38;5;124m'\u001B[39m,\n\u001B[0;32m      7\u001B[0m                              linkage\u001B[38;5;241m=\u001B[39m\u001B[38;5;124m'\u001B[39m\u001B[38;5;124mward\u001B[39m\u001B[38;5;124m'\u001B[39m,\n\u001B[0;32m      8\u001B[0m                              n_clusters\u001B[38;5;241m=\u001B[39m\u001B[38;5;241m5\u001B[39m)\n\u001B[1;32m---> 10\u001B[0m hc \u001B[38;5;241m=\u001B[39m \u001B[43mac\u001B[49m\u001B[38;5;241;43m.\u001B[39;49m\u001B[43mfit_predict\u001B[49m\u001B[43m(\u001B[49m\u001B[43mtwm_data3\u001B[49m\u001B[43m)\u001B[49m\n",
      "File \u001B[1;32m~\\miniconda3\\envs\\LighthouseEnv\\lib\\site-packages\\sklearn\\cluster\\_agglomerative.py:1054\u001B[0m, in \u001B[0;36mAgglomerativeClustering.fit_predict\u001B[1;34m(self, X, y)\u001B[0m\n\u001B[0;32m   1033\u001B[0m \u001B[38;5;28;01mdef\u001B[39;00m \u001B[38;5;21mfit_predict\u001B[39m(\u001B[38;5;28mself\u001B[39m, X, y\u001B[38;5;241m=\u001B[39m\u001B[38;5;28;01mNone\u001B[39;00m):\n\u001B[0;32m   1034\u001B[0m     \u001B[38;5;124;03m\"\"\"Fit and return the result of each sample's clustering assignment.\u001B[39;00m\n\u001B[0;32m   1035\u001B[0m \n\u001B[0;32m   1036\u001B[0m \u001B[38;5;124;03m    In addition to fitting, this method also return the result of the\u001B[39;00m\n\u001B[1;32m   (...)\u001B[0m\n\u001B[0;32m   1052\u001B[0m \u001B[38;5;124;03m        Cluster labels.\u001B[39;00m\n\u001B[0;32m   1053\u001B[0m \u001B[38;5;124;03m    \"\"\"\u001B[39;00m\n\u001B[1;32m-> 1054\u001B[0m     \u001B[38;5;28;01mreturn\u001B[39;00m \u001B[38;5;28;43msuper\u001B[39;49m\u001B[43m(\u001B[49m\u001B[43m)\u001B[49m\u001B[38;5;241;43m.\u001B[39;49m\u001B[43mfit_predict\u001B[49m\u001B[43m(\u001B[49m\u001B[43mX\u001B[49m\u001B[43m,\u001B[49m\u001B[43m \u001B[49m\u001B[43my\u001B[49m\u001B[43m)\u001B[49m\n",
      "File \u001B[1;32m~\\miniconda3\\envs\\LighthouseEnv\\lib\\site-packages\\sklearn\\base.py:736\u001B[0m, in \u001B[0;36mClusterMixin.fit_predict\u001B[1;34m(self, X, y)\u001B[0m\n\u001B[0;32m    718\u001B[0m \u001B[38;5;124;03m\"\"\"\u001B[39;00m\n\u001B[0;32m    719\u001B[0m \u001B[38;5;124;03mPerform clustering on `X` and returns cluster labels.\u001B[39;00m\n\u001B[0;32m    720\u001B[0m \n\u001B[1;32m   (...)\u001B[0m\n\u001B[0;32m    732\u001B[0m \u001B[38;5;124;03m    Cluster labels.\u001B[39;00m\n\u001B[0;32m    733\u001B[0m \u001B[38;5;124;03m\"\"\"\u001B[39;00m\n\u001B[0;32m    734\u001B[0m \u001B[38;5;66;03m# non-optimized default implementation; override when a better\u001B[39;00m\n\u001B[0;32m    735\u001B[0m \u001B[38;5;66;03m# method is possible for a given clustering algorithm\u001B[39;00m\n\u001B[1;32m--> 736\u001B[0m \u001B[38;5;28;43mself\u001B[39;49m\u001B[38;5;241;43m.\u001B[39;49m\u001B[43mfit\u001B[49m\u001B[43m(\u001B[49m\u001B[43mX\u001B[49m\u001B[43m)\u001B[49m\n\u001B[0;32m    737\u001B[0m \u001B[38;5;28;01mreturn\u001B[39;00m \u001B[38;5;28mself\u001B[39m\u001B[38;5;241m.\u001B[39mlabels_\n",
      "File \u001B[1;32m~\\miniconda3\\envs\\LighthouseEnv\\lib\\site-packages\\sklearn\\cluster\\_agglomerative.py:917\u001B[0m, in \u001B[0;36mAgglomerativeClustering.fit\u001B[1;34m(self, X, y)\u001B[0m\n\u001B[0;32m    899\u001B[0m \u001B[38;5;28;01mdef\u001B[39;00m \u001B[38;5;21mfit\u001B[39m(\u001B[38;5;28mself\u001B[39m, X, y\u001B[38;5;241m=\u001B[39m\u001B[38;5;28;01mNone\u001B[39;00m):\n\u001B[0;32m    900\u001B[0m     \u001B[38;5;124;03m\"\"\"Fit the hierarchical clustering from features, or distance matrix.\u001B[39;00m\n\u001B[0;32m    901\u001B[0m \n\u001B[0;32m    902\u001B[0m \u001B[38;5;124;03m    Parameters\u001B[39;00m\n\u001B[1;32m   (...)\u001B[0m\n\u001B[0;32m    915\u001B[0m \u001B[38;5;124;03m        Returns the fitted instance.\u001B[39;00m\n\u001B[0;32m    916\u001B[0m \u001B[38;5;124;03m    \"\"\"\u001B[39;00m\n\u001B[1;32m--> 917\u001B[0m     X \u001B[38;5;241m=\u001B[39m \u001B[38;5;28;43mself\u001B[39;49m\u001B[38;5;241;43m.\u001B[39;49m\u001B[43m_validate_data\u001B[49m\u001B[43m(\u001B[49m\u001B[43mX\u001B[49m\u001B[43m,\u001B[49m\u001B[43m \u001B[49m\u001B[43mensure_min_samples\u001B[49m\u001B[38;5;241;43m=\u001B[39;49m\u001B[38;5;241;43m2\u001B[39;49m\u001B[43m,\u001B[49m\u001B[43m \u001B[49m\u001B[43mestimator\u001B[49m\u001B[38;5;241;43m=\u001B[39;49m\u001B[38;5;28;43mself\u001B[39;49m\u001B[43m)\u001B[49m\n\u001B[0;32m    918\u001B[0m     \u001B[38;5;28;01mreturn\u001B[39;00m \u001B[38;5;28mself\u001B[39m\u001B[38;5;241m.\u001B[39m_fit(X)\n",
      "File \u001B[1;32m~\\miniconda3\\envs\\LighthouseEnv\\lib\\site-packages\\sklearn\\base.py:566\u001B[0m, in \u001B[0;36mBaseEstimator._validate_data\u001B[1;34m(self, X, y, reset, validate_separately, **check_params)\u001B[0m\n\u001B[0;32m    564\u001B[0m     \u001B[38;5;28;01mraise\u001B[39;00m \u001B[38;5;167;01mValueError\u001B[39;00m(\u001B[38;5;124m\"\u001B[39m\u001B[38;5;124mValidation should be done on X, y or both.\u001B[39m\u001B[38;5;124m\"\u001B[39m)\n\u001B[0;32m    565\u001B[0m \u001B[38;5;28;01melif\u001B[39;00m \u001B[38;5;129;01mnot\u001B[39;00m no_val_X \u001B[38;5;129;01mand\u001B[39;00m no_val_y:\n\u001B[1;32m--> 566\u001B[0m     X \u001B[38;5;241m=\u001B[39m check_array(X, \u001B[38;5;241m*\u001B[39m\u001B[38;5;241m*\u001B[39mcheck_params)\n\u001B[0;32m    567\u001B[0m     out \u001B[38;5;241m=\u001B[39m X\n\u001B[0;32m    568\u001B[0m \u001B[38;5;28;01melif\u001B[39;00m no_val_X \u001B[38;5;129;01mand\u001B[39;00m \u001B[38;5;129;01mnot\u001B[39;00m no_val_y:\n",
      "File \u001B[1;32m~\\miniconda3\\envs\\LighthouseEnv\\lib\\site-packages\\sklearn\\utils\\validation.py:746\u001B[0m, in \u001B[0;36mcheck_array\u001B[1;34m(array, accept_sparse, accept_large_sparse, dtype, order, copy, force_all_finite, ensure_2d, allow_nd, ensure_min_samples, ensure_min_features, estimator)\u001B[0m\n\u001B[0;32m    744\u001B[0m         array \u001B[38;5;241m=\u001B[39m array\u001B[38;5;241m.\u001B[39mastype(dtype, casting\u001B[38;5;241m=\u001B[39m\u001B[38;5;124m\"\u001B[39m\u001B[38;5;124munsafe\u001B[39m\u001B[38;5;124m\"\u001B[39m, copy\u001B[38;5;241m=\u001B[39m\u001B[38;5;28;01mFalse\u001B[39;00m)\n\u001B[0;32m    745\u001B[0m     \u001B[38;5;28;01melse\u001B[39;00m:\n\u001B[1;32m--> 746\u001B[0m         array \u001B[38;5;241m=\u001B[39m \u001B[43mnp\u001B[49m\u001B[38;5;241;43m.\u001B[39;49m\u001B[43masarray\u001B[49m\u001B[43m(\u001B[49m\u001B[43marray\u001B[49m\u001B[43m,\u001B[49m\u001B[43m \u001B[49m\u001B[43morder\u001B[49m\u001B[38;5;241;43m=\u001B[39;49m\u001B[43morder\u001B[49m\u001B[43m,\u001B[49m\u001B[43m \u001B[49m\u001B[43mdtype\u001B[49m\u001B[38;5;241;43m=\u001B[39;49m\u001B[43mdtype\u001B[49m\u001B[43m)\u001B[49m\n\u001B[0;32m    747\u001B[0m \u001B[38;5;28;01mexcept\u001B[39;00m ComplexWarning \u001B[38;5;28;01mas\u001B[39;00m complex_warning:\n\u001B[0;32m    748\u001B[0m     \u001B[38;5;28;01mraise\u001B[39;00m \u001B[38;5;167;01mValueError\u001B[39;00m(\n\u001B[0;32m    749\u001B[0m         \u001B[38;5;124m\"\u001B[39m\u001B[38;5;124mComplex data not supported\u001B[39m\u001B[38;5;130;01m\\n\u001B[39;00m\u001B[38;5;132;01m{}\u001B[39;00m\u001B[38;5;130;01m\\n\u001B[39;00m\u001B[38;5;124m\"\u001B[39m\u001B[38;5;241m.\u001B[39mformat(array)\n\u001B[0;32m    750\u001B[0m     ) \u001B[38;5;28;01mfrom\u001B[39;00m \u001B[38;5;21;01mcomplex_warning\u001B[39;00m\n",
      "File \u001B[1;32m~\\miniconda3\\envs\\LighthouseEnv\\lib\\site-packages\\pandas\\core\\generic.py:2064\u001B[0m, in \u001B[0;36mNDFrame.__array__\u001B[1;34m(self, dtype)\u001B[0m\n\u001B[0;32m   2063\u001B[0m \u001B[38;5;28;01mdef\u001B[39;00m \u001B[38;5;21m__array__\u001B[39m(\u001B[38;5;28mself\u001B[39m, dtype: npt\u001B[38;5;241m.\u001B[39mDTypeLike \u001B[38;5;241m|\u001B[39m \u001B[38;5;28;01mNone\u001B[39;00m \u001B[38;5;241m=\u001B[39m \u001B[38;5;28;01mNone\u001B[39;00m) \u001B[38;5;241m-\u001B[39m\u001B[38;5;241m>\u001B[39m np\u001B[38;5;241m.\u001B[39mndarray:\n\u001B[1;32m-> 2064\u001B[0m     \u001B[38;5;28;01mreturn\u001B[39;00m \u001B[43mnp\u001B[49m\u001B[38;5;241;43m.\u001B[39;49m\u001B[43masarray\u001B[49m\u001B[43m(\u001B[49m\u001B[38;5;28;43mself\u001B[39;49m\u001B[38;5;241;43m.\u001B[39;49m\u001B[43m_values\u001B[49m\u001B[43m,\u001B[49m\u001B[43m \u001B[49m\u001B[43mdtype\u001B[49m\u001B[38;5;241;43m=\u001B[39;49m\u001B[43mdtype\u001B[49m\u001B[43m)\u001B[49m\n",
      "\u001B[1;31mValueError\u001B[0m: could not convert string to float: '1992-12-23'"
     ]
    }
   ],
   "source": [
    "from sklearn.cluster import AgglomerativeClustering\n",
    "\n",
    "import scipy.cluster.hierarchy as sch\n",
    "\n",
    "# create an Agglomerative Clustering object\n",
    "ac = AgglomerativeClustering(affinity ='euclidean',\n",
    "                             linkage='ward',\n",
    "                             n_clusters=5)\n",
    "\n",
    "hc = ac.fit_predict(twm_data3)"
   ],
   "metadata": {
    "collapsed": false,
    "pycharm": {
     "name": "#%%\n"
    }
   }
  },
  {
   "cell_type": "code",
   "execution_count": 323,
   "outputs": [
    {
     "name": "stdout",
     "output_type": "stream",
     "text": [
      "Collecting package metadata (current_repodata.json): ...working... done\n",
      "Solving environment: ...working... done\n",
      "\n",
      "## Package Plan ##\n",
      "\n",
      "  environment location: C:\\Users\\thowe\\miniconda3\\envs\\LighthouseEnv\n",
      "\n",
      "  added / updated specs:\n",
      "    - matplotlib\n",
      "\n",
      "\n",
      "The following packages will be downloaded:\n",
      "\n",
      "    package                    |            build\n",
      "    ---------------------------|-----------------\n",
      "    kiwisolver-1.4.2           |  py310hd77b12b_0          58 KB\n",
      "    libtiff-4.2.0              |       he0120a3_1         754 KB\n",
      "    matplotlib-3.5.1           |  py310haa95532_1          29 KB\n",
      "    matplotlib-base-3.5.1      |  py310hd77b12b_1         5.6 MB\n",
      "    pillow-9.2.0               |  py310hdc2b20a_1         915 KB\n",
      "    pyqt-5.9.2                 |  py310hd77b12b_6         3.3 MB\n",
      "    sip-4.19.13                |  py310hd77b12b_0         262 KB\n",
      "    zstd-1.5.2                 |       h19a0ad4_0         509 KB\n",
      "    ------------------------------------------------------------\n",
      "                                           Total:        11.5 MB\n",
      "\n",
      "The following NEW packages will be INSTALLED:\n",
      "\n",
      "  brotli             pkgs/main/win-64::brotli-1.0.9-ha925a31_2\n",
      "  cycler             pkgs/main/noarch::cycler-0.11.0-pyhd3eb1b0_0\n",
      "  fonttools          pkgs/main/noarch::fonttools-4.25.0-pyhd3eb1b0_0\n",
      "  freetype           pkgs/main/win-64::freetype-2.10.4-hd328e21_0\n",
      "  icu                pkgs/main/win-64::icu-58.2-ha925a31_3\n",
      "  jpeg               pkgs/main/win-64::jpeg-9e-h2bbff1b_0\n",
      "  kiwisolver         pkgs/main/win-64::kiwisolver-1.4.2-py310hd77b12b_0\n",
      "  libpng             pkgs/main/win-64::libpng-1.6.37-h2a8f88b_0\n",
      "  libtiff            pkgs/main/win-64::libtiff-4.2.0-he0120a3_1\n",
      "  libwebp            pkgs/main/win-64::libwebp-1.2.2-h2bbff1b_0\n",
      "  lz4-c              pkgs/main/win-64::lz4-c-1.9.3-h2bbff1b_1\n",
      "  matplotlib         pkgs/main/win-64::matplotlib-3.5.1-py310haa95532_1\n",
      "  matplotlib-base    pkgs/main/win-64::matplotlib-base-3.5.1-py310hd77b12b_1\n",
      "  munkres            pkgs/main/noarch::munkres-1.1.4-py_0\n",
      "  pillow             pkgs/main/win-64::pillow-9.2.0-py310hdc2b20a_1\n",
      "  pyqt               pkgs/main/win-64::pyqt-5.9.2-py310hd77b12b_6\n",
      "  qt                 pkgs/main/win-64::qt-5.9.7-vc14h73c81de_0\n",
      "  sip                pkgs/main/win-64::sip-4.19.13-py310hd77b12b_0\n",
      "  zstd               pkgs/main/win-64::zstd-1.5.2-h19a0ad4_0\n",
      "\n",
      "\n",
      "\n",
      "Downloading and Extracting Packages\n",
      "\n",
      "libtiff-4.2.0        | 754 KB    |            |   0% \n",
      "libtiff-4.2.0        | 754 KB    | #6         |  17% \n",
      "libtiff-4.2.0        | 754 KB    | ########## | 100% \n",
      "libtiff-4.2.0        | 754 KB    | ########## | 100% \n",
      "\n",
      "pillow-9.2.0         | 915 KB    |            |   0% \n",
      "pillow-9.2.0         | 915 KB    | ######9    |  70% \n",
      "pillow-9.2.0         | 915 KB    | ########## | 100% \n",
      "\n",
      "matplotlib-3.5.1     | 29 KB     |            |   0% \n",
      "matplotlib-3.5.1     | 29 KB     | ########## | 100% \n",
      "\n",
      "pyqt-5.9.2           | 3.3 MB    |            |   0% \n",
      "pyqt-5.9.2           | 3.3 MB    | ##6        |  27% \n",
      "pyqt-5.9.2           | 3.3 MB    | ######7    |  67% \n",
      "pyqt-5.9.2           | 3.3 MB    | ########## | 100% \n",
      "\n",
      "sip-4.19.13          | 262 KB    |            |   0% \n",
      "sip-4.19.13          | 262 KB    | ########## | 100% \n",
      "\n",
      "matplotlib-base-3.5. | 5.6 MB    |            |   0% \n",
      "matplotlib-base-3.5. | 5.6 MB    | #1         |  12% \n",
      "matplotlib-base-3.5. | 5.6 MB    | ###5       |  35% \n",
      "matplotlib-base-3.5. | 5.6 MB    | #####9     |  60% \n",
      "matplotlib-base-3.5. | 5.6 MB    | ########4  |  85% \n",
      "matplotlib-base-3.5. | 5.6 MB    | ########## | 100% \n",
      "\n",
      "zstd-1.5.2           | 509 KB    |            |   0% \n",
      "zstd-1.5.2           | 509 KB    | ########## | 100% \n",
      "zstd-1.5.2           | 509 KB    | ########## | 100% \n",
      "\n",
      "kiwisolver-1.4.2     | 58 KB     |            |   0% \n",
      "kiwisolver-1.4.2     | 58 KB     | ########## | 100% \n",
      "Preparing transaction: ...working... done\n",
      "Verifying transaction: ...working... done\n",
      "Executing transaction: ...working... done\n"
     ]
    }
   ],
   "source": [],
   "metadata": {
    "collapsed": false,
    "pycharm": {
     "name": "#%%\n"
    }
   }
  },
  {
   "cell_type": "code",
   "execution_count": 325,
   "outputs": [
    {
     "data": {
      "text/plain": "<Figure size 432x288 with 1 Axes>",
      "image/png": "[encoded data removed]"
     },
     "metadata": {
      "needs_background": "light"
     },
     "output_type": "display_data"
    }
   ],
   "source": [
    "# define plot_dendrogram function\n",
    "import matplotlib.pyplot as plt\n",
    "def plot_dendrogram(X,method ='ward'):\n",
    "    dendrogram = sch.dendrogram(sch.linkage(X, method=method))\n",
    "    plt.title(\"Dendrogram\")\n",
    "    plt.ylabel(\"Euclidean distances\")\n",
    "    plt.xlabel('Points')\n",
    "    plt.show()\n",
    "\n",
    "plot_dendrogram(twm_data3)"
   ],
   "metadata": {
    "collapsed": false,
    "pycharm": {
     "name": "#%%\n"
    }
   }
  },
  {
   "cell_type": "code",
   "execution_count": null,
   "outputs": [],
   "source": [],
   "metadata": {
    "collapsed": false,
    "pycharm": {
     "name": "#%%\n"
    }
   }
  }
 ],
 "metadata": {
  "kernelspec": {
   "name": "lighthouseenv",
   "language": "python",
   "display_name": "Lighthouse Environment"
  },
  "language_info": {
   "codemirror_mode": {
    "name": "ipython",
    "version": 2
   },
   "file_extension": ".py",
   "mimetype": "text/x-python",
   "name": "python",
   "nbconvert_exporter": "python",
   "pygments_lexer": "ipython2",
   "version": "2.7.6"
  }
 },
 "nbformat": 4,
 "nbformat_minor": 0
}