{
 "cells": [
  {
   "cell_type": "code",
   "execution_count": 1,
   "outputs": [],
   "source": [
    "import pandas as pd\n",
    "import numpy as np\n"
   ],
   "metadata": {
    "collapsed": false,
    "pycharm": {
     "name": "#%%\n"
    }
   }
  },
  {
   "cell_type": "code",
   "execution_count": 2,
   "outputs": [
    {
     "ename": "AttributeError",
     "evalue": "module 'pandas' has no attribute 'to_csv'",
     "output_type": "error",
     "traceback": [
      "\u001B[0;31m---------------------------------------------------------------------------\u001B[0m",
      "\u001B[0;31mAttributeError\u001B[0m                            Traceback (most recent call last)",
      "Input \u001B[0;32mIn [2]\u001B[0m, in \u001B[0;36m<cell line: 15>\u001B[0;34m()\u001B[0m\n\u001B[1;32m     13\u001B[0m twm_accounts[\u001B[38;5;124m'\u001B[39m\u001B[38;5;124macct_type\u001B[39m\u001B[38;5;124m'\u001B[39m] \u001B[38;5;241m=\u001B[39m twm_accounts[\u001B[38;5;124m'\u001B[39m\u001B[38;5;124macct_type\u001B[39m\u001B[38;5;124m'\u001B[39m]\u001B[38;5;241m.\u001B[39mmap(\u001B[38;5;28mstr\u001B[39m\u001B[38;5;241m.\u001B[39mstrip)\n\u001B[1;32m     14\u001B[0m twm_accounts[\u001B[38;5;124m'\u001B[39m\u001B[38;5;124maccount_active\u001B[39m\u001B[38;5;124m'\u001B[39m] \u001B[38;5;241m=\u001B[39m twm_accounts[\u001B[38;5;124m'\u001B[39m\u001B[38;5;124maccount_active\u001B[39m\u001B[38;5;124m'\u001B[39m]\u001B[38;5;241m.\u001B[39mmap(\u001B[38;5;28mstr\u001B[39m\u001B[38;5;241m.\u001B[39mstrip)\n\u001B[0;32m---> 15\u001B[0m twm_accounts \u001B[38;5;241m=\u001B[39m \u001B[43mpd\u001B[49m\u001B[38;5;241;43m.\u001B[39;49m\u001B[43mto_csv\u001B[49m(\u001B[38;5;124m'\u001B[39m\u001B[38;5;124mdata/twm_accounts.csv\u001B[39m\u001B[38;5;124m'\u001B[39m, delimiter\u001B[38;5;241m=\u001B[39m\u001B[38;5;124m'\u001B[39m\u001B[38;5;124m,\u001B[39m\u001B[38;5;124m'\u001B[39m)\n\u001B[1;32m     17\u001B[0m twm_transactions[\u001B[38;5;124m'\u001B[39m\u001B[38;5;124mchannel\u001B[39m\u001B[38;5;124m'\u001B[39m] \u001B[38;5;241m=\u001B[39m twm_transactions[\u001B[38;5;124m'\u001B[39m\u001B[38;5;124mchannel\u001B[39m\u001B[38;5;124m'\u001B[39m]\u001B[38;5;241m.\u001B[39mmap(\u001B[38;5;28mstr\u001B[39m\u001B[38;5;241m.\u001B[39mstrip)\n\u001B[1;32m     18\u001B[0m twm_ \u001B[38;5;241m=\u001B[39m pd\u001B[38;5;241m.\u001B[39mto_csv(\u001B[38;5;124m'\u001B[39m\u001B[38;5;124mdata/twm_accounts.csv\u001B[39m\u001B[38;5;124m'\u001B[39m, delimiter\u001B[38;5;241m=\u001B[39m\u001B[38;5;124m'\u001B[39m\u001B[38;5;124m,\u001B[39m\u001B[38;5;124m'\u001B[39m)\n",
      "File \u001B[0;32m~/anaconda3/lib/python3.8/site-packages/pandas/__init__.py:262\u001B[0m, in \u001B[0;36m__getattr__\u001B[0;34m(name)\u001B[0m\n\u001B[1;32m    258\u001B[0m     \u001B[38;5;28;01mfrom\u001B[39;00m \u001B[38;5;21;01mpandas\u001B[39;00m\u001B[38;5;21;01m.\u001B[39;00m\u001B[38;5;21;01mcore\u001B[39;00m\u001B[38;5;21;01m.\u001B[39;00m\u001B[38;5;21;01marrays\u001B[39;00m\u001B[38;5;21;01m.\u001B[39;00m\u001B[38;5;21;01msparse\u001B[39;00m \u001B[38;5;28;01mimport\u001B[39;00m SparseArray \u001B[38;5;28;01mas\u001B[39;00m _SparseArray\n\u001B[1;32m    260\u001B[0m     \u001B[38;5;28;01mreturn\u001B[39;00m _SparseArray\n\u001B[0;32m--> 262\u001B[0m \u001B[38;5;28;01mraise\u001B[39;00m \u001B[38;5;167;01mAttributeError\u001B[39;00m(\u001B[38;5;124mf\u001B[39m\u001B[38;5;124m\"\u001B[39m\u001B[38;5;124mmodule \u001B[39m\u001B[38;5;124m'\u001B[39m\u001B[38;5;124mpandas\u001B[39m\u001B[38;5;124m'\u001B[39m\u001B[38;5;124m has no attribute \u001B[39m\u001B[38;5;124m'\u001B[39m\u001B[38;5;132;01m{\u001B[39;00mname\u001B[38;5;132;01m}\u001B[39;00m\u001B[38;5;124m'\u001B[39m\u001B[38;5;124m\"\u001B[39m)\n",
      "\u001B[0;31mAttributeError\u001B[0m: module 'pandas' has no attribute 'to_csv'"
     ]
    }
   ],
   "source": [
    "twm_accounts = pd.read_csv('data/twm_accounts.csv', delimiter=';')\n",
    "twm_customer = pd.read_csv('data/twm_customer.csv', delimiter=';')\n",
    "twm_transactions = pd.read_csv('data/twm_transactions.csv', delimiter=';')\n",
    "twm_checking_acct = pd.read_csv('data/twm_checking_acct.csv', delimiter=';')\n",
    "twm_checking_tran = pd.read_csv('data/twm_checking_tran.csv', delimiter=';')\n",
    "twm_credit_acct = pd.read_csv('data/twm_credit_acct.csv', delimiter=';')\n",
    "twm_credit_tran = pd.read_csv('data/twm_credit_tran.csv', delimiter=';')\n",
    "twm_savings_acct = pd.read_csv('data/twm_savings_acct.csv', delimiter=';')\n",
    "twm_savings_tran = pd.read_csv('data/twm_savings_tran.csv', delimiter=';')\n",
    "\n",
    "twm_customer['state_code'] = twm_customer['state_code'].map(str.strip)\n",
    "twm_customer['gender'] = twm_customer['gender'].map(str.strip)\n",
    "twm_accounts['acct_type'] = twm_accounts['acct_type'].map(str.strip)\n",
    "twm_accounts['account_active'] = twm_accounts['account_active'].map(str.strip)\n",
    "\n",
    "twm_transactions['channel'] = twm_transactions['channel'].map(str.strip)\n",
    "\n",
    "twm_checking_acct['account_active'] = twm_checking_acct['account_active'].map(str.strip)\n",
    "twm_checking_tran['channel'] = twm_checking_tran['channel'].map(str.strip)\n",
    "twm_checking_tran['tran_code'] = twm_checking_tran['tran_code'].map(str.strip)\n",
    "twm_credit_acct['account_active'] = twm_credit_acct['account_active'].map(str.strip)\n",
    "twm_credit_tran['tran_code'] = twm_credit_tran['tran_code'].map(str.strip)\n",
    "twm_credit_tran['channel'] = twm_credit_tran['channel'].map(str.strip)\n",
    "twm_savings_acct['acct_type'] = twm_savings_acct['acct_type'].map(str.strip)\n",
    "twm_savings_tran['channel'] = twm_savings_tran['channel'].map(str.strip)\n",
    "twm_savings_tran['tran_code'] = twm_savings_tran['tran_code'].map(str.strip)"
   ],
   "metadata": {
    "collapsed": false,
    "pycharm": {
     "name": "#%%\n"
    }
   }
  },
  {
   "cell_type": "code",
   "execution_count": 7,
   "outputs": [
    {
     "data": {
      "text/plain": "       tran_id          acct_nbr  tran_amt  principal_amt  interest_amt  \\\n0           27          13625623      0.00           0.00           0.0   \n1           97          13628392      0.00           0.00           0.0   \n2           21          13630842    -97.57         -97.57           0.0   \n3           44          13631412     -0.15          -0.15           0.0   \n4           31          13625722      0.00           0.00           0.0   \n...        ...               ...       ...            ...           ...   \n77575       77          13631752    -95.71         -95.71           0.0   \n77576       94          13626772    -93.90         -93.90           0.0   \n77577       42          13625262    -10.35         -10.35           0.0   \n77578       98          13627052   -423.80        -423.80           0.0   \n77579       57  4561143213632570      0.00           0.00           0.0   \n\n       new_balance   tran_date  tran_time channel tran_code  channel_dummy_V   \\\n0          3753.34  21.10.1995     121656      A       IQ                   0   \n1           254.49    5.2.1995     153053      V       IQ                   1   \n2          3819.56   23.7.1995          0      P       WD                   0   \n3           224.05   30.1.1995          0              FK                   0   \n4           240.55   25.1.1995     204521      B       IQ                   0   \n...            ...         ...        ...     ...       ...               ...   \n77575        95.71   14.2.1995     161001      A       TR                   0   \n77576       824.36   11.3.1995          0      P       WD                   0   \n77577        10.36   26.8.1995          0      P       WD                   0   \n77578       162.28   13.6.1995     110209      E       WD                   0   \n77579     -2420.91  18.10.1995     104027      A       IQ                   0   \n\n       channel_dummy_E   channel_dummy_H   channel_dummy_B   channel_dummy_K   \\\n0                     0                 0                 0                 0   \n1                     0                 0                 0                 0   \n2                     0                 0                 0                 0   \n3                     0                 0                 0                 0   \n4                     0                 0                 1                 0   \n...                 ...               ...               ...               ...   \n77575                 0                 0                 0                 0   \n77576                 0                 0                 0                 0   \n77577                 0                 0                 0                 0   \n77578                 1                 0                 0                 0   \n77579                 0                 0                 0                 0   \n\n       channel_dummy_M   channel_dummy_A   channel_dummy_P   channel_dummy_C   \\\n0                     0                 1                 0                 0   \n1                     0                 0                 0                 0   \n2                     0                 0                 1                 0   \n3                     0                 0                 0                 0   \n4                     0                 0                 0                 0   \n...                 ...               ...               ...               ...   \n77575                 0                 1                 0                 0   \n77576                 0                 0                 1                 0   \n77577                 0                 0                 1                 0   \n77578                 0                 0                 0                 0   \n77579                 0                 1                 0                 0   \n\n       channel_dummy_T   \n0                     0  \n1                     0  \n2                     0  \n3                     0  \n4                     0  \n...                 ...  \n77575                 0  \n77576                 0  \n77577                 0  \n77578                 0  \n77579                 0  \n\n[77580 rows x 20 columns]",
      "text/html": "<div>\n<style scoped>\n    .dataframe tbody tr th:only-of-type {\n        vertical-align: middle;\n    }\n\n    .dataframe tbody tr th {\n        vertical-align: top;\n    }\n\n    .dataframe thead th {\n        text-align: right;\n    }\n</style>\n<table border=\"1\" class=\"dataframe\">\n  <thead>\n    <tr style=\"text-align: right;\">\n      <th></th>\n      <th>tran_id</th>\n      <th>acct_nbr</th>\n      <th>tran_amt</th>\n      <th>principal_amt</th>\n      <th>interest_amt</th>\n      <th>new_balance</th>\n      <th>tran_date</th>\n      <th>tran_time</th>\n      <th>channel</th>\n      <th>tran_code</th>\n      <th>channel_dummy_V</th>\n      <th>channel_dummy_E</th>\n      <th>channel_dummy_H</th>\n      <th>channel_dummy_B</th>\n      <th>channel_dummy_K</th>\n      <th>channel_dummy_M</th>\n      <th>channel_dummy_A</th>\n      <th>channel_dummy_P</th>\n      <th>channel_dummy_C</th>\n      <th>channel_dummy_T</th>\n    </tr>\n  </thead>\n  <tbody>\n    <tr>\n      <th>0</th>\n      <td>27</td>\n      <td>13625623</td>\n      <td>0.00</td>\n      <td>0.00</td>\n      <td>0.0</td>\n      <td>3753.34</td>\n      <td>21.10.1995</td>\n      <td>121656</td>\n      <td>A</td>\n      <td>IQ</td>\n      <td>0</td>\n      <td>0</td>\n      <td>0</td>\n      <td>0</td>\n      <td>0</td>\n      <td>0</td>\n      <td>1</td>\n      <td>0</td>\n      <td>0</td>\n      <td>0</td>\n    </tr>\n    <tr>\n      <th>1</th>\n      <td>97</td>\n      <td>13628392</td>\n      <td>0.00</td>\n      <td>0.00</td>\n      <td>0.0</td>\n      <td>254.49</td>\n      <td>5.2.1995</td>\n      <td>153053</td>\n      <td>V</td>\n      <td>IQ</td>\n      <td>1</td>\n      <td>0</td>\n      <td>0</td>\n      <td>0</td>\n      <td>0</td>\n      <td>0</td>\n      <td>0</td>\n      <td>0</td>\n      <td>0</td>\n      <td>0</td>\n    </tr>\n    <tr>\n      <th>2</th>\n      <td>21</td>\n      <td>13630842</td>\n      <td>-97.57</td>\n      <td>-97.57</td>\n      <td>0.0</td>\n      <td>3819.56</td>\n      <td>23.7.1995</td>\n      <td>0</td>\n      <td>P</td>\n      <td>WD</td>\n      <td>0</td>\n      <td>0</td>\n      <td>0</td>\n      <td>0</td>\n      <td>0</td>\n      <td>0</td>\n      <td>0</td>\n      <td>1</td>\n      <td>0</td>\n      <td>0</td>\n    </tr>\n    <tr>\n      <th>3</th>\n      <td>44</td>\n      <td>13631412</td>\n      <td>-0.15</td>\n      <td>-0.15</td>\n      <td>0.0</td>\n      <td>224.05</td>\n      <td>30.1.1995</td>\n      <td>0</td>\n      <td></td>\n      <td>FK</td>\n      <td>0</td>\n      <td>0</td>\n      <td>0</td>\n      <td>0</td>\n      <td>0</td>\n      <td>0</td>\n      <td>0</td>\n      <td>0</td>\n      <td>0</td>\n      <td>0</td>\n    </tr>\n    <tr>\n      <th>4</th>\n      <td>31</td>\n      <td>13625722</td>\n      <td>0.00</td>\n      <td>0.00</td>\n      <td>0.0</td>\n      <td>240.55</td>\n      <td>25.1.1995</td>\n      <td>204521</td>\n      <td>B</td>\n      <td>IQ</td>\n      <td>0</td>\n      <td>0</td>\n      <td>0</td>\n      <td>1</td>\n      <td>0</td>\n      <td>0</td>\n      <td>0</td>\n      <td>0</td>\n      <td>0</td>\n      <td>0</td>\n    </tr>\n    <tr>\n      <th>...</th>\n      <td>...</td>\n      <td>...</td>\n      <td>...</td>\n      <td>...</td>\n      <td>...</td>\n      <td>...</td>\n      <td>...</td>\n      <td>...</td>\n      <td>...</td>\n      <td>...</td>\n      <td>...</td>\n      <td>...</td>\n      <td>...</td>\n      <td>...</td>\n      <td>...</td>\n      <td>...</td>\n      <td>...</td>\n      <td>...</td>\n      <td>...</td>\n      <td>...</td>\n    </tr>\n    <tr>\n      <th>77575</th>\n      <td>77</td>\n      <td>13631752</td>\n      <td>-95.71</td>\n      <td>-95.71</td>\n      <td>0.0</td>\n      <td>95.71</td>\n      <td>14.2.1995</td>\n      <td>161001</td>\n      <td>A</td>\n      <td>TR</td>\n      <td>0</td>\n      <td>0</td>\n      <td>0</td>\n      <td>0</td>\n      <td>0</td>\n      <td>0</td>\n      <td>1</td>\n      <td>0</td>\n      <td>0</td>\n      <td>0</td>\n    </tr>\n    <tr>\n      <th>77576</th>\n      <td>94</td>\n      <td>13626772</td>\n      <td>-93.90</td>\n      <td>-93.90</td>\n      <td>0.0</td>\n      <td>824.36</td>\n      <td>11.3.1995</td>\n      <td>0</td>\n      <td>P</td>\n      <td>WD</td>\n      <td>0</td>\n      <td>0</td>\n      <td>0</td>\n      <td>0</td>\n      <td>0</td>\n      <td>0</td>\n      <td>0</td>\n      <td>1</td>\n      <td>0</td>\n      <td>0</td>\n    </tr>\n    <tr>\n      <th>77577</th>\n      <td>42</td>\n      <td>13625262</td>\n      <td>-10.35</td>\n      <td>-10.35</td>\n      <td>0.0</td>\n      <td>10.36</td>\n      <td>26.8.1995</td>\n      <td>0</td>\n      <td>P</td>\n      <td>WD</td>\n      <td>0</td>\n      <td>0</td>\n      <td>0</td>\n      <td>0</td>\n      <td>0</td>\n      <td>0</td>\n      <td>0</td>\n      <td>1</td>\n      <td>0</td>\n      <td>0</td>\n    </tr>\n    <tr>\n      <th>77578</th>\n      <td>98</td>\n      <td>13627052</td>\n      <td>-423.80</td>\n      <td>-423.80</td>\n      <td>0.0</td>\n      <td>162.28</td>\n      <td>13.6.1995</td>\n      <td>110209</td>\n      <td>E</td>\n      <td>WD</td>\n      <td>0</td>\n      <td>1</td>\n      <td>0</td>\n      <td>0</td>\n      <td>0</td>\n      <td>0</td>\n      <td>0</td>\n      <td>0</td>\n      <td>0</td>\n      <td>0</td>\n    </tr>\n    <tr>\n      <th>77579</th>\n      <td>57</td>\n      <td>4561143213632570</td>\n      <td>0.00</td>\n      <td>0.00</td>\n      <td>0.0</td>\n      <td>-2420.91</td>\n      <td>18.10.1995</td>\n      <td>104027</td>\n      <td>A</td>\n      <td>IQ</td>\n      <td>0</td>\n      <td>0</td>\n      <td>0</td>\n      <td>0</td>\n      <td>0</td>\n      <td>0</td>\n      <td>1</td>\n      <td>0</td>\n      <td>0</td>\n      <td>0</td>\n    </tr>\n  </tbody>\n</table>\n<p>77580 rows × 20 columns</p>\n</div>"
     },
     "execution_count": 7,
     "metadata": {},
     "output_type": "execute_result"
    }
   ],
   "source": [
    "def dummy_var_create(df, column_name):\n",
    "    for name in set(df[column_name]):\n",
    "        if str(name).strip() != \"\":\n",
    "            df[f\"{column_name}_dummy_{name}\"] = (df[column_name] == name).astype(int)\n",
    "\n",
    "\n",
    "twm_transactions2 = pd.DataFrame(twm_transactions)\n",
    "# dummy_var_create(twm_transactions2, 'channel')\n",
    "twm_transactions\n",
    "twm_transactions2"
   ],
   "metadata": {
    "collapsed": false,
    "pycharm": {
     "name": "#%%\n"
    }
   }
  },
  {
   "cell_type": "code",
   "execution_count": null,
   "outputs": [],
   "source": [
    "# twm_customer = pd.to_csv('data/twm_customer.csv', delimiter=',')\n",
    "# twm_accounts = pd.to_csv('data/twm_accounts.csv', delimiter=',')\n",
    "# twm_transactions = pd.to_csv('data/twm_transactions.csv', delimiter=',')\n",
    "# twm_checking_acct =\n",
    "#\n",
    "#\n",
    "# channel,trans_code"
   ],
   "metadata": {
    "collapsed": false,
    "pycharm": {
     "name": "#%%\n"
    }
   }
  }
 ],
 "metadata": {
  "kernelspec": {
   "display_name": "Matplotlib Lighthouse (Python 3.7)",
   "language": "python",
   "name": "matplot-lighthouseenv"
  },
  "language_info": {
   "codemirror_mode": {
    "name": "ipython",
    "version": 2
   },
   "file_extension": ".py",
   "mimetype": "text/x-python",
   "name": "python",
   "nbconvert_exporter": "python",
   "pygments_lexer": "ipython2",
   "version": "2.7.6"
  }
 },
 "nbformat": 4,
 "nbformat_minor": 0
}