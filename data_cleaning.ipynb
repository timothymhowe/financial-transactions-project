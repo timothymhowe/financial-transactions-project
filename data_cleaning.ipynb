{
 "cells": [
  {
   "cell_type": "code",
   "execution_count": 1,
   "outputs": [],
   "source": [
    "import pandas as pd\n",
    "import numpy as np"
   ],
   "metadata": {
    "collapsed": false,
    "pycharm": {
     "name": "#%%\n"
    }
   }
  },
  {
   "cell_type": "code",
   "execution_count": 2,
   "outputs": [],
   "source": [
    "twm_accounts = pd.read_csv('data/raw/twm_accounts.csv', delimiter=';')\n",
    "twm_customer = pd.read_csv('data/raw/twm_customer.csv', delimiter=';')\n",
    "twm_transactions = pd.read_csv('data/raw/twm_transactions.csv', delimiter=';')\n",
    "twm_checking_acct = pd.read_csv('data/raw/twm_checking_acct.csv', delimiter=';')\n",
    "twm_checking_tran = pd.read_csv('data/raw/twm_checking_tran.csv', delimiter=';')\n",
    "twm_credit_acct = pd.read_csv('data/raw/twm_credit_acct.csv', delimiter=';')\n",
    "twm_credit_tran = pd.read_csv('data/raw/twm_credit_tran.csv', delimiter=';')\n",
    "twm_savings_acct = pd.read_csv('data/raw/twm_savings_acct.csv', delimiter=';')\n",
    "twm_savings_tran = pd.read_csv('data/raw/twm_savings_tran.csv', delimiter=';')\n",
    "\n",
    "twm_customer['state_code'] = twm_customer['state_code'].map(str.strip)\n",
    "twm_customer['gender'] = twm_customer['gender'].map(str.strip)\n",
    "twm_accounts['acct_type'] = twm_accounts['acct_type'].map(str.strip)\n",
    "twm_accounts['account_active'] = twm_accounts['account_active'].map(str.strip)\n",
    "\n",
    "twm_transactions['channel'] = twm_transactions['channel'].map(str.strip)\n",
    "\n",
    "twm_checking_acct['account_active'] = twm_checking_acct['account_active'].map(str.strip)\n",
    "twm_checking_tran['channel'] = twm_checking_tran['channel'].map(str.strip)\n",
    "twm_checking_tran['tran_code'] = twm_checking_tran['tran_code'].map(str.strip)\n",
    "twm_credit_acct['account_active'] = twm_credit_acct['account_active'].map(str.strip)\n",
    "twm_credit_tran['tran_code'] = twm_credit_tran['tran_code'].map(str.strip)\n",
    "twm_credit_tran['channel'] = twm_credit_tran['channel'].map(str.strip)\n",
    "twm_savings_acct['acct_type'] = twm_savings_acct['acct_type'].map(str.strip)\n",
    "twm_savings_tran['channel'] = twm_savings_tran['channel'].map(str.strip)\n",
    "twm_savings_tran['tran_code'] = twm_savings_tran['tran_code'].map(str.strip)"
   ],
   "metadata": {
    "collapsed": false,
    "pycharm": {
     "name": "#%%\n"
    }
   }
  },
  {
   "cell_type": "code",
   "execution_count": null,
   "outputs": [],
   "source": [
    "twm_customer = pd.to_csv('data/clean/twm_customer.csv', delimiter=',')\n",
    "twm_accounts = pd.to_csv('data/clean/twm_accounts.csv', delimiter=',')\n",
    "twm_transactions = pd.to_csv('data/clean/twm_transactions.csv', delimiter=',')\n",
    "twm_checking_acct = pd.to_csv('data/clean/twm_checking_acct.csv', delimiter=',')\n",
    "twm_checking_tran = pd.to_csv('data/clean/twm_checking_tran.csv', delimiter=',')\n",
    "\n",
    "twm_credit_acct = pd.to_csv('data/clean/twm_credit_acct.csv', delimiter=',')\n",
    "twm_credit_tran = pd.to_csv('data/clean/twm_credit_tran.csv', delimiter=',')\n",
    "twm_savings_acct = pd.to_csv('data/clean/twm_savings_acct.csv', delimiter=',')\n",
    "twm_savings_tran = pd.to_csv('data/clean/twm_savings_tran.csv', delimiter=',')\n",
    "\n",
    "\n",
    "channel,trans_code"
   ],
   "metadata": {
    "collapsed": false,
    "pycharm": {
     "name": "#%%\n"
    }
   }
  }
 ],
 "metadata": {
  "kernelspec": {
   "name": "lighthouseenv",
   "language": "python",
   "display_name": "Lighthouse Environment"
  },
  "language_info": {
   "codemirror_mode": {
    "name": "ipython",
    "version": 2
   },
   "file_extension": ".py",
   "mimetype": "text/x-python",
   "name": "python",
   "nbconvert_exporter": "python",
   "pygments_lexer": "ipython2",
   "version": "2.7.6"
  }
 },
 "nbformat": 4,
 "nbformat_minor": 0
}